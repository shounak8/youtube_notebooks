{
 "cells": [
  {
   "cell_type": "markdown",
   "id": "48113a4f",
   "metadata": {},
   "source": [
    "# Kaggle API\n",
    "\n",
    "At the end of this video, you will be able to:\n",
    "1. Browse Kaggle datasets through your Jupyter notebook / conda prompt\n",
    "2. Download Kaggle Datasets directly to your destination path"
   ]
  },
  {
   "cell_type": "markdown",
   "id": "b746a8a1",
   "metadata": {},
   "source": [
    "## Notebook Execution Steps:\n",
    "1. Install Kaggle_API (ignore if already installed)\n",
    "2. Set your Kaggle API Token\n",
    "3. Search for Dataset\n",
    "4. Download Dataset"
   ]
  },
  {
   "cell_type": "markdown",
   "id": "f8782bdf",
   "metadata": {},
   "source": [
    "# Step 1: Install Kaggle_API (ignore if already installed)\n",
    "\n",
    "!pip install kaggle"
   ]
  },
  {
   "cell_type": "code",
   "execution_count": 1,
   "id": "caf537a6",
   "metadata": {},
   "outputs": [
    {
     "name": "stdout",
     "output_type": "stream",
     "text": [
      "Requirement already satisfied: kaggle in c:\\users\\shoun\\anaconda3\\lib\\site-packages (1.5.12)\n",
      "Requirement already satisfied: tqdm in c:\\users\\shoun\\anaconda3\\lib\\site-packages (from kaggle) (4.64.0)\n",
      "Requirement already satisfied: python-slugify in c:\\users\\shoun\\anaconda3\\lib\\site-packages (from kaggle) (5.0.2)\n",
      "Requirement already satisfied: requests in c:\\users\\shoun\\anaconda3\\lib\\site-packages (from kaggle) (2.27.1)\n",
      "Requirement already satisfied: certifi in c:\\users\\shoun\\anaconda3\\lib\\site-packages (from kaggle) (2021.10.8)\n",
      "Requirement already satisfied: python-dateutil in c:\\users\\shoun\\anaconda3\\lib\\site-packages (from kaggle) (2.8.2)\n",
      "Requirement already satisfied: urllib3 in c:\\users\\shoun\\anaconda3\\lib\\site-packages (from kaggle) (1.26.9)\n",
      "Requirement already satisfied: six>=1.10 in c:\\users\\shoun\\anaconda3\\lib\\site-packages (from kaggle) (1.16.0)\n",
      "Requirement already satisfied: text-unidecode>=1.3 in c:\\users\\shoun\\anaconda3\\lib\\site-packages (from python-slugify->kaggle) (1.3)\n",
      "Requirement already satisfied: idna<4,>=2.5 in c:\\users\\shoun\\anaconda3\\lib\\site-packages (from requests->kaggle) (3.3)\n",
      "Requirement already satisfied: charset-normalizer~=2.0.0 in c:\\users\\shoun\\anaconda3\\lib\\site-packages (from requests->kaggle) (2.0.4)\n",
      "Requirement already satisfied: colorama in c:\\users\\shoun\\anaconda3\\lib\\site-packages (from tqdm->kaggle) (0.4.4)\n"
     ]
    }
   ],
   "source": [
    "!pip install kaggle"
   ]
  },
  {
   "cell_type": "markdown",
   "id": "e3ceed95",
   "metadata": {},
   "source": [
    "# Step 2: Set your Kaggle API Token\n",
    "\n",
    "* Download `kaggle.json` file from Kaggle\n",
    "* Create `.kaggle` folder in ROOT directory\n",
    "* Copy-Paste `kaggle.json` to ROOT directory"
   ]
  },
  {
   "cell_type": "markdown",
   "id": "4558aa3a",
   "metadata": {},
   "source": [
    "# Step 3: Search Dataset\n",
    "\n",
    "See List of Available Datasets <br>\n",
    "!kaggle datasets list -s \"dataset name\""
   ]
  },
  {
   "cell_type": "code",
   "execution_count": 2,
   "id": "7a3cfaac",
   "metadata": {},
   "outputs": [
    {
     "name": "stdout",
     "output_type": "stream",
     "text": [
      "ref                                                     title                                                size  lastUpdated          downloadCount  voteCount  usabilityRating  \n",
      "------------------------------------------------------  --------------------------------------------------  -----  -------------------  -------------  ---------  ---------------  \n",
      "grikomsn/amazon-cell-phones-reviews                     Amazon Cell Phones Reviews                            9MB  2019-12-26 22:21:16          13296        199  1.0              \n",
      "PromptCloudHQ/amazon-reviews-unlocked-mobile-phones     Amazon Reviews: Unlocked Mobile Phones               33MB  2017-01-11 10:22:30          11903        162  1.0              \n",
      "marcodena/mobile-phone-activity                         Mobile phone activity in a city                     242MB  2019-11-14 06:11:32          11746        245  0.7058824        \n",
      "prasertk/mobile-phone-rating                            Mobile phone rating                                   3KB  2022-02-13 08:02:17            764         18  1.0              \n",
      "arwinneil/gsmarena-phone-dataset                        GSMArena Phone Dataset                              635KB  2017-06-29 07:09:31           5287         71  0.85294116       \n",
      "mfekadu/darpa-timit-acousticphonetic-continuous-speech  DARPA TIMIT Acoustic-Phonetic Continuous Speech     829MB  2019-06-05 02:01:06           5866        116  0.8235294        \n",
      "msainani/gsmarena-mobile-devices                        GSMArena Mobile Phone Devices                         1MB  2020-06-24 15:12:02           2075         49  0.9411765        \n",
      "muhammedtausif/best-selling-mobile-phones               Best Selling Mobile Phones                            2KB  2022-05-22 17:31:44           1209         43  1.0              \n",
      "ruchi798/mobile-phone-tweets                            Mobile Phone Tweets                                   4MB  2021-12-15 14:15:02            405         30  1.0              \n",
      "uciml/human-activity-recognition-with-smartphones       Human Activity Recognition with Smartphones          25MB  2019-11-13 20:04:13          31851        550  0.7058824        \n",
      "artempozdniakov/ukrainian-market-mobile-phones-data     Mobile Phones Data                                   31KB  2021-02-05 10:48:09           2202         27  1.0              \n",
      "malekzadeh/motionsense-dataset                          MotionSense Dataset : Smartphone Sensor Data - HAR   72MB  2018-03-15 20:50:21           8658        225  0.7647059        \n",
      "frtgnn/rural-residents-daily-mobile-phone-data          Rural Residents Daily Mobile Phone Data             345KB  2020-04-11 22:23:26            189         63  1.0              \n",
      "ak47bluestack/amazonphonedataset                        Amazon-Phone-Dataset                                  4MB  2019-07-16 07:56:15           1565         24  0.88235295       \n",
      "khaiid/android-phones                                   Android Phones                                       11KB  2022-01-03 03:35:31            259         27  1.0              \n",
      "devsubhash/flipkart-mobiles-dataset                     Flipkart Mobiles Dataset                             54KB  2022-03-20 10:46:28           1432         35  1.0              \n",
      "iabhishekofficial/mobile-price-classification           Mobile Price Classification                          71KB  2018-01-28 08:44:24          92141       1246  0.7058824        \n",
      "google/android-smartphones-high-accuracy-datasets       Android smartphones high accuracy GNSS datasets       1GB  2020-12-23 01:51:11           2245        179  0.875            \n",
      "nkitgupta/flipkart-cell-phone-reviews                   Flipkart Cell Phone Reviews                           3MB  2022-07-05 06:59:34             41         18  1.0              \n",
      "ruthgn/bank-marketing-data-set                          Bank Marketing Data Set                             282KB  2021-10-20 00:33:20           1847         50  1.0              \n"
     ]
    }
   ],
   "source": [
    "!kaggle datasets list -s \"phone\""
   ]
  },
  {
   "cell_type": "markdown",
   "id": "e3865ff4",
   "metadata": {},
   "source": [
    "# Step 4: Download the Dataset\n",
    "\n",
    "!kaggle datasets download -d \"kaggle_dataset_name\""
   ]
  },
  {
   "cell_type": "code",
   "execution_count": 3,
   "id": "d9c23af4",
   "metadata": {},
   "outputs": [
    {
     "name": "stdout",
     "output_type": "stream",
     "text": [
      "Downloading mobile-phone-rating.zip to C:\\Users\\shoun\\Jupyter\\Kaggle\\plain_data\\kaggle_api_demo\n",
      "\n"
     ]
    },
    {
     "name": "stderr",
     "output_type": "stream",
     "text": [
      "\n",
      "  0%|          | 0.00/3.35k [00:00<?, ?B/s]\n",
      "100%|##########| 3.35k/3.35k [00:00<00:00, 1.14MB/s]\n"
     ]
    }
   ],
   "source": [
    "!kaggle datasets download -d \"prasertk/mobile-phone-rating\""
   ]
  },
  {
   "cell_type": "code",
   "execution_count": null,
   "id": "a8afb760",
   "metadata": {},
   "outputs": [],
   "source": []
  },
  {
   "cell_type": "markdown",
   "id": "15cb8247",
   "metadata": {},
   "source": [
    "# Unzip and Read the Data\n",
    "\n",
    "Unzip the \".zip\" file using `zipfile` library <br>\n",
    "example: <br>\n",
    "`with zipfile.ZipFile(\"source_file_path.zip\", \"r\") as file:\n",
    "     file.extractall(\"destination_path\")               `"
   ]
  },
  {
   "cell_type": "code",
   "execution_count": 4,
   "id": "a9805924",
   "metadata": {},
   "outputs": [],
   "source": [
    "import zipfile"
   ]
  },
  {
   "cell_type": "code",
   "execution_count": 5,
   "id": "eb65ff6b",
   "metadata": {},
   "outputs": [],
   "source": [
    "with zipfile.ZipFile(\"mobile-phone-rating.zip\", \"r\") as file:\n",
    "    file.extractall(\"phones\")"
   ]
  },
  {
   "cell_type": "code",
   "execution_count": null,
   "id": "cca9cf8f",
   "metadata": {},
   "outputs": [],
   "source": [
    "# See the Contents of the Extracted File \n",
    "# import os\n",
    "# os.listdir(destination_path)"
   ]
  },
  {
   "cell_type": "code",
   "execution_count": 7,
   "id": "db28e45d",
   "metadata": {},
   "outputs": [
    {
     "data": {
      "text/plain": [
       "['mobile phone rating by dxo.csv']"
      ]
     },
     "execution_count": 7,
     "metadata": {},
     "output_type": "execute_result"
    }
   ],
   "source": [
    "import os\n",
    "\n",
    "os.listdir(\"phones\")"
   ]
  },
  {
   "cell_type": "code",
   "execution_count": null,
   "id": "d7e573f1",
   "metadata": {},
   "outputs": [],
   "source": [
    "# Read Dataset"
   ]
  },
  {
   "cell_type": "code",
   "execution_count": 8,
   "id": "748224c0",
   "metadata": {},
   "outputs": [],
   "source": [
    "import pandas as pd"
   ]
  },
  {
   "cell_type": "code",
   "execution_count": 9,
   "id": "6e6ac850",
   "metadata": {},
   "outputs": [
    {
     "data": {
      "text/html": [
       "<div>\n",
       "<style scoped>\n",
       "    .dataframe tbody tr th:only-of-type {\n",
       "        vertical-align: middle;\n",
       "    }\n",
       "\n",
       "    .dataframe tbody tr th {\n",
       "        vertical-align: top;\n",
       "    }\n",
       "\n",
       "    .dataframe thead th {\n",
       "        text-align: right;\n",
       "    }\n",
       "</style>\n",
       "<table border=\"1\" class=\"dataframe\">\n",
       "  <thead>\n",
       "    <tr style=\"text-align: right;\">\n",
       "      <th></th>\n",
       "      <th>model</th>\n",
       "      <th>price</th>\n",
       "      <th>launch</th>\n",
       "      <th>camera</th>\n",
       "      <th>selfie</th>\n",
       "      <th>audio</th>\n",
       "      <th>display</th>\n",
       "      <th>battery</th>\n",
       "    </tr>\n",
       "  </thead>\n",
       "  <tbody>\n",
       "    <tr>\n",
       "      <th>0</th>\n",
       "      <td>Huawei P50 Pro</td>\n",
       "      <td>$907</td>\n",
       "      <td>Jul 2021</td>\n",
       "      <td>144.0</td>\n",
       "      <td>106.0</td>\n",
       "      <td>NaN</td>\n",
       "      <td>93.0</td>\n",
       "      <td>NaN</td>\n",
       "    </tr>\n",
       "    <tr>\n",
       "      <th>1</th>\n",
       "      <td>Xiaomi Mi 11 Ultra</td>\n",
       "      <td>$1200</td>\n",
       "      <td>Mar 2021</td>\n",
       "      <td>143.0</td>\n",
       "      <td>94.0</td>\n",
       "      <td>71.0</td>\n",
       "      <td>87.0</td>\n",
       "      <td>69.0</td>\n",
       "    </tr>\n",
       "    <tr>\n",
       "      <th>2</th>\n",
       "      <td>Huawei Mate 40 Pro+</td>\n",
       "      <td>$1363</td>\n",
       "      <td>Oct 2020</td>\n",
       "      <td>139.0</td>\n",
       "      <td>NaN</td>\n",
       "      <td>NaN</td>\n",
       "      <td>NaN</td>\n",
       "      <td>NaN</td>\n",
       "    </tr>\n",
       "    <tr>\n",
       "      <th>3</th>\n",
       "      <td>Apple iPhone 13 Pro Max</td>\n",
       "      <td>$1099</td>\n",
       "      <td>Sep 2021</td>\n",
       "      <td>137.0</td>\n",
       "      <td>99.0</td>\n",
       "      <td>75.0</td>\n",
       "      <td>99.0</td>\n",
       "      <td>89.0</td>\n",
       "    </tr>\n",
       "    <tr>\n",
       "      <th>4</th>\n",
       "      <td>Apple iPhone 13 Pro</td>\n",
       "      <td>$999</td>\n",
       "      <td>Sep 2021</td>\n",
       "      <td>137.0</td>\n",
       "      <td>99.0</td>\n",
       "      <td>75.0</td>\n",
       "      <td>98.0</td>\n",
       "      <td>76.0</td>\n",
       "    </tr>\n",
       "    <tr>\n",
       "      <th>...</th>\n",
       "      <td>...</td>\n",
       "      <td>...</td>\n",
       "      <td>...</td>\n",
       "      <td>...</td>\n",
       "      <td>...</td>\n",
       "      <td>...</td>\n",
       "      <td>...</td>\n",
       "      <td>...</td>\n",
       "    </tr>\n",
       "    <tr>\n",
       "      <th>218</th>\n",
       "      <td>Huawei P40 Lite</td>\n",
       "      <td>$279</td>\n",
       "      <td>Feb 2020</td>\n",
       "      <td>NaN</td>\n",
       "      <td>NaN</td>\n",
       "      <td>NaN</td>\n",
       "      <td>NaN</td>\n",
       "      <td>73.0</td>\n",
       "    </tr>\n",
       "    <tr>\n",
       "      <th>219</th>\n",
       "      <td>Wiko Power U20</td>\n",
       "      <td>$159</td>\n",
       "      <td>Jan 2021</td>\n",
       "      <td>NaN</td>\n",
       "      <td>NaN</td>\n",
       "      <td>NaN</td>\n",
       "      <td>NaN</td>\n",
       "      <td>70.0</td>\n",
       "    </tr>\n",
       "    <tr>\n",
       "      <th>220</th>\n",
       "      <td>Motorola Moto G9 Power</td>\n",
       "      <td>$229</td>\n",
       "      <td>Nov 2020</td>\n",
       "      <td>NaN</td>\n",
       "      <td>NaN</td>\n",
       "      <td>NaN</td>\n",
       "      <td>NaN</td>\n",
       "      <td>70.0</td>\n",
       "    </tr>\n",
       "    <tr>\n",
       "      <th>221</th>\n",
       "      <td>Realme C11</td>\n",
       "      <td>$119</td>\n",
       "      <td>Jun 2020</td>\n",
       "      <td>NaN</td>\n",
       "      <td>NaN</td>\n",
       "      <td>NaN</td>\n",
       "      <td>NaN</td>\n",
       "      <td>61.0</td>\n",
       "    </tr>\n",
       "    <tr>\n",
       "      <th>222</th>\n",
       "      <td>Xiaomi Redmi 9</td>\n",
       "      <td>$159</td>\n",
       "      <td>Jun 2020</td>\n",
       "      <td>NaN</td>\n",
       "      <td>NaN</td>\n",
       "      <td>NaN</td>\n",
       "      <td>NaN</td>\n",
       "      <td>54.0</td>\n",
       "    </tr>\n",
       "  </tbody>\n",
       "</table>\n",
       "<p>223 rows × 8 columns</p>\n",
       "</div>"
      ],
      "text/plain": [
       "                       model  price    launch  camera  selfie  audio  display  \\\n",
       "0             Huawei P50 Pro   $907  Jul 2021   144.0   106.0    NaN     93.0   \n",
       "1         Xiaomi Mi 11 Ultra  $1200  Mar 2021   143.0    94.0   71.0     87.0   \n",
       "2        Huawei Mate 40 Pro+  $1363  Oct 2020   139.0     NaN    NaN      NaN   \n",
       "3    Apple iPhone 13 Pro Max  $1099  Sep 2021   137.0    99.0   75.0     99.0   \n",
       "4        Apple iPhone 13 Pro   $999  Sep 2021   137.0    99.0   75.0     98.0   \n",
       "..                       ...    ...       ...     ...     ...    ...      ...   \n",
       "218          Huawei P40 Lite   $279  Feb 2020     NaN     NaN    NaN      NaN   \n",
       "219           Wiko Power U20   $159  Jan 2021     NaN     NaN    NaN      NaN   \n",
       "220   Motorola Moto G9 Power   $229  Nov 2020     NaN     NaN    NaN      NaN   \n",
       "221               Realme C11   $119  Jun 2020     NaN     NaN    NaN      NaN   \n",
       "222           Xiaomi Redmi 9   $159  Jun 2020     NaN     NaN    NaN      NaN   \n",
       "\n",
       "     battery  \n",
       "0        NaN  \n",
       "1       69.0  \n",
       "2        NaN  \n",
       "3       89.0  \n",
       "4       76.0  \n",
       "..       ...  \n",
       "218     73.0  \n",
       "219     70.0  \n",
       "220     70.0  \n",
       "221     61.0  \n",
       "222     54.0  \n",
       "\n",
       "[223 rows x 8 columns]"
      ]
     },
     "execution_count": 9,
     "metadata": {},
     "output_type": "execute_result"
    }
   ],
   "source": [
    "pd.read_csv(\"phones/mobile phone rating by dxo.csv\")"
   ]
  }
 ],
 "metadata": {
  "kernelspec": {
   "display_name": "Python 3 (ipykernel)",
   "language": "python",
   "name": "python3"
  },
  "language_info": {
   "codemirror_mode": {
    "name": "ipython",
    "version": 3
   },
   "file_extension": ".py",
   "mimetype": "text/x-python",
   "name": "python",
   "nbconvert_exporter": "python",
   "pygments_lexer": "ipython3",
   "version": "3.9.12"
  }
 },
 "nbformat": 4,
 "nbformat_minor": 5
}
