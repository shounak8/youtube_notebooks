{
 "cells": [
  {
   "cell_type": "markdown",
   "id": "e038b25a",
   "metadata": {},
   "source": [
    "# Sentiment Analysis using:\n",
    "   ### 1. Vader - 6 lines\n",
    "   ### 2. Textblob (with *Subjectivity Analysis*) - 4 lines\n",
    "   ### 3. Spacy (with *Subjectivity Analysis*) - 6 lines\n",
    "   \n",
    "---\n",
    "(Notebook author Shounak Deshpande | shounak.python@gmail.com)"
   ]
  },
  {
   "cell_type": "code",
   "execution_count": 4,
   "id": "1abc30cb",
   "metadata": {},
   "outputs": [],
   "source": [
    "# Sample Texts\n",
    "text_1 = \"I enjoy learning new stuff\"\n",
    "text_2 = \"Thursday is a day\"\n",
    "text_3 = \"The food at the restaurant was horrible. The service was terrible\"\n",
    "\n",
    "texts = [text_1, text_2, text_3]"
   ]
  },
  {
   "cell_type": "markdown",
   "id": "ea029de3",
   "metadata": {},
   "source": [
    "# 1. Vader\n",
    "`import nltk`<br>\n",
    "`nltk.download('vader_lexicon')`<br>\n",
    "`from nltk.sentiment.vader import SentimentIntensityAnalyzer`<br>\n",
    "`vader_analyzer = SentimentIntensityAnalyzer()`<br>\n",
    "`text_sentiment = vader_analyzer.polarity_scores(input_text)`"
   ]
  },
  {
   "cell_type": "code",
   "execution_count": 7,
   "id": "f2781179",
   "metadata": {},
   "outputs": [
    {
     "name": "stdout",
     "output_type": "stream",
     "text": [
      "Text: I enjoy learning new stuff\n",
      "Analysis: {'neg': 0.0, 'neu': 0.484, 'pos': 0.516, 'compound': 0.4939}\n",
      "==========================================================\n",
      "Text: Thursday is a day\n",
      "Analysis: {'neg': 0.0, 'neu': 1.0, 'pos': 0.0, 'compound': 0.0}\n",
      "==========================================================\n",
      "Text: The food at the restaurant was horrible. The service was terrible\n",
      "Analysis: {'neg': 0.423, 'neu': 0.577, 'pos': 0.0, 'compound': -0.765}\n",
      "==========================================================\n"
     ]
    },
    {
     "name": "stderr",
     "output_type": "stream",
     "text": [
      "[nltk_data] Downloading package vader_lexicon to\n",
      "[nltk_data]     C:\\Users\\shoun\\AppData\\Roaming\\nltk_data...\n",
      "[nltk_data]   Package vader_lexicon is already up-to-date!\n"
     ]
    }
   ],
   "source": [
    "# Vader Demonstration\n",
    "import nltk\n",
    "nltk.download('vader_lexicon')\n",
    "from nltk.sentiment.vader import SentimentIntensityAnalyzer\n",
    "\n",
    "sid = SentimentIntensityAnalyzer()\n",
    "# sid.polarity_scores(text_1)\n",
    "for text in texts:\n",
    "    print(f\"Text: {text}\\nAnalysis: {sid.polarity_scores(text)}\")\n",
    "    print(\"==========================================================\")"
   ]
  },
  {
   "cell_type": "markdown",
   "id": "69723e69",
   "metadata": {},
   "source": [
    "# 2. Textblob\n",
    "`!pip install textblob`<br>\n",
    "`import textblob`<br>\n",
    "`text_sentiment = textblob.TextBlob(input_text).polarity`<br>\n",
    "`text_subjectivity = textblob.TextBlob(input_text).subjectivity`"
   ]
  },
  {
   "cell_type": "code",
   "execution_count": 16,
   "id": "65a2d410",
   "metadata": {},
   "outputs": [
    {
     "name": "stdout",
     "output_type": "stream",
     "text": [
      "Text: I enjoy learning new stuff\n",
      "Sentiment_Analysis: 0.2681818181818182\n",
      "Subjective_Analysis: 0.4772727272727273\n",
      "======================================================\n",
      "Text: Thursday is a day\n",
      "Sentiment_Analysis: 0.0\n",
      "Subjective_Analysis: 0.0\n",
      "======================================================\n",
      "Text: The food at the restaurant was horrible. The service was terrible\n",
      "Sentiment_Analysis: -1.0\n",
      "Subjective_Analysis: 1.0\n",
      "======================================================\n"
     ]
    }
   ],
   "source": [
    "# Textblob Demonstration\n",
    "import textblob\n",
    "\n",
    "for text in texts:\n",
    "    print(\n",
    "        f\"Text: {text}\\nSentiment_Analysis: {textblob.TextBlob(text).polarity}\\nSubjective_Analysis: {textblob.TextBlob(text).subjectivity}\"\n",
    "    )\n",
    "    print(\"======================================================\")"
   ]
  },
  {
   "cell_type": "markdown",
   "id": "c9e6862a",
   "metadata": {},
   "source": [
    "# 3. Spacy\n",
    "\n",
    "### *Instructions to install Spacy*<br>\n",
    "Spacy installation depends on a variety of things.<br>\n",
    "You can find the detail steps for your environment at https://spacy.io/usage<br><br>\n",
    "Based on the system & environment I use <br>\n",
    "*(Windows (x86), conda environment, Cuda GPU & trained pipeline as english)*,<br>\n",
    "the installation code I used was:\n",
    "\n",
    "`conda install -c conda-forge spacy`<br>\n",
    "`conda install -c conda-forge cupy`<br>\n",
    "`python -m spacy download en_core_web_sm`<br>\n",
    "`pip install spacytextblob`<br>\n",
    "<br>\n",
    "<b>Note: </b><br>\n",
    "`en_core_web_sm` is lightweight Spacy model. <br>\n",
    "For medium sized model, use: `en_core_web_md`<br>\n",
    "For heavy size model, use: `en_core_web_lg`<br>\n",
    "\n",
    "---\n",
    "### Spacy Implementation\n",
    "\n",
    "`import spacy`<br>\n",
    "`from spacytextblob.spacytextblob import SpacyTextBlob`<br>\n",
    "`nlp = spacy.load(\"en_core_web_sm\")`<br>\n",
    "`nlp.add_pipe('spacytextblob')`<br>\n",
    "`doc = nlp(input_text)`<br>\n",
    "`text_sentiment = doc._.blob.polarity`<br>\n",
    "`text_subjectivity = doc._.blob.subjectivity`<br>"
   ]
  },
  {
   "cell_type": "code",
   "execution_count": 24,
   "id": "e8d33906",
   "metadata": {},
   "outputs": [
    {
     "name": "stdout",
     "output_type": "stream",
     "text": [
      "Text: I enjoy learning new stuff\n",
      "Sentiment_Analysis: 0.2681818181818182, Subjectivity_Analysis: 0.4772727272727273\n",
      "=====================================================\n",
      "Text: Thursday is a day\n",
      "Sentiment_Analysis: 0.0, Subjectivity_Analysis: 0.0\n",
      "=====================================================\n",
      "Text: The food at the restaurant was horrible. The service was terrible\n",
      "Sentiment_Analysis: -1.0, Subjectivity_Analysis: 1.0\n",
      "=====================================================\n"
     ]
    }
   ],
   "source": [
    "# Spacy Demonstration\n",
    "import spacy\n",
    "from spacytextblob.spacytextblob import SpacyTextBlob\n",
    "nlp = spacy.load(\"en_core_web_sm\")\n",
    "nlp.add_pipe(\"spacytextblob\")\n",
    "\n",
    "for text in texts:\n",
    "    doc = nlp(text)\n",
    "    print(f\"Text: {text}\\nSentiment_Analysis: {doc._.blob.polarity}, Subjectivity_Analysis: {doc._.blob.subjectivity}\")\n",
    "    print(\"=====================================================\")"
   ]
  }
 ],
 "metadata": {
  "kernelspec": {
   "display_name": "Python 3 (ipykernel)",
   "language": "python",
   "name": "python3"
  },
  "language_info": {
   "codemirror_mode": {
    "name": "ipython",
    "version": 3
   },
   "file_extension": ".py",
   "mimetype": "text/x-python",
   "name": "python",
   "nbconvert_exporter": "python",
   "pygments_lexer": "ipython3",
   "version": "3.9.12"
  }
 },
 "nbformat": 4,
 "nbformat_minor": 5
}
