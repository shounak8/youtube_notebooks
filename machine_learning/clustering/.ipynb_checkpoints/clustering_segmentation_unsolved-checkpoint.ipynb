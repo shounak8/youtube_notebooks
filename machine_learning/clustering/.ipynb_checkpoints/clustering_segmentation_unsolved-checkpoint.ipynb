{
 "cells": [
  {
   "cell_type": "markdown",
   "id": "b88a63f1",
   "metadata": {},
   "source": [
    "**Dataset:** https://www.kaggle.com/datasets/dev0914sharma/customer-clustering?select=segmentation+data.csv"
   ]
  },
  {
   "cell_type": "markdown",
   "id": "834c96f3",
   "metadata": {},
   "source": [
    "# ML Models in this notebook:\n",
    "    A. KMeans\n",
    "    B. DBSCAN (Density Based Spatial Clustering of Applications with Noise)\n",
    "    C. OPTICS (Ordering Points To Identify Clustering Structure)\n",
    "    D. Affinity Propagation"
   ]
  },
  {
   "cell_type": "markdown",
   "id": "7b3a2bb9",
   "metadata": {},
   "source": [
    "# Step 1: Import Libraries"
   ]
  },
  {
   "cell_type": "code",
   "execution_count": null,
   "id": "bafa5195",
   "metadata": {},
   "outputs": [],
   "source": [
    "# use pandas to read data\n",
    "\n",
    "\n",
    "# use numpy for numeric operations (if required)\n",
    "\n",
    "\n",
    "# import clustering models\n",
    "\n",
    "\n",
    "# use sklearn to standardize and normalize the data\n",
    "\n",
    "\n",
    "# use silhouette score as clustering metric\n",
    "\n",
    "\n",
    "# Misc\n",
    "\n",
    "\n",
    "import warnings\n",
    "warnings.filterwarnings(\"ignore\")"
   ]
  },
  {
   "cell_type": "markdown",
   "id": "29b9773b",
   "metadata": {},
   "source": [
    "# Step 2: Read and Explore Data"
   ]
  },
  {
   "cell_type": "code",
   "execution_count": null,
   "id": "9570b0e5",
   "metadata": {},
   "outputs": [],
   "source": [
    "CSV_PATH = \"../../../dataset/segmentation_data.csv\""
   ]
  },
  {
   "cell_type": "markdown",
   "id": "3269ffa2",
   "metadata": {},
   "source": [
    "# Step 3: Preprocess Data"
   ]
  },
  {
   "cell_type": "code",
   "execution_count": null,
   "id": "4cb0eb8b",
   "metadata": {},
   "outputs": [],
   "source": [
    "# Remove unwanted column(s)"
   ]
  },
  {
   "cell_type": "code",
   "execution_count": null,
   "id": "88c20653",
   "metadata": {},
   "outputs": [],
   "source": [
    "# Drop duplicates and deal with missing values"
   ]
  },
  {
   "cell_type": "code",
   "execution_count": null,
   "id": "d994ae6c",
   "metadata": {},
   "outputs": [],
   "source": [
    "# Check for numerical and categorical columns"
   ]
  },
  {
   "cell_type": "code",
   "execution_count": null,
   "id": "f1e338c6",
   "metadata": {},
   "outputs": [],
   "source": [
    "# Check datatypes of categorical columns"
   ]
  },
  {
   "cell_type": "code",
   "execution_count": null,
   "id": "82126f28",
   "metadata": {},
   "outputs": [],
   "source": [
    "# Scale and normalize the nuerical columns"
   ]
  },
  {
   "cell_type": "code",
   "execution_count": null,
   "id": "1d808b9f",
   "metadata": {},
   "outputs": [],
   "source": [
    "# One hot encoding"
   ]
  },
  {
   "cell_type": "markdown",
   "id": "862534c5",
   "metadata": {},
   "source": [
    "# Step 4: Build Models"
   ]
  },
  {
   "cell_type": "markdown",
   "id": "a055355c",
   "metadata": {},
   "source": [
    "## A. KMeans"
   ]
  },
  {
   "cell_type": "code",
   "execution_count": null,
   "id": "b2aef086",
   "metadata": {},
   "outputs": [],
   "source": [
    "# K-Means\n"
   ]
  },
  {
   "cell_type": "markdown",
   "id": "2f8d73e7",
   "metadata": {},
   "source": [
    "## B. DBSCAN"
   ]
  },
  {
   "cell_type": "code",
   "execution_count": null,
   "id": "fcf0d339",
   "metadata": {},
   "outputs": [],
   "source": [
    "# Based on epsilon and minimum samples in the area of circle where radius = epsilon\n",
    "\n",
    "# To find best value of epsilon, we use elbow curve.\n",
    "# Assume nearest neighbors as 10\n"
   ]
  },
  {
   "cell_type": "code",
   "execution_count": null,
   "id": "a096c887",
   "metadata": {},
   "outputs": [],
   "source": [
    "# DBSCAN\n"
   ]
  },
  {
   "cell_type": "markdown",
   "id": "6ed5280f",
   "metadata": {},
   "source": [
    "## C. OPTICS"
   ]
  },
  {
   "cell_type": "code",
   "execution_count": null,
   "id": "1802b45d",
   "metadata": {},
   "outputs": [],
   "source": [
    "# OPTICS: Simialr to DBSCAN, based on epsilon value\n"
   ]
  },
  {
   "cell_type": "code",
   "execution_count": null,
   "id": "97707ff7",
   "metadata": {},
   "outputs": [],
   "source": []
  },
  {
   "cell_type": "code",
   "execution_count": null,
   "id": "e7497c78",
   "metadata": {},
   "outputs": [],
   "source": []
  },
  {
   "cell_type": "code",
   "execution_count": null,
   "id": "f9c7dd39",
   "metadata": {},
   "outputs": [],
   "source": []
  },
  {
   "cell_type": "markdown",
   "id": "17be1f8f",
   "metadata": {},
   "source": [
    "## D. Affinity Propagation"
   ]
  },
  {
   "cell_type": "code",
   "execution_count": null,
   "id": "fff3bd1b",
   "metadata": {},
   "outputs": [],
   "source": [
    "# Affinity Propagation, when you dont know the number of clusters.\n",
    "# We use 'damping' within limits 0.5 and 1\n",
    "\n"
   ]
  },
  {
   "cell_type": "markdown",
   "id": "4dc7da57",
   "metadata": {},
   "source": [
    "---\n",
    "# Author\n",
    "Name: Shounak Deshpande <br>\n",
    "Email: shounak.python@gmail.com"
   ]
  }
 ],
 "metadata": {
  "kernelspec": {
   "display_name": "Python 3 (ipykernel)",
   "language": "python",
   "name": "python3"
  },
  "language_info": {
   "codemirror_mode": {
    "name": "ipython",
    "version": 3
   },
   "file_extension": ".py",
   "mimetype": "text/x-python",
   "name": "python",
   "nbconvert_exporter": "python",
   "pygments_lexer": "ipython3",
   "version": "3.9.13"
  }
 },
 "nbformat": 4,
 "nbformat_minor": 5
}
