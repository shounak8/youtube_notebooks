{
 "cells": [
  {
   "cell_type": "markdown",
   "id": "b88a63f1",
   "metadata": {},
   "source": [
    "**Dataset:** https://www.kaggle.com/datasets/dev0914sharma/customer-clustering?select=segmentation+data.csv"
   ]
  },
  {
   "cell_type": "markdown",
   "id": "834c96f3",
   "metadata": {},
   "source": [
    "# ML Models in this notebook:\n",
    "    A. KMeans\n",
    "    B. DBSCAN (Density Based Spatial Clustering of Applications with Noise)\n",
    "    C. OPTICS (Ordering Points To Identify Clustering Structure)\n",
    "    D. Affinity Propagation"
   ]
  },
  {
   "cell_type": "markdown",
   "id": "7b3a2bb9",
   "metadata": {},
   "source": [
    "# Step 1: Import Libraries"
   ]
  },
  {
   "cell_type": "code",
   "execution_count": 1,
   "id": "bafa5195",
   "metadata": {},
   "outputs": [],
   "source": [
    "# use pandas to read data\n",
    "import pandas as pd\n",
    "\n",
    "# use numpy for numeric operations (if required)\n",
    "import numpy as np\n",
    "\n",
    "# import clustering models\n",
    "from sklearn.cluster import KMeans, DBSCAN, OPTICS, cluster_optics_dbscan, AffinityPropagation\n",
    "\n",
    "# use sklearn to standardize and normalize the data\n",
    "from sklearn.preprocessing import StandardScaler, normalize\n",
    "\n",
    "# use silhouette score as clustering metric\n",
    "from sklearn.metrics import silhouette_score\n",
    "\n",
    "# Misc\n",
    "import matplotlib.pyplot as plt\n",
    "from sklearn.neighbors import NearestNeighbors\n",
    "\n",
    "import warnings\n",
    "warnings.filterwarnings(\"ignore\")"
   ]
  },
  {
   "cell_type": "markdown",
   "id": "29b9773b",
   "metadata": {},
   "source": [
    "# Step 2: Read and Explore Data"
   ]
  },
  {
   "cell_type": "code",
   "execution_count": 2,
   "id": "9570b0e5",
   "metadata": {},
   "outputs": [
    {
     "data": {
      "text/html": [
       "<div>\n",
       "<style scoped>\n",
       "    .dataframe tbody tr th:only-of-type {\n",
       "        vertical-align: middle;\n",
       "    }\n",
       "\n",
       "    .dataframe tbody tr th {\n",
       "        vertical-align: top;\n",
       "    }\n",
       "\n",
       "    .dataframe thead th {\n",
       "        text-align: right;\n",
       "    }\n",
       "</style>\n",
       "<table border=\"1\" class=\"dataframe\">\n",
       "  <thead>\n",
       "    <tr style=\"text-align: right;\">\n",
       "      <th></th>\n",
       "      <th>ID</th>\n",
       "      <th>Sex</th>\n",
       "      <th>Marital status</th>\n",
       "      <th>Age</th>\n",
       "      <th>Education</th>\n",
       "      <th>Income</th>\n",
       "      <th>Occupation</th>\n",
       "      <th>Settlement size</th>\n",
       "    </tr>\n",
       "  </thead>\n",
       "  <tbody>\n",
       "    <tr>\n",
       "      <th>0</th>\n",
       "      <td>100000001</td>\n",
       "      <td>0</td>\n",
       "      <td>0</td>\n",
       "      <td>67</td>\n",
       "      <td>2</td>\n",
       "      <td>124670</td>\n",
       "      <td>1</td>\n",
       "      <td>2</td>\n",
       "    </tr>\n",
       "    <tr>\n",
       "      <th>1</th>\n",
       "      <td>100000002</td>\n",
       "      <td>1</td>\n",
       "      <td>1</td>\n",
       "      <td>22</td>\n",
       "      <td>1</td>\n",
       "      <td>150773</td>\n",
       "      <td>1</td>\n",
       "      <td>2</td>\n",
       "    </tr>\n",
       "    <tr>\n",
       "      <th>2</th>\n",
       "      <td>100000003</td>\n",
       "      <td>0</td>\n",
       "      <td>0</td>\n",
       "      <td>49</td>\n",
       "      <td>1</td>\n",
       "      <td>89210</td>\n",
       "      <td>0</td>\n",
       "      <td>0</td>\n",
       "    </tr>\n",
       "  </tbody>\n",
       "</table>\n",
       "</div>"
      ],
      "text/plain": [
       "          ID  Sex  Marital status  Age  Education  Income  Occupation  \\\n",
       "0  100000001    0               0   67          2  124670           1   \n",
       "1  100000002    1               1   22          1  150773           1   \n",
       "2  100000003    0               0   49          1   89210           0   \n",
       "\n",
       "   Settlement size  \n",
       "0                2  \n",
       "1                2  \n",
       "2                0  "
      ]
     },
     "execution_count": 2,
     "metadata": {},
     "output_type": "execute_result"
    }
   ],
   "source": [
    "CSV_PATH = \"../../../dataset/segmentation_data.csv\"\n",
    "raw_df = pd.read_csv(CSV_PATH)\n",
    "raw_df.head(3)"
   ]
  },
  {
   "cell_type": "markdown",
   "id": "3269ffa2",
   "metadata": {},
   "source": [
    "# Step 3: Preprocess Data"
   ]
  },
  {
   "cell_type": "code",
   "execution_count": 3,
   "id": "4cb0eb8b",
   "metadata": {},
   "outputs": [],
   "source": [
    "# Remove unwanted column(s)\n",
    "raw_df.drop(\"ID\", axis=1, inplace=True)"
   ]
  },
  {
   "cell_type": "code",
   "execution_count": 4,
   "id": "88c20653",
   "metadata": {},
   "outputs": [
    {
     "data": {
      "text/plain": [
       "Sex                0\n",
       "Marital status     0\n",
       "Age                0\n",
       "Education          0\n",
       "Income             0\n",
       "Occupation         0\n",
       "Settlement size    0\n",
       "dtype: int64"
      ]
     },
     "execution_count": 4,
     "metadata": {},
     "output_type": "execute_result"
    }
   ],
   "source": [
    "# Drop duplicates and deal with missing values\n",
    "raw_df.drop_duplicates(inplace=True)\n",
    "\n",
    "raw_df.isna().sum()"
   ]
  },
  {
   "cell_type": "code",
   "execution_count": 5,
   "id": "d994ae6c",
   "metadata": {},
   "outputs": [],
   "source": [
    "# Check for numerical and categorical columns\n",
    "numerical_cols = [\"Age\", \"Income\"]\n",
    "categorical_col = [col for col in raw_df.columns if col not in numerical_cols]"
   ]
  },
  {
   "cell_type": "code",
   "execution_count": 6,
   "id": "f1e338c6",
   "metadata": {},
   "outputs": [
    {
     "name": "stdout",
     "output_type": "stream",
     "text": [
      "<class 'pandas.core.frame.DataFrame'>\n",
      "Int64Index: 2000 entries, 0 to 1999\n",
      "Data columns (total 7 columns):\n",
      " #   Column           Non-Null Count  Dtype\n",
      "---  ------           --------------  -----\n",
      " 0   Sex              2000 non-null   int64\n",
      " 1   Marital status   2000 non-null   int64\n",
      " 2   Age              2000 non-null   int64\n",
      " 3   Education        2000 non-null   int64\n",
      " 4   Income           2000 non-null   int64\n",
      " 5   Occupation       2000 non-null   int64\n",
      " 6   Settlement size  2000 non-null   int64\n",
      "dtypes: int64(7)\n",
      "memory usage: 125.0 KB\n"
     ]
    }
   ],
   "source": [
    "# Check datatypes of categorical columns\n",
    "raw_df.info()"
   ]
  },
  {
   "cell_type": "code",
   "execution_count": 7,
   "id": "a3499b0b",
   "metadata": {},
   "outputs": [],
   "source": [
    "for col in categorical_col:\n",
    "    raw_df[col] = raw_df[col].astype(\"category\")"
   ]
  },
  {
   "cell_type": "code",
   "execution_count": 8,
   "id": "b60bc3b2",
   "metadata": {},
   "outputs": [
    {
     "name": "stdout",
     "output_type": "stream",
     "text": [
      "<class 'pandas.core.frame.DataFrame'>\n",
      "Int64Index: 2000 entries, 0 to 1999\n",
      "Data columns (total 7 columns):\n",
      " #   Column           Non-Null Count  Dtype   \n",
      "---  ------           --------------  -----   \n",
      " 0   Sex              2000 non-null   category\n",
      " 1   Marital status   2000 non-null   category\n",
      " 2   Age              2000 non-null   int64   \n",
      " 3   Education        2000 non-null   category\n",
      " 4   Income           2000 non-null   int64   \n",
      " 5   Occupation       2000 non-null   category\n",
      " 6   Settlement size  2000 non-null   category\n",
      "dtypes: category(5), int64(2)\n",
      "memory usage: 57.3 KB\n"
     ]
    }
   ],
   "source": [
    "raw_df.info()"
   ]
  },
  {
   "cell_type": "code",
   "execution_count": 9,
   "id": "82126f28",
   "metadata": {},
   "outputs": [],
   "source": [
    "# Scale and normalize the nuerical columns\n",
    "scaler = StandardScaler()\n",
    "raw_df[numerical_cols] = scaler.fit_transform(raw_df[numerical_cols])\n",
    "raw_df[numerical_cols] = normalize(raw_df[numerical_cols])"
   ]
  },
  {
   "cell_type": "code",
   "execution_count": 12,
   "id": "1d808b9f",
   "metadata": {},
   "outputs": [],
   "source": [
    "# One hot encoding\n",
    "df = pd.get_dummies(raw_df[categorical_col])\n",
    "df[numerical_cols] = raw_df[numerical_cols].copy()"
   ]
  },
  {
   "cell_type": "code",
   "execution_count": 13,
   "id": "7598c179",
   "metadata": {},
   "outputs": [
    {
     "data": {
      "text/html": [
       "<div>\n",
       "<style scoped>\n",
       "    .dataframe tbody tr th:only-of-type {\n",
       "        vertical-align: middle;\n",
       "    }\n",
       "\n",
       "    .dataframe tbody tr th {\n",
       "        vertical-align: top;\n",
       "    }\n",
       "\n",
       "    .dataframe thead th {\n",
       "        text-align: right;\n",
       "    }\n",
       "</style>\n",
       "<table border=\"1\" class=\"dataframe\">\n",
       "  <thead>\n",
       "    <tr style=\"text-align: right;\">\n",
       "      <th></th>\n",
       "      <th>Sex_0</th>\n",
       "      <th>Sex_1</th>\n",
       "      <th>Marital status_0</th>\n",
       "      <th>Marital status_1</th>\n",
       "      <th>Education_0</th>\n",
       "      <th>Education_1</th>\n",
       "      <th>Education_2</th>\n",
       "      <th>Education_3</th>\n",
       "      <th>Occupation_0</th>\n",
       "      <th>Occupation_1</th>\n",
       "      <th>Occupation_2</th>\n",
       "      <th>Settlement size_0</th>\n",
       "      <th>Settlement size_1</th>\n",
       "      <th>Settlement size_2</th>\n",
       "      <th>Age</th>\n",
       "      <th>Income</th>\n",
       "    </tr>\n",
       "  </thead>\n",
       "  <tbody>\n",
       "    <tr>\n",
       "      <th>0</th>\n",
       "      <td>1</td>\n",
       "      <td>0</td>\n",
       "      <td>1</td>\n",
       "      <td>0</td>\n",
       "      <td>0</td>\n",
       "      <td>0</td>\n",
       "      <td>1</td>\n",
       "      <td>0</td>\n",
       "      <td>0</td>\n",
       "      <td>1</td>\n",
       "      <td>0</td>\n",
       "      <td>0</td>\n",
       "      <td>0</td>\n",
       "      <td>1</td>\n",
       "      <td>0.999325</td>\n",
       "      <td>0.036726</td>\n",
       "    </tr>\n",
       "    <tr>\n",
       "      <th>1</th>\n",
       "      <td>0</td>\n",
       "      <td>1</td>\n",
       "      <td>0</td>\n",
       "      <td>1</td>\n",
       "      <td>0</td>\n",
       "      <td>1</td>\n",
       "      <td>0</td>\n",
       "      <td>0</td>\n",
       "      <td>0</td>\n",
       "      <td>1</td>\n",
       "      <td>0</td>\n",
       "      <td>0</td>\n",
       "      <td>0</td>\n",
       "      <td>1</td>\n",
       "      <td>-0.834885</td>\n",
       "      <td>0.550424</td>\n",
       "    </tr>\n",
       "    <tr>\n",
       "      <th>2</th>\n",
       "      <td>1</td>\n",
       "      <td>0</td>\n",
       "      <td>1</td>\n",
       "      <td>0</td>\n",
       "      <td>0</td>\n",
       "      <td>1</td>\n",
       "      <td>0</td>\n",
       "      <td>0</td>\n",
       "      <td>1</td>\n",
       "      <td>0</td>\n",
       "      <td>0</td>\n",
       "      <td>1</td>\n",
       "      <td>0</td>\n",
       "      <td>0</td>\n",
       "      <td>0.801645</td>\n",
       "      <td>-0.597801</td>\n",
       "    </tr>\n",
       "  </tbody>\n",
       "</table>\n",
       "</div>"
      ],
      "text/plain": [
       "   Sex_0  Sex_1  Marital status_0  Marital status_1  Education_0  Education_1  \\\n",
       "0      1      0                 1                 0            0            0   \n",
       "1      0      1                 0                 1            0            1   \n",
       "2      1      0                 1                 0            0            1   \n",
       "\n",
       "   Education_2  Education_3  Occupation_0  Occupation_1  Occupation_2  \\\n",
       "0            1            0             0             1             0   \n",
       "1            0            0             0             1             0   \n",
       "2            0            0             1             0             0   \n",
       "\n",
       "   Settlement size_0  Settlement size_1  Settlement size_2       Age    Income  \n",
       "0                  0                  0                  1  0.999325  0.036726  \n",
       "1                  0                  0                  1 -0.834885  0.550424  \n",
       "2                  1                  0                  0  0.801645 -0.597801  "
      ]
     },
     "execution_count": 13,
     "metadata": {},
     "output_type": "execute_result"
    }
   ],
   "source": [
    "df.head(3)"
   ]
  },
  {
   "cell_type": "markdown",
   "id": "862534c5",
   "metadata": {},
   "source": [
    "# Step 4: Build Models"
   ]
  },
  {
   "cell_type": "markdown",
   "id": "a055355c",
   "metadata": {},
   "source": [
    "## A. KMeans"
   ]
  },
  {
   "cell_type": "code",
   "execution_count": 14,
   "id": "b2aef086",
   "metadata": {},
   "outputs": [
    {
     "name": "stdout",
     "output_type": "stream",
     "text": [
      "Cluster Size = 100, Score = 0.5851607774678853\n",
      "Cluster Size = 110, Score = 0.5984980503194351\n",
      "Cluster Size = 120, Score = 0.5932715309191676\n",
      "Cluster Size = 130, Score = 0.6005223859469931\n",
      "Cluster Size = 140, Score = 0.5910738421418971\n",
      "Cluster Size = 150, Score = 0.5958770794166153\n",
      "Cluster Size = 160, Score = 0.6015076549064383\n",
      "Cluster Size = 170, Score = 0.5976945142205288\n",
      "Cluster Size = 180, Score = 0.5900129305213022\n",
      "Cluster Size = 190, Score = 0.5885178627660695\n",
      "Best Cluster Size: 160, Best Silhouette Score: 0.6015076549064383\n"
     ]
    }
   ],
   "source": [
    "# K-Means\n",
    "best_cluster_size = None\n",
    "best_score = 0\n",
    "for cluster_size in range(100, 200, 10):\n",
    "    KM = KMeans(n_clusters=cluster_size)\n",
    "    KM.fit(df)\n",
    "    pred = KM.predict(df)\n",
    "    score = silhouette_score(df, pred, sample_size=1000, random_state=42)\n",
    "    print(f\"Cluster Size = {cluster_size}, Score = {score}\")\n",
    "    if score > best_score:\n",
    "        best_score = score\n",
    "        best_cluster_size = cluster_size\n",
    "print(f\"Best Cluster Size: {best_cluster_size}, Best Silhouette Score: {best_score}\")"
   ]
  },
  {
   "cell_type": "markdown",
   "id": "2f8d73e7",
   "metadata": {},
   "source": [
    "## B. DBSCAN"
   ]
  },
  {
   "cell_type": "code",
   "execution_count": 15,
   "id": "fcf0d339",
   "metadata": {},
   "outputs": [
    {
     "data": {
      "image/png": "[encoded data removed]",
      "text/plain": [
       "<Figure size 500x200 with 1 Axes>"
      ]
     },
     "metadata": {},
     "output_type": "display_data"
    }
   ],
   "source": [
    "# Based on epsilon and minimum samples in the area of circle where radius = epsilon\n",
    "\n",
    "# To find best value of epsilon, we use elbow curve.\n",
    "# Assume nearest neighbors as 10\n",
    "NN = NearestNeighbors(n_neighbors=10)\n",
    "neighbors = NN.fit(df)\n",
    "distances, indices = neighbors.kneighbors(df)\n",
    "\n",
    "plt.figure(figsize=(5, 2))\n",
    "plt.plot(np.sort(distances[:, 9]))\n",
    "plt.xlabel = \"values\"\n",
    "plt.ylabel = \"epsilon\""
   ]
  },
  {
   "cell_type": "code",
   "execution_count": 16,
   "id": "eb2851ca",
   "metadata": {},
   "outputs": [],
   "source": [
    "# Referring to the plot above, elbow point is at 0.75. So epsilon E = 0.75\n",
    "E = 0.75"
   ]
  },
  {
   "cell_type": "code",
   "execution_count": 17,
   "id": "a096c887",
   "metadata": {},
   "outputs": [
    {
     "name": "stdout",
     "output_type": "stream",
     "text": [
      "Epsilon= 0.75, Cluster Size= 38, Score= 0.46806153256101457\n"
     ]
    }
   ],
   "source": [
    "# DBSCAN\n",
    "DB = DBSCAN(eps=E, min_samples=10)\n",
    "DB.fit(df)\n",
    "pred = DB.labels_\n",
    "cluster = len(np.unique(pred))\n",
    "score = silhouette_score(df, pred, sample_size=1000, random_state=42)\n",
    "print(f\"Epsilon= {E}, Cluster Size= {cluster}, Score= {score}\")"
   ]
  },
  {
   "cell_type": "markdown",
   "id": "6ed5280f",
   "metadata": {},
   "source": [
    "## C. OPTICS"
   ]
  },
  {
   "cell_type": "code",
   "execution_count": 18,
   "id": "1802b45d",
   "metadata": {},
   "outputs": [
    {
     "name": "stdout",
     "output_type": "stream",
     "text": [
      "Epsilon= 0.75, Cluster Size= 38, Score= 0.4666427681852281\n"
     ]
    }
   ],
   "source": [
    "# OPTICS: Simialr to DBSCAN, based on epsilon value\n",
    "OP = OPTICS(min_samples=10)\n",
    "OP.fit(df)\n",
    "pred = cluster_optics_dbscan(\n",
    "    reachability=OP.reachability_,\n",
    "    core_distances=OP.core_distances_,\n",
    "    ordering=OP.ordering_,\n",
    "    eps=E,\n",
    ")\n",
    "cluster = len(np.unique(pred))\n",
    "score = silhouette_score(df, pred, sample_size=1000, random_state=42)\n",
    "print(f\"Epsilon= {E}, Cluster Size= {cluster}, Score= {score}\")"
   ]
  },
  {
   "cell_type": "markdown",
   "id": "17be1f8f",
   "metadata": {},
   "source": [
    "## D. Affinity Propagation"
   ]
  },
  {
   "cell_type": "code",
   "execution_count": 19,
   "id": "fff3bd1b",
   "metadata": {},
   "outputs": [
    {
     "name": "stdout",
     "output_type": "stream",
     "text": [
      "Damping= 0.5, Cluster Size= 431, Score= 0.41228891032417164\n",
      "Damping= 0.6, Cluster Size= 297, Score= 0.5168322390224634\n",
      "Damping= 0.7, Cluster Size= 84, Score= 0.5807693283940688\n",
      "Damping= 0.8, Cluster Size= 84, Score= 0.5843712687785615\n",
      "Damping= 0.9, Cluster Size= 84, Score= 0.5836650845989586\n",
      "Best Damping Value = 0.8 and Score = 0.5843712687785615\n"
     ]
    }
   ],
   "source": [
    "# Affinity Propagation, when you dont know the number of clusters.\n",
    "# We use 'damping' within limits 0.5 and 1\n",
    "\n",
    "best_d_val = 0\n",
    "best_score = 0\n",
    "\n",
    "for d_val in np.arange(0.5, 1, 0.1):\n",
    "    d_val = round(d_val, 1)\n",
    "    AP = AffinityPropagation(damping=d_val)\n",
    "    AP.fit(df)\n",
    "    pred = AP.predict(df)\n",
    "    cluster = len(np.unique(pred))\n",
    "    score = silhouette_score(df, pred, sample_size=1000, random_state=42)\n",
    "    print(f\"Damping= {d_val}, Cluster Size= {cluster}, Score= {score}\")\n",
    "    if score > best_score:\n",
    "        best_score = score\n",
    "        best_d_val = d_val\n",
    "        \n",
    "print(f\"Best Damping Value = {best_d_val} and Score = {best_score}\")"
   ]
  },
  {
   "cell_type": "markdown",
   "id": "4dc7da57",
   "metadata": {},
   "source": [
    "---\n",
    "# Author\n",
    "Name: Shounak Deshpande <br>\n",
    "Email: shounak.python@gmail.com"
   ]
  }
 ],
 "metadata": {
  "kernelspec": {
   "display_name": "Python 3 (ipykernel)",
   "language": "python",
   "name": "python3"
  },
  "language_info": {
   "codemirror_mode": {
    "name": "ipython",
    "version": 3
   },
   "file_extension": ".py",
   "mimetype": "text/x-python",
   "name": "python",
   "nbconvert_exporter": "python",
   "pygments_lexer": "ipython3",
   "version": "3.9.13"
  }
 },
 "nbformat": 4,
 "nbformat_minor": 5
}
