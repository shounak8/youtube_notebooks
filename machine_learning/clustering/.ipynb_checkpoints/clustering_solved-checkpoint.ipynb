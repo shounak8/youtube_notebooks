{
 "cells": [
  {
   "cell_type": "code",
   "execution_count": 1,
   "id": "c3e0baf5",
   "metadata": {},
   "outputs": [],
   "source": [
    "import warnings\n",
    "warnings.filterwarnings('ignore')\n",
    "\n",
    "import pandas as pd\n",
    "from sklearn.cluster import KMeans, DBSCAN\n",
    "from sklearn.metrics import silhouette_score\n",
    "from sklearn.preprocessing import StandardScaler"
   ]
  },
  {
   "cell_type": "code",
   "execution_count": 2,
   "id": "f3f8c777",
   "metadata": {},
   "outputs": [
    {
     "data": {
      "text/html": [
       "<div>\n",
       "<style scoped>\n",
       "    .dataframe tbody tr th:only-of-type {\n",
       "        vertical-align: middle;\n",
       "    }\n",
       "\n",
       "    .dataframe tbody tr th {\n",
       "        vertical-align: top;\n",
       "    }\n",
       "\n",
       "    .dataframe thead th {\n",
       "        text-align: right;\n",
       "    }\n",
       "</style>\n",
       "<table border=\"1\" class=\"dataframe\">\n",
       "  <thead>\n",
       "    <tr style=\"text-align: right;\">\n",
       "      <th></th>\n",
       "      <th>Alcohol</th>\n",
       "      <th>Malic_Acid</th>\n",
       "      <th>Ash</th>\n",
       "      <th>Ash_Alcanity</th>\n",
       "      <th>Magnesium</th>\n",
       "      <th>Total_Phenols</th>\n",
       "      <th>Flavanoids</th>\n",
       "      <th>Nonflavanoid_Phenols</th>\n",
       "      <th>Proanthocyanins</th>\n",
       "      <th>Color_Intensity</th>\n",
       "      <th>Hue</th>\n",
       "      <th>OD280</th>\n",
       "      <th>Proline</th>\n",
       "    </tr>\n",
       "  </thead>\n",
       "  <tbody>\n",
       "    <tr>\n",
       "      <th>0</th>\n",
       "      <td>14.23</td>\n",
       "      <td>1.71</td>\n",
       "      <td>2.43</td>\n",
       "      <td>15.6</td>\n",
       "      <td>127</td>\n",
       "      <td>2.80</td>\n",
       "      <td>3.06</td>\n",
       "      <td>0.28</td>\n",
       "      <td>2.29</td>\n",
       "      <td>5.64</td>\n",
       "      <td>1.04</td>\n",
       "      <td>3.92</td>\n",
       "      <td>1065</td>\n",
       "    </tr>\n",
       "    <tr>\n",
       "      <th>1</th>\n",
       "      <td>13.20</td>\n",
       "      <td>1.78</td>\n",
       "      <td>2.14</td>\n",
       "      <td>11.2</td>\n",
       "      <td>100</td>\n",
       "      <td>2.65</td>\n",
       "      <td>2.76</td>\n",
       "      <td>0.26</td>\n",
       "      <td>1.28</td>\n",
       "      <td>4.38</td>\n",
       "      <td>1.05</td>\n",
       "      <td>3.40</td>\n",
       "      <td>1050</td>\n",
       "    </tr>\n",
       "  </tbody>\n",
       "</table>\n",
       "</div>"
      ],
      "text/plain": [
       "   Alcohol  Malic_Acid   Ash  Ash_Alcanity  Magnesium  Total_Phenols  \\\n",
       "0    14.23        1.71  2.43          15.6        127           2.80   \n",
       "1    13.20        1.78  2.14          11.2        100           2.65   \n",
       "\n",
       "   Flavanoids  Nonflavanoid_Phenols  Proanthocyanins  Color_Intensity   Hue  \\\n",
       "0        3.06                  0.28             2.29             5.64  1.04   \n",
       "1        2.76                  0.26             1.28             4.38  1.05   \n",
       "\n",
       "   OD280  Proline  \n",
       "0   3.92     1065  \n",
       "1   3.40     1050  "
      ]
     },
     "execution_count": 2,
     "metadata": {},
     "output_type": "execute_result"
    }
   ],
   "source": [
    "raw_df = pd.read_csv('../database/clustering_wine.csv')\n",
    "\n",
    "raw_df.head(2)"
   ]
  },
  {
   "cell_type": "code",
   "execution_count": 3,
   "id": "83803a7e",
   "metadata": {},
   "outputs": [
    {
     "data": {
      "text/plain": [
       "(178, 13)"
      ]
     },
     "execution_count": 3,
     "metadata": {},
     "output_type": "execute_result"
    }
   ],
   "source": [
    "raw_df.shape"
   ]
  },
  {
   "cell_type": "code",
   "execution_count": 4,
   "id": "67ccb57d",
   "metadata": {},
   "outputs": [
    {
     "name": "stdout",
     "output_type": "stream",
     "text": [
      "Alcohol                 0\n",
      "Malic_Acid              0\n",
      "Ash                     0\n",
      "Ash_Alcanity            0\n",
      "Magnesium               0\n",
      "Total_Phenols           0\n",
      "Flavanoids              0\n",
      "Nonflavanoid_Phenols    0\n",
      "Proanthocyanins         0\n",
      "Color_Intensity         0\n",
      "Hue                     0\n",
      "OD280                   0\n",
      "Proline                 0\n",
      "dtype: int64\n"
     ]
    }
   ],
   "source": [
    "# remove duplicates\n",
    "raw_df.drop_duplicates(inplace=True)\n",
    "\n",
    "# missing values\n",
    "print(raw_df.isna().sum())"
   ]
  },
  {
   "cell_type": "code",
   "execution_count": 5,
   "id": "f917dfbf",
   "metadata": {},
   "outputs": [
    {
     "data": {
      "text/plain": [
       "<AxesSubplot:>"
      ]
     },
     "execution_count": 5,
     "metadata": {},
     "output_type": "execute_result"
    },
    {
     "data": {
      "image/png": "[encoded data removed]",
      "text/plain": [
       "<Figure size 1080x288 with 1 Axes>"
      ]
     },
     "metadata": {
      "needs_background": "light"
     },
     "output_type": "display_data"
    }
   ],
   "source": [
    "# Check outliers\n",
    "raw_df.plot(kind='box', figsize=(15, 4), rot=20)"
   ]
  },
  {
   "cell_type": "code",
   "execution_count": 6,
   "id": "78197c30",
   "metadata": {},
   "outputs": [],
   "source": [
    "outlier_cols = ['Malic_Acid', 'Ash', 'Ash_Alcanity', 'Magnesium', 'Proanthocyanins', 'Color_Intensity', 'Hue']"
   ]
  },
  {
   "cell_type": "code",
   "execution_count": 7,
   "id": "b717d8a3",
   "metadata": {},
   "outputs": [],
   "source": [
    "outlier_df = raw_df[outlier_cols].copy()"
   ]
  },
  {
   "cell_type": "code",
   "execution_count": 8,
   "id": "9a331091",
   "metadata": {},
   "outputs": [],
   "source": [
    "q1 = outlier_df.quantile(0.25)\n",
    "q3 = outlier_df.quantile(0.75)\n",
    "iqr = q3 - q1\n",
    "permissible_max = q3 + 1.5*iqr\n",
    "permissible_min = q1 - 1.5*iqr\n",
    "\n",
    "\n",
    "def process_outlier(value: float, min_val: float, max_val: float) -> float:\n",
    "    \"\"\"\n",
    "    Info: returns the permissible value based on min max values.\n",
    "    \n",
    "    Arguments:\n",
    "        value (float): input value to check\n",
    "        min_val (float): minimum permissible value\n",
    "        max_val (float): maximum permissible value\n",
    "    \n",
    "    Returns:\n",
    "        float: value if the value lies between minimum and maximum value else minimum or maximum value.\n",
    "    \"\"\"\n",
    "    if value < min_val:\n",
    "        return min_val\n",
    "    elif value > max_val:\n",
    "        return max_val\n",
    "    else:\n",
    "        return value"
   ]
  },
  {
   "cell_type": "code",
   "execution_count": 9,
   "id": "1e363ce8",
   "metadata": {},
   "outputs": [],
   "source": [
    "for col_name in outlier_cols:\n",
    "    raw_df[col_name] = raw_df[col_name].apply(lambda x: process_outlier(x, permissible_min[col_name], permissible_max[col_name]))"
   ]
  },
  {
   "cell_type": "code",
   "execution_count": 10,
   "id": "4de012a6",
   "metadata": {},
   "outputs": [
    {
     "data": {
      "text/plain": [
       "<AxesSubplot:>"
      ]
     },
     "execution_count": 10,
     "metadata": {},
     "output_type": "execute_result"
    },
    {
     "data": {
      "image/png": "[encoded data removed]",
      "text/plain": [
       "<Figure size 1080x288 with 1 Axes>"
      ]
     },
     "metadata": {
      "needs_background": "light"
     },
     "output_type": "display_data"
    }
   ],
   "source": [
    "# Check outliers\n",
    "raw_df.plot(kind='box', figsize=(15, 4), rot=20)"
   ]
  },
  {
   "cell_type": "code",
   "execution_count": 11,
   "id": "cb846f2f",
   "metadata": {},
   "outputs": [
    {
     "data": {
      "text/html": [
       "<div>\n",
       "<style scoped>\n",
       "    .dataframe tbody tr th:only-of-type {\n",
       "        vertical-align: middle;\n",
       "    }\n",
       "\n",
       "    .dataframe tbody tr th {\n",
       "        vertical-align: top;\n",
       "    }\n",
       "\n",
       "    .dataframe thead th {\n",
       "        text-align: right;\n",
       "    }\n",
       "</style>\n",
       "<table border=\"1\" class=\"dataframe\">\n",
       "  <thead>\n",
       "    <tr style=\"text-align: right;\">\n",
       "      <th></th>\n",
       "      <th>Alcohol</th>\n",
       "      <th>Malic_Acid</th>\n",
       "      <th>Ash</th>\n",
       "      <th>Ash_Alcanity</th>\n",
       "      <th>Magnesium</th>\n",
       "      <th>Total_Phenols</th>\n",
       "      <th>Flavanoids</th>\n",
       "      <th>Nonflavanoid_Phenols</th>\n",
       "      <th>Proanthocyanins</th>\n",
       "      <th>Color_Intensity</th>\n",
       "      <th>Hue</th>\n",
       "      <th>OD280</th>\n",
       "      <th>Proline</th>\n",
       "    </tr>\n",
       "  </thead>\n",
       "  <tbody>\n",
       "    <tr>\n",
       "      <th>Alcohol</th>\n",
       "      <td>1.000000</td>\n",
       "      <td>0.094756</td>\n",
       "      <td>0.220174</td>\n",
       "      <td>-0.312191</td>\n",
       "      <td>0.302173</td>\n",
       "      <td>0.289101</td>\n",
       "      <td>0.236815</td>\n",
       "      <td>-0.155929</td>\n",
       "      <td>0.153171</td>\n",
       "      <td>0.549107</td>\n",
       "      <td>-0.067156</td>\n",
       "      <td>0.072343</td>\n",
       "      <td>0.643720</td>\n",
       "    </tr>\n",
       "    <tr>\n",
       "      <th>Malic_Acid</th>\n",
       "      <td>0.094756</td>\n",
       "      <td>1.000000</td>\n",
       "      <td>0.166614</td>\n",
       "      <td>0.295882</td>\n",
       "      <td>-0.039329</td>\n",
       "      <td>-0.339050</td>\n",
       "      <td>-0.414875</td>\n",
       "      <td>0.294203</td>\n",
       "      <td>-0.234575</td>\n",
       "      <td>0.264897</td>\n",
       "      <td>-0.566409</td>\n",
       "      <td>-0.372582</td>\n",
       "      <td>-0.191173</td>\n",
       "    </tr>\n",
       "    <tr>\n",
       "      <th>Ash</th>\n",
       "      <td>0.220174</td>\n",
       "      <td>0.166614</td>\n",
       "      <td>1.000000</td>\n",
       "      <td>0.427713</td>\n",
       "      <td>0.322510</td>\n",
       "      <td>0.124436</td>\n",
       "      <td>0.097562</td>\n",
       "      <td>0.183666</td>\n",
       "      <td>0.006080</td>\n",
       "      <td>0.256799</td>\n",
       "      <td>-0.075904</td>\n",
       "      <td>-0.011214</td>\n",
       "      <td>0.229676</td>\n",
       "    </tr>\n",
       "    <tr>\n",
       "      <th>Ash_Alcanity</th>\n",
       "      <td>-0.312191</td>\n",
       "      <td>0.295882</td>\n",
       "      <td>0.427713</td>\n",
       "      <td>1.000000</td>\n",
       "      <td>-0.098030</td>\n",
       "      <td>-0.333046</td>\n",
       "      <td>-0.363405</td>\n",
       "      <td>0.369276</td>\n",
       "      <td>-0.208794</td>\n",
       "      <td>0.009748</td>\n",
       "      <td>-0.286664</td>\n",
       "      <td>-0.287032</td>\n",
       "      <td>-0.448700</td>\n",
       "    </tr>\n",
       "    <tr>\n",
       "      <th>Magnesium</th>\n",
       "      <td>0.302173</td>\n",
       "      <td>-0.039329</td>\n",
       "      <td>0.322510</td>\n",
       "      <td>-0.098030</td>\n",
       "      <td>1.000000</td>\n",
       "      <td>0.227035</td>\n",
       "      <td>0.209431</td>\n",
       "      <td>-0.255674</td>\n",
       "      <td>0.201428</td>\n",
       "      <td>0.240505</td>\n",
       "      <td>0.040007</td>\n",
       "      <td>0.064019</td>\n",
       "      <td>0.411557</td>\n",
       "    </tr>\n",
       "    <tr>\n",
       "      <th>Total_Phenols</th>\n",
       "      <td>0.289101</td>\n",
       "      <td>-0.339050</td>\n",
       "      <td>0.124436</td>\n",
       "      <td>-0.333046</td>\n",
       "      <td>0.227035</td>\n",
       "      <td>1.000000</td>\n",
       "      <td>0.864564</td>\n",
       "      <td>-0.449935</td>\n",
       "      <td>0.618771</td>\n",
       "      <td>-0.062101</td>\n",
       "      <td>0.435952</td>\n",
       "      <td>0.699949</td>\n",
       "      <td>0.498115</td>\n",
       "    </tr>\n",
       "    <tr>\n",
       "      <th>Flavanoids</th>\n",
       "      <td>0.236815</td>\n",
       "      <td>-0.414875</td>\n",
       "      <td>0.097562</td>\n",
       "      <td>-0.363405</td>\n",
       "      <td>0.209431</td>\n",
       "      <td>0.864564</td>\n",
       "      <td>1.000000</td>\n",
       "      <td>-0.537900</td>\n",
       "      <td>0.665384</td>\n",
       "      <td>-0.169807</td>\n",
       "      <td>0.546718</td>\n",
       "      <td>0.787194</td>\n",
       "      <td>0.494193</td>\n",
       "    </tr>\n",
       "    <tr>\n",
       "      <th>Nonflavanoid_Phenols</th>\n",
       "      <td>-0.155929</td>\n",
       "      <td>0.294203</td>\n",
       "      <td>0.183666</td>\n",
       "      <td>0.369276</td>\n",
       "      <td>-0.255674</td>\n",
       "      <td>-0.449935</td>\n",
       "      <td>-0.537900</td>\n",
       "      <td>1.000000</td>\n",
       "      <td>-0.368455</td>\n",
       "      <td>0.131596</td>\n",
       "      <td>-0.266995</td>\n",
       "      <td>-0.503270</td>\n",
       "      <td>-0.311385</td>\n",
       "    </tr>\n",
       "    <tr>\n",
       "      <th>Proanthocyanins</th>\n",
       "      <td>0.153171</td>\n",
       "      <td>-0.234575</td>\n",
       "      <td>0.006080</td>\n",
       "      <td>-0.208794</td>\n",
       "      <td>0.201428</td>\n",
       "      <td>0.618771</td>\n",
       "      <td>0.665384</td>\n",
       "      <td>-0.368455</td>\n",
       "      <td>1.000000</td>\n",
       "      <td>-0.032693</td>\n",
       "      <td>0.306289</td>\n",
       "      <td>0.530565</td>\n",
       "      <td>0.340562</td>\n",
       "    </tr>\n",
       "    <tr>\n",
       "      <th>Color_Intensity</th>\n",
       "      <td>0.549107</td>\n",
       "      <td>0.264897</td>\n",
       "      <td>0.256799</td>\n",
       "      <td>0.009748</td>\n",
       "      <td>0.240505</td>\n",
       "      <td>-0.062101</td>\n",
       "      <td>-0.169807</td>\n",
       "      <td>0.131596</td>\n",
       "      <td>-0.032693</td>\n",
       "      <td>1.000000</td>\n",
       "      <td>-0.520416</td>\n",
       "      <td>-0.430638</td>\n",
       "      <td>0.327100</td>\n",
       "    </tr>\n",
       "    <tr>\n",
       "      <th>Hue</th>\n",
       "      <td>-0.067156</td>\n",
       "      <td>-0.566409</td>\n",
       "      <td>-0.075904</td>\n",
       "      <td>-0.286664</td>\n",
       "      <td>0.040007</td>\n",
       "      <td>0.435952</td>\n",
       "      <td>0.546718</td>\n",
       "      <td>-0.266995</td>\n",
       "      <td>0.306289</td>\n",
       "      <td>-0.520416</td>\n",
       "      <td>1.000000</td>\n",
       "      <td>0.568387</td>\n",
       "      <td>0.239968</td>\n",
       "    </tr>\n",
       "    <tr>\n",
       "      <th>OD280</th>\n",
       "      <td>0.072343</td>\n",
       "      <td>-0.372582</td>\n",
       "      <td>-0.011214</td>\n",
       "      <td>-0.287032</td>\n",
       "      <td>0.064019</td>\n",
       "      <td>0.699949</td>\n",
       "      <td>0.787194</td>\n",
       "      <td>-0.503270</td>\n",
       "      <td>0.530565</td>\n",
       "      <td>-0.430638</td>\n",
       "      <td>0.568387</td>\n",
       "      <td>1.000000</td>\n",
       "      <td>0.312761</td>\n",
       "    </tr>\n",
       "    <tr>\n",
       "      <th>Proline</th>\n",
       "      <td>0.643720</td>\n",
       "      <td>-0.191173</td>\n",
       "      <td>0.229676</td>\n",
       "      <td>-0.448700</td>\n",
       "      <td>0.411557</td>\n",
       "      <td>0.498115</td>\n",
       "      <td>0.494193</td>\n",
       "      <td>-0.311385</td>\n",
       "      <td>0.340562</td>\n",
       "      <td>0.327100</td>\n",
       "      <td>0.239968</td>\n",
       "      <td>0.312761</td>\n",
       "      <td>1.000000</td>\n",
       "    </tr>\n",
       "  </tbody>\n",
       "</table>\n",
       "</div>"
      ],
      "text/plain": [
       "                       Alcohol  Malic_Acid       Ash  Ash_Alcanity  Magnesium  \\\n",
       "Alcohol               1.000000    0.094756  0.220174     -0.312191   0.302173   \n",
       "Malic_Acid            0.094756    1.000000  0.166614      0.295882  -0.039329   \n",
       "Ash                   0.220174    0.166614  1.000000      0.427713   0.322510   \n",
       "Ash_Alcanity         -0.312191    0.295882  0.427713      1.000000  -0.098030   \n",
       "Magnesium             0.302173   -0.039329  0.322510     -0.098030   1.000000   \n",
       "Total_Phenols         0.289101   -0.339050  0.124436     -0.333046   0.227035   \n",
       "Flavanoids            0.236815   -0.414875  0.097562     -0.363405   0.209431   \n",
       "Nonflavanoid_Phenols -0.155929    0.294203  0.183666      0.369276  -0.255674   \n",
       "Proanthocyanins       0.153171   -0.234575  0.006080     -0.208794   0.201428   \n",
       "Color_Intensity       0.549107    0.264897  0.256799      0.009748   0.240505   \n",
       "Hue                  -0.067156   -0.566409 -0.075904     -0.286664   0.040007   \n",
       "OD280                 0.072343   -0.372582 -0.011214     -0.287032   0.064019   \n",
       "Proline               0.643720   -0.191173  0.229676     -0.448700   0.411557   \n",
       "\n",
       "                      Total_Phenols  Flavanoids  Nonflavanoid_Phenols  \\\n",
       "Alcohol                    0.289101    0.236815             -0.155929   \n",
       "Malic_Acid                -0.339050   -0.414875              0.294203   \n",
       "Ash                        0.124436    0.097562              0.183666   \n",
       "Ash_Alcanity              -0.333046   -0.363405              0.369276   \n",
       "Magnesium                  0.227035    0.209431             -0.255674   \n",
       "Total_Phenols              1.000000    0.864564             -0.449935   \n",
       "Flavanoids                 0.864564    1.000000             -0.537900   \n",
       "Nonflavanoid_Phenols      -0.449935   -0.537900              1.000000   \n",
       "Proanthocyanins            0.618771    0.665384             -0.368455   \n",
       "Color_Intensity           -0.062101   -0.169807              0.131596   \n",
       "Hue                        0.435952    0.546718             -0.266995   \n",
       "OD280                      0.699949    0.787194             -0.503270   \n",
       "Proline                    0.498115    0.494193             -0.311385   \n",
       "\n",
       "                      Proanthocyanins  Color_Intensity       Hue     OD280  \\\n",
       "Alcohol                      0.153171         0.549107 -0.067156  0.072343   \n",
       "Malic_Acid                  -0.234575         0.264897 -0.566409 -0.372582   \n",
       "Ash                          0.006080         0.256799 -0.075904 -0.011214   \n",
       "Ash_Alcanity                -0.208794         0.009748 -0.286664 -0.287032   \n",
       "Magnesium                    0.201428         0.240505  0.040007  0.064019   \n",
       "Total_Phenols                0.618771        -0.062101  0.435952  0.699949   \n",
       "Flavanoids                   0.665384        -0.169807  0.546718  0.787194   \n",
       "Nonflavanoid_Phenols        -0.368455         0.131596 -0.266995 -0.503270   \n",
       "Proanthocyanins              1.000000        -0.032693  0.306289  0.530565   \n",
       "Color_Intensity             -0.032693         1.000000 -0.520416 -0.430638   \n",
       "Hue                          0.306289        -0.520416  1.000000  0.568387   \n",
       "OD280                        0.530565        -0.430638  0.568387  1.000000   \n",
       "Proline                      0.340562         0.327100  0.239968  0.312761   \n",
       "\n",
       "                       Proline  \n",
       "Alcohol               0.643720  \n",
       "Malic_Acid           -0.191173  \n",
       "Ash                   0.229676  \n",
       "Ash_Alcanity         -0.448700  \n",
       "Magnesium             0.411557  \n",
       "Total_Phenols         0.498115  \n",
       "Flavanoids            0.494193  \n",
       "Nonflavanoid_Phenols -0.311385  \n",
       "Proanthocyanins       0.340562  \n",
       "Color_Intensity       0.327100  \n",
       "Hue                   0.239968  \n",
       "OD280                 0.312761  \n",
       "Proline               1.000000  "
      ]
     },
     "execution_count": 11,
     "metadata": {},
     "output_type": "execute_result"
    }
   ],
   "source": [
    "raw_df.corr()"
   ]
  },
  {
   "cell_type": "code",
   "execution_count": 12,
   "id": "b82dd9ab",
   "metadata": {},
   "outputs": [],
   "source": [
    "# scaling data\n",
    "scaler = StandardScaler()\n",
    "X = scaler.fit_transform(raw_df)"
   ]
  },
  {
   "cell_type": "markdown",
   "id": "471f91c4",
   "metadata": {},
   "source": [
    "# PCA"
   ]
  },
  {
   "cell_type": "code",
   "execution_count": 13,
   "id": "920ef6ed",
   "metadata": {},
   "outputs": [],
   "source": [
    "from sklearn.decomposition import PCA\n",
    "import matplotlib.pyplot as plt"
   ]
  },
  {
   "cell_type": "code",
   "execution_count": 14,
   "id": "7657fd18",
   "metadata": {},
   "outputs": [],
   "source": [
    "pca = PCA(0.95)\n",
    "x_pca = pca.fit_transform(X)"
   ]
  },
  {
   "cell_type": "markdown",
   "id": "fb0ac807",
   "metadata": {},
   "source": [
    "# KMeans"
   ]
  },
  {
   "cell_type": "code",
   "execution_count": 15,
   "id": "0912b2af",
   "metadata": {},
   "outputs": [
    {
     "name": "stdout",
     "output_type": "stream",
     "text": [
      "KMeans PCA:\n",
      "0.2992406844808229 3\n"
     ]
    }
   ],
   "source": [
    "# loop over different cluster size for pca data\n",
    "score = 0\n",
    "recommended_cluster_size = None\n",
    "\n",
    "for cluster_size in range(2, 10):\n",
    "    kmeans_model = KMeans(n_clusters=cluster_size, random_state=42)\n",
    "    kmeans_model.fit(x_pca)\n",
    "    labels = kmeans_model.labels_\n",
    "    sil_score = silhouette_score(x_pca, labels)\n",
    "    if sil_score > score:\n",
    "        score = sil_score\n",
    "        recommended_cluster_size = cluster_size\n",
    "        \n",
    "print('KMeans PCA:')    \n",
    "print(score, recommended_cluster_size)"
   ]
  },
  {
   "cell_type": "code",
   "execution_count": 16,
   "id": "5aa61588",
   "metadata": {},
   "outputs": [
    {
     "name": "stdout",
     "output_type": "stream",
     "text": [
      "KMeans direct:\n",
      "0.2854626783251893 3\n"
     ]
    }
   ],
   "source": [
    "# loop over different cluster size\n",
    "score = 0\n",
    "recommended_cluster_size = None\n",
    "\n",
    "for cluster_size in range(2, 10):\n",
    "    kmeans_model = KMeans(n_clusters=cluster_size, random_state=42)\n",
    "    kmeans_model.fit(X)\n",
    "    labels = kmeans_model.labels_\n",
    "    sil_score = silhouette_score(X, labels)\n",
    "    if sil_score > score:\n",
    "        score = sil_score\n",
    "        recommended_cluster_size = cluster_size\n",
    "        \n",
    "print('KMeans direct:')        \n",
    "print(score, recommended_cluster_size)"
   ]
  },
  {
   "cell_type": "markdown",
   "id": "beeb1bd4",
   "metadata": {},
   "source": [
    "# Author\n",
    "Shounak Deshpande<br>\n",
    "shounak.python@gmail.com"
   ]
  }
 ],
 "metadata": {
  "kernelspec": {
   "display_name": "Python 3 (ipykernel)",
   "language": "python",
   "name": "python3"
  },
  "language_info": {
   "codemirror_mode": {
    "name": "ipython",
    "version": 3
   },
   "file_extension": ".py",
   "mimetype": "text/x-python",
   "name": "python",
   "nbconvert_exporter": "python",
   "pygments_lexer": "ipython3",
   "version": "3.9.12"
  }
 },
 "nbformat": 4,
 "nbformat_minor": 5
}
