{
 "cells": [
  {
   "cell_type": "markdown",
   "id": "efe4e765",
   "metadata": {},
   "source": [
    "Dataset taken from Kaggle <br>\n",
    "https://www.kaggle.com/datasets/maajdl/yeh-concret-data"
   ]
  },
  {
   "cell_type": "markdown",
   "id": "0c058500",
   "metadata": {},
   "source": [
    "<img src=\"../ML_steps.png\">"
   ]
  },
  {
   "cell_type": "markdown",
   "id": "6a0d778f",
   "metadata": {},
   "source": [
    "# Import Libraries"
   ]
  },
  {
   "cell_type": "code",
   "execution_count": null,
   "id": "8ee852ba",
   "metadata": {},
   "outputs": [],
   "source": [
    "# To read the data and form dataframe\n",
    "\n",
    "\n",
    "# Train Test Split\n",
    "\n",
    "\n",
    "# Scaling and Normalizing\n",
    "\n",
    "\n",
    "# Train the model\n",
    "# LinearRegression\n",
    "\n",
    "# RandomForestRegressor\n",
    "\n",
    "# SVR\n",
    "\n",
    "\n",
    "# Model evaluation - we use metrics like r2_score, explainer_variance_score, mean_squared_error, etc.\n"
   ]
  },
  {
   "cell_type": "markdown",
   "id": "7b7f87bd",
   "metadata": {},
   "source": [
    "# Read the data"
   ]
  },
  {
   "cell_type": "code",
   "execution_count": null,
   "id": "b41b6e66",
   "metadata": {},
   "outputs": [],
   "source": [
    "# Read data into dataframe. File path '../database/regression_Concrete_Data_Yeh.csv'\n"
   ]
  },
  {
   "cell_type": "code",
   "execution_count": null,
   "id": "7e01dcfc",
   "metadata": {},
   "outputs": [],
   "source": [
    "# See how the dataframe appears for better understanding\n"
   ]
  },
  {
   "cell_type": "code",
   "execution_count": null,
   "id": "d9105721",
   "metadata": {},
   "outputs": [],
   "source": [
    "# Check shape of the dataset\n"
   ]
  },
  {
   "cell_type": "markdown",
   "id": "9fe4ce69",
   "metadata": {},
   "source": [
    "# Clean Data\n",
    "---\n",
    "### Check for missing values and duplicates"
   ]
  },
  {
   "cell_type": "code",
   "execution_count": null,
   "id": "59f0af85",
   "metadata": {},
   "outputs": [],
   "source": [
    "# remove duplicates\n",
    "\n",
    "\n",
    "# check for missing values\n"
   ]
  },
  {
   "cell_type": "markdown",
   "id": "9dd96271",
   "metadata": {},
   "source": [
    "---\n",
    "### Check for outliers"
   ]
  },
  {
   "cell_type": "code",
   "execution_count": null,
   "id": "d0adb1fc",
   "metadata": {},
   "outputs": [],
   "source": [
    "# Check outliers via boxplot\n"
   ]
  },
  {
   "cell_type": "code",
   "execution_count": null,
   "id": "4d812aaa",
   "metadata": {},
   "outputs": [],
   "source": [
    "# let us create a function where we replace the outlier values with min max values for their reapective feature\n",
    "\n",
    "# Form permissible min max values based on Inter Quartile Range (IQR)\n",
    "\n",
    "# q1: 25 percentile\n",
    "\n",
    "# q3: 75 percentile\n",
    "\n",
    "# iqr: interquartile range\n",
    "\n",
    "# form permissible minima and maxima\n",
    "\n",
    "\n",
    "def process_outlier(value: float, min_val: float, max_val: float) -> float:\n",
    "    \"\"\"\n",
    "    Info: returns the permissible value based on min max values.\n",
    "    \n",
    "    Arguments:\n",
    "        value (float): input value to check\n",
    "        min_val (float): minimum permissible value\n",
    "        max_val (float): maximum permissible value\n",
    "    \n",
    "    Returns:\n",
    "        float: value if the value lies between minimum and maximum value else minimum or maximum value.\n",
    "    \"\"\"\n",
    "    <CODE HERE>"
   ]
  },
  {
   "cell_type": "code",
   "execution_count": null,
   "id": "3e136e17",
   "metadata": {},
   "outputs": [],
   "source": [
    "# Form list of columns where we see outliers\n",
    "outlier_cols = []"
   ]
  },
  {
   "cell_type": "code",
   "execution_count": null,
   "id": "c37bc4e2",
   "metadata": {},
   "outputs": [],
   "source": [
    "# Loop over the columns to process their outliers\n"
   ]
  },
  {
   "cell_type": "code",
   "execution_count": null,
   "id": "88e15f65",
   "metadata": {},
   "outputs": [],
   "source": [
    "# Check outliers via boxplot\n"
   ]
  },
  {
   "cell_type": "markdown",
   "id": "8273b407",
   "metadata": {},
   "source": [
    "---\n",
    "### Check correlations"
   ]
  },
  {
   "cell_type": "code",
   "execution_count": null,
   "id": "c0951684",
   "metadata": {},
   "outputs": [],
   "source": [
    "# use df.corr()\n"
   ]
  },
  {
   "cell_type": "markdown",
   "id": "73b6ccfc",
   "metadata": {},
   "source": [
    "# Form *features* and *target*\n",
    "Features are the independent variables<br>\n",
    "Target is the dependent variable"
   ]
  },
  {
   "cell_type": "code",
   "execution_count": null,
   "id": "cb2052e2",
   "metadata": {},
   "outputs": [],
   "source": [
    "# Form features and target\n",
    "# based on the documentation of the dataset: 'csMPa' is the target\n",
    "features = \n",
    "target = "
   ]
  },
  {
   "cell_type": "markdown",
   "id": "fe840426",
   "metadata": {},
   "source": [
    "# Train Test Split"
   ]
  },
  {
   "cell_type": "code",
   "execution_count": null,
   "id": "13fc5e2a",
   "metadata": {},
   "outputs": [],
   "source": [
    "# Split the data using train test split with test_size of 20%\n",
    "train_x, test_x, train_y, test_y = train_test_split()\n",
    "\n",
    "# Check the shape of the train and test split\n"
   ]
  },
  {
   "cell_type": "markdown",
   "id": "f0f769ca",
   "metadata": {},
   "source": [
    "# Normalize Data"
   ]
  },
  {
   "cell_type": "code",
   "execution_count": null,
   "id": "b275b0e3",
   "metadata": {},
   "outputs": [],
   "source": [
    "# create scaler object\n",
    "scaler = StandardScaler()\n",
    "\n",
    "# fit data to scaler object\n",
    "# train input\n",
    "\n",
    "# test input\n"
   ]
  },
  {
   "cell_type": "markdown",
   "id": "d54c54be",
   "metadata": {},
   "source": [
    "# Train Model"
   ]
  },
  {
   "cell_type": "code",
   "execution_count": null,
   "id": "71a99d8d",
   "metadata": {},
   "outputs": [],
   "source": [
    "# Form model objects. \n",
    "# For demo purpose, we will consider Linear Regression, Random Forest and Support Vector\n",
    "\n"
   ]
  },
  {
   "cell_type": "code",
   "execution_count": null,
   "id": "35c62c99",
   "metadata": {},
   "outputs": [],
   "source": [
    "# Fit the model\n",
    "\n"
   ]
  },
  {
   "cell_type": "code",
   "execution_count": null,
   "id": "d1ee2d87",
   "metadata": {},
   "outputs": [],
   "source": [
    "# Make predictions on test data\n",
    "\n",
    "pred_lr = \n",
    "pred_rf = \n",
    "pred_sv = "
   ]
  },
  {
   "cell_type": "markdown",
   "id": "9052275d",
   "metadata": {},
   "source": [
    "# Model Evaluation"
   ]
  },
  {
   "cell_type": "code",
   "execution_count": null,
   "id": "75e68fb6",
   "metadata": {},
   "outputs": [],
   "source": [
    "print(\"1. Linear Regression:\")\n",
    "print(f\"    Mean Squared Error: {}\")\n",
    "print(f\"    Explained Variance Score: {}\\n\")\n",
    "\n",
    "print(\"2. Random Forest:\")\n",
    "print(f\"    Mean Squared Error: {}\")\n",
    "print(f\"    Explained Variance Score: {}\\n\")\n",
    "\n",
    "print(\"3. Support Vector:\")\n",
    "print(f\"    Mean Squared Error: {}\")\n",
    "print(f\"    Explained Variance Score: {}\\n\")"
   ]
  }
 ],
 "metadata": {
  "kernelspec": {
   "display_name": "Python 3 (ipykernel)",
   "language": "python",
   "name": "python3"
  },
  "language_info": {
   "codemirror_mode": {
    "name": "ipython",
    "version": 3
   },
   "file_extension": ".py",
   "mimetype": "text/x-python",
   "name": "python",
   "nbconvert_exporter": "python",
   "pygments_lexer": "ipython3",
   "version": "3.9.13"
  }
 },
 "nbformat": 4,
 "nbformat_minor": 5
}
