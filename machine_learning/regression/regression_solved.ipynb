{
 "cells": [
  {
   "cell_type": "markdown",
   "id": "e72d392f",
   "metadata": {},
   "source": [
    "# Regression Implementation"
   ]
  },
  {
   "cell_type": "markdown",
   "id": "efe4e765",
   "metadata": {},
   "source": [
    "Dataset taken from Kaggle <br>\n",
    "https://www.kaggle.com/datasets/maajdl/yeh-concret-data"
   ]
  },
  {
   "cell_type": "markdown",
   "id": "0c058500",
   "metadata": {},
   "source": [
    "<img src=\"../ML_steps.png\">"
   ]
  },
  {
   "cell_type": "markdown",
   "id": "6a0d778f",
   "metadata": {},
   "source": [
    "# Import Libraries"
   ]
  },
  {
   "cell_type": "code",
   "execution_count": 1,
   "id": "8ee852ba",
   "metadata": {},
   "outputs": [],
   "source": [
    "# To read the data and form dataframe\n",
    "import pandas as pd\n",
    "\n",
    "# Train Test Split\n",
    "from sklearn.model_selection import train_test_split\n",
    "\n",
    "# Scaling and Normalizing\n",
    "from sklearn.preprocessing import StandardScaler\n",
    "\n",
    "# Train the model\n",
    "# LinearRegression\n",
    "from sklearn.linear_model import LinearRegression\n",
    "\n",
    "# RandomForestRegressor\n",
    "from sklearn.ensemble import RandomForestRegressor\n",
    "\n",
    "# SVR\n",
    "from sklearn.svm import SVR\n",
    "\n",
    "# Model evaluation - we use metrics like r2_score, explained_variance_score, mean_squared_error, etc.\n",
    "from sklearn.metrics import r2_score, mean_squared_error, explained_variance_score\n",
    "\n",
    "# File path\n",
    "FILE_PATH = \"../../../dataset/Concrete_Data_Yeh.csv\""
   ]
  },
  {
   "cell_type": "markdown",
   "id": "7b7f87bd",
   "metadata": {},
   "source": [
    "# Read the data"
   ]
  },
  {
   "cell_type": "code",
   "execution_count": 2,
   "id": "b41b6e66",
   "metadata": {},
   "outputs": [],
   "source": [
    "# Read data into dataframe. File path \"../../../dataset/Concrete_Data_Yeh.csv\"\n",
    "raw_df = pd.read_csv(FILE_PATH)"
   ]
  },
  {
   "cell_type": "code",
   "execution_count": 3,
   "id": "7e01dcfc",
   "metadata": {},
   "outputs": [
    {
     "data": {
      "text/html": [
       "<div>\n",
       "<style scoped>\n",
       "    .dataframe tbody tr th:only-of-type {\n",
       "        vertical-align: middle;\n",
       "    }\n",
       "\n",
       "    .dataframe tbody tr th {\n",
       "        vertical-align: top;\n",
       "    }\n",
       "\n",
       "    .dataframe thead th {\n",
       "        text-align: right;\n",
       "    }\n",
       "</style>\n",
       "<table border=\"1\" class=\"dataframe\">\n",
       "  <thead>\n",
       "    <tr style=\"text-align: right;\">\n",
       "      <th></th>\n",
       "      <th>cement</th>\n",
       "      <th>slag</th>\n",
       "      <th>flyash</th>\n",
       "      <th>water</th>\n",
       "      <th>superplasticizer</th>\n",
       "      <th>coarseaggregate</th>\n",
       "      <th>fineaggregate</th>\n",
       "      <th>age</th>\n",
       "      <th>csMPa</th>\n",
       "    </tr>\n",
       "  </thead>\n",
       "  <tbody>\n",
       "    <tr>\n",
       "      <th>0</th>\n",
       "      <td>540.0</td>\n",
       "      <td>0.0</td>\n",
       "      <td>0.0</td>\n",
       "      <td>162.0</td>\n",
       "      <td>2.5</td>\n",
       "      <td>1040.0</td>\n",
       "      <td>676.0</td>\n",
       "      <td>28</td>\n",
       "      <td>79.99</td>\n",
       "    </tr>\n",
       "    <tr>\n",
       "      <th>1</th>\n",
       "      <td>540.0</td>\n",
       "      <td>0.0</td>\n",
       "      <td>0.0</td>\n",
       "      <td>162.0</td>\n",
       "      <td>2.5</td>\n",
       "      <td>1055.0</td>\n",
       "      <td>676.0</td>\n",
       "      <td>28</td>\n",
       "      <td>61.89</td>\n",
       "    </tr>\n",
       "    <tr>\n",
       "      <th>2</th>\n",
       "      <td>332.5</td>\n",
       "      <td>142.5</td>\n",
       "      <td>0.0</td>\n",
       "      <td>228.0</td>\n",
       "      <td>0.0</td>\n",
       "      <td>932.0</td>\n",
       "      <td>594.0</td>\n",
       "      <td>270</td>\n",
       "      <td>40.27</td>\n",
       "    </tr>\n",
       "    <tr>\n",
       "      <th>3</th>\n",
       "      <td>332.5</td>\n",
       "      <td>142.5</td>\n",
       "      <td>0.0</td>\n",
       "      <td>228.0</td>\n",
       "      <td>0.0</td>\n",
       "      <td>932.0</td>\n",
       "      <td>594.0</td>\n",
       "      <td>365</td>\n",
       "      <td>41.05</td>\n",
       "    </tr>\n",
       "    <tr>\n",
       "      <th>4</th>\n",
       "      <td>198.6</td>\n",
       "      <td>132.4</td>\n",
       "      <td>0.0</td>\n",
       "      <td>192.0</td>\n",
       "      <td>0.0</td>\n",
       "      <td>978.4</td>\n",
       "      <td>825.5</td>\n",
       "      <td>360</td>\n",
       "      <td>44.30</td>\n",
       "    </tr>\n",
       "  </tbody>\n",
       "</table>\n",
       "</div>"
      ],
      "text/plain": [
       "   cement   slag  flyash  water  superplasticizer  coarseaggregate  \\\n",
       "0   540.0    0.0     0.0  162.0               2.5           1040.0   \n",
       "1   540.0    0.0     0.0  162.0               2.5           1055.0   \n",
       "2   332.5  142.5     0.0  228.0               0.0            932.0   \n",
       "3   332.5  142.5     0.0  228.0               0.0            932.0   \n",
       "4   198.6  132.4     0.0  192.0               0.0            978.4   \n",
       "\n",
       "   fineaggregate  age  csMPa  \n",
       "0          676.0   28  79.99  \n",
       "1          676.0   28  61.89  \n",
       "2          594.0  270  40.27  \n",
       "3          594.0  365  41.05  \n",
       "4          825.5  360  44.30  "
      ]
     },
     "execution_count": 3,
     "metadata": {},
     "output_type": "execute_result"
    }
   ],
   "source": [
    "# See how the dataframe appears for better understanding\n",
    "raw_df.head()"
   ]
  },
  {
   "cell_type": "code",
   "execution_count": 4,
   "id": "d9105721",
   "metadata": {},
   "outputs": [
    {
     "data": {
      "text/plain": [
       "(1030, 9)"
      ]
     },
     "execution_count": 4,
     "metadata": {},
     "output_type": "execute_result"
    }
   ],
   "source": [
    "# Check shape of the dataset\n",
    "raw_df.shape"
   ]
  },
  {
   "cell_type": "markdown",
   "id": "9fe4ce69",
   "metadata": {},
   "source": [
    "# Clean Data\n",
    "---\n",
    "### Check for missing values and duplicates"
   ]
  },
  {
   "cell_type": "code",
   "execution_count": 5,
   "id": "59f0af85",
   "metadata": {},
   "outputs": [
    {
     "data": {
      "text/plain": [
       "cement              0\n",
       "slag                0\n",
       "flyash              0\n",
       "water               0\n",
       "superplasticizer    0\n",
       "coarseaggregate     0\n",
       "fineaggregate       0\n",
       "age                 0\n",
       "csMPa               0\n",
       "dtype: int64"
      ]
     },
     "execution_count": 5,
     "metadata": {},
     "output_type": "execute_result"
    }
   ],
   "source": [
    "# remove duplicates\n",
    "raw_df.drop_duplicates(inplace=True)\n",
    "\n",
    "# check for missing values\n",
    "raw_df.isna().sum()"
   ]
  },
  {
   "cell_type": "markdown",
   "id": "9dd96271",
   "metadata": {},
   "source": [
    "---\n",
    "### Check for outliers"
   ]
  },
  {
   "cell_type": "code",
   "execution_count": 8,
   "id": "d0adb1fc",
   "metadata": {},
   "outputs": [
    {
     "data": {
      "text/plain": [
       "<AxesSubplot:>"
      ]
     },
     "execution_count": 8,
     "metadata": {},
     "output_type": "execute_result"
    },
    {
     "data": {
      "image/png": "[encoded data removed]",
      "text/plain": [
       "<Figure size 1500x500 with 1 Axes>"
      ]
     },
     "metadata": {},
     "output_type": "display_data"
    }
   ],
   "source": [
    "# Check outliers via boxplot\n",
    "raw_df.plot(kind='box', figsize=(15, 5))"
   ]
  },
  {
   "cell_type": "code",
   "execution_count": 9,
   "id": "48d4eb20",
   "metadata": {},
   "outputs": [
    {
     "data": {
      "text/html": [
       "<div>\n",
       "<style scoped>\n",
       "    .dataframe tbody tr th:only-of-type {\n",
       "        vertical-align: middle;\n",
       "    }\n",
       "\n",
       "    .dataframe tbody tr th {\n",
       "        vertical-align: top;\n",
       "    }\n",
       "\n",
       "    .dataframe thead th {\n",
       "        text-align: right;\n",
       "    }\n",
       "</style>\n",
       "<table border=\"1\" class=\"dataframe\">\n",
       "  <thead>\n",
       "    <tr style=\"text-align: right;\">\n",
       "      <th></th>\n",
       "      <th>cement</th>\n",
       "      <th>slag</th>\n",
       "      <th>flyash</th>\n",
       "      <th>water</th>\n",
       "      <th>superplasticizer</th>\n",
       "      <th>coarseaggregate</th>\n",
       "      <th>fineaggregate</th>\n",
       "      <th>age</th>\n",
       "      <th>csMPa</th>\n",
       "    </tr>\n",
       "  </thead>\n",
       "  <tbody>\n",
       "    <tr>\n",
       "      <th>count</th>\n",
       "      <td>1005.000000</td>\n",
       "      <td>1005.000000</td>\n",
       "      <td>1005.000000</td>\n",
       "      <td>1005.000000</td>\n",
       "      <td>1005.000000</td>\n",
       "      <td>1005.000000</td>\n",
       "      <td>1005.000000</td>\n",
       "      <td>1005.000000</td>\n",
       "      <td>1005.000000</td>\n",
       "    </tr>\n",
       "    <tr>\n",
       "      <th>mean</th>\n",
       "      <td>278.631343</td>\n",
       "      <td>72.043483</td>\n",
       "      <td>55.536318</td>\n",
       "      <td>182.075323</td>\n",
       "      <td>6.033234</td>\n",
       "      <td>974.376816</td>\n",
       "      <td>772.688259</td>\n",
       "      <td>45.856716</td>\n",
       "      <td>35.250378</td>\n",
       "    </tr>\n",
       "    <tr>\n",
       "      <th>std</th>\n",
       "      <td>104.344261</td>\n",
       "      <td>86.170807</td>\n",
       "      <td>64.207969</td>\n",
       "      <td>21.339334</td>\n",
       "      <td>5.919967</td>\n",
       "      <td>77.579667</td>\n",
       "      <td>80.340435</td>\n",
       "      <td>63.734692</td>\n",
       "      <td>16.284815</td>\n",
       "    </tr>\n",
       "    <tr>\n",
       "      <th>min</th>\n",
       "      <td>102.000000</td>\n",
       "      <td>0.000000</td>\n",
       "      <td>0.000000</td>\n",
       "      <td>121.800000</td>\n",
       "      <td>0.000000</td>\n",
       "      <td>801.000000</td>\n",
       "      <td>594.000000</td>\n",
       "      <td>1.000000</td>\n",
       "      <td>2.330000</td>\n",
       "    </tr>\n",
       "    <tr>\n",
       "      <th>25%</th>\n",
       "      <td>190.700000</td>\n",
       "      <td>0.000000</td>\n",
       "      <td>0.000000</td>\n",
       "      <td>166.600000</td>\n",
       "      <td>0.000000</td>\n",
       "      <td>932.000000</td>\n",
       "      <td>724.300000</td>\n",
       "      <td>7.000000</td>\n",
       "      <td>23.520000</td>\n",
       "    </tr>\n",
       "    <tr>\n",
       "      <th>50%</th>\n",
       "      <td>265.000000</td>\n",
       "      <td>20.000000</td>\n",
       "      <td>0.000000</td>\n",
       "      <td>185.700000</td>\n",
       "      <td>6.100000</td>\n",
       "      <td>968.000000</td>\n",
       "      <td>780.000000</td>\n",
       "      <td>28.000000</td>\n",
       "      <td>33.800000</td>\n",
       "    </tr>\n",
       "    <tr>\n",
       "      <th>75%</th>\n",
       "      <td>349.000000</td>\n",
       "      <td>142.500000</td>\n",
       "      <td>118.300000</td>\n",
       "      <td>192.900000</td>\n",
       "      <td>10.000000</td>\n",
       "      <td>1031.000000</td>\n",
       "      <td>822.200000</td>\n",
       "      <td>56.000000</td>\n",
       "      <td>44.870000</td>\n",
       "    </tr>\n",
       "    <tr>\n",
       "      <th>max</th>\n",
       "      <td>540.000000</td>\n",
       "      <td>359.400000</td>\n",
       "      <td>200.100000</td>\n",
       "      <td>247.000000</td>\n",
       "      <td>32.200000</td>\n",
       "      <td>1145.000000</td>\n",
       "      <td>992.600000</td>\n",
       "      <td>365.000000</td>\n",
       "      <td>82.600000</td>\n",
       "    </tr>\n",
       "  </tbody>\n",
       "</table>\n",
       "</div>"
      ],
      "text/plain": [
       "            cement         slag       flyash        water  superplasticizer  \\\n",
       "count  1005.000000  1005.000000  1005.000000  1005.000000       1005.000000   \n",
       "mean    278.631343    72.043483    55.536318   182.075323          6.033234   \n",
       "std     104.344261    86.170807    64.207969    21.339334          5.919967   \n",
       "min     102.000000     0.000000     0.000000   121.800000          0.000000   \n",
       "25%     190.700000     0.000000     0.000000   166.600000          0.000000   \n",
       "50%     265.000000    20.000000     0.000000   185.700000          6.100000   \n",
       "75%     349.000000   142.500000   118.300000   192.900000         10.000000   \n",
       "max     540.000000   359.400000   200.100000   247.000000         32.200000   \n",
       "\n",
       "       coarseaggregate  fineaggregate          age        csMPa  \n",
       "count      1005.000000    1005.000000  1005.000000  1005.000000  \n",
       "mean        974.376816     772.688259    45.856716    35.250378  \n",
       "std          77.579667      80.340435    63.734692    16.284815  \n",
       "min         801.000000     594.000000     1.000000     2.330000  \n",
       "25%         932.000000     724.300000     7.000000    23.520000  \n",
       "50%         968.000000     780.000000    28.000000    33.800000  \n",
       "75%        1031.000000     822.200000    56.000000    44.870000  \n",
       "max        1145.000000     992.600000   365.000000    82.600000  "
      ]
     },
     "execution_count": 9,
     "metadata": {},
     "output_type": "execute_result"
    }
   ],
   "source": [
    "raw_df.describe()"
   ]
  },
  {
   "cell_type": "code",
   "execution_count": 11,
   "id": "4d812aaa",
   "metadata": {},
   "outputs": [],
   "source": [
    "# let us create a function where we replace the outlier values with min max values for their reapective feature\n",
    "\n",
    "# Form permissible min max values based on Inter Quartile Range (IQR)\n",
    "\n",
    "# q1: 25 percentile\n",
    "q1 = raw_df.quantile(0.25)\n",
    "# q3: 75 percentile\n",
    "q3 = raw_df.quantile(0.75)\n",
    "# iqr: interquartile range\n",
    "iqr = q3 - q1\n",
    "# form permissible minima and maxima\n",
    "min_val = q1 - 1.5*iqr\n",
    "max_val = q3 + 1.5*iqr\n",
    "\n",
    "\n",
    "def process_outlier(value: float, min_val: float, max_val: float) -> float:\n",
    "    \"\"\"\n",
    "    Info: returns the permissible value based on min max values.\n",
    "    \n",
    "    Arguments:\n",
    "        value (float): input value to check\n",
    "        min_val (float): minimum permissible value\n",
    "        max_val (float): maximum permissible value\n",
    "    \n",
    "    Returns:\n",
    "        float: value if the value lies between minimum and maximum value else minimum or maximum value.\n",
    "    \"\"\"\n",
    "    if value < min_val:\n",
    "        value = min_val\n",
    "    elif value > max_val:\n",
    "        value = max_val\n",
    "    else:\n",
    "        value = value\n",
    "    return value"
   ]
  },
  {
   "cell_type": "code",
   "execution_count": 14,
   "id": "959aba33",
   "metadata": {},
   "outputs": [
    {
     "data": {
      "text/plain": [
       "-46.75000000000003"
      ]
     },
     "execution_count": 14,
     "metadata": {},
     "output_type": "execute_result"
    }
   ],
   "source": [
    "min_val[\"cement\"]"
   ]
  },
  {
   "cell_type": "code",
   "execution_count": 12,
   "id": "3e136e17",
   "metadata": {},
   "outputs": [],
   "source": [
    "# Form list of columns where we see outliers\n",
    "outlier_cols = [\"slag\", \"water\", \"superplasticizer\", \"fineaggregate\", \"age\", \"csMPa\"]"
   ]
  },
  {
   "cell_type": "code",
   "execution_count": 15,
   "id": "c37bc4e2",
   "metadata": {},
   "outputs": [],
   "source": [
    "# Loop over the columns to process their outliers\n",
    "for column in outlier_cols:\n",
    "    raw_df[column] = raw_df[column].map(lambda value: process_outlier(value, min_val[column], max_val[column]))"
   ]
  },
  {
   "cell_type": "code",
   "execution_count": 16,
   "id": "88e15f65",
   "metadata": {},
   "outputs": [
    {
     "data": {
      "text/plain": [
       "<AxesSubplot:>"
      ]
     },
     "execution_count": 16,
     "metadata": {},
     "output_type": "execute_result"
    },
    {
     "data": {
      "image/png": "[encoded data removed]",
      "text/plain": [
       "<Figure size 1000x400 with 1 Axes>"
      ]
     },
     "metadata": {},
     "output_type": "display_data"
    }
   ],
   "source": [
    "# Check outliers via boxplot\n",
    "raw_df.plot(kind = 'box', figsize = (10, 4))"
   ]
  },
  {
   "cell_type": "markdown",
   "id": "8273b407",
   "metadata": {},
   "source": [
    "---\n",
    "### Check correlations"
   ]
  },
  {
   "cell_type": "code",
   "execution_count": 17,
   "id": "c0951684",
   "metadata": {},
   "outputs": [
    {
     "data": {
      "text/html": [
       "<div>\n",
       "<style scoped>\n",
       "    .dataframe tbody tr th:only-of-type {\n",
       "        vertical-align: middle;\n",
       "    }\n",
       "\n",
       "    .dataframe tbody tr th {\n",
       "        vertical-align: top;\n",
       "    }\n",
       "\n",
       "    .dataframe thead th {\n",
       "        text-align: right;\n",
       "    }\n",
       "</style>\n",
       "<table border=\"1\" class=\"dataframe\">\n",
       "  <thead>\n",
       "    <tr style=\"text-align: right;\">\n",
       "      <th></th>\n",
       "      <th>cement</th>\n",
       "      <th>slag</th>\n",
       "      <th>flyash</th>\n",
       "      <th>water</th>\n",
       "      <th>superplasticizer</th>\n",
       "      <th>coarseaggregate</th>\n",
       "      <th>fineaggregate</th>\n",
       "      <th>age</th>\n",
       "      <th>csMPa</th>\n",
       "    </tr>\n",
       "  </thead>\n",
       "  <tbody>\n",
       "    <tr>\n",
       "      <th>cement</th>\n",
       "      <td>1.000000</td>\n",
       "      <td>-0.303370</td>\n",
       "      <td>-0.385610</td>\n",
       "      <td>-0.057209</td>\n",
       "      <td>0.044817</td>\n",
       "      <td>-0.086205</td>\n",
       "      <td>-0.247662</td>\n",
       "      <td>0.055649</td>\n",
       "      <td>0.488690</td>\n",
       "    </tr>\n",
       "    <tr>\n",
       "      <th>slag</th>\n",
       "      <td>-0.303370</td>\n",
       "      <td>1.000000</td>\n",
       "      <td>-0.312365</td>\n",
       "      <td>0.130227</td>\n",
       "      <td>0.019602</td>\n",
       "      <td>-0.277595</td>\n",
       "      <td>-0.291129</td>\n",
       "      <td>-0.054634</td>\n",
       "      <td>0.102440</td>\n",
       "    </tr>\n",
       "    <tr>\n",
       "      <th>flyash</th>\n",
       "      <td>-0.385610</td>\n",
       "      <td>-0.312365</td>\n",
       "      <td>1.000000</td>\n",
       "      <td>-0.284541</td>\n",
       "      <td>0.436185</td>\n",
       "      <td>-0.026468</td>\n",
       "      <td>0.091873</td>\n",
       "      <td>-0.094626</td>\n",
       "      <td>-0.079685</td>\n",
       "    </tr>\n",
       "    <tr>\n",
       "      <th>water</th>\n",
       "      <td>-0.057209</td>\n",
       "      <td>0.130227</td>\n",
       "      <td>-0.284541</td>\n",
       "      <td>1.000000</td>\n",
       "      <td>-0.656012</td>\n",
       "      <td>-0.210399</td>\n",
       "      <td>-0.444192</td>\n",
       "      <td>0.194559</td>\n",
       "      <td>-0.271381</td>\n",
       "    </tr>\n",
       "    <tr>\n",
       "      <th>superplasticizer</th>\n",
       "      <td>0.044817</td>\n",
       "      <td>0.019602</td>\n",
       "      <td>0.436185</td>\n",
       "      <td>-0.656012</td>\n",
       "      <td>1.000000</td>\n",
       "      <td>-0.235715</td>\n",
       "      <td>0.201940</td>\n",
       "      <td>-0.127533</td>\n",
       "      <td>0.342983</td>\n",
       "    </tr>\n",
       "    <tr>\n",
       "      <th>coarseaggregate</th>\n",
       "      <td>-0.086205</td>\n",
       "      <td>-0.277595</td>\n",
       "      <td>-0.026468</td>\n",
       "      <td>-0.210399</td>\n",
       "      <td>-0.235715</td>\n",
       "      <td>1.000000</td>\n",
       "      <td>-0.160494</td>\n",
       "      <td>0.012784</td>\n",
       "      <td>-0.145794</td>\n",
       "    </tr>\n",
       "    <tr>\n",
       "      <th>fineaggregate</th>\n",
       "      <td>-0.247662</td>\n",
       "      <td>-0.291129</td>\n",
       "      <td>0.091873</td>\n",
       "      <td>-0.444192</td>\n",
       "      <td>0.201940</td>\n",
       "      <td>-0.160494</td>\n",
       "      <td>1.000000</td>\n",
       "      <td>-0.097933</td>\n",
       "      <td>-0.188509</td>\n",
       "    </tr>\n",
       "    <tr>\n",
       "      <th>age</th>\n",
       "      <td>0.055649</td>\n",
       "      <td>-0.054634</td>\n",
       "      <td>-0.094626</td>\n",
       "      <td>0.194559</td>\n",
       "      <td>-0.127533</td>\n",
       "      <td>0.012784</td>\n",
       "      <td>-0.097933</td>\n",
       "      <td>1.000000</td>\n",
       "      <td>0.476726</td>\n",
       "    </tr>\n",
       "    <tr>\n",
       "      <th>csMPa</th>\n",
       "      <td>0.488690</td>\n",
       "      <td>0.102440</td>\n",
       "      <td>-0.079685</td>\n",
       "      <td>-0.271381</td>\n",
       "      <td>0.342983</td>\n",
       "      <td>-0.145794</td>\n",
       "      <td>-0.188509</td>\n",
       "      <td>0.476726</td>\n",
       "      <td>1.000000</td>\n",
       "    </tr>\n",
       "  </tbody>\n",
       "</table>\n",
       "</div>"
      ],
      "text/plain": [
       "                    cement      slag    flyash     water  superplasticizer  \\\n",
       "cement            1.000000 -0.303370 -0.385610 -0.057209          0.044817   \n",
       "slag             -0.303370  1.000000 -0.312365  0.130227          0.019602   \n",
       "flyash           -0.385610 -0.312365  1.000000 -0.284541          0.436185   \n",
       "water            -0.057209  0.130227 -0.284541  1.000000         -0.656012   \n",
       "superplasticizer  0.044817  0.019602  0.436185 -0.656012          1.000000   \n",
       "coarseaggregate  -0.086205 -0.277595 -0.026468 -0.210399         -0.235715   \n",
       "fineaggregate    -0.247662 -0.291129  0.091873 -0.444192          0.201940   \n",
       "age               0.055649 -0.054634 -0.094626  0.194559         -0.127533   \n",
       "csMPa             0.488690  0.102440 -0.079685 -0.271381          0.342983   \n",
       "\n",
       "                  coarseaggregate  fineaggregate       age     csMPa  \n",
       "cement                  -0.086205      -0.247662  0.055649  0.488690  \n",
       "slag                    -0.277595      -0.291129 -0.054634  0.102440  \n",
       "flyash                  -0.026468       0.091873 -0.094626 -0.079685  \n",
       "water                   -0.210399      -0.444192  0.194559 -0.271381  \n",
       "superplasticizer        -0.235715       0.201940 -0.127533  0.342983  \n",
       "coarseaggregate          1.000000      -0.160494  0.012784 -0.145794  \n",
       "fineaggregate           -0.160494       1.000000 -0.097933 -0.188509  \n",
       "age                      0.012784      -0.097933  1.000000  0.476726  \n",
       "csMPa                   -0.145794      -0.188509  0.476726  1.000000  "
      ]
     },
     "execution_count": 17,
     "metadata": {},
     "output_type": "execute_result"
    }
   ],
   "source": [
    "# use df.corr()\n",
    "raw_df.corr()"
   ]
  },
  {
   "cell_type": "markdown",
   "id": "73b6ccfc",
   "metadata": {},
   "source": [
    "# Form *features* and *target*\n",
    "Features are the independent variables<br>\n",
    "Target is the dependent variable"
   ]
  },
  {
   "cell_type": "code",
   "execution_count": 18,
   "id": "cc5116c2",
   "metadata": {},
   "outputs": [
    {
     "data": {
      "text/plain": [
       "Index(['cement', 'slag', 'flyash', 'water', 'superplasticizer',\n",
       "       'coarseaggregate', 'fineaggregate', 'age', 'csMPa'],\n",
       "      dtype='object')"
      ]
     },
     "execution_count": 18,
     "metadata": {},
     "output_type": "execute_result"
    }
   ],
   "source": [
    "raw_df.columns"
   ]
  },
  {
   "cell_type": "code",
   "execution_count": 20,
   "id": "cb2052e2",
   "metadata": {},
   "outputs": [],
   "source": [
    "# Form features and target\n",
    "# based on the documentation of the dataset: 'csMPa' is the target\n",
    "features = ['cement', 'slag', 'flyash', 'water', 'superplasticizer','coarseaggregate', 'fineaggregate', 'age']\n",
    "target = 'csMPa'"
   ]
  },
  {
   "cell_type": "markdown",
   "id": "fe840426",
   "metadata": {},
   "source": [
    "# Train Test Split"
   ]
  },
  {
   "cell_type": "code",
   "execution_count": 21,
   "id": "13fc5e2a",
   "metadata": {},
   "outputs": [
    {
     "data": {
      "text/plain": [
       "((804, 8), (201, 8), (804,), (201,))"
      ]
     },
     "execution_count": 21,
     "metadata": {},
     "output_type": "execute_result"
    }
   ],
   "source": [
    "# Split the data using train test split with test_size of 20%\n",
    "train_x, test_x, train_y, test_y = train_test_split(raw_df[features], raw_df[target], test_size = 0.2, random_state=42)\n",
    "\n",
    "# Check the shape of the train and test split\n",
    "train_x.shape, test_x.shape, train_y.shape, test_y.shape"
   ]
  },
  {
   "cell_type": "markdown",
   "id": "f0f769ca",
   "metadata": {},
   "source": [
    "# Normalize Data"
   ]
  },
  {
   "cell_type": "code",
   "execution_count": 22,
   "id": "b275b0e3",
   "metadata": {},
   "outputs": [],
   "source": [
    "# create scaler object\n",
    "scaler = StandardScaler()\n",
    "\n",
    "# fit data to scaler object\n",
    "# train input\n",
    "train_x = scaler.fit_transform(train_x)\n",
    "# test input\n",
    "test_x = scaler.transform(test_x)"
   ]
  },
  {
   "cell_type": "markdown",
   "id": "d54c54be",
   "metadata": {},
   "source": [
    "# Train Model"
   ]
  },
  {
   "cell_type": "code",
   "execution_count": 24,
   "id": "71a99d8d",
   "metadata": {},
   "outputs": [],
   "source": [
    "# Form model objects. \n",
    "# For demo purpose, we will consider Linear Regression, Random Forest and Support Vector\n",
    "\n",
    "lr = LinearRegression()\n",
    "rf = RandomForestRegressor(n_estimators=200)\n",
    "sv = SVR()"
   ]
  },
  {
   "cell_type": "code",
   "execution_count": 25,
   "id": "35c62c99",
   "metadata": {},
   "outputs": [
    {
     "data": {
      "text/html": [
       "<style>#sk-container-id-1 {color: black;background-color: white;}#sk-container-id-1 pre{padding: 0;}#sk-container-id-1 div.sk-toggleable {background-color: white;}#sk-container-id-1 label.sk-toggleable__label {cursor: pointer;display: block;width: 100%;margin-bottom: 0;padding: 0.3em;box-sizing: border-box;text-align: center;}#sk-container-id-1 label.sk-toggleable__label-arrow:before {content: \"▸\";float: left;margin-right: 0.25em;color: #696969;}#sk-container-id-1 label.sk-toggleable__label-arrow:hover:before {color: black;}#sk-container-id-1 div.sk-estimator:hover label.sk-toggleable__label-arrow:before {color: black;}#sk-container-id-1 div.sk-toggleable__content {max-height: 0;max-width: 0;overflow: hidden;text-align: left;background-color: #f0f8ff;}#sk-container-id-1 div.sk-toggleable__content pre {margin: 0.2em;color: black;border-radius: 0.25em;background-color: #f0f8ff;}#sk-container-id-1 input.sk-toggleable__control:checked~div.sk-toggleable__content {max-height: 200px;max-width: 100%;overflow: auto;}#sk-container-id-1 input.sk-toggleable__control:checked~label.sk-toggleable__label-arrow:before {content: \"▾\";}#sk-container-id-1 div.sk-estimator input.sk-toggleable__control:checked~label.sk-toggleable__label {background-color: #d4ebff;}#sk-container-id-1 div.sk-label input.sk-toggleable__control:checked~label.sk-toggleable__label {background-color: #d4ebff;}#sk-container-id-1 input.sk-hidden--visually {border: 0;clip: rect(1px 1px 1px 1px);clip: rect(1px, 1px, 1px, 1px);height: 1px;margin: -1px;overflow: hidden;padding: 0;position: absolute;width: 1px;}#sk-container-id-1 div.sk-estimator {font-family: monospace;background-color: #f0f8ff;border: 1px dotted black;border-radius: 0.25em;box-sizing: border-box;margin-bottom: 0.5em;}#sk-container-id-1 div.sk-estimator:hover {background-color: #d4ebff;}#sk-container-id-1 div.sk-parallel-item::after {content: \"\";width: 100%;border-bottom: 1px solid gray;flex-grow: 1;}#sk-container-id-1 div.sk-label:hover label.sk-toggleable__label {background-color: #d4ebff;}#sk-container-id-1 div.sk-serial::before {content: \"\";position: absolute;border-left: 1px solid gray;box-sizing: border-box;top: 0;bottom: 0;left: 50%;z-index: 0;}#sk-container-id-1 div.sk-serial {display: flex;flex-direction: column;align-items: center;background-color: white;padding-right: 0.2em;padding-left: 0.2em;position: relative;}#sk-container-id-1 div.sk-item {position: relative;z-index: 1;}#sk-container-id-1 div.sk-parallel {display: flex;align-items: stretch;justify-content: center;background-color: white;position: relative;}#sk-container-id-1 div.sk-item::before, #sk-container-id-1 div.sk-parallel-item::before {content: \"\";position: absolute;border-left: 1px solid gray;box-sizing: border-box;top: 0;bottom: 0;left: 50%;z-index: -1;}#sk-container-id-1 div.sk-parallel-item {display: flex;flex-direction: column;z-index: 1;position: relative;background-color: white;}#sk-container-id-1 div.sk-parallel-item:first-child::after {align-self: flex-end;width: 50%;}#sk-container-id-1 div.sk-parallel-item:last-child::after {align-self: flex-start;width: 50%;}#sk-container-id-1 div.sk-parallel-item:only-child::after {width: 0;}#sk-container-id-1 div.sk-dashed-wrapped {border: 1px dashed gray;margin: 0 0.4em 0.5em 0.4em;box-sizing: border-box;padding-bottom: 0.4em;background-color: white;}#sk-container-id-1 div.sk-label label {font-family: monospace;font-weight: bold;display: inline-block;line-height: 1.2em;}#sk-container-id-1 div.sk-label-container {text-align: center;}#sk-container-id-1 div.sk-container {/* jupyter's `normalize.less` sets `[hidden] { display: none; }` but bootstrap.min.css set `[hidden] { display: none !important; }` so we also need the `!important` here to be able to override the default hidden behavior on the sphinx rendered scikit-learn.org. See: https://github.com/scikit-learn/scikit-learn/issues/21755 */display: inline-block !important;position: relative;}#sk-container-id-1 div.sk-text-repr-fallback {display: none;}</style><div id=\"sk-container-id-1\" class=\"sk-top-container\"><div class=\"sk-text-repr-fallback\"><pre>SVR()</pre><b>In a Jupyter environment, please rerun this cell to show the HTML representation or trust the notebook. <br />On GitHub, the HTML representation is unable to render, please try loading this page with nbviewer.org.</b></div><div class=\"sk-container\" hidden><div class=\"sk-item\"><div class=\"sk-estimator sk-toggleable\"><input class=\"sk-toggleable__control sk-hidden--visually\" id=\"sk-estimator-id-1\" type=\"checkbox\" checked><label for=\"sk-estimator-id-1\" class=\"sk-toggleable__label sk-toggleable__label-arrow\">SVR</label><div class=\"sk-toggleable__content\"><pre>SVR()</pre></div></div></div></div></div>"
      ],
      "text/plain": [
       "SVR()"
      ]
     },
     "execution_count": 25,
     "metadata": {},
     "output_type": "execute_result"
    }
   ],
   "source": [
    "# Fit the model\n",
    "\n",
    "lr.fit(train_x, train_y)\n",
    "rf.fit(train_x, train_y)\n",
    "sv.fit(train_x, train_y)"
   ]
  },
  {
   "cell_type": "code",
   "execution_count": 26,
   "id": "d1ee2d87",
   "metadata": {},
   "outputs": [],
   "source": [
    "# Make predictions on test data\n",
    "\n",
    "pred_lr = lr.predict(test_x)\n",
    "pred_rf = rf.predict(test_x)\n",
    "pred_sv = sv.predict(test_x)"
   ]
  },
  {
   "cell_type": "markdown",
   "id": "9052275d",
   "metadata": {},
   "source": [
    "# Model Evaluation"
   ]
  },
  {
   "cell_type": "code",
   "execution_count": 28,
   "id": "75e68fb6",
   "metadata": {},
   "outputs": [
    {
     "name": "stdout",
     "output_type": "stream",
     "text": [
      "1. Linear Regression:\n",
      "    Mean Squared Error: 87.91333748413848\n",
      "    Explained Variance Score: 0.5148316574928025\n",
      "\n",
      "2. Random Forest:\n",
      "    Mean Squared Error: 25.230165019431762\n",
      "    Explained Variance Score: 0.8909294134031719\n",
      "\n",
      "3. Support Vector:\n",
      "    Mean Squared Error: 98.35380608020886\n",
      "    Explained Variance Score: 0.06775075904015193\n",
      "\n"
     ]
    }
   ],
   "source": [
    "print(\"1. Linear Regression:\")\n",
    "print(f\"    Mean Squared Error: {mean_squared_error(pred_lr, test_y)}\")\n",
    "print(f\"    Explained Variance Score: {explained_variance_score(pred_lr, test_y)}\\n\")\n",
    "\n",
    "print(\"2. Random Forest:\")\n",
    "print(f\"    Mean Squared Error: {mean_squared_error(pred_rf, test_y)}\")\n",
    "print(f\"    Explained Variance Score: {explained_variance_score(pred_rf, test_y)}\\n\")\n",
    "\n",
    "print(\"3. Support Vector:\")\n",
    "print(f\"    Mean Squared Error: {mean_squared_error(pred_sv, test_y)}\")\n",
    "print(f\"    Explained Variance Score: {explained_variance_score(pred_sv, test_y)}\\n\")"
   ]
  },
  {
   "cell_type": "code",
   "execution_count": 31,
   "id": "fe953dc1",
   "metadata": {},
   "outputs": [],
   "source": [
    "import matplotlib.pyplot as plt"
   ]
  },
  {
   "cell_type": "code",
   "execution_count": 32,
   "id": "3a642db7",
   "metadata": {},
   "outputs": [],
   "source": [
    "plot_df = pd.DataFrame({\"pred_rf\":pred_rf, \"test_y\":test_y})\n",
    "plot_df.sort_values(\"pred_rf\", inplace=True)"
   ]
  },
  {
   "cell_type": "code",
   "execution_count": 33,
   "id": "7c11b355",
   "metadata": {},
   "outputs": [
    {
     "data": {
      "text/html": [
       "<div>\n",
       "<style scoped>\n",
       "    .dataframe tbody tr th:only-of-type {\n",
       "        vertical-align: middle;\n",
       "    }\n",
       "\n",
       "    .dataframe tbody tr th {\n",
       "        vertical-align: top;\n",
       "    }\n",
       "\n",
       "    .dataframe thead th {\n",
       "        text-align: right;\n",
       "    }\n",
       "</style>\n",
       "<table border=\"1\" class=\"dataframe\">\n",
       "  <thead>\n",
       "    <tr style=\"text-align: right;\">\n",
       "      <th></th>\n",
       "      <th>pred_rf</th>\n",
       "      <th>test_y</th>\n",
       "    </tr>\n",
       "  </thead>\n",
       "  <tbody>\n",
       "    <tr>\n",
       "      <th>688</th>\n",
       "      <td>5.630150</td>\n",
       "      <td>2.330</td>\n",
       "    </tr>\n",
       "    <tr>\n",
       "      <th>652</th>\n",
       "      <td>5.913750</td>\n",
       "      <td>4.570</td>\n",
       "    </tr>\n",
       "    <tr>\n",
       "      <th>617</th>\n",
       "      <td>9.633350</td>\n",
       "      <td>9.310</td>\n",
       "    </tr>\n",
       "    <tr>\n",
       "      <th>718</th>\n",
       "      <td>9.848450</td>\n",
       "      <td>10.350</td>\n",
       "    </tr>\n",
       "    <tr>\n",
       "      <th>953</th>\n",
       "      <td>10.665850</td>\n",
       "      <td>8.540</td>\n",
       "    </tr>\n",
       "    <tr>\n",
       "      <th>...</th>\n",
       "      <td>...</td>\n",
       "      <td>...</td>\n",
       "    </tr>\n",
       "    <tr>\n",
       "      <th>405</th>\n",
       "      <td>67.249775</td>\n",
       "      <td>69.840</td>\n",
       "    </tr>\n",
       "    <tr>\n",
       "      <th>156</th>\n",
       "      <td>69.306900</td>\n",
       "      <td>72.990</td>\n",
       "    </tr>\n",
       "    <tr>\n",
       "      <th>152</th>\n",
       "      <td>71.324152</td>\n",
       "      <td>76.895</td>\n",
       "    </tr>\n",
       "    <tr>\n",
       "      <th>755</th>\n",
       "      <td>72.043173</td>\n",
       "      <td>71.620</td>\n",
       "    </tr>\n",
       "    <tr>\n",
       "      <th>181</th>\n",
       "      <td>74.308600</td>\n",
       "      <td>76.895</td>\n",
       "    </tr>\n",
       "  </tbody>\n",
       "</table>\n",
       "<p>201 rows × 2 columns</p>\n",
       "</div>"
      ],
      "text/plain": [
       "       pred_rf  test_y\n",
       "688   5.630150   2.330\n",
       "652   5.913750   4.570\n",
       "617   9.633350   9.310\n",
       "718   9.848450  10.350\n",
       "953  10.665850   8.540\n",
       "..         ...     ...\n",
       "405  67.249775  69.840\n",
       "156  69.306900  72.990\n",
       "152  71.324152  76.895\n",
       "755  72.043173  71.620\n",
       "181  74.308600  76.895\n",
       "\n",
       "[201 rows x 2 columns]"
      ]
     },
     "execution_count": 33,
     "metadata": {},
     "output_type": "execute_result"
    }
   ],
   "source": [
    "plot_df"
   ]
  },
  {
   "cell_type": "markdown",
   "id": "df13b0b3",
   "metadata": {},
   "source": [
    "# Plot"
   ]
  },
  {
   "cell_type": "code",
   "execution_count": 39,
   "id": "1f2bf127",
   "metadata": {},
   "outputs": [
    {
     "data": {
      "image/png": "[encoded data removed]",
      "text/plain": [
       "<Figure size 1000x500 with 1 Axes>"
      ]
     },
     "metadata": {},
     "output_type": "display_data"
    }
   ],
   "source": [
    "plt.figure(figsize=(10, 5))\n",
    "plt.plot(range(len(plot_df)), plot_df[\"pred_rf\"], color=\"b\", label = \"pred_rf\")\n",
    "plt.plot(range(len(plot_df)), plot_df[\"test_y\"], color=\"r\", label = \"test_y\")\n",
    "plt.legend()\n",
    "plt.show()"
   ]
  },
  {
   "cell_type": "markdown",
   "id": "949560c3",
   "metadata": {},
   "source": [
    "# Author\n",
    "Name: Shounak Deshpande<br>\n",
    "Email: shounak.python@gmail.com"
   ]
  }
 ],
 "metadata": {
  "kernelspec": {
   "display_name": "Python 3 (ipykernel)",
   "language": "python",
   "name": "python3"
  },
  "language_info": {
   "codemirror_mode": {
    "name": "ipython",
    "version": 3
   },
   "file_extension": ".py",
   "mimetype": "text/x-python",
   "name": "python",
   "nbconvert_exporter": "python",
   "pygments_lexer": "ipython3",
   "version": "3.9.13"
  }
 },
 "nbformat": 4,
 "nbformat_minor": 5
}
