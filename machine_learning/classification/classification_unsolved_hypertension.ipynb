{
 "cells": [
  {
   "cell_type": "markdown",
   "id": "bf50ab80",
   "metadata": {},
   "source": [
    "Dataset taken from **Kaggle**<br>\n",
    "https://www.kaggle.com/datasets/prosperchuks/health-dataset <br><br>\n",
    "\n",
    "**Dataset info:**\n",
    "\n",
    "*INDEPENDENT VARIABLES:*<br>\n",
    "Categorical: **'sex', 'cp', 'fbs', 'restecg', 'exang', 'slope', 'ca', 'thal'**<br>\n",
    "Numerical: **'age', 'trestbps', 'chol', 'thalach', 'oldpeak'**<br>\n",
    "\n",
    "*DEPENDENT VARIABLE:* **'target'**"
   ]
  },
  {
   "cell_type": "markdown",
   "id": "281ccf2f",
   "metadata": {},
   "source": [
    "# ML Flowchart\n",
    "<img src=\"../ML_steps.png\">"
   ]
  },
  {
   "cell_type": "code",
   "execution_count": null,
   "id": "14f81bbb",
   "metadata": {},
   "outputs": [],
   "source": [
    "import warnings\n",
    "warnings.filterwarnings('ignore')"
   ]
  },
  {
   "cell_type": "markdown",
   "id": "c3f7ac2e",
   "metadata": {},
   "source": [
    "# Import Libraries"
   ]
  },
  {
   "cell_type": "code",
   "execution_count": null,
   "id": "e8a35ec9",
   "metadata": {},
   "outputs": [],
   "source": [
    "# To read the data and form dataframe\n",
    "\n",
    "\n",
    "# Train Test Split\n",
    "\n",
    "\n",
    "# Data preprocessing\n",
    "\n",
    "\n",
    "# Train the model\n",
    "\n",
    "\n",
    "\n",
    "\n",
    "# Model evaluation\n"
   ]
  },
  {
   "cell_type": "markdown",
   "id": "371a7215",
   "metadata": {},
   "source": [
    "# Read Data"
   ]
  },
  {
   "cell_type": "code",
   "execution_count": null,
   "id": "702b6b9b",
   "metadata": {},
   "outputs": [],
   "source": [
    "# Read Data from file path '../database/classification_hypertension_data.csv'\n",
    "\n",
    "\n",
    "# See how the data appears\n"
   ]
  },
  {
   "cell_type": "code",
   "execution_count": null,
   "id": "8190c537",
   "metadata": {},
   "outputs": [],
   "source": [
    "# See the data shape\n"
   ]
  },
  {
   "cell_type": "code",
   "execution_count": null,
   "id": "34866319",
   "metadata": {},
   "outputs": [],
   "source": [
    "categorical_columns = []\n",
    "numerical_columns = []"
   ]
  },
  {
   "cell_type": "markdown",
   "id": "31f78b01",
   "metadata": {},
   "source": [
    "# Clean Data\n",
    "---\n",
    "### Check for missing & duplicate values"
   ]
  },
  {
   "cell_type": "code",
   "execution_count": null,
   "id": "86616966",
   "metadata": {},
   "outputs": [],
   "source": [
    "# check for missing values\n",
    "\n",
    "\n",
    "# remove duplicates\n"
   ]
  },
  {
   "cell_type": "markdown",
   "id": "323c64ca",
   "metadata": {},
   "source": [
    "#### Should we drop the observations with missing values or impute the mission values ?"
   ]
  },
  {
   "cell_type": "code",
   "execution_count": null,
   "id": "a63575ae",
   "metadata": {},
   "outputs": [],
   "source": [
    "# Decision on missing values: "
   ]
  },
  {
   "cell_type": "markdown",
   "id": "8c525457",
   "metadata": {},
   "source": [
    "---\n",
    "### Check for outliers"
   ]
  },
  {
   "cell_type": "code",
   "execution_count": null,
   "id": "cb7f4acc",
   "metadata": {},
   "outputs": [],
   "source": []
  },
  {
   "cell_type": "markdown",
   "id": "d4b282a4",
   "metadata": {},
   "source": [
    "We see that outliers are present in 4 columns 'trestbps', 'chol', 'thalach', 'oldpeak'"
   ]
  },
  {
   "cell_type": "code",
   "execution_count": null,
   "id": "8649b48e",
   "metadata": {},
   "outputs": [],
   "source": [
    "# Form list of columns where we see outliers\n",
    "outlier_cols = []\n",
    "\n",
    "outlier_df = raw_df[outlier_cols].copy()"
   ]
  },
  {
   "cell_type": "code",
   "execution_count": null,
   "id": "16f0b0f9",
   "metadata": {},
   "outputs": [],
   "source": [
    "# let us create a function where we replace the outlier values with min max values for their reapective feature\n",
    "\n",
    "# Form permissible min max values based on Inter Quartile Range (IQR)\n",
    "\n",
    "\n",
    "\n",
    "def process_outlier(value: float, min_val: float, max_val: float) -> float:\n",
    "    \"\"\"\n",
    "    Info: returns the permissible value based on min max values.\n",
    "    \n",
    "    Arguments:\n",
    "        value (float): input value to check\n",
    "        min_val (float): minimum permissible value\n",
    "        max_val (float): maximum permissible value\n",
    "    \n",
    "    Returns:\n",
    "        float: value if the value lies between minimum and maximum value else minimum or maximum value.\n",
    "    \"\"\"\n"
   ]
  },
  {
   "cell_type": "code",
   "execution_count": null,
   "id": "1c1dfba2",
   "metadata": {},
   "outputs": [],
   "source": [
    "# Loop over the columns to process their outliers\n"
   ]
  },
  {
   "cell_type": "markdown",
   "id": "040a26f7",
   "metadata": {},
   "source": [
    "### Check for outliers"
   ]
  },
  {
   "cell_type": "code",
   "execution_count": null,
   "id": "38d55b42",
   "metadata": {},
   "outputs": [],
   "source": []
  },
  {
   "cell_type": "markdown",
   "id": "d9cbc2d7",
   "metadata": {},
   "source": [
    "---\n",
    "### Check correlations"
   ]
  },
  {
   "cell_type": "code",
   "execution_count": null,
   "id": "c66c92d0",
   "metadata": {},
   "outputs": [],
   "source": [
    "# Correlations\n"
   ]
  },
  {
   "cell_type": "markdown",
   "id": "7fdfdce0",
   "metadata": {},
   "source": [
    "# Form *features* and *target*"
   ]
  },
  {
   "cell_type": "code",
   "execution_count": null,
   "id": "5ff79c48",
   "metadata": {},
   "outputs": [],
   "source": [
    "features = \n",
    "target = "
   ]
  },
  {
   "cell_type": "markdown",
   "id": "2914656f",
   "metadata": {},
   "source": [
    "# Train Test Split"
   ]
  },
  {
   "cell_type": "code",
   "execution_count": null,
   "id": "f8d8f816",
   "metadata": {},
   "outputs": [],
   "source": [
    "# train test split\n",
    "\n",
    "# See the shape of train and test data\n"
   ]
  },
  {
   "cell_type": "markdown",
   "id": "2c13cdc7",
   "metadata": {},
   "source": [
    "# Normalize Data"
   ]
  },
  {
   "cell_type": "code",
   "execution_count": null,
   "id": "2aaaf6b2",
   "metadata": {},
   "outputs": [],
   "source": [
    "# normalize data\n"
   ]
  },
  {
   "cell_type": "markdown",
   "id": "6b620625",
   "metadata": {},
   "source": [
    "# Train Model"
   ]
  },
  {
   "cell_type": "code",
   "execution_count": null,
   "id": "29e82229",
   "metadata": {},
   "outputs": [],
   "source": [
    "# create model\n",
    "lr_model = \n",
    "rf_model = \n",
    "sv_model = "
   ]
  },
  {
   "cell_type": "code",
   "execution_count": null,
   "id": "80845845",
   "metadata": {},
   "outputs": [],
   "source": [
    "# Fit and train the model\n",
    "\n",
    "\n"
   ]
  },
  {
   "cell_type": "markdown",
   "id": "9a6402b5",
   "metadata": {},
   "source": [
    "# Model Evaluation"
   ]
  },
  {
   "cell_type": "code",
   "execution_count": null,
   "id": "0b952db2",
   "metadata": {},
   "outputs": [],
   "source": [
    "y_pred_lr = \n",
    "y_pred_rf = \n",
    "y_pred_sv = "
   ]
  },
  {
   "cell_type": "code",
   "execution_count": null,
   "id": "8a91d659",
   "metadata": {},
   "outputs": [],
   "source": [
    "print(\"Logistic Regression:\")\n",
    "\n",
    "\n",
    "print(\"Random Forest:\")\n",
    "\n",
    "\n",
    "print(\"Support Vector:\")\n",
    "\n"
   ]
  },
  {
   "cell_type": "markdown",
   "id": "c9083bdb",
   "metadata": {},
   "source": [
    "# Author\n",
    "Shounak Deshpande<br>\n",
    "shounak.python@gmail.com"
   ]
  }
 ],
 "metadata": {
  "kernelspec": {
   "display_name": "Python 3 (ipykernel)",
   "language": "python",
   "name": "python3"
  },
  "language_info": {
   "codemirror_mode": {
    "name": "ipython",
    "version": 3
   },
   "file_extension": ".py",
   "mimetype": "text/x-python",
   "name": "python",
   "nbconvert_exporter": "python",
   "pygments_lexer": "ipython3",
   "version": "3.9.13"
  }
 },
 "nbformat": 4,
 "nbformat_minor": 5
}
