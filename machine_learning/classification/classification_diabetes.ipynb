{
 "cells": [
  {
   "cell_type": "markdown",
   "id": "bf50ab80",
   "metadata": {},
   "source": [
    "## About dataset\n",
    "url: https://www.kaggle.com/datasets/prosperchuks/health-dataset"
   ]
  },
  {
   "cell_type": "code",
   "execution_count": 1,
   "id": "144817dc",
   "metadata": {},
   "outputs": [],
   "source": [
    "import pandas as pd\n",
    "from sklearn.preprocessing import StandardScaler\n",
    "from sklearn.model_selection import train_test_split"
   ]
  },
  {
   "cell_type": "code",
   "execution_count": 2,
   "id": "2acb5588",
   "metadata": {},
   "outputs": [],
   "source": [
    "raw_diabetes = pd.read_csv('diabetes_data.csv')"
   ]
  },
  {
   "cell_type": "code",
   "execution_count": 3,
   "id": "16c676cc",
   "metadata": {},
   "outputs": [
    {
     "data": {
      "text/html": [
       "<div>\n",
       "<style scoped>\n",
       "    .dataframe tbody tr th:only-of-type {\n",
       "        vertical-align: middle;\n",
       "    }\n",
       "\n",
       "    .dataframe tbody tr th {\n",
       "        vertical-align: top;\n",
       "    }\n",
       "\n",
       "    .dataframe thead th {\n",
       "        text-align: right;\n",
       "    }\n",
       "</style>\n",
       "<table border=\"1\" class=\"dataframe\">\n",
       "  <thead>\n",
       "    <tr style=\"text-align: right;\">\n",
       "      <th></th>\n",
       "      <th>Age</th>\n",
       "      <th>Sex</th>\n",
       "      <th>HighChol</th>\n",
       "      <th>CholCheck</th>\n",
       "      <th>BMI</th>\n",
       "      <th>Smoker</th>\n",
       "      <th>HeartDiseaseorAttack</th>\n",
       "      <th>PhysActivity</th>\n",
       "      <th>Fruits</th>\n",
       "      <th>Veggies</th>\n",
       "      <th>HvyAlcoholConsump</th>\n",
       "      <th>GenHlth</th>\n",
       "      <th>MentHlth</th>\n",
       "      <th>PhysHlth</th>\n",
       "      <th>DiffWalk</th>\n",
       "      <th>Stroke</th>\n",
       "      <th>HighBP</th>\n",
       "      <th>Diabetes</th>\n",
       "    </tr>\n",
       "  </thead>\n",
       "  <tbody>\n",
       "    <tr>\n",
       "      <th>0</th>\n",
       "      <td>4.0</td>\n",
       "      <td>1.0</td>\n",
       "      <td>0.0</td>\n",
       "      <td>1.0</td>\n",
       "      <td>26.0</td>\n",
       "      <td>0.0</td>\n",
       "      <td>0.0</td>\n",
       "      <td>1.0</td>\n",
       "      <td>0.0</td>\n",
       "      <td>1.0</td>\n",
       "      <td>0.0</td>\n",
       "      <td>3.0</td>\n",
       "      <td>5.0</td>\n",
       "      <td>30.0</td>\n",
       "      <td>0.0</td>\n",
       "      <td>0.0</td>\n",
       "      <td>1.0</td>\n",
       "      <td>0.0</td>\n",
       "    </tr>\n",
       "    <tr>\n",
       "      <th>1</th>\n",
       "      <td>12.0</td>\n",
       "      <td>1.0</td>\n",
       "      <td>1.0</td>\n",
       "      <td>1.0</td>\n",
       "      <td>26.0</td>\n",
       "      <td>1.0</td>\n",
       "      <td>0.0</td>\n",
       "      <td>0.0</td>\n",
       "      <td>1.0</td>\n",
       "      <td>0.0</td>\n",
       "      <td>0.0</td>\n",
       "      <td>3.0</td>\n",
       "      <td>0.0</td>\n",
       "      <td>0.0</td>\n",
       "      <td>0.0</td>\n",
       "      <td>1.0</td>\n",
       "      <td>1.0</td>\n",
       "      <td>0.0</td>\n",
       "    </tr>\n",
       "  </tbody>\n",
       "</table>\n",
       "</div>"
      ],
      "text/plain": [
       "    Age  Sex  HighChol  CholCheck   BMI  Smoker  HeartDiseaseorAttack  \\\n",
       "0   4.0  1.0       0.0        1.0  26.0     0.0                   0.0   \n",
       "1  12.0  1.0       1.0        1.0  26.0     1.0                   0.0   \n",
       "\n",
       "   PhysActivity  Fruits  Veggies  HvyAlcoholConsump  GenHlth  MentHlth  \\\n",
       "0           1.0     0.0      1.0                0.0      3.0       5.0   \n",
       "1           0.0     1.0      0.0                0.0      3.0       0.0   \n",
       "\n",
       "   PhysHlth  DiffWalk  Stroke  HighBP  Diabetes  \n",
       "0      30.0       0.0     0.0     1.0       0.0  \n",
       "1       0.0       0.0     1.0     1.0       0.0  "
      ]
     },
     "execution_count": 3,
     "metadata": {},
     "output_type": "execute_result"
    }
   ],
   "source": [
    "raw_diabetes.head(2)"
   ]
  },
  {
   "cell_type": "code",
   "execution_count": 4,
   "id": "daf2c26d",
   "metadata": {},
   "outputs": [
    {
     "data": {
      "text/plain": [
       "(70692, 18)"
      ]
     },
     "execution_count": 4,
     "metadata": {},
     "output_type": "execute_result"
    }
   ],
   "source": [
    "# rows and cols\n",
    "raw_diabetes.shape"
   ]
  },
  {
   "cell_type": "code",
   "execution_count": 5,
   "id": "a9f1b715",
   "metadata": {},
   "outputs": [
    {
     "data": {
      "text/plain": [
       "Age                     0\n",
       "Sex                     0\n",
       "HighChol                0\n",
       "CholCheck               0\n",
       "BMI                     0\n",
       "Smoker                  0\n",
       "HeartDiseaseorAttack    0\n",
       "PhysActivity            0\n",
       "Fruits                  0\n",
       "Veggies                 0\n",
       "HvyAlcoholConsump       0\n",
       "GenHlth                 0\n",
       "MentHlth                0\n",
       "PhysHlth                0\n",
       "DiffWalk                0\n",
       "Stroke                  0\n",
       "HighBP                  0\n",
       "Diabetes                0\n",
       "dtype: int64"
      ]
     },
     "execution_count": 5,
     "metadata": {},
     "output_type": "execute_result"
    }
   ],
   "source": [
    "# check for missing values\n",
    "raw_diabetes.isna().sum()"
   ]
  },
  {
   "cell_type": "code",
   "execution_count": 6,
   "id": "abb48439",
   "metadata": {},
   "outputs": [],
   "source": [
    "# remove duplicates\n",
    "raw_diabetes.drop_duplicates(inplace=True)"
   ]
  },
  {
   "cell_type": "code",
   "execution_count": 7,
   "id": "f148f225",
   "metadata": {},
   "outputs": [
    {
     "data": {
      "text/plain": [
       "Age                     float64\n",
       "Sex                     float64\n",
       "HighChol                float64\n",
       "CholCheck               float64\n",
       "BMI                     float64\n",
       "Smoker                  float64\n",
       "HeartDiseaseorAttack    float64\n",
       "PhysActivity            float64\n",
       "Fruits                  float64\n",
       "Veggies                 float64\n",
       "HvyAlcoholConsump       float64\n",
       "GenHlth                 float64\n",
       "MentHlth                float64\n",
       "PhysHlth                float64\n",
       "DiffWalk                float64\n",
       "Stroke                  float64\n",
       "HighBP                  float64\n",
       "Diabetes                float64\n",
       "dtype: object"
      ]
     },
     "execution_count": 7,
     "metadata": {},
     "output_type": "execute_result"
    }
   ],
   "source": [
    "raw_diabetes.dtypes"
   ]
  },
  {
   "cell_type": "code",
   "execution_count": 8,
   "id": "0c55dc3d",
   "metadata": {},
   "outputs": [],
   "source": [
    "# numeric cols\n",
    "num_cols = ['BMI', 'MentHlth', 'PhysHlth']\n",
    "\n",
    "# categorical cols\n",
    "cat_cols = raw_diabetes.columns.tolist()\n",
    "cat_cols = [col for col in cat_cols if col not in num_cols]"
   ]
  },
  {
   "cell_type": "code",
   "execution_count": 9,
   "id": "f36a5aa8",
   "metadata": {},
   "outputs": [],
   "source": [
    "# convert the num cols which are categories to categorical cols\n",
    "for cat in cat_cols:\n",
    "    raw_diabetes[cat] = raw_diabetes[cat].astype('category')"
   ]
  },
  {
   "cell_type": "code",
   "execution_count": 10,
   "id": "d131f7c5",
   "metadata": {},
   "outputs": [
    {
     "data": {
      "text/plain": [
       "Age                     category\n",
       "Sex                     category\n",
       "HighChol                category\n",
       "CholCheck               category\n",
       "BMI                      float64\n",
       "Smoker                  category\n",
       "HeartDiseaseorAttack    category\n",
       "PhysActivity            category\n",
       "Fruits                  category\n",
       "Veggies                 category\n",
       "HvyAlcoholConsump       category\n",
       "GenHlth                 category\n",
       "MentHlth                 float64\n",
       "PhysHlth                 float64\n",
       "DiffWalk                category\n",
       "Stroke                  category\n",
       "HighBP                  category\n",
       "Diabetes                category\n",
       "dtype: object"
      ]
     },
     "execution_count": 10,
     "metadata": {},
     "output_type": "execute_result"
    }
   ],
   "source": [
    "raw_diabetes.dtypes"
   ]
  },
  {
   "cell_type": "code",
   "execution_count": 11,
   "id": "d5af9c69",
   "metadata": {},
   "outputs": [],
   "source": [
    "# Train Test Split\n",
    "features = raw_diabetes.drop('Diabetes', axis=1)\n",
    "target = raw_diabetes['Diabetes']"
   ]
  },
  {
   "cell_type": "code",
   "execution_count": 12,
   "id": "335ba0c5",
   "metadata": {},
   "outputs": [],
   "source": [
    "train_x, test_x, train_y, test_y = train_test_split(features, target, test_size=0.2, random_state=42)"
   ]
  },
  {
   "cell_type": "code",
   "execution_count": 13,
   "id": "7ed3cbfb",
   "metadata": {},
   "outputs": [
    {
     "data": {
      "text/plain": [
       "((51216, 17), (51216,), (12804, 17), (12804,))"
      ]
     },
     "execution_count": 13,
     "metadata": {},
     "output_type": "execute_result"
    }
   ],
   "source": [
    "train_x.shape, train_y.shape, test_x.shape, test_y.shape"
   ]
  },
  {
   "cell_type": "code",
   "execution_count": 20,
   "id": "5cdae93c",
   "metadata": {},
   "outputs": [],
   "source": [
    "# Modelling\n",
    "from sklearn.ensemble import RandomForestClassifier\n",
    "from sklearn.linear_model import LogisticRegression\n",
    "from sklearn.svm import SVC\n",
    "\n",
    "from sklearn.metrics import classification_report, accuracy_score"
   ]
  },
  {
   "cell_type": "code",
   "execution_count": 15,
   "id": "408d96f1",
   "metadata": {},
   "outputs": [],
   "source": [
    "rf = RandomForestClassifier(n_estimators=200)\n",
    "lr = LogisticRegression()\n",
    "svc = SVC()"
   ]
  },
  {
   "cell_type": "code",
   "execution_count": 16,
   "id": "f4b9c515",
   "metadata": {},
   "outputs": [
    {
     "name": "stdout",
     "output_type": "stream",
     "text": [
      "              precision    recall  f1-score   support\n",
      "\n",
      "         0.0       0.69      0.64      0.66      6055\n",
      "         1.0       0.70      0.74      0.72      6749\n",
      "\n",
      "    accuracy                           0.69     12804\n",
      "   macro avg       0.69      0.69      0.69     12804\n",
      "weighted avg       0.69      0.69      0.69     12804\n",
      "\n"
     ]
    }
   ],
   "source": [
    "# random forest\n",
    "rf.fit(train_x, train_y)\n",
    "pred_y = rf.predict(test_x)\n",
    "print(classification_report(test_y, pred_y))"
   ]
  },
  {
   "cell_type": "code",
   "execution_count": 17,
   "id": "af1b98a3",
   "metadata": {},
   "outputs": [
    {
     "name": "stdout",
     "output_type": "stream",
     "text": [
      "              precision    recall  f1-score   support\n",
      "\n",
      "         0.0       0.73      0.69      0.71      6055\n",
      "         1.0       0.74      0.76      0.75      6749\n",
      "\n",
      "    accuracy                           0.73     12804\n",
      "   macro avg       0.73      0.73      0.73     12804\n",
      "weighted avg       0.73      0.73      0.73     12804\n",
      "\n"
     ]
    },
    {
     "name": "stderr",
     "output_type": "stream",
     "text": [
      "C:\\Users\\shodeshp\\AppData\\Roaming\\Python\\Python39\\site-packages\\sklearn\\linear_model\\_logistic.py:444: ConvergenceWarning: lbfgs failed to converge (status=1):\n",
      "STOP: TOTAL NO. of ITERATIONS REACHED LIMIT.\n",
      "\n",
      "Increase the number of iterations (max_iter) or scale the data as shown in:\n",
      "    https://scikit-learn.org/stable/modules/preprocessing.html\n",
      "Please also refer to the documentation for alternative solver options:\n",
      "    https://scikit-learn.org/stable/modules/linear_model.html#logistic-regression\n",
      "  n_iter_i = _check_optimize_result(\n"
     ]
    }
   ],
   "source": [
    "# logistic regression\n",
    "lr.fit(train_x, train_y)\n",
    "pred_y = lr.predict(test_x)\n",
    "print(classification_report(test_y, pred_y))"
   ]
  },
  {
   "cell_type": "code",
   "execution_count": 18,
   "id": "4e2a6257",
   "metadata": {},
   "outputs": [
    {
     "name": "stdout",
     "output_type": "stream",
     "text": [
      "              precision    recall  f1-score   support\n",
      "\n",
      "         0.0       0.75      0.66      0.70      6055\n",
      "         1.0       0.73      0.80      0.76      6749\n",
      "\n",
      "    accuracy                           0.74     12804\n",
      "   macro avg       0.74      0.73      0.73     12804\n",
      "weighted avg       0.74      0.74      0.73     12804\n",
      "\n"
     ]
    }
   ],
   "source": [
    "# support vector classifier\n",
    "svc.fit(train_x, train_y)\n",
    "pred_y = svc.predict(test_x)\n",
    "print(classification_report(test_y, pred_y))"
   ]
  },
  {
   "cell_type": "code",
   "execution_count": 19,
   "id": "186f12e2",
   "metadata": {},
   "outputs": [],
   "source": [
    "# knn\n",
    "from sklearn.neighbors import KNeighborsClassifier\n"
   ]
  },
  {
   "cell_type": "code",
   "execution_count": 21,
   "id": "229972e6",
   "metadata": {},
   "outputs": [
    {
     "name": "stdout",
     "output_type": "stream",
     "text": [
      "4: 0.6612777257107154\n",
      "5: 0.6819743830053109\n",
      "6: 0.6758825367072789\n",
      "7: 0.6915807560137457\n",
      "8: 0.6869728209934396\n",
      "9: 0.7037644486098095\n",
      "10: 0.6961886910340519\n",
      "11: 0.7061855670103093\n"
     ]
    }
   ],
   "source": [
    "for n in range(4, 12):\n",
    "    knn = KNeighborsClassifier(n_neighbors=n)\n",
    "    knn.fit(train_x, train_y)\n",
    "    pred_y = knn.predict(test_x)\n",
    "    print(f\"{n}: {accuracy_score(test_y, pred_y)}\")"
   ]
  }
 ],
 "metadata": {
  "kernelspec": {
   "display_name": "Python 3 (ipykernel)",
   "language": "python",
   "name": "python3"
  },
  "language_info": {
   "codemirror_mode": {
    "name": "ipython",
    "version": 3
   },
   "file_extension": ".py",
   "mimetype": "text/x-python",
   "name": "python",
   "nbconvert_exporter": "python",
   "pygments_lexer": "ipython3",
   "version": "3.9.12"
  }
 },
 "nbformat": 4,
 "nbformat_minor": 5
}
