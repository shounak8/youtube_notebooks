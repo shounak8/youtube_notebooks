{
 "cells": [
  {
   "cell_type": "markdown",
   "id": "bf50ab80",
   "metadata": {},
   "source": [
    "Dataset taken from **Kaggle**<br>\n",
    "https://www.kaggle.com/datasets/prosperchuks/health-dataset <br><br>\n",
    "\n",
    "**Dataset info:**\n",
    "\n",
    "*INDEPENDENT VARIABLES:*<br>\n",
    "Categorical: **'sex', 'cp', 'fbs', 'restecg', 'exang', 'slope', 'ca', 'thal'**<br>\n",
    "Numerical: **'age', 'trestbps', 'chol', 'thalach', 'oldpeak'**<br>\n",
    "\n",
    "*DEPENDENT VARIABLE:* **'target'**"
   ]
  },
  {
   "cell_type": "markdown",
   "id": "281ccf2f",
   "metadata": {},
   "source": [
    "# ML Flowchart\n",
    "<img src=\"../ML_steps.png\">"
   ]
  },
  {
   "cell_type": "code",
   "execution_count": 1,
   "id": "14f81bbb",
   "metadata": {},
   "outputs": [],
   "source": [
    "import warnings\n",
    "warnings.filterwarnings('ignore')"
   ]
  },
  {
   "cell_type": "markdown",
   "id": "c3f7ac2e",
   "metadata": {},
   "source": [
    "# Import Libraries"
   ]
  },
  {
   "cell_type": "code",
   "execution_count": 26,
   "id": "e8a35ec9",
   "metadata": {},
   "outputs": [],
   "source": [
    "# To read the data and form dataframe\n",
    "import pandas as pd\n",
    "\n",
    "# Train Test Split\n",
    "from sklearn.model_selection import train_test_split\n",
    "\n",
    "# Data preprocessing\n",
    "from sklearn.preprocessing import StandardScaler\n",
    "\n",
    "# Train the model\n",
    "from sklearn.ensemble import RandomForestClassifier\n",
    "from sklearn.svm import SVC\n",
    "from sklearn.neighbors import KNeighborsClassifier\n",
    "from sklearn.linear_model import LogisticRegression\n",
    "\n",
    "# Model evaluation\n",
    "from sklearn.metrics import classification_report, accuracy_score"
   ]
  },
  {
   "cell_type": "markdown",
   "id": "371a7215",
   "metadata": {},
   "source": [
    "# Read Data"
   ]
  },
  {
   "cell_type": "code",
   "execution_count": 4,
   "id": "702b6b9b",
   "metadata": {},
   "outputs": [
    {
     "data": {
      "text/html": [
       "<div>\n",
       "<style scoped>\n",
       "    .dataframe tbody tr th:only-of-type {\n",
       "        vertical-align: middle;\n",
       "    }\n",
       "\n",
       "    .dataframe tbody tr th {\n",
       "        vertical-align: top;\n",
       "    }\n",
       "\n",
       "    .dataframe thead th {\n",
       "        text-align: right;\n",
       "    }\n",
       "</style>\n",
       "<table border=\"1\" class=\"dataframe\">\n",
       "  <thead>\n",
       "    <tr style=\"text-align: right;\">\n",
       "      <th></th>\n",
       "      <th>age</th>\n",
       "      <th>sex</th>\n",
       "      <th>cp</th>\n",
       "      <th>trestbps</th>\n",
       "      <th>chol</th>\n",
       "      <th>fbs</th>\n",
       "      <th>restecg</th>\n",
       "      <th>thalach</th>\n",
       "      <th>exang</th>\n",
       "      <th>oldpeak</th>\n",
       "      <th>slope</th>\n",
       "      <th>ca</th>\n",
       "      <th>thal</th>\n",
       "      <th>target</th>\n",
       "    </tr>\n",
       "  </thead>\n",
       "  <tbody>\n",
       "    <tr>\n",
       "      <th>0</th>\n",
       "      <td>57.0</td>\n",
       "      <td>1.0</td>\n",
       "      <td>3</td>\n",
       "      <td>145</td>\n",
       "      <td>233</td>\n",
       "      <td>1</td>\n",
       "      <td>0</td>\n",
       "      <td>150</td>\n",
       "      <td>0</td>\n",
       "      <td>2.3</td>\n",
       "      <td>0</td>\n",
       "      <td>0</td>\n",
       "      <td>1</td>\n",
       "      <td>1</td>\n",
       "    </tr>\n",
       "    <tr>\n",
       "      <th>1</th>\n",
       "      <td>64.0</td>\n",
       "      <td>0.0</td>\n",
       "      <td>2</td>\n",
       "      <td>130</td>\n",
       "      <td>250</td>\n",
       "      <td>0</td>\n",
       "      <td>1</td>\n",
       "      <td>187</td>\n",
       "      <td>0</td>\n",
       "      <td>3.5</td>\n",
       "      <td>0</td>\n",
       "      <td>0</td>\n",
       "      <td>2</td>\n",
       "      <td>1</td>\n",
       "    </tr>\n",
       "    <tr>\n",
       "      <th>2</th>\n",
       "      <td>52.0</td>\n",
       "      <td>1.0</td>\n",
       "      <td>1</td>\n",
       "      <td>130</td>\n",
       "      <td>204</td>\n",
       "      <td>0</td>\n",
       "      <td>0</td>\n",
       "      <td>172</td>\n",
       "      <td>0</td>\n",
       "      <td>1.4</td>\n",
       "      <td>2</td>\n",
       "      <td>0</td>\n",
       "      <td>2</td>\n",
       "      <td>1</td>\n",
       "    </tr>\n",
       "    <tr>\n",
       "      <th>3</th>\n",
       "      <td>56.0</td>\n",
       "      <td>0.0</td>\n",
       "      <td>1</td>\n",
       "      <td>120</td>\n",
       "      <td>236</td>\n",
       "      <td>0</td>\n",
       "      <td>1</td>\n",
       "      <td>178</td>\n",
       "      <td>0</td>\n",
       "      <td>0.8</td>\n",
       "      <td>2</td>\n",
       "      <td>0</td>\n",
       "      <td>2</td>\n",
       "      <td>1</td>\n",
       "    </tr>\n",
       "    <tr>\n",
       "      <th>4</th>\n",
       "      <td>66.0</td>\n",
       "      <td>0.0</td>\n",
       "      <td>0</td>\n",
       "      <td>120</td>\n",
       "      <td>354</td>\n",
       "      <td>0</td>\n",
       "      <td>1</td>\n",
       "      <td>163</td>\n",
       "      <td>1</td>\n",
       "      <td>0.6</td>\n",
       "      <td>2</td>\n",
       "      <td>0</td>\n",
       "      <td>2</td>\n",
       "      <td>1</td>\n",
       "    </tr>\n",
       "  </tbody>\n",
       "</table>\n",
       "</div>"
      ],
      "text/plain": [
       "    age  sex  cp  trestbps  chol  fbs  restecg  thalach  exang  oldpeak  \\\n",
       "0  57.0  1.0   3       145   233    1        0      150      0      2.3   \n",
       "1  64.0  0.0   2       130   250    0        1      187      0      3.5   \n",
       "2  52.0  1.0   1       130   204    0        0      172      0      1.4   \n",
       "3  56.0  0.0   1       120   236    0        1      178      0      0.8   \n",
       "4  66.0  0.0   0       120   354    0        1      163      1      0.6   \n",
       "\n",
       "   slope  ca  thal  target  \n",
       "0      0   0     1       1  \n",
       "1      0   0     2       1  \n",
       "2      2   0     2       1  \n",
       "3      2   0     2       1  \n",
       "4      2   0     2       1  "
      ]
     },
     "execution_count": 4,
     "metadata": {},
     "output_type": "execute_result"
    }
   ],
   "source": [
    "# Read Data from file path '../database/classification_hypertension_data.csv'\n",
    "raw_df = pd.read_csv(\"hypertension_data.csv\")\n",
    "\n",
    "# See how the data appears\n",
    "raw_df.head()"
   ]
  },
  {
   "cell_type": "code",
   "execution_count": 6,
   "id": "8190c537",
   "metadata": {},
   "outputs": [
    {
     "data": {
      "text/plain": [
       "(26083, 14)"
      ]
     },
     "execution_count": 6,
     "metadata": {},
     "output_type": "execute_result"
    }
   ],
   "source": [
    "# See the data shape\n",
    "raw_df.shape"
   ]
  },
  {
   "cell_type": "code",
   "execution_count": 7,
   "id": "c055c3d5",
   "metadata": {},
   "outputs": [
    {
     "data": {
      "text/plain": [
       "Index(['age', 'sex', 'cp', 'trestbps', 'chol', 'fbs', 'restecg', 'thalach',\n",
       "       'exang', 'oldpeak', 'slope', 'ca', 'thal', 'target'],\n",
       "      dtype='object')"
      ]
     },
     "execution_count": 7,
     "metadata": {},
     "output_type": "execute_result"
    }
   ],
   "source": [
    "raw_df.columns"
   ]
  },
  {
   "cell_type": "code",
   "execution_count": 8,
   "id": "34866319",
   "metadata": {},
   "outputs": [],
   "source": [
    "categorical_columns = ['sex', 'cp', 'fbs', 'restecg', 'exang', 'slope', 'ca', 'thal']\n",
    "numerical_columns = ['age', 'trestbps', 'chol', 'thalach', 'oldpeak']"
   ]
  },
  {
   "cell_type": "markdown",
   "id": "31f78b01",
   "metadata": {},
   "source": [
    "# Clean Data\n",
    "---\n",
    "### Check for missing & duplicate values"
   ]
  },
  {
   "cell_type": "code",
   "execution_count": 9,
   "id": "86616966",
   "metadata": {},
   "outputs": [
    {
     "data": {
      "text/plain": [
       "age          0\n",
       "sex         25\n",
       "cp           0\n",
       "trestbps     0\n",
       "chol         0\n",
       "fbs          0\n",
       "restecg      0\n",
       "thalach      0\n",
       "exang        0\n",
       "oldpeak      0\n",
       "slope        0\n",
       "ca           0\n",
       "thal         0\n",
       "target       0\n",
       "dtype: int64"
      ]
     },
     "execution_count": 9,
     "metadata": {},
     "output_type": "execute_result"
    }
   ],
   "source": [
    "# remove duplicates\n",
    "raw_df.drop_duplicates(inplace=True)\n",
    "\n",
    "# check for missing values\n",
    "raw_df.isna().sum()"
   ]
  },
  {
   "cell_type": "markdown",
   "id": "323c64ca",
   "metadata": {},
   "source": [
    "#### Should we drop the observations with missing values or impute the missing values ?"
   ]
  },
  {
   "cell_type": "code",
   "execution_count": 10,
   "id": "a63575ae",
   "metadata": {},
   "outputs": [
    {
     "data": {
      "text/plain": [
       "0.0009584787026032281"
      ]
     },
     "execution_count": 10,
     "metadata": {},
     "output_type": "execute_result"
    }
   ],
   "source": [
    "# Decision on missing values: \n",
    "25 / 26083"
   ]
  },
  {
   "cell_type": "code",
   "execution_count": 11,
   "id": "87178878",
   "metadata": {},
   "outputs": [],
   "source": [
    "raw_df.dropna(inplace=True)"
   ]
  },
  {
   "cell_type": "code",
   "execution_count": 12,
   "id": "24aa4f35",
   "metadata": {},
   "outputs": [
    {
     "data": {
      "text/plain": [
       "age         0\n",
       "sex         0\n",
       "cp          0\n",
       "trestbps    0\n",
       "chol        0\n",
       "fbs         0\n",
       "restecg     0\n",
       "thalach     0\n",
       "exang       0\n",
       "oldpeak     0\n",
       "slope       0\n",
       "ca          0\n",
       "thal        0\n",
       "target      0\n",
       "dtype: int64"
      ]
     },
     "execution_count": 12,
     "metadata": {},
     "output_type": "execute_result"
    }
   ],
   "source": [
    "raw_df.isna().sum()"
   ]
  },
  {
   "cell_type": "markdown",
   "id": "8c525457",
   "metadata": {},
   "source": [
    "---\n",
    "### Check for outliers"
   ]
  },
  {
   "cell_type": "code",
   "execution_count": 13,
   "id": "cb7f4acc",
   "metadata": {},
   "outputs": [
    {
     "data": {
      "text/plain": [
       "<AxesSubplot:>"
      ]
     },
     "execution_count": 13,
     "metadata": {},
     "output_type": "execute_result"
    },
    {
     "data": {
      "image/png": "[encoded data removed]",
      "text/plain": [
       "<Figure size 1000x400 with 1 Axes>"
      ]
     },
     "metadata": {},
     "output_type": "display_data"
    }
   ],
   "source": [
    "raw_df[numerical_columns].plot(kind=\"box\", figsize=(10, 4))"
   ]
  },
  {
   "cell_type": "markdown",
   "id": "d4b282a4",
   "metadata": {},
   "source": [
    "We see that outliers are present in 4 columns 'trestbps', 'chol', 'thalach', 'oldpeak'"
   ]
  },
  {
   "cell_type": "code",
   "execution_count": 14,
   "id": "8649b48e",
   "metadata": {},
   "outputs": [],
   "source": [
    "# Form list of columns where we see outliers\n",
    "outlier_cols = ['trestbps', 'chol', 'thalach', 'oldpeak']\n",
    "\n",
    "outlier_df = raw_df[outlier_cols].copy()"
   ]
  },
  {
   "cell_type": "code",
   "execution_count": 15,
   "id": "16f0b0f9",
   "metadata": {},
   "outputs": [],
   "source": [
    "# let us create a function where we replace the outlier values with min max values for their reapective feature\n",
    "q1 = outlier_df.quantile(0.25)\n",
    "q3 = outlier_df.quantile(0.75)\n",
    "iqr = q3 - q1\n",
    "\n",
    "# Form permissible min max values based on Inter Quartile Range (IQR)\n",
    "min_val = q1 - 1.5*iqr\n",
    "max_val = q3 + 1.5*iqr\n",
    "\n",
    "\n",
    "def process_outlier(value: float, min_val: float, max_val: float) -> float:\n",
    "    \"\"\"\n",
    "    Info: returns the permissible value based on min max values.\n",
    "    \n",
    "    Arguments:\n",
    "        value (float): input value to check\n",
    "        min_val (float): minimum permissible value\n",
    "        max_val (float): maximum permissible value\n",
    "    \n",
    "    Returns:\n",
    "        float: value if the value lies between minimum and maximum value else minimum or maximum value.\n",
    "    \"\"\"\n",
    "    if value > max_val:\n",
    "        return max_val\n",
    "    elif value < min_val:\n",
    "        return min_val\n",
    "    else:\n",
    "        return value"
   ]
  },
  {
   "cell_type": "code",
   "execution_count": 16,
   "id": "1c1dfba2",
   "metadata": {},
   "outputs": [],
   "source": [
    "# Loop over the columns to process their outliers\n",
    "for column in outlier_cols:\n",
    "    raw_df[column] = raw_df[column].map(lambda value: process_outlier(value, min_val[column], max_val[column]))"
   ]
  },
  {
   "cell_type": "markdown",
   "id": "040a26f7",
   "metadata": {},
   "source": [
    "### Check for outliers"
   ]
  },
  {
   "cell_type": "code",
   "execution_count": 17,
   "id": "38d55b42",
   "metadata": {},
   "outputs": [
    {
     "data": {
      "text/plain": [
       "<AxesSubplot:>"
      ]
     },
     "execution_count": 17,
     "metadata": {},
     "output_type": "execute_result"
    },
    {
     "data": {
      "image/png": "[encoded data removed]",
      "text/plain": [
       "<Figure size 1000x400 with 1 Axes>"
      ]
     },
     "metadata": {},
     "output_type": "display_data"
    }
   ],
   "source": [
    "raw_df[numerical_columns].plot(kind='box', figsize = (10, 4))"
   ]
  },
  {
   "cell_type": "markdown",
   "id": "d9cbc2d7",
   "metadata": {},
   "source": [
    "---\n",
    "### Check correlations"
   ]
  },
  {
   "cell_type": "code",
   "execution_count": 18,
   "id": "c66c92d0",
   "metadata": {},
   "outputs": [
    {
     "data": {
      "text/html": [
       "<div>\n",
       "<style scoped>\n",
       "    .dataframe tbody tr th:only-of-type {\n",
       "        vertical-align: middle;\n",
       "    }\n",
       "\n",
       "    .dataframe tbody tr th {\n",
       "        vertical-align: top;\n",
       "    }\n",
       "\n",
       "    .dataframe thead th {\n",
       "        text-align: right;\n",
       "    }\n",
       "</style>\n",
       "<table border=\"1\" class=\"dataframe\">\n",
       "  <thead>\n",
       "    <tr style=\"text-align: right;\">\n",
       "      <th></th>\n",
       "      <th>age</th>\n",
       "      <th>sex</th>\n",
       "      <th>cp</th>\n",
       "      <th>trestbps</th>\n",
       "      <th>chol</th>\n",
       "      <th>fbs</th>\n",
       "      <th>restecg</th>\n",
       "      <th>thalach</th>\n",
       "      <th>exang</th>\n",
       "      <th>oldpeak</th>\n",
       "      <th>slope</th>\n",
       "      <th>ca</th>\n",
       "      <th>thal</th>\n",
       "      <th>target</th>\n",
       "    </tr>\n",
       "  </thead>\n",
       "  <tbody>\n",
       "    <tr>\n",
       "      <th>age</th>\n",
       "      <td>1.000000</td>\n",
       "      <td>-9.874843e-02</td>\n",
       "      <td>6.423732e-04</td>\n",
       "      <td>2.404178e-02</td>\n",
       "      <td>1.522131e-02</td>\n",
       "      <td>-6.484766e-03</td>\n",
       "      <td>-7.222071e-03</td>\n",
       "      <td>-5.050231e-02</td>\n",
       "      <td>1.205085e-02</td>\n",
       "      <td>9.969544e-03</td>\n",
       "      <td>-9.294172e-03</td>\n",
       "      <td>4.902799e-02</td>\n",
       "      <td>7.991357e-03</td>\n",
       "      <td>-2.316109e-02</td>\n",
       "    </tr>\n",
       "    <tr>\n",
       "      <th>sex</th>\n",
       "      <td>-0.098748</td>\n",
       "      <td>1.000000e+00</td>\n",
       "      <td>-2.727016e-16</td>\n",
       "      <td>-5.097625e-15</td>\n",
       "      <td>-6.737121e-16</td>\n",
       "      <td>-1.494135e-16</td>\n",
       "      <td>3.157680e-17</td>\n",
       "      <td>3.963282e-15</td>\n",
       "      <td>4.041910e-18</td>\n",
       "      <td>5.590717e-16</td>\n",
       "      <td>-3.324648e-16</td>\n",
       "      <td>2.195387e-17</td>\n",
       "      <td>3.715688e-18</td>\n",
       "      <td>4.951044e-16</td>\n",
       "    </tr>\n",
       "    <tr>\n",
       "      <th>cp</th>\n",
       "      <td>0.000642</td>\n",
       "      <td>-2.727016e-16</td>\n",
       "      <td>1.000000e+00</td>\n",
       "      <td>4.760193e-02</td>\n",
       "      <td>-8.642138e-02</td>\n",
       "      <td>8.951821e-02</td>\n",
       "      <td>4.701292e-02</td>\n",
       "      <td>2.889383e-01</td>\n",
       "      <td>-3.924467e-01</td>\n",
       "      <td>-1.479960e-01</td>\n",
       "      <td>1.213752e-01</td>\n",
       "      <td>-2.011471e-01</td>\n",
       "      <td>-1.680074e-01</td>\n",
       "      <td>4.370111e-01</td>\n",
       "    </tr>\n",
       "    <tr>\n",
       "      <th>trestbps</th>\n",
       "      <td>0.024042</td>\n",
       "      <td>-5.097625e-15</td>\n",
       "      <td>4.760193e-02</td>\n",
       "      <td>1.000000e+00</td>\n",
       "      <td>1.422886e-01</td>\n",
       "      <td>1.671421e-01</td>\n",
       "      <td>-1.165763e-01</td>\n",
       "      <td>-5.746576e-02</td>\n",
       "      <td>6.245135e-02</td>\n",
       "      <td>1.913249e-01</td>\n",
       "      <td>-1.245611e-01</td>\n",
       "      <td>1.023758e-01</td>\n",
       "      <td>4.947654e-02</td>\n",
       "      <td>-1.420084e-01</td>\n",
       "    </tr>\n",
       "    <tr>\n",
       "      <th>chol</th>\n",
       "      <td>0.015221</td>\n",
       "      <td>-6.737121e-16</td>\n",
       "      <td>-8.642138e-02</td>\n",
       "      <td>1.422886e-01</td>\n",
       "      <td>1.000000e+00</td>\n",
       "      <td>5.202561e-03</td>\n",
       "      <td>-1.418721e-01</td>\n",
       "      <td>-1.611744e-02</td>\n",
       "      <td>8.029660e-02</td>\n",
       "      <td>5.077641e-02</td>\n",
       "      <td>1.740363e-02</td>\n",
       "      <td>9.672408e-02</td>\n",
       "      <td>7.529182e-02</td>\n",
       "      <td>-9.997542e-02</td>\n",
       "    </tr>\n",
       "    <tr>\n",
       "      <th>fbs</th>\n",
       "      <td>-0.006485</td>\n",
       "      <td>-1.494135e-16</td>\n",
       "      <td>8.951821e-02</td>\n",
       "      <td>1.671421e-01</td>\n",
       "      <td>5.202561e-03</td>\n",
       "      <td>1.000000e+00</td>\n",
       "      <td>-8.809729e-02</td>\n",
       "      <td>-8.887169e-03</td>\n",
       "      <td>2.777315e-02</td>\n",
       "      <td>1.267585e-02</td>\n",
       "      <td>-5.847128e-02</td>\n",
       "      <td>1.495954e-01</td>\n",
       "      <td>-2.528089e-02</td>\n",
       "      <td>-3.404579e-02</td>\n",
       "    </tr>\n",
       "    <tr>\n",
       "      <th>restecg</th>\n",
       "      <td>-0.007222</td>\n",
       "      <td>3.157680e-17</td>\n",
       "      <td>4.701292e-02</td>\n",
       "      <td>-1.165763e-01</td>\n",
       "      <td>-1.418721e-01</td>\n",
       "      <td>-8.809729e-02</td>\n",
       "      <td>1.000000e+00</td>\n",
       "      <td>3.596463e-02</td>\n",
       "      <td>-6.862642e-02</td>\n",
       "      <td>-6.023246e-02</td>\n",
       "      <td>8.532581e-02</td>\n",
       "      <td>-8.765704e-02</td>\n",
       "      <td>-9.612092e-03</td>\n",
       "      <td>1.371512e-01</td>\n",
       "    </tr>\n",
       "    <tr>\n",
       "      <th>thalach</th>\n",
       "      <td>-0.050502</td>\n",
       "      <td>3.963282e-15</td>\n",
       "      <td>2.889383e-01</td>\n",
       "      <td>-5.746576e-02</td>\n",
       "      <td>-1.611744e-02</td>\n",
       "      <td>-8.887169e-03</td>\n",
       "      <td>3.596463e-02</td>\n",
       "      <td>1.000000e+00</td>\n",
       "      <td>-3.734756e-01</td>\n",
       "      <td>-3.519064e-01</td>\n",
       "      <td>3.933771e-01</td>\n",
       "      <td>-2.283126e-01</td>\n",
       "      <td>-1.123215e-01</td>\n",
       "      <td>4.203153e-01</td>\n",
       "    </tr>\n",
       "    <tr>\n",
       "      <th>exang</th>\n",
       "      <td>0.012051</td>\n",
       "      <td>4.041910e-18</td>\n",
       "      <td>-3.924467e-01</td>\n",
       "      <td>6.245135e-02</td>\n",
       "      <td>8.029660e-02</td>\n",
       "      <td>2.777315e-02</td>\n",
       "      <td>-6.862642e-02</td>\n",
       "      <td>-3.734756e-01</td>\n",
       "      <td>1.000000e+00</td>\n",
       "      <td>3.013475e-01</td>\n",
       "      <td>-2.583466e-01</td>\n",
       "      <td>1.271498e-01</td>\n",
       "      <td>2.218600e-01</td>\n",
       "      <td>-4.392081e-01</td>\n",
       "    </tr>\n",
       "    <tr>\n",
       "      <th>oldpeak</th>\n",
       "      <td>0.009970</td>\n",
       "      <td>5.590717e-16</td>\n",
       "      <td>-1.479960e-01</td>\n",
       "      <td>1.913249e-01</td>\n",
       "      <td>5.077641e-02</td>\n",
       "      <td>1.267585e-02</td>\n",
       "      <td>-6.023246e-02</td>\n",
       "      <td>-3.519064e-01</td>\n",
       "      <td>3.013475e-01</td>\n",
       "      <td>1.000000e+00</td>\n",
       "      <td>-5.782988e-01</td>\n",
       "      <td>2.276249e-01</td>\n",
       "      <td>2.243560e-01</td>\n",
       "      <td>-4.448345e-01</td>\n",
       "    </tr>\n",
       "    <tr>\n",
       "      <th>slope</th>\n",
       "      <td>-0.009294</td>\n",
       "      <td>-3.324648e-16</td>\n",
       "      <td>1.213752e-01</td>\n",
       "      <td>-1.245611e-01</td>\n",
       "      <td>1.740363e-02</td>\n",
       "      <td>-5.847128e-02</td>\n",
       "      <td>8.532581e-02</td>\n",
       "      <td>3.933771e-01</td>\n",
       "      <td>-2.583466e-01</td>\n",
       "      <td>-5.782988e-01</td>\n",
       "      <td>1.000000e+00</td>\n",
       "      <td>-9.909767e-02</td>\n",
       "      <td>-1.180699e-01</td>\n",
       "      <td>3.512253e-01</td>\n",
       "    </tr>\n",
       "    <tr>\n",
       "      <th>ca</th>\n",
       "      <td>0.049028</td>\n",
       "      <td>2.195387e-17</td>\n",
       "      <td>-2.011471e-01</td>\n",
       "      <td>1.023758e-01</td>\n",
       "      <td>9.672408e-02</td>\n",
       "      <td>1.495954e-01</td>\n",
       "      <td>-8.765704e-02</td>\n",
       "      <td>-2.283126e-01</td>\n",
       "      <td>1.271498e-01</td>\n",
       "      <td>2.276249e-01</td>\n",
       "      <td>-9.909767e-02</td>\n",
       "      <td>1.000000e+00</td>\n",
       "      <td>1.645441e-01</td>\n",
       "      <td>-4.051702e-01</td>\n",
       "    </tr>\n",
       "    <tr>\n",
       "      <th>thal</th>\n",
       "      <td>0.007991</td>\n",
       "      <td>3.715688e-18</td>\n",
       "      <td>-1.680074e-01</td>\n",
       "      <td>4.947654e-02</td>\n",
       "      <td>7.529182e-02</td>\n",
       "      <td>-2.528089e-02</td>\n",
       "      <td>-9.612092e-03</td>\n",
       "      <td>-1.123215e-01</td>\n",
       "      <td>2.218600e-01</td>\n",
       "      <td>2.243560e-01</td>\n",
       "      <td>-1.180699e-01</td>\n",
       "      <td>1.645441e-01</td>\n",
       "      <td>1.000000e+00</td>\n",
       "      <td>-3.587463e-01</td>\n",
       "    </tr>\n",
       "    <tr>\n",
       "      <th>target</th>\n",
       "      <td>-0.023161</td>\n",
       "      <td>4.951044e-16</td>\n",
       "      <td>4.370111e-01</td>\n",
       "      <td>-1.420084e-01</td>\n",
       "      <td>-9.997542e-02</td>\n",
       "      <td>-3.404579e-02</td>\n",
       "      <td>1.371512e-01</td>\n",
       "      <td>4.203153e-01</td>\n",
       "      <td>-4.392081e-01</td>\n",
       "      <td>-4.448345e-01</td>\n",
       "      <td>3.512253e-01</td>\n",
       "      <td>-4.051702e-01</td>\n",
       "      <td>-3.587463e-01</td>\n",
       "      <td>1.000000e+00</td>\n",
       "    </tr>\n",
       "  </tbody>\n",
       "</table>\n",
       "</div>"
      ],
      "text/plain": [
       "               age           sex            cp      trestbps          chol  \\\n",
       "age       1.000000 -9.874843e-02  6.423732e-04  2.404178e-02  1.522131e-02   \n",
       "sex      -0.098748  1.000000e+00 -2.727016e-16 -5.097625e-15 -6.737121e-16   \n",
       "cp        0.000642 -2.727016e-16  1.000000e+00  4.760193e-02 -8.642138e-02   \n",
       "trestbps  0.024042 -5.097625e-15  4.760193e-02  1.000000e+00  1.422886e-01   \n",
       "chol      0.015221 -6.737121e-16 -8.642138e-02  1.422886e-01  1.000000e+00   \n",
       "fbs      -0.006485 -1.494135e-16  8.951821e-02  1.671421e-01  5.202561e-03   \n",
       "restecg  -0.007222  3.157680e-17  4.701292e-02 -1.165763e-01 -1.418721e-01   \n",
       "thalach  -0.050502  3.963282e-15  2.889383e-01 -5.746576e-02 -1.611744e-02   \n",
       "exang     0.012051  4.041910e-18 -3.924467e-01  6.245135e-02  8.029660e-02   \n",
       "oldpeak   0.009970  5.590717e-16 -1.479960e-01  1.913249e-01  5.077641e-02   \n",
       "slope    -0.009294 -3.324648e-16  1.213752e-01 -1.245611e-01  1.740363e-02   \n",
       "ca        0.049028  2.195387e-17 -2.011471e-01  1.023758e-01  9.672408e-02   \n",
       "thal      0.007991  3.715688e-18 -1.680074e-01  4.947654e-02  7.529182e-02   \n",
       "target   -0.023161  4.951044e-16  4.370111e-01 -1.420084e-01 -9.997542e-02   \n",
       "\n",
       "                   fbs       restecg       thalach         exang  \\\n",
       "age      -6.484766e-03 -7.222071e-03 -5.050231e-02  1.205085e-02   \n",
       "sex      -1.494135e-16  3.157680e-17  3.963282e-15  4.041910e-18   \n",
       "cp        8.951821e-02  4.701292e-02  2.889383e-01 -3.924467e-01   \n",
       "trestbps  1.671421e-01 -1.165763e-01 -5.746576e-02  6.245135e-02   \n",
       "chol      5.202561e-03 -1.418721e-01 -1.611744e-02  8.029660e-02   \n",
       "fbs       1.000000e+00 -8.809729e-02 -8.887169e-03  2.777315e-02   \n",
       "restecg  -8.809729e-02  1.000000e+00  3.596463e-02 -6.862642e-02   \n",
       "thalach  -8.887169e-03  3.596463e-02  1.000000e+00 -3.734756e-01   \n",
       "exang     2.777315e-02 -6.862642e-02 -3.734756e-01  1.000000e+00   \n",
       "oldpeak   1.267585e-02 -6.023246e-02 -3.519064e-01  3.013475e-01   \n",
       "slope    -5.847128e-02  8.532581e-02  3.933771e-01 -2.583466e-01   \n",
       "ca        1.495954e-01 -8.765704e-02 -2.283126e-01  1.271498e-01   \n",
       "thal     -2.528089e-02 -9.612092e-03 -1.123215e-01  2.218600e-01   \n",
       "target   -3.404579e-02  1.371512e-01  4.203153e-01 -4.392081e-01   \n",
       "\n",
       "               oldpeak         slope            ca          thal        target  \n",
       "age       9.969544e-03 -9.294172e-03  4.902799e-02  7.991357e-03 -2.316109e-02  \n",
       "sex       5.590717e-16 -3.324648e-16  2.195387e-17  3.715688e-18  4.951044e-16  \n",
       "cp       -1.479960e-01  1.213752e-01 -2.011471e-01 -1.680074e-01  4.370111e-01  \n",
       "trestbps  1.913249e-01 -1.245611e-01  1.023758e-01  4.947654e-02 -1.420084e-01  \n",
       "chol      5.077641e-02  1.740363e-02  9.672408e-02  7.529182e-02 -9.997542e-02  \n",
       "fbs       1.267585e-02 -5.847128e-02  1.495954e-01 -2.528089e-02 -3.404579e-02  \n",
       "restecg  -6.023246e-02  8.532581e-02 -8.765704e-02 -9.612092e-03  1.371512e-01  \n",
       "thalach  -3.519064e-01  3.933771e-01 -2.283126e-01 -1.123215e-01  4.203153e-01  \n",
       "exang     3.013475e-01 -2.583466e-01  1.271498e-01  2.218600e-01 -4.392081e-01  \n",
       "oldpeak   1.000000e+00 -5.782988e-01  2.276249e-01  2.243560e-01 -4.448345e-01  \n",
       "slope    -5.782988e-01  1.000000e+00 -9.909767e-02 -1.180699e-01  3.512253e-01  \n",
       "ca        2.276249e-01 -9.909767e-02  1.000000e+00  1.645441e-01 -4.051702e-01  \n",
       "thal      2.243560e-01 -1.180699e-01  1.645441e-01  1.000000e+00 -3.587463e-01  \n",
       "target   -4.448345e-01  3.512253e-01 -4.051702e-01 -3.587463e-01  1.000000e+00  "
      ]
     },
     "execution_count": 18,
     "metadata": {},
     "output_type": "execute_result"
    }
   ],
   "source": [
    "# Correlations\n",
    "raw_df.corr()"
   ]
  },
  {
   "cell_type": "markdown",
   "id": "7fdfdce0",
   "metadata": {},
   "source": [
    "# Form *features* and *target*"
   ]
  },
  {
   "cell_type": "code",
   "execution_count": 19,
   "id": "cf0d0514",
   "metadata": {},
   "outputs": [
    {
     "data": {
      "text/plain": [
       "Index(['age', 'sex', 'cp', 'trestbps', 'chol', 'fbs', 'restecg', 'thalach',\n",
       "       'exang', 'oldpeak', 'slope', 'ca', 'thal', 'target'],\n",
       "      dtype='object')"
      ]
     },
     "execution_count": 19,
     "metadata": {},
     "output_type": "execute_result"
    }
   ],
   "source": [
    "raw_df.columns"
   ]
  },
  {
   "cell_type": "code",
   "execution_count": 20,
   "id": "5ff79c48",
   "metadata": {},
   "outputs": [],
   "source": [
    "features = [\n",
    "    \"age\",\n",
    "    \"sex\",\n",
    "    \"cp\",\n",
    "    \"trestbps\",\n",
    "    \"chol\",\n",
    "    \"fbs\",\n",
    "    \"restecg\",\n",
    "    \"thalach\",\n",
    "    \"exang\",\n",
    "    \"oldpeak\",\n",
    "    \"slope\",\n",
    "    \"ca\",\n",
    "    \"thal\",\n",
    "]\n",
    "target = \"target\""
   ]
  },
  {
   "cell_type": "markdown",
   "id": "2914656f",
   "metadata": {},
   "source": [
    "# Train Test Split"
   ]
  },
  {
   "cell_type": "code",
   "execution_count": 23,
   "id": "f8d8f816",
   "metadata": {},
   "outputs": [
    {
     "data": {
      "text/plain": [
       "((20846, 13), (5212, 13), (20846,), (5212,))"
      ]
     },
     "execution_count": 23,
     "metadata": {},
     "output_type": "execute_result"
    }
   ],
   "source": [
    "# train test split\n",
    "train_x, test_x, train_y, test_y = train_test_split(raw_df[features], raw_df[target], test_size=0.2, random_state=42)\n",
    "\n",
    "# See the shape of train and test data\n",
    "train_x.shape, test_x.shape, train_y.shape, test_y.shape"
   ]
  },
  {
   "cell_type": "markdown",
   "id": "2c13cdc7",
   "metadata": {},
   "source": [
    "# Scale Data"
   ]
  },
  {
   "cell_type": "code",
   "execution_count": 24,
   "id": "2aaaf6b2",
   "metadata": {},
   "outputs": [],
   "source": [
    "# scaling the data\n",
    "scaler = StandardScaler()\n",
    "train_x[numerical_columns] = scaler.fit_transform(train_x[numerical_columns])\n",
    "test_x[numerical_columns] = scaler.transform(test_x[numerical_columns])"
   ]
  },
  {
   "cell_type": "code",
   "execution_count": 25,
   "id": "68e2a1a1",
   "metadata": {},
   "outputs": [
    {
     "data": {
      "text/html": [
       "<div>\n",
       "<style scoped>\n",
       "    .dataframe tbody tr th:only-of-type {\n",
       "        vertical-align: middle;\n",
       "    }\n",
       "\n",
       "    .dataframe tbody tr th {\n",
       "        vertical-align: top;\n",
       "    }\n",
       "\n",
       "    .dataframe thead th {\n",
       "        text-align: right;\n",
       "    }\n",
       "</style>\n",
       "<table border=\"1\" class=\"dataframe\">\n",
       "  <thead>\n",
       "    <tr style=\"text-align: right;\">\n",
       "      <th></th>\n",
       "      <th>age</th>\n",
       "      <th>sex</th>\n",
       "      <th>cp</th>\n",
       "      <th>trestbps</th>\n",
       "      <th>chol</th>\n",
       "      <th>fbs</th>\n",
       "      <th>restecg</th>\n",
       "      <th>thalach</th>\n",
       "      <th>exang</th>\n",
       "      <th>oldpeak</th>\n",
       "      <th>slope</th>\n",
       "      <th>ca</th>\n",
       "      <th>thal</th>\n",
       "    </tr>\n",
       "  </thead>\n",
       "  <tbody>\n",
       "    <tr>\n",
       "      <th>18547</th>\n",
       "      <td>-1.099787</td>\n",
       "      <td>1.0</td>\n",
       "      <td>0</td>\n",
       "      <td>-0.191283</td>\n",
       "      <td>0.366429</td>\n",
       "      <td>0</td>\n",
       "      <td>1</td>\n",
       "      <td>-1.967602</td>\n",
       "      <td>1</td>\n",
       "      <td>-0.740238</td>\n",
       "      <td>1</td>\n",
       "      <td>1</td>\n",
       "      <td>3</td>\n",
       "    </tr>\n",
       "    <tr>\n",
       "      <th>10988</th>\n",
       "      <td>0.676323</td>\n",
       "      <td>0.0</td>\n",
       "      <td>1</td>\n",
       "      <td>1.740437</td>\n",
       "      <td>1.183008</td>\n",
       "      <td>0</td>\n",
       "      <td>1</td>\n",
       "      <td>0.543054</td>\n",
       "      <td>0</td>\n",
       "      <td>-0.561069</td>\n",
       "      <td>2</td>\n",
       "      <td>2</td>\n",
       "      <td>2</td>\n",
       "    </tr>\n",
       "    <tr>\n",
       "      <th>14964</th>\n",
       "      <td>-0.113059</td>\n",
       "      <td>0.0</td>\n",
       "      <td>0</td>\n",
       "      <td>0.834943</td>\n",
       "      <td>-1.497047</td>\n",
       "      <td>0</td>\n",
       "      <td>1</td>\n",
       "      <td>-1.086670</td>\n",
       "      <td>1</td>\n",
       "      <td>1.409788</td>\n",
       "      <td>0</td>\n",
       "      <td>0</td>\n",
       "      <td>3</td>\n",
       "    </tr>\n",
       "    <tr>\n",
       "      <th>18504</th>\n",
       "      <td>0.018505</td>\n",
       "      <td>1.0</td>\n",
       "      <td>0</td>\n",
       "      <td>0.533112</td>\n",
       "      <td>-1.224854</td>\n",
       "      <td>0</td>\n",
       "      <td>0</td>\n",
       "      <td>-0.249785</td>\n",
       "      <td>1</td>\n",
       "      <td>2.663970</td>\n",
       "      <td>2</td>\n",
       "      <td>2</td>\n",
       "      <td>3</td>\n",
       "    </tr>\n",
       "    <tr>\n",
       "      <th>16150</th>\n",
       "      <td>-0.376187</td>\n",
       "      <td>0.0</td>\n",
       "      <td>0</td>\n",
       "      <td>-0.674214</td>\n",
       "      <td>-1.434234</td>\n",
       "      <td>0</td>\n",
       "      <td>0</td>\n",
       "      <td>-1.306903</td>\n",
       "      <td>1</td>\n",
       "      <td>1.320204</td>\n",
       "      <td>1</td>\n",
       "      <td>0</td>\n",
       "      <td>3</td>\n",
       "    </tr>\n",
       "    <tr>\n",
       "      <th>...</th>\n",
       "      <td>...</td>\n",
       "      <td>...</td>\n",
       "      <td>...</td>\n",
       "      <td>...</td>\n",
       "      <td>...</td>\n",
       "      <td>...</td>\n",
       "      <td>...</td>\n",
       "      <td>...</td>\n",
       "      <td>...</td>\n",
       "      <td>...</td>\n",
       "      <td>...</td>\n",
       "      <td>...</td>\n",
       "      <td>...</td>\n",
       "    </tr>\n",
       "    <tr>\n",
       "      <th>21597</th>\n",
       "      <td>0.150068</td>\n",
       "      <td>0.0</td>\n",
       "      <td>1</td>\n",
       "      <td>-1.277876</td>\n",
       "      <td>-0.345461</td>\n",
       "      <td>0</td>\n",
       "      <td>1</td>\n",
       "      <td>0.807334</td>\n",
       "      <td>0</td>\n",
       "      <td>-0.023563</td>\n",
       "      <td>0</td>\n",
       "      <td>0</td>\n",
       "      <td>3</td>\n",
       "    </tr>\n",
       "    <tr>\n",
       "      <th>5397</th>\n",
       "      <td>0.676323</td>\n",
       "      <td>0.0</td>\n",
       "      <td>2</td>\n",
       "      <td>1.136775</td>\n",
       "      <td>-2.502068</td>\n",
       "      <td>1</td>\n",
       "      <td>1</td>\n",
       "      <td>1.027567</td>\n",
       "      <td>0</td>\n",
       "      <td>-0.740238</td>\n",
       "      <td>2</td>\n",
       "      <td>1</td>\n",
       "      <td>3</td>\n",
       "    </tr>\n",
       "    <tr>\n",
       "      <th>861</th>\n",
       "      <td>0.215850</td>\n",
       "      <td>0.0</td>\n",
       "      <td>0</td>\n",
       "      <td>-0.674214</td>\n",
       "      <td>-0.177957</td>\n",
       "      <td>0</td>\n",
       "      <td>1</td>\n",
       "      <td>-2.914605</td>\n",
       "      <td>0</td>\n",
       "      <td>-0.023563</td>\n",
       "      <td>1</td>\n",
       "      <td>0</td>\n",
       "      <td>2</td>\n",
       "    </tr>\n",
       "    <tr>\n",
       "      <th>15811</th>\n",
       "      <td>-0.376187</td>\n",
       "      <td>1.0</td>\n",
       "      <td>0</td>\n",
       "      <td>0.533112</td>\n",
       "      <td>-0.094206</td>\n",
       "      <td>0</td>\n",
       "      <td>1</td>\n",
       "      <td>-1.174764</td>\n",
       "      <td>1</td>\n",
       "      <td>-0.740238</td>\n",
       "      <td>1</td>\n",
       "      <td>0</td>\n",
       "      <td>3</td>\n",
       "    </tr>\n",
       "    <tr>\n",
       "      <th>23679</th>\n",
       "      <td>1.728833</td>\n",
       "      <td>0.0</td>\n",
       "      <td>0</td>\n",
       "      <td>-1.519342</td>\n",
       "      <td>-0.471088</td>\n",
       "      <td>0</td>\n",
       "      <td>1</td>\n",
       "      <td>-0.337878</td>\n",
       "      <td>0</td>\n",
       "      <td>-0.650654</td>\n",
       "      <td>2</td>\n",
       "      <td>2</td>\n",
       "      <td>2</td>\n",
       "    </tr>\n",
       "  </tbody>\n",
       "</table>\n",
       "<p>20846 rows × 13 columns</p>\n",
       "</div>"
      ],
      "text/plain": [
       "            age  sex  cp  trestbps      chol  fbs  restecg   thalach  exang  \\\n",
       "18547 -1.099787  1.0   0 -0.191283  0.366429    0        1 -1.967602      1   \n",
       "10988  0.676323  0.0   1  1.740437  1.183008    0        1  0.543054      0   \n",
       "14964 -0.113059  0.0   0  0.834943 -1.497047    0        1 -1.086670      1   \n",
       "18504  0.018505  1.0   0  0.533112 -1.224854    0        0 -0.249785      1   \n",
       "16150 -0.376187  0.0   0 -0.674214 -1.434234    0        0 -1.306903      1   \n",
       "...         ...  ...  ..       ...       ...  ...      ...       ...    ...   \n",
       "21597  0.150068  0.0   1 -1.277876 -0.345461    0        1  0.807334      0   \n",
       "5397   0.676323  0.0   2  1.136775 -2.502068    1        1  1.027567      0   \n",
       "861    0.215850  0.0   0 -0.674214 -0.177957    0        1 -2.914605      0   \n",
       "15811 -0.376187  1.0   0  0.533112 -0.094206    0        1 -1.174764      1   \n",
       "23679  1.728833  0.0   0 -1.519342 -0.471088    0        1 -0.337878      0   \n",
       "\n",
       "        oldpeak  slope  ca  thal  \n",
       "18547 -0.740238      1   1     3  \n",
       "10988 -0.561069      2   2     2  \n",
       "14964  1.409788      0   0     3  \n",
       "18504  2.663970      2   2     3  \n",
       "16150  1.320204      1   0     3  \n",
       "...         ...    ...  ..   ...  \n",
       "21597 -0.023563      0   0     3  \n",
       "5397  -0.740238      2   1     3  \n",
       "861   -0.023563      1   0     2  \n",
       "15811 -0.740238      1   0     3  \n",
       "23679 -0.650654      2   2     2  \n",
       "\n",
       "[20846 rows x 13 columns]"
      ]
     },
     "execution_count": 25,
     "metadata": {},
     "output_type": "execute_result"
    }
   ],
   "source": [
    "train_x"
   ]
  },
  {
   "cell_type": "markdown",
   "id": "6b620625",
   "metadata": {},
   "source": [
    "# Train Model"
   ]
  },
  {
   "cell_type": "code",
   "execution_count": 27,
   "id": "29e82229",
   "metadata": {},
   "outputs": [],
   "source": [
    "# create model\n",
    "lr_model = LogisticRegression()\n",
    "rf_model = RandomForestClassifier(n_estimators=200)\n",
    "sv_model = SVC()"
   ]
  },
  {
   "cell_type": "code",
   "execution_count": 28,
   "id": "80845845",
   "metadata": {},
   "outputs": [
    {
     "data": {
      "text/html": [
       "<style>#sk-container-id-1 {color: black;background-color: white;}#sk-container-id-1 pre{padding: 0;}#sk-container-id-1 div.sk-toggleable {background-color: white;}#sk-container-id-1 label.sk-toggleable__label {cursor: pointer;display: block;width: 100%;margin-bottom: 0;padding: 0.3em;box-sizing: border-box;text-align: center;}#sk-container-id-1 label.sk-toggleable__label-arrow:before {content: \"▸\";float: left;margin-right: 0.25em;color: #696969;}#sk-container-id-1 label.sk-toggleable__label-arrow:hover:before {color: black;}#sk-container-id-1 div.sk-estimator:hover label.sk-toggleable__label-arrow:before {color: black;}#sk-container-id-1 div.sk-toggleable__content {max-height: 0;max-width: 0;overflow: hidden;text-align: left;background-color: #f0f8ff;}#sk-container-id-1 div.sk-toggleable__content pre {margin: 0.2em;color: black;border-radius: 0.25em;background-color: #f0f8ff;}#sk-container-id-1 input.sk-toggleable__control:checked~div.sk-toggleable__content {max-height: 200px;max-width: 100%;overflow: auto;}#sk-container-id-1 input.sk-toggleable__control:checked~label.sk-toggleable__label-arrow:before {content: \"▾\";}#sk-container-id-1 div.sk-estimator input.sk-toggleable__control:checked~label.sk-toggleable__label {background-color: #d4ebff;}#sk-container-id-1 div.sk-label input.sk-toggleable__control:checked~label.sk-toggleable__label {background-color: #d4ebff;}#sk-container-id-1 input.sk-hidden--visually {border: 0;clip: rect(1px 1px 1px 1px);clip: rect(1px, 1px, 1px, 1px);height: 1px;margin: -1px;overflow: hidden;padding: 0;position: absolute;width: 1px;}#sk-container-id-1 div.sk-estimator {font-family: monospace;background-color: #f0f8ff;border: 1px dotted black;border-radius: 0.25em;box-sizing: border-box;margin-bottom: 0.5em;}#sk-container-id-1 div.sk-estimator:hover {background-color: #d4ebff;}#sk-container-id-1 div.sk-parallel-item::after {content: \"\";width: 100%;border-bottom: 1px solid gray;flex-grow: 1;}#sk-container-id-1 div.sk-label:hover label.sk-toggleable__label {background-color: #d4ebff;}#sk-container-id-1 div.sk-serial::before {content: \"\";position: absolute;border-left: 1px solid gray;box-sizing: border-box;top: 0;bottom: 0;left: 50%;z-index: 0;}#sk-container-id-1 div.sk-serial {display: flex;flex-direction: column;align-items: center;background-color: white;padding-right: 0.2em;padding-left: 0.2em;position: relative;}#sk-container-id-1 div.sk-item {position: relative;z-index: 1;}#sk-container-id-1 div.sk-parallel {display: flex;align-items: stretch;justify-content: center;background-color: white;position: relative;}#sk-container-id-1 div.sk-item::before, #sk-container-id-1 div.sk-parallel-item::before {content: \"\";position: absolute;border-left: 1px solid gray;box-sizing: border-box;top: 0;bottom: 0;left: 50%;z-index: -1;}#sk-container-id-1 div.sk-parallel-item {display: flex;flex-direction: column;z-index: 1;position: relative;background-color: white;}#sk-container-id-1 div.sk-parallel-item:first-child::after {align-self: flex-end;width: 50%;}#sk-container-id-1 div.sk-parallel-item:last-child::after {align-self: flex-start;width: 50%;}#sk-container-id-1 div.sk-parallel-item:only-child::after {width: 0;}#sk-container-id-1 div.sk-dashed-wrapped {border: 1px dashed gray;margin: 0 0.4em 0.5em 0.4em;box-sizing: border-box;padding-bottom: 0.4em;background-color: white;}#sk-container-id-1 div.sk-label label {font-family: monospace;font-weight: bold;display: inline-block;line-height: 1.2em;}#sk-container-id-1 div.sk-label-container {text-align: center;}#sk-container-id-1 div.sk-container {/* jupyter's `normalize.less` sets `[hidden] { display: none; }` but bootstrap.min.css set `[hidden] { display: none !important; }` so we also need the `!important` here to be able to override the default hidden behavior on the sphinx rendered scikit-learn.org. See: https://github.com/scikit-learn/scikit-learn/issues/21755 */display: inline-block !important;position: relative;}#sk-container-id-1 div.sk-text-repr-fallback {display: none;}</style><div id=\"sk-container-id-1\" class=\"sk-top-container\"><div class=\"sk-text-repr-fallback\"><pre>SVC()</pre><b>In a Jupyter environment, please rerun this cell to show the HTML representation or trust the notebook. <br />On GitHub, the HTML representation is unable to render, please try loading this page with nbviewer.org.</b></div><div class=\"sk-container\" hidden><div class=\"sk-item\"><div class=\"sk-estimator sk-toggleable\"><input class=\"sk-toggleable__control sk-hidden--visually\" id=\"sk-estimator-id-1\" type=\"checkbox\" checked><label for=\"sk-estimator-id-1\" class=\"sk-toggleable__label sk-toggleable__label-arrow\">SVC</label><div class=\"sk-toggleable__content\"><pre>SVC()</pre></div></div></div></div></div>"
      ],
      "text/plain": [
       "SVC()"
      ]
     },
     "execution_count": 28,
     "metadata": {},
     "output_type": "execute_result"
    }
   ],
   "source": [
    "# Fit and train the model\n",
    "\n",
    "lr_model.fit(train_x, train_y)\n",
    "rf_model.fit(train_x, train_y)\n",
    "sv_model.fit(train_x, train_y)"
   ]
  },
  {
   "cell_type": "markdown",
   "id": "9a6402b5",
   "metadata": {},
   "source": [
    "# Model Evaluation"
   ]
  },
  {
   "cell_type": "code",
   "execution_count": 29,
   "id": "0b952db2",
   "metadata": {},
   "outputs": [],
   "source": [
    "y_pred_lr = lr_model.predict(test_x)\n",
    "y_pred_rf = rf_model.predict(test_x)\n",
    "y_pred_sv = sv_model.predict(test_x)"
   ]
  },
  {
   "cell_type": "code",
   "execution_count": 30,
   "id": "8a91d659",
   "metadata": {},
   "outputs": [
    {
     "name": "stdout",
     "output_type": "stream",
     "text": [
      "Logistic Regression:\n",
      "              precision    recall  f1-score   support\n",
      "\n",
      "           0       0.77      0.89      0.83      2013\n",
      "           1       0.92      0.83      0.88      3199\n",
      "\n",
      "    accuracy                           0.86      5212\n",
      "   macro avg       0.85      0.86      0.85      5212\n",
      "weighted avg       0.86      0.86      0.86      5212\n",
      "\n",
      "Random Forest:\n",
      "              precision    recall  f1-score   support\n",
      "\n",
      "           0       1.00      1.00      1.00      2319\n",
      "           1       1.00      1.00      1.00      2893\n",
      "\n",
      "    accuracy                           1.00      5212\n",
      "   macro avg       1.00      1.00      1.00      5212\n",
      "weighted avg       1.00      1.00      1.00      5212\n",
      "\n",
      "Support Vector:\n",
      "              precision    recall  f1-score   support\n",
      "\n",
      "           0       0.95      0.99      0.97      2246\n",
      "           1       0.99      0.96      0.98      2966\n",
      "\n",
      "    accuracy                           0.97      5212\n",
      "   macro avg       0.97      0.97      0.97      5212\n",
      "weighted avg       0.97      0.97      0.97      5212\n",
      "\n"
     ]
    }
   ],
   "source": [
    "print(\"Logistic Regression:\")\n",
    "print(classification_report(y_pred_lr, test_y))\n",
    "\n",
    "print(\"Random Forest:\")\n",
    "print(classification_report(y_pred_rf, test_y))\n",
    "\n",
    "print(\"Support Vector:\")\n",
    "print(classification_report(y_pred_sv, test_y))"
   ]
  },
  {
   "cell_type": "markdown",
   "id": "aa809a09",
   "metadata": {},
   "source": [
    "# K Nearest Neighbors (additional)"
   ]
  },
  {
   "cell_type": "code",
   "execution_count": 31,
   "id": "663bfd81",
   "metadata": {},
   "outputs": [
    {
     "name": "stdout",
     "output_type": "stream",
     "text": [
      "Neighbors: 3, Accuracy: 1.0\n",
      "Neighbors: 4, Accuracy: 1.0\n",
      "Neighbors: 5, Accuracy: 1.0\n",
      "Neighbors: 6, Accuracy: 1.0\n",
      "Neighbors: 7, Accuracy: 1.0\n",
      "Neighbors: 8, Accuracy: 1.0\n",
      "Neighbors: 9, Accuracy: 1.0\n"
     ]
    }
   ],
   "source": [
    "for neighbor in range(3, 10):\n",
    "    knn = KNeighborsClassifier(n_neighbors=neighbor)\n",
    "    knn.fit(train_x, train_y)\n",
    "    knn_pred = knn.predict(test_x)\n",
    "    accuracy = accuracy_score(knn_pred, test_y)\n",
    "    print(f\"Neighbors: {neighbor}, Accuracy: {accuracy}\")"
   ]
  },
  {
   "cell_type": "markdown",
   "id": "c9083bdb",
   "metadata": {},
   "source": [
    "# Author\n",
    "Shounak Deshpande<br>\n",
    "shounak.python@gmail.com"
   ]
  }
 ],
 "metadata": {
  "kernelspec": {
   "display_name": "Python 3 (ipykernel)",
   "language": "python",
   "name": "python3"
  },
  "language_info": {
   "codemirror_mode": {
    "name": "ipython",
    "version": 3
   },
   "file_extension": ".py",
   "mimetype": "text/x-python",
   "name": "python",
   "nbconvert_exporter": "python",
   "pygments_lexer": "ipython3",
   "version": "3.9.13"
  }
 },
 "nbformat": 4,
 "nbformat_minor": 5
}
