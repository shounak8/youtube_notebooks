{
 "cells": [
  {
   "cell_type": "markdown",
   "id": "f3de747d",
   "metadata": {},
   "source": [
    "**Kaggle Dataset Link:** https://www.kaggle.com/datasets/zhonglifr/thyroid-disease-unsupervised-anomaly-detection"
   ]
  },
  {
   "cell_type": "markdown",
   "id": "3efde67f",
   "metadata": {},
   "source": [
    "# Step 1: Import Libraries"
   ]
  },
  {
   "cell_type": "code",
   "execution_count": 1,
   "id": "d539ea2b",
   "metadata": {},
   "outputs": [],
   "source": [
    "# import pandas for reading the data\n",
    "import pandas as pd\n",
    "\n",
    "# sklearn for standardising numerical data\n",
    "from sklearn.preprocessing import StandardScaler\n",
    "\n",
    "# sklearn to create IsolationForst, OneClassSVM and KernelDensity\n",
    "from sklearn.ensemble import IsolationForest\n",
    "from sklearn.svm import OneClassSVM\n",
    "from sklearn.neighbors import KernelDensity\n",
    "\n",
    "# sklearn to import classification_report\n",
    "from sklearn.metrics import classification_report\n",
    "\n",
    "# numpy to import quantile\n",
    "from numpy import quantile"
   ]
  },
  {
   "cell_type": "markdown",
   "id": "eb51aeb3",
   "metadata": {},
   "source": [
    "# Step 2: Read and Explore Dataset"
   ]
  },
  {
   "cell_type": "code",
   "execution_count": 3,
   "id": "63091e41",
   "metadata": {},
   "outputs": [
    {
     "data": {
      "text/html": [
       "<div>\n",
       "<style scoped>\n",
       "    .dataframe tbody tr th:only-of-type {\n",
       "        vertical-align: middle;\n",
       "    }\n",
       "\n",
       "    .dataframe tbody tr th {\n",
       "        vertical-align: top;\n",
       "    }\n",
       "\n",
       "    .dataframe thead th {\n",
       "        text-align: right;\n",
       "    }\n",
       "</style>\n",
       "<table border=\"1\" class=\"dataframe\">\n",
       "  <thead>\n",
       "    <tr style=\"text-align: right;\">\n",
       "      <th></th>\n",
       "      <th>Age</th>\n",
       "      <th>Sex</th>\n",
       "      <th>on_thyroxine</th>\n",
       "      <th>query_on_thyroxine</th>\n",
       "      <th>on_antithyroid_medication</th>\n",
       "      <th>sick</th>\n",
       "      <th>pregnant</th>\n",
       "      <th>thyroid_surgery</th>\n",
       "      <th>I131_treatment</th>\n",
       "      <th>query_hypothyroid</th>\n",
       "      <th>...</th>\n",
       "      <th>hypopituitary</th>\n",
       "      <th>psych</th>\n",
       "      <th>TSH</th>\n",
       "      <th>T3_measured</th>\n",
       "      <th>TT4_measured</th>\n",
       "      <th>T4U_measured</th>\n",
       "      <th>FTI_measured</th>\n",
       "      <th>Outlier_label</th>\n",
       "      <th>Unnamed: 22</th>\n",
       "      <th>Unnamed: 23</th>\n",
       "    </tr>\n",
       "  </thead>\n",
       "  <tbody>\n",
       "    <tr>\n",
       "      <th>0</th>\n",
       "      <td>0.45</td>\n",
       "      <td>1.0</td>\n",
       "      <td>0.0</td>\n",
       "      <td>0.0</td>\n",
       "      <td>0.0</td>\n",
       "      <td>0.0</td>\n",
       "      <td>0.0</td>\n",
       "      <td>0.0</td>\n",
       "      <td>0.0</td>\n",
       "      <td>0.0</td>\n",
       "      <td>...</td>\n",
       "      <td>0.0</td>\n",
       "      <td>0.0</td>\n",
       "      <td>61.0</td>\n",
       "      <td>6.0</td>\n",
       "      <td>23.0</td>\n",
       "      <td>87.0</td>\n",
       "      <td>26.0</td>\n",
       "      <td>o</td>\n",
       "      <td>NaN</td>\n",
       "      <td>NaN</td>\n",
       "    </tr>\n",
       "    <tr>\n",
       "      <th>1</th>\n",
       "      <td>0.61</td>\n",
       "      <td>0.0</td>\n",
       "      <td>0.0</td>\n",
       "      <td>0.0</td>\n",
       "      <td>0.0</td>\n",
       "      <td>1.0</td>\n",
       "      <td>0.0</td>\n",
       "      <td>0.0</td>\n",
       "      <td>0.0</td>\n",
       "      <td>0.0</td>\n",
       "      <td>...</td>\n",
       "      <td>0.0</td>\n",
       "      <td>0.0</td>\n",
       "      <td>29.0</td>\n",
       "      <td>15.0</td>\n",
       "      <td>61.0</td>\n",
       "      <td>96.0</td>\n",
       "      <td>64.0</td>\n",
       "      <td>o</td>\n",
       "      <td>NaN</td>\n",
       "      <td>NaN</td>\n",
       "    </tr>\n",
       "    <tr>\n",
       "      <th>2</th>\n",
       "      <td>0.16</td>\n",
       "      <td>0.0</td>\n",
       "      <td>1.0</td>\n",
       "      <td>0.0</td>\n",
       "      <td>0.0</td>\n",
       "      <td>0.0</td>\n",
       "      <td>0.0</td>\n",
       "      <td>0.0</td>\n",
       "      <td>0.0</td>\n",
       "      <td>0.0</td>\n",
       "      <td>...</td>\n",
       "      <td>0.0</td>\n",
       "      <td>0.0</td>\n",
       "      <td>29.0</td>\n",
       "      <td>19.0</td>\n",
       "      <td>58.0</td>\n",
       "      <td>103.0</td>\n",
       "      <td>56.0</td>\n",
       "      <td>o</td>\n",
       "      <td>NaN</td>\n",
       "      <td>NaN</td>\n",
       "    </tr>\n",
       "  </tbody>\n",
       "</table>\n",
       "<p>3 rows × 24 columns</p>\n",
       "</div>"
      ],
      "text/plain": [
       "    Age  Sex  on_thyroxine  query_on_thyroxine  on_antithyroid_medication  \\\n",
       "0  0.45  1.0           0.0                 0.0                        0.0   \n",
       "1  0.61  0.0           0.0                 0.0                        0.0   \n",
       "2  0.16  0.0           1.0                 0.0                        0.0   \n",
       "\n",
       "   sick  pregnant  thyroid_surgery  I131_treatment  query_hypothyroid  ...  \\\n",
       "0   0.0       0.0              0.0             0.0                0.0  ...   \n",
       "1   1.0       0.0              0.0             0.0                0.0  ...   \n",
       "2   0.0       0.0              0.0             0.0                0.0  ...   \n",
       "\n",
       "   hypopituitary  psych   TSH  T3_measured  TT4_measured  T4U_measured  \\\n",
       "0            0.0    0.0  61.0          6.0          23.0          87.0   \n",
       "1            0.0    0.0  29.0         15.0          61.0          96.0   \n",
       "2            0.0    0.0  29.0         19.0          58.0         103.0   \n",
       "\n",
       "   FTI_measured  Outlier_label   Unnamed: 22  Unnamed: 23  \n",
       "0          26.0               o          NaN          NaN  \n",
       "1          64.0               o          NaN          NaN  \n",
       "2          56.0               o          NaN          NaN  \n",
       "\n",
       "[3 rows x 24 columns]"
      ]
     },
     "execution_count": 3,
     "metadata": {},
     "output_type": "execute_result"
    }
   ],
   "source": [
    "CSV_PATH = \"../../../dataset/annthyroid_unsupervised_anomaly_detection.csv\"\n",
    "raw_df = pd.read_csv(CSV_PATH, sep=\";\")\n",
    "\n",
    "raw_df.head(3)"
   ]
  },
  {
   "cell_type": "markdown",
   "id": "200afbfb",
   "metadata": {},
   "source": [
    "# Step 3: Data Proprocessing"
   ]
  },
  {
   "cell_type": "code",
   "execution_count": 4,
   "id": "8e3162f2",
   "metadata": {},
   "outputs": [],
   "source": [
    "# Remove unwanted columns and make the columns names in similar format\n",
    "\n",
    "raw_df.drop([\"Unnamed: 22\", \"Unnamed: 23\"], axis=1, inplace=True)"
   ]
  },
  {
   "cell_type": "code",
   "execution_count": 5,
   "id": "4efbe7d9",
   "metadata": {},
   "outputs": [],
   "source": [
    "# Remove duplicate rows\n",
    "\n",
    "raw_df.drop_duplicates(inplace=True)"
   ]
  },
  {
   "cell_type": "code",
   "execution_count": 6,
   "id": "35fa2247",
   "metadata": {},
   "outputs": [
    {
     "data": {
      "text/plain": [
       "Age                          0\n",
       "Sex                          0\n",
       "on_thyroxine                 0\n",
       "query_on_thyroxine           0\n",
       "on_antithyroid_medication    0\n",
       "sick                         0\n",
       "pregnant                     0\n",
       "thyroid_surgery              0\n",
       "I131_treatment               0\n",
       "query_hypothyroid            0\n",
       "query_hyperthyroid           0\n",
       "lithium                      0\n",
       "goitre                       0\n",
       "tumor                        0\n",
       "hypopituitary                0\n",
       "psych                        0\n",
       "TSH                          0\n",
       "T3_measured                  0\n",
       "TT4_measured                 0\n",
       "T4U_measured                 0\n",
       "FTI_measured                 0\n",
       "Outlier_label                0\n",
       "dtype: int64"
      ]
     },
     "execution_count": 6,
     "metadata": {},
     "output_type": "execute_result"
    }
   ],
   "source": [
    "# Check for missing values\n",
    "\n",
    "raw_df.isna().sum()"
   ]
  },
  {
   "cell_type": "code",
   "execution_count": 8,
   "id": "8adc55c0",
   "metadata": {},
   "outputs": [],
   "source": [
    "# Conver column names to lower case format\n",
    "\n",
    "raw_df.columns = [item.strip().lower() for item in raw_df.columns]"
   ]
  },
  {
   "cell_type": "code",
   "execution_count": 10,
   "id": "7d56f011",
   "metadata": {},
   "outputs": [
    {
     "data": {
      "text/plain": [
       "Index(['age', 'sex', 'on_thyroxine', 'query_on_thyroxine',\n",
       "       'on_antithyroid_medication', 'sick', 'pregnant', 'thyroid_surgery',\n",
       "       'i131_treatment', 'query_hypothyroid', 'query_hyperthyroid', 'lithium',\n",
       "       'goitre', 'tumor', 'hypopituitary', 'psych', 'tsh', 't3_measured',\n",
       "       'tt4_measured', 't4u_measured', 'fti_measured', 'outlier_label'],\n",
       "      dtype='object')"
      ]
     },
     "execution_count": 10,
     "metadata": {},
     "output_type": "execute_result"
    }
   ],
   "source": [
    "raw_df.columns"
   ]
  },
  {
   "cell_type": "code",
   "execution_count": 12,
   "id": "46f02772",
   "metadata": {},
   "outputs": [],
   "source": [
    "# Create feature and target dataframes\n",
    "\n",
    "target_name = 'outlier_label'\n",
    "feature_names = [col_name for col_name in raw_df.columns if col_name != target_name]\n",
    "\n",
    "features = raw_df[feature_names].copy()\n",
    "target = raw_df[target_name].copy()"
   ]
  },
  {
   "cell_type": "code",
   "execution_count": 13,
   "id": "008d74c3",
   "metadata": {},
   "outputs": [
    {
     "data": {
      "text/html": [
       "<div>\n",
       "<style scoped>\n",
       "    .dataframe tbody tr th:only-of-type {\n",
       "        vertical-align: middle;\n",
       "    }\n",
       "\n",
       "    .dataframe tbody tr th {\n",
       "        vertical-align: top;\n",
       "    }\n",
       "\n",
       "    .dataframe thead th {\n",
       "        text-align: right;\n",
       "    }\n",
       "</style>\n",
       "<table border=\"1\" class=\"dataframe\">\n",
       "  <thead>\n",
       "    <tr style=\"text-align: right;\">\n",
       "      <th></th>\n",
       "      <th>age</th>\n",
       "      <th>sex</th>\n",
       "      <th>on_thyroxine</th>\n",
       "      <th>query_on_thyroxine</th>\n",
       "      <th>on_antithyroid_medication</th>\n",
       "      <th>sick</th>\n",
       "      <th>pregnant</th>\n",
       "      <th>thyroid_surgery</th>\n",
       "      <th>i131_treatment</th>\n",
       "      <th>query_hypothyroid</th>\n",
       "      <th>...</th>\n",
       "      <th>lithium</th>\n",
       "      <th>goitre</th>\n",
       "      <th>tumor</th>\n",
       "      <th>hypopituitary</th>\n",
       "      <th>psych</th>\n",
       "      <th>tsh</th>\n",
       "      <th>t3_measured</th>\n",
       "      <th>tt4_measured</th>\n",
       "      <th>t4u_measured</th>\n",
       "      <th>fti_measured</th>\n",
       "    </tr>\n",
       "  </thead>\n",
       "  <tbody>\n",
       "    <tr>\n",
       "      <th>0</th>\n",
       "      <td>0.45</td>\n",
       "      <td>1.0</td>\n",
       "      <td>0.0</td>\n",
       "      <td>0.0</td>\n",
       "      <td>0.0</td>\n",
       "      <td>0.0</td>\n",
       "      <td>0.0</td>\n",
       "      <td>0.0</td>\n",
       "      <td>0.0</td>\n",
       "      <td>0.0</td>\n",
       "      <td>...</td>\n",
       "      <td>0.0</td>\n",
       "      <td>0.0</td>\n",
       "      <td>0.0</td>\n",
       "      <td>0.0</td>\n",
       "      <td>0.0</td>\n",
       "      <td>61.0</td>\n",
       "      <td>6.0</td>\n",
       "      <td>23.0</td>\n",
       "      <td>87.0</td>\n",
       "      <td>26.0</td>\n",
       "    </tr>\n",
       "    <tr>\n",
       "      <th>1</th>\n",
       "      <td>0.61</td>\n",
       "      <td>0.0</td>\n",
       "      <td>0.0</td>\n",
       "      <td>0.0</td>\n",
       "      <td>0.0</td>\n",
       "      <td>1.0</td>\n",
       "      <td>0.0</td>\n",
       "      <td>0.0</td>\n",
       "      <td>0.0</td>\n",
       "      <td>0.0</td>\n",
       "      <td>...</td>\n",
       "      <td>0.0</td>\n",
       "      <td>0.0</td>\n",
       "      <td>0.0</td>\n",
       "      <td>0.0</td>\n",
       "      <td>0.0</td>\n",
       "      <td>29.0</td>\n",
       "      <td>15.0</td>\n",
       "      <td>61.0</td>\n",
       "      <td>96.0</td>\n",
       "      <td>64.0</td>\n",
       "    </tr>\n",
       "    <tr>\n",
       "      <th>2</th>\n",
       "      <td>0.16</td>\n",
       "      <td>0.0</td>\n",
       "      <td>1.0</td>\n",
       "      <td>0.0</td>\n",
       "      <td>0.0</td>\n",
       "      <td>0.0</td>\n",
       "      <td>0.0</td>\n",
       "      <td>0.0</td>\n",
       "      <td>0.0</td>\n",
       "      <td>0.0</td>\n",
       "      <td>...</td>\n",
       "      <td>0.0</td>\n",
       "      <td>0.0</td>\n",
       "      <td>1.0</td>\n",
       "      <td>0.0</td>\n",
       "      <td>0.0</td>\n",
       "      <td>29.0</td>\n",
       "      <td>19.0</td>\n",
       "      <td>58.0</td>\n",
       "      <td>103.0</td>\n",
       "      <td>56.0</td>\n",
       "    </tr>\n",
       "  </tbody>\n",
       "</table>\n",
       "<p>3 rows × 21 columns</p>\n",
       "</div>"
      ],
      "text/plain": [
       "    age  sex  on_thyroxine  query_on_thyroxine  on_antithyroid_medication  \\\n",
       "0  0.45  1.0           0.0                 0.0                        0.0   \n",
       "1  0.61  0.0           0.0                 0.0                        0.0   \n",
       "2  0.16  0.0           1.0                 0.0                        0.0   \n",
       "\n",
       "   sick  pregnant  thyroid_surgery  i131_treatment  query_hypothyroid  ...  \\\n",
       "0   0.0       0.0              0.0             0.0                0.0  ...   \n",
       "1   1.0       0.0              0.0             0.0                0.0  ...   \n",
       "2   0.0       0.0              0.0             0.0                0.0  ...   \n",
       "\n",
       "   lithium  goitre  tumor  hypopituitary  psych   tsh  t3_measured  \\\n",
       "0      0.0     0.0    0.0            0.0    0.0  61.0          6.0   \n",
       "1      0.0     0.0    0.0            0.0    0.0  29.0         15.0   \n",
       "2      0.0     0.0    1.0            0.0    0.0  29.0         19.0   \n",
       "\n",
       "   tt4_measured  t4u_measured  fti_measured  \n",
       "0          23.0          87.0          26.0  \n",
       "1          61.0          96.0          64.0  \n",
       "2          58.0         103.0          56.0  \n",
       "\n",
       "[3 rows x 21 columns]"
      ]
     },
     "execution_count": 13,
     "metadata": {},
     "output_type": "execute_result"
    }
   ],
   "source": [
    "features.head(3)"
   ]
  },
  {
   "cell_type": "code",
   "execution_count": 15,
   "id": "2460e4c8",
   "metadata": {},
   "outputs": [],
   "source": [
    "target = target.map(lambda label: -1 if label == 'o' else 1)"
   ]
  },
  {
   "cell_type": "code",
   "execution_count": 16,
   "id": "47bb83f6",
   "metadata": {},
   "outputs": [
    {
     "data": {
      "text/plain": [
       "0      -1\n",
       "1      -1\n",
       "2      -1\n",
       "3      -1\n",
       "4      -1\n",
       "       ..\n",
       "6911    1\n",
       "6912    1\n",
       "6913    1\n",
       "6914    1\n",
       "6915    1\n",
       "Name: outlier_label, Length: 6845, dtype: int64"
      ]
     },
     "execution_count": 16,
     "metadata": {},
     "output_type": "execute_result"
    }
   ],
   "source": [
    "target"
   ]
  },
  {
   "cell_type": "code",
   "execution_count": null,
   "id": "9f62a0f6",
   "metadata": {},
   "outputs": [],
   "source": [
    "# Check impurity as target column is already given\n",
    "\n",
    "# If target column is not given, we assume impurity and adjust the impurity as hyperparameter to get the optimum results.\n",
    "\n",
    "# impurity is used in IsolationForest as contamination, OneClassSVM as nu and quantile threshold in Kernel Density."
   ]
  },
  {
   "cell_type": "code",
   "execution_count": 17,
   "id": "41836b08",
   "metadata": {},
   "outputs": [
    {
     "data": {
      "text/plain": [
       " 1    6595\n",
       "-1     250\n",
       "Name: outlier_label, dtype: int64"
      ]
     },
     "execution_count": 17,
     "metadata": {},
     "output_type": "execute_result"
    }
   ],
   "source": [
    "target.value_counts()"
   ]
  },
  {
   "cell_type": "code",
   "execution_count": 18,
   "id": "9fad947b",
   "metadata": {},
   "outputs": [],
   "source": [
    "impurity = (250 / (250 + 6595))"
   ]
  },
  {
   "cell_type": "markdown",
   "id": "ec58eb6d",
   "metadata": {},
   "source": [
    "### On reading the database information on Kaggle and analysing the dataset, we form list of categorical and numerical columns\n",
    "\n",
    "* **Categorical Columns:** 'sex', 'on_thyroxine', 'query_on_thyroxine', 'on_antithyroid_medication', 'sick', 'pregnant', 'thyroid_surgery', 'i131_treatment', 'query_hypothyroid', 'query_hyperthyroid', 'lithium', 'goitre', 'tumor', 'hypopituitary', 'psych'\n",
    "<br><br>\n",
    "* **Numerical Columns:** 'age', 'tsh', 't3_measured', 'tt4_measured', 't4u_measured', 'fti_measured'"
   ]
  },
  {
   "cell_type": "code",
   "execution_count": 19,
   "id": "7bd1eeda",
   "metadata": {},
   "outputs": [],
   "source": [
    "# Form categorical and numerical columns\n",
    "categorical_col = ['sex', 'on_thyroxine', 'query_on_thyroxine', 'on_antithyroid_medication', 'sick', 'pregnant', 'thyroid_surgery', 'i131_treatment', 'query_hypothyroid', 'query_hyperthyroid', 'lithium', 'goitre', 'tumor', 'hypopituitary', 'psych']\n",
    "numerical_col = ['age', 'tsh', 't3_measured', 'tt4_measured', 't4u_measured', 'fti_measured']"
   ]
  },
  {
   "cell_type": "code",
   "execution_count": 20,
   "id": "cb309093",
   "metadata": {},
   "outputs": [],
   "source": [
    "# scale the numerical columns\n",
    "scaler = StandardScaler()\n",
    "features[numerical_col] = scaler.fit_transform(features[numerical_col])"
   ]
  },
  {
   "cell_type": "code",
   "execution_count": 21,
   "id": "17229f2c",
   "metadata": {},
   "outputs": [
    {
     "name": "stdout",
     "output_type": "stream",
     "text": [
      "<class 'pandas.core.frame.DataFrame'>\n",
      "Int64Index: 6845 entries, 0 to 6915\n",
      "Data columns (total 21 columns):\n",
      " #   Column                     Non-Null Count  Dtype  \n",
      "---  ------                     --------------  -----  \n",
      " 0   age                        6845 non-null   float64\n",
      " 1   sex                        6845 non-null   float64\n",
      " 2   on_thyroxine               6845 non-null   float64\n",
      " 3   query_on_thyroxine         6845 non-null   float64\n",
      " 4   on_antithyroid_medication  6845 non-null   float64\n",
      " 5   sick                       6845 non-null   float64\n",
      " 6   pregnant                   6845 non-null   float64\n",
      " 7   thyroid_surgery            6845 non-null   float64\n",
      " 8   i131_treatment             6845 non-null   float64\n",
      " 9   query_hypothyroid          6845 non-null   float64\n",
      " 10  query_hyperthyroid         6845 non-null   float64\n",
      " 11  lithium                    6845 non-null   float64\n",
      " 12  goitre                     6845 non-null   float64\n",
      " 13  tumor                      6845 non-null   float64\n",
      " 14  hypopituitary              6845 non-null   float64\n",
      " 15  psych                      6845 non-null   float64\n",
      " 16  tsh                        6845 non-null   float64\n",
      " 17  t3_measured                6845 non-null   float64\n",
      " 18  tt4_measured               6845 non-null   float64\n",
      " 19  t4u_measured               6845 non-null   float64\n",
      " 20  fti_measured               6845 non-null   float64\n",
      "dtypes: float64(21)\n",
      "memory usage: 1.1 MB\n"
     ]
    }
   ],
   "source": [
    "# Checking the data types of columns\n",
    "features.info()"
   ]
  },
  {
   "cell_type": "code",
   "execution_count": 22,
   "id": "3721ec77",
   "metadata": {},
   "outputs": [],
   "source": [
    "# Convert categorical column data types to category\n",
    "for col in categorical_col:\n",
    "    features[col] = features[col].astype('category')"
   ]
  },
  {
   "cell_type": "code",
   "execution_count": 23,
   "id": "3ad8c1f1",
   "metadata": {},
   "outputs": [
    {
     "name": "stdout",
     "output_type": "stream",
     "text": [
      "<class 'pandas.core.frame.DataFrame'>\n",
      "Int64Index: 6845 entries, 0 to 6915\n",
      "Data columns (total 21 columns):\n",
      " #   Column                     Non-Null Count  Dtype   \n",
      "---  ------                     --------------  -----   \n",
      " 0   age                        6845 non-null   float64 \n",
      " 1   sex                        6845 non-null   category\n",
      " 2   on_thyroxine               6845 non-null   category\n",
      " 3   query_on_thyroxine         6845 non-null   category\n",
      " 4   on_antithyroid_medication  6845 non-null   category\n",
      " 5   sick                       6845 non-null   category\n",
      " 6   pregnant                   6845 non-null   category\n",
      " 7   thyroid_surgery            6845 non-null   category\n",
      " 8   i131_treatment             6845 non-null   category\n",
      " 9   query_hypothyroid          6845 non-null   category\n",
      " 10  query_hyperthyroid         6845 non-null   category\n",
      " 11  lithium                    6845 non-null   category\n",
      " 12  goitre                     6845 non-null   category\n",
      " 13  tumor                      6845 non-null   category\n",
      " 14  hypopituitary              6845 non-null   category\n",
      " 15  psych                      6845 non-null   category\n",
      " 16  tsh                        6845 non-null   float64 \n",
      " 17  t3_measured                6845 non-null   float64 \n",
      " 18  tt4_measured               6845 non-null   float64 \n",
      " 19  t4u_measured               6845 non-null   float64 \n",
      " 20  fti_measured               6845 non-null   float64 \n",
      "dtypes: category(15), float64(6)\n",
      "memory usage: 476.4 KB\n"
     ]
    }
   ],
   "source": [
    "features.info()"
   ]
  },
  {
   "cell_type": "markdown",
   "id": "827b89f7",
   "metadata": {},
   "source": [
    "# Step 4: Build Machine Learning Model"
   ]
  },
  {
   "cell_type": "code",
   "execution_count": 24,
   "id": "38489233",
   "metadata": {},
   "outputs": [
    {
     "name": "stderr",
     "output_type": "stream",
     "text": [
      "C:\\Users\\shoun\\AppData\\Roaming\\Python\\Python39\\site-packages\\sklearn\\base.py:450: UserWarning: X does not have valid feature names, but IsolationForest was fitted with feature names\n",
      "  warnings.warn(\n"
     ]
    }
   ],
   "source": [
    "# Isolation Forest\n",
    "IF = IsolationForest(n_estimators=300, contamination=impurity)\n",
    "IF.fit(features)\n",
    "IF_pred = IF.predict(features)\n",
    "\n",
    "# OneClassSVM Forest\n",
    "OC = OneClassSVM(nu=impurity)\n",
    "OC.fit(features)\n",
    "OC_pred = OC.predict(features)\n",
    "\n",
    "# Kernel Density\n",
    "KD = KernelDensity()\n",
    "KD.fit(features)\n",
    "scores = KD.score_samples(features)\n",
    "threshold = quantile(scores, impurity)\n",
    "KD_pred = [-1 if score < threshold else 1 for score in scores]"
   ]
  },
  {
   "cell_type": "code",
   "execution_count": 25,
   "id": "aa129395",
   "metadata": {},
   "outputs": [
    {
     "name": "stdout",
     "output_type": "stream",
     "text": [
      "For Isolation Forest:\n",
      "              precision    recall  f1-score   support\n",
      "\n",
      "          -1       0.06      0.06      0.06       250\n",
      "           1       0.96      0.96      0.96      6595\n",
      "\n",
      "    accuracy                           0.93      6845\n",
      "   macro avg       0.51      0.51      0.51      6845\n",
      "weighted avg       0.93      0.93      0.93      6845\n",
      "\n",
      "\n",
      "\n",
      "For OneClassSVM:\n",
      "              precision    recall  f1-score   support\n",
      "\n",
      "          -1       0.17      0.17      0.17       252\n",
      "           1       0.97      0.97      0.97      6593\n",
      "\n",
      "    accuracy                           0.94      6845\n",
      "   macro avg       0.57      0.57      0.57      6845\n",
      "weighted avg       0.94      0.94      0.94      6845\n",
      "\n",
      "\n",
      "\n",
      "For Kernel Density:\n",
      "              precision    recall  f1-score   support\n",
      "\n",
      "          -1       0.22      0.22      0.22       250\n",
      "           1       0.97      0.97      0.97      6595\n",
      "\n",
      "    accuracy                           0.94      6845\n",
      "   macro avg       0.60      0.60      0.60      6845\n",
      "weighted avg       0.94      0.94      0.94      6845\n",
      "\n",
      "\n",
      "\n"
     ]
    }
   ],
   "source": [
    "print(f\"For Isolation Forest:\\n{classification_report(IF_pred, target)}\\n\\n\")\n",
    "print(f\"For OneClassSVM:\\n{classification_report(OC_pred, target)}\\n\\n\")\n",
    "print(f\"For Kernel Density:\\n{classification_report(KD_pred, target)}\\n\\n\")"
   ]
  },
  {
   "cell_type": "markdown",
   "id": "371b64e6",
   "metadata": {},
   "source": [
    "Kernel Density gives the best outlier estimates"
   ]
  },
  {
   "cell_type": "markdown",
   "id": "2a55bafe",
   "metadata": {},
   "source": [
    "# Author\n",
    "Name: Shounak Deshpande <br> Email: shounak.python@gmail.com"
   ]
  }
 ],
 "metadata": {
  "kernelspec": {
   "display_name": "Python 3 (ipykernel)",
   "language": "python",
   "name": "python3"
  },
  "language_info": {
   "codemirror_mode": {
    "name": "ipython",
    "version": 3
   },
   "file_extension": ".py",
   "mimetype": "text/x-python",
   "name": "python",
   "nbconvert_exporter": "python",
   "pygments_lexer": "ipython3",
   "version": "3.9.13"
  }
 },
 "nbformat": 4,
 "nbformat_minor": 5
}
