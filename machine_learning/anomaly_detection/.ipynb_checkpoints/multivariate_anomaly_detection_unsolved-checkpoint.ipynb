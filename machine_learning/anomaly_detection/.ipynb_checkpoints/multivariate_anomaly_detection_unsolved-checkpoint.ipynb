{
 "cells": [
  {
   "cell_type": "markdown",
   "id": "f3de747d",
   "metadata": {},
   "source": [
    "**Kaggle Dataset Link:** https://www.kaggle.com/datasets/zhonglifr/thyroid-disease-unsupervised-anomaly-detection"
   ]
  },
  {
   "cell_type": "markdown",
   "id": "3efde67f",
   "metadata": {},
   "source": [
    "# Step 1: Import Libraries"
   ]
  },
  {
   "cell_type": "code",
   "execution_count": null,
   "id": "d539ea2b",
   "metadata": {},
   "outputs": [],
   "source": [
    "# import pandas for reading the data\n",
    "\n",
    "\n",
    "# sklearn for standardising and normalizing numerical data\n",
    "\n",
    "\n",
    "# sklearn to create IsolationForst, OneClassSVM and KernelDensity\n",
    "\n",
    "\n",
    "# sklearn to import classification_report\n",
    "\n",
    "\n",
    "# numpy to import quantile\n"
   ]
  },
  {
   "cell_type": "markdown",
   "id": "eb51aeb3",
   "metadata": {},
   "source": [
    "# Step 2: Read and Explore Dataset"
   ]
  },
  {
   "cell_type": "code",
   "execution_count": null,
   "id": "63091e41",
   "metadata": {},
   "outputs": [],
   "source": [
    "CSV_PATH = \"../../../dataset/annthyroid_unsupervised_anomaly_detection.csv\"\n"
   ]
  },
  {
   "cell_type": "markdown",
   "id": "200afbfb",
   "metadata": {},
   "source": [
    "# Step 3: Data Proprocessing"
   ]
  },
  {
   "cell_type": "code",
   "execution_count": null,
   "id": "8e3162f2",
   "metadata": {},
   "outputs": [],
   "source": [
    "# Remove unwanted columns and make the columns names in similar format"
   ]
  },
  {
   "cell_type": "code",
   "execution_count": null,
   "id": "5bd01d99",
   "metadata": {},
   "outputs": [],
   "source": []
  },
  {
   "cell_type": "code",
   "execution_count": null,
   "id": "4efbe7d9",
   "metadata": {},
   "outputs": [],
   "source": [
    "# Remove duplicate rows"
   ]
  },
  {
   "cell_type": "code",
   "execution_count": null,
   "id": "b0587d67",
   "metadata": {},
   "outputs": [],
   "source": []
  },
  {
   "cell_type": "code",
   "execution_count": null,
   "id": "35fa2247",
   "metadata": {},
   "outputs": [],
   "source": [
    "# Check for missing values"
   ]
  },
  {
   "cell_type": "code",
   "execution_count": null,
   "id": "8adc55c0",
   "metadata": {},
   "outputs": [],
   "source": []
  },
  {
   "cell_type": "code",
   "execution_count": null,
   "id": "46f02772",
   "metadata": {},
   "outputs": [],
   "source": [
    "# Create feature and target dataframes"
   ]
  },
  {
   "cell_type": "code",
   "execution_count": null,
   "id": "008d74c3",
   "metadata": {},
   "outputs": [],
   "source": []
  },
  {
   "cell_type": "code",
   "execution_count": null,
   "id": "9f62a0f6",
   "metadata": {},
   "outputs": [],
   "source": [
    "# Check impurity as target column is already given\n",
    "\n",
    "# If target column is not given, we assume impurity and adjust the impurity as hyperparameter to get the optimum results.\n",
    "\n",
    "# impurity is used in IsolationForest as contamination, OneClassSVM as nu and quantile threshold in Kernel Density."
   ]
  },
  {
   "cell_type": "code",
   "execution_count": null,
   "id": "41836b08",
   "metadata": {},
   "outputs": [],
   "source": []
  },
  {
   "cell_type": "markdown",
   "id": "ec58eb6d",
   "metadata": {},
   "source": [
    "### On reading the database information on Kaggle and analysing the dataset, we form list of categorical and numerical columns\n",
    "\n",
    "* **Categorical Columns:** 'sex', 'on_thyroxine', 'query_on_thyroxine', 'on_antithyroid_medication', 'sick', 'pregnant', 'thyroid_surgery', 'i131_treatment', 'query_hypothyroid', 'query_hyperthyroid', 'lithium', 'goitre', 'tumor', 'hypopituitary', 'psych'\n",
    "<br><br>\n",
    "* **Numerical Columns:** 'age', 'tsh', 't3_measured', 'tt4_measured', 't4u_measured', 'fti_measured'"
   ]
  },
  {
   "cell_type": "code",
   "execution_count": null,
   "id": "7bd1eeda",
   "metadata": {},
   "outputs": [],
   "source": [
    "# Form categorical and numerical columns\n"
   ]
  },
  {
   "cell_type": "code",
   "execution_count": null,
   "id": "cb309093",
   "metadata": {},
   "outputs": [],
   "source": [
    "# scale & normalize the numerical columnss\n"
   ]
  },
  {
   "cell_type": "markdown",
   "id": "827b89f7",
   "metadata": {},
   "source": [
    "# Step 4: Build Machine Learning Model"
   ]
  },
  {
   "cell_type": "code",
   "execution_count": null,
   "id": "38489233",
   "metadata": {},
   "outputs": [],
   "source": [
    "# Isolation Forest\n",
    "\n",
    "\n",
    "# OneClassSVM Forest\n",
    "\n",
    "\n",
    "# Kernel Density\n"
   ]
  },
  {
   "cell_type": "code",
   "execution_count": null,
   "id": "aa129395",
   "metadata": {},
   "outputs": [],
   "source": [
    "print(f\"For Isolation Forest:\\n{classification_report()}\\n\\n\")\n",
    "print(f\"For OneClassSVM Forest:\\n{classification_report()}\\n\\n\")\n",
    "print(f\"For Kernel Density:\\n{classification_report()}\\n\\n\")"
   ]
  },
  {
   "cell_type": "markdown",
   "id": "371b64e6",
   "metadata": {},
   "source": [
    "Kernel Density gives the best outlier estimates"
   ]
  }
 ],
 "metadata": {
  "kernelspec": {
   "display_name": "Python 3 (ipykernel)",
   "language": "python",
   "name": "python3"
  },
  "language_info": {
   "codemirror_mode": {
    "name": "ipython",
    "version": 3
   },
   "file_extension": ".py",
   "mimetype": "text/x-python",
   "name": "python",
   "nbconvert_exporter": "python",
   "pygments_lexer": "ipython3",
   "version": "3.9.13"
  }
 },
 "nbformat": 4,
 "nbformat_minor": 5
}
