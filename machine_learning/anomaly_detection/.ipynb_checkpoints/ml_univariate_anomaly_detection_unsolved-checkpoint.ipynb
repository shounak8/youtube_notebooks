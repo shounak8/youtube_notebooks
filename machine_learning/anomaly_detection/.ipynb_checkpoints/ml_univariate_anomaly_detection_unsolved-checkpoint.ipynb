{
 "cells": [
  {
   "cell_type": "markdown",
   "id": "f2d5c585",
   "metadata": {},
   "source": [
    "Link to dataset: https://www.kaggle.com/datasets/julienjta/twitter-mentions-volumes"
   ]
  },
  {
   "cell_type": "markdown",
   "id": "33a04e69",
   "metadata": {},
   "source": [
    "# ML Based Anomaly Detection\n",
    "### 1. Isolation Forest\n",
    "### 2. OneClassSVM\n",
    "### 3. Kernel Density"
   ]
  },
  {
   "cell_type": "code",
   "execution_count": null,
   "id": "f9cd57b0",
   "metadata": {},
   "outputs": [],
   "source": [
    "# Import Libraries\n",
    "\n",
    "import pandas as pd\n",
    "import numpy as np\n",
    "from numpy import quantile\n",
    "\n",
    "# We will use ensemble.IsolationForest, neighbors.KernelDensity,svm.OneClassSVM\n",
    "\n",
    "\n",
    "# We will use plotly for graphical representations\n",
    "\n",
    "\n",
    "import warnings\n",
    "warnings.filterwarnings(\"ignore\")"
   ]
  },
  {
   "cell_type": "code",
   "execution_count": null,
   "id": "2aef0c58",
   "metadata": {},
   "outputs": [],
   "source": [
    "# Read the data from csv file. We will be looking at Tweets for Apple\n",
    "DATASET_PATH = \"../../../dataset/timeseries_company_mentions.csv\"\n",
    "# For demo purpose, we will consider Twitter mentions only for Apple\n",
    "company = \"Apple\"\n"
   ]
  },
  {
   "cell_type": "markdown",
   "id": "591a0be2",
   "metadata": {},
   "source": [
    "# Data Preprocessing"
   ]
  },
  {
   "cell_type": "code",
   "execution_count": null,
   "id": "d900c287",
   "metadata": {},
   "outputs": [],
   "source": [
    "# Check for datatype of columns\n"
   ]
  },
  {
   "cell_type": "code",
   "execution_count": null,
   "id": "1ceee05b",
   "metadata": {},
   "outputs": [],
   "source": [
    "# Let us convert datetime to datetime and hour for grouping all the tweet mentions within that particular hour\n",
    "\n"
   ]
  },
  {
   "cell_type": "code",
   "execution_count": null,
   "id": "63954875",
   "metadata": {},
   "outputs": [],
   "source": [
    "# convert timestamp to datetime\n"
   ]
  },
  {
   "cell_type": "code",
   "execution_count": null,
   "id": "147e76d4",
   "metadata": {},
   "outputs": [],
   "source": [
    "# Check for missing vals\n"
   ]
  },
  {
   "cell_type": "code",
   "execution_count": null,
   "id": "7c945dd1",
   "metadata": {},
   "outputs": [],
   "source": [
    "# drop or impute missing values\n"
   ]
  },
  {
   "cell_type": "code",
   "execution_count": null,
   "id": "a653583a",
   "metadata": {},
   "outputs": [],
   "source": [
    "# recheck missing values\n"
   ]
  },
  {
   "cell_type": "code",
   "execution_count": null,
   "id": "2e5ec2bb",
   "metadata": {},
   "outputs": [],
   "source": [
    "# group and aggregate tweet mentions by hour\n"
   ]
  },
  {
   "cell_type": "code",
   "execution_count": null,
   "id": "d6aed810",
   "metadata": {},
   "outputs": [],
   "source": [
    "# Create a function to display the anomaly vs normal observations\n",
    "def make_graph(\n",
    "    method: str, dataframe, x_col: str, y_col: str, anomaly_col: str = \"anomaly\"\n",
    "):\n",
    "    \"\"\"\n",
    "    Plots scatter-plot for given dataframe with datetime on X-axis and Twitter Mentions on Y-axis\n",
    "    Params:\n",
    "        method(str): Name of the method to detect anomaly\n",
    "        dataframe: dataframe considered for anomaly detection\n",
    "        x_col(str): datetime column name\n",
    "        y_col(str): Twitter mention count column name\n",
    "        anomaly_col(str): Name of the anomaly column. Default is set to 'anomaly'\n",
    "\n",
    "    \"\"\"\n",
    "    pass"
   ]
  },
  {
   "cell_type": "markdown",
   "id": "f08484d4",
   "metadata": {},
   "source": [
    "# 1. Isolation Forest"
   ]
  },
  {
   "cell_type": "code",
   "execution_count": null,
   "id": "9782a89c",
   "metadata": {},
   "outputs": [],
   "source": [
    "# form a copy of dataframe with Twitter Mentions for Isolation Forest\n",
    "# this ml algorithm predicts -1 for 'anomaly' and 1 for 'normal'\n",
    "\n",
    "# form ml model\n",
    "\n",
    "# fit data to the model\n",
    "\n",
    "# predict anomaly\n",
    "\n",
    "# replace -1 with 'Anomaly' and 1 with 'Normal'\n",
    "\n",
    "\n",
    "# graphical representation\n"
   ]
  },
  {
   "cell_type": "markdown",
   "id": "0ebf999a",
   "metadata": {},
   "source": [
    "# 2. One Class SVM"
   ]
  },
  {
   "cell_type": "code",
   "execution_count": null,
   "id": "0ef6eaa9",
   "metadata": {},
   "outputs": [],
   "source": [
    "# form a copy of dataframe with Twitter Mentions for One Class SVM\n",
    "# this ml algorithm predicts -1 for 'anomaly' and 1 for 'normal'\n",
    "\n",
    "# form ml model\n",
    "\n",
    "# fit data to the model\n",
    "\n",
    "# predict anomaly\n",
    "\n",
    "\n",
    "# replace -1 with 'Anomaly' and 1 with 'Normal'\n",
    "\n",
    "\n",
    "# graphical representation\n"
   ]
  },
  {
   "cell_type": "markdown",
   "id": "23c81346",
   "metadata": {},
   "source": [
    "# 3. Kernel Density Curve"
   ]
  },
  {
   "cell_type": "code",
   "execution_count": null,
   "id": "f7214112",
   "metadata": {
    "scrolled": true
   },
   "outputs": [],
   "source": [
    "# form a copy of dataframe with Twitter Mentions for Kernel Density Curve\n",
    "\n",
    "# form ml model\n",
    "\n",
    "# fit data to the model\n",
    "\n",
    "# check for sample scores\n",
    "\n",
    "# form threshold below which the values will be considered as an outlier / anomaly\n",
    "# this threshold will be kept at 0.2 quntile, which can be changed on case to case basis.\n",
    "\n",
    "\n",
    "# using the threshold, classify which values are Anomaly and Normal.\n",
    "\n",
    "\n",
    "\n",
    "# graphical representation\n"
   ]
  },
  {
   "cell_type": "markdown",
   "id": "423c6bb3",
   "metadata": {},
   "source": [
    "# Author\n",
    "Name: Shounak Deshpande<br>\n",
    "Email: shounak.python@gmail.com"
   ]
  }
 ],
 "metadata": {
  "kernelspec": {
   "display_name": "Python 3 (ipykernel)",
   "language": "python",
   "name": "python3"
  },
  "language_info": {
   "codemirror_mode": {
    "name": "ipython",
    "version": 3
   },
   "file_extension": ".py",
   "mimetype": "text/x-python",
   "name": "python",
   "nbconvert_exporter": "python",
   "pygments_lexer": "ipython3",
   "version": "3.9.13"
  }
 },
 "nbformat": 4,
 "nbformat_minor": 5
}
