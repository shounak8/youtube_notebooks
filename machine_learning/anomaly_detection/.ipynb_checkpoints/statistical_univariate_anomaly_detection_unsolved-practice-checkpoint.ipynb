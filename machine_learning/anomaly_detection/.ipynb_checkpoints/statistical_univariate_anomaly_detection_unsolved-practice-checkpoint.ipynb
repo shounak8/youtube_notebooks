{
 "cells": [
  {
   "cell_type": "markdown",
   "id": "f2d5c585",
   "metadata": {},
   "source": [
    "Link to dataset: https://www.kaggle.com/datasets/julienjta/twitter-mentions-volumes"
   ]
  },
  {
   "cell_type": "markdown",
   "id": "33a04e69",
   "metadata": {},
   "source": [
    "# Statistics Based Anomaly Detection\n",
    "### 1. Standard Deviation Method\n",
    "### 2. Z-score\n",
    "### 3. Inter-Quartile Range (IQR)"
   ]
  },
  {
   "cell_type": "code",
   "execution_count": null,
   "id": "f9cd57b0",
   "metadata": {},
   "outputs": [],
   "source": [
    "# Import Libraries\n",
    "\n",
    "# Use pandas for data wrangling, scipy.stats for zscore and plotly for graphical representation\n",
    "\n",
    "\n",
    "import warnings\n",
    "\n",
    "warnings.filterwarnings(\"ignore\")"
   ]
  },
  {
   "cell_type": "markdown",
   "id": "3ab8ee0f",
   "metadata": {},
   "source": [
    "# Data Preprocessing"
   ]
  },
  {
   "cell_type": "code",
   "execution_count": null,
   "id": "2aef0c58",
   "metadata": {},
   "outputs": [],
   "source": [
    "# Read the data from csv file. We will be looking at Tweets for Apple\n",
    "DATASET_PATH = \"../../../dataset/timeseries_company_mentions.csv\"\n",
    "# For demo purpose, we will consider Twitter mentions only for Apple\n",
    "company = \"Apple\"\n"
   ]
  },
  {
   "cell_type": "code",
   "execution_count": null,
   "id": "d900c287",
   "metadata": {},
   "outputs": [],
   "source": [
    "# Check for datatype of columns\n",
    "raw_df.info()"
   ]
  },
  {
   "cell_type": "code",
   "execution_count": null,
   "id": "893289a2",
   "metadata": {},
   "outputs": [],
   "source": [
    "# Let us convert datetime to datetime and hour for grouping all the tweet mentions within that particular hour\n",
    "\n"
   ]
  },
  {
   "cell_type": "code",
   "execution_count": null,
   "id": "63954875",
   "metadata": {},
   "outputs": [],
   "source": [
    "# convert datatype of timestamp to datetime\n"
   ]
  },
  {
   "cell_type": "code",
   "execution_count": null,
   "id": "147e76d4",
   "metadata": {},
   "outputs": [],
   "source": [
    "# Check for missing vals\n"
   ]
  },
  {
   "cell_type": "code",
   "execution_count": null,
   "id": "7c945dd1",
   "metadata": {},
   "outputs": [],
   "source": [
    "# drop or impute missing values\n"
   ]
  },
  {
   "cell_type": "code",
   "execution_count": null,
   "id": "a653583a",
   "metadata": {},
   "outputs": [],
   "source": [
    "# recheck missing values\n"
   ]
  },
  {
   "cell_type": "code",
   "execution_count": null,
   "id": "50bb9571",
   "metadata": {},
   "outputs": [],
   "source": [
    "# group tweet mentions by hour\n"
   ]
  },
  {
   "cell_type": "code",
   "execution_count": null,
   "id": "551f8be6",
   "metadata": {},
   "outputs": [],
   "source": [
    "# Create a function to display the anomaly vs normal observations\n",
    "def make_graph(\n",
    "    method: str, dataframe, x_col: str, y_col: str, anomaly_col: str = \"anomaly\"\n",
    "):\n",
    "    \"\"\"\n",
    "    Plots scatter-plot for given dataframe with datetime on X-axis and Twitter Mentions on Y-axis\n",
    "    Params:\n",
    "        method(str): Name of the method to detect anomaly\n",
    "        dataframe: dataframe considered for anomaly detection\n",
    "        x_col(str): datetime column name\n",
    "        y_col(str): Twitter mention count column name\n",
    "        anomaly_col(str): Name of the anomaly column. Default is set to 'anomaly'\n",
    "\n",
    "    \"\"\"\n",
    "    pass"
   ]
  },
  {
   "cell_type": "code",
   "execution_count": null,
   "id": "c45bdb95",
   "metadata": {},
   "outputs": [],
   "source": [
    "# write function to check if the value is Normal or Anomaly\n",
    "def check(value: int, upper_limit: float, lower_limit: float) -> str:\n",
    "    \"\"\"\n",
    "    Tell whether the value is Normal or Anomaly\n",
    "    Params:\n",
    "        value(int): Count of number of Tweets\n",
    "        upper_limit(float): Upper limit beyond which the count is outlier\n",
    "        lower_limit(float): Lower limit beyond which the count is outlier\n",
    "    Returns:\n",
    "        str: Normal or Anomaly based on the value\n",
    "    \n",
    "    \"\"\"\n",
    "    pass"
   ]
  },
  {
   "cell_type": "markdown",
   "id": "f6121ff3",
   "metadata": {},
   "source": [
    "# 1. Standard Deviation Method\n",
    "\n",
    "* upper limit = mean + 2 * std dev<br>\n",
    "* lower limit = mean - 2 * std dev"
   ]
  },
  {
   "cell_type": "code",
   "execution_count": null,
   "id": "9f64957e",
   "metadata": {},
   "outputs": [],
   "source": [
    "# Get mean and std deviation values\n",
    "mean = ??\n",
    "std_dev = ??"
   ]
  },
  {
   "cell_type": "code",
   "execution_count": null,
   "id": "bbfdd127",
   "metadata": {},
   "outputs": [],
   "source": [
    "# calculate upper and lower limits\n",
    "upper_limit_std_dev = ??\n",
    "lower_limit_std_dev = ??"
   ]
  },
  {
   "cell_type": "code",
   "execution_count": null,
   "id": "6b23a61a",
   "metadata": {},
   "outputs": [],
   "source": [
    "method_name = \"Standard Deviation\"\n",
    "\n",
    "# form a dataframe for single company with timestamp and tweet mention count\n",
    "\n",
    "# create a column which tells whether the values are normal or anomaly\n",
    "\n",
    "\n",
    "# graphical representation\n"
   ]
  },
  {
   "cell_type": "markdown",
   "id": "41774afd",
   "metadata": {},
   "source": [
    "# 2. Z-score\n",
    "* upper cutoff score: z = USUALLY between 2 and 3\n",
    "* lower cutoff score: z = USUALLY between -2 and -3"
   ]
  },
  {
   "cell_type": "code",
   "execution_count": null,
   "id": "14df4ab9",
   "metadata": {},
   "outputs": [],
   "source": [
    "method_name = \"Z-score\"\n",
    "# set Zscore threshold\n",
    "ZSCORE_THRESHOLD = 2.5\n",
    "\n",
    "# form a dataframe for single company with timestamp and tweet mention count\n",
    "\n",
    "# Calculate Zscore\n",
    "\n",
    "# create a column which tells whether the values are normal or anomaly\n",
    "\n",
    "\n",
    "# graphical representation\n"
   ]
  },
  {
   "cell_type": "markdown",
   "id": "595c2db6",
   "metadata": {},
   "source": [
    "# 3. Statistics: Inter-Quartile Range (IQR)\n",
    "* upper limit = Q3 + 1.5 * IQR\n",
    "* lower limit = Q1 - 1.5 * IQR"
   ]
  },
  {
   "cell_type": "code",
   "execution_count": null,
   "id": "6fe9b6da",
   "metadata": {},
   "outputs": [],
   "source": [
    "# First Quartile\n",
    "Q1 = ??\n",
    "# Third Quartile\n",
    "Q3 = ??\n",
    "# Inter-Quartile Range (IQR)\n",
    "IQR = ??\n",
    "\n",
    "# Upper and Lower limit based on IQR\n",
    "upper_limit_iqr = ??\n",
    "lower_limit_iqr = ??"
   ]
  },
  {
   "cell_type": "code",
   "execution_count": null,
   "id": "39cbd572",
   "metadata": {},
   "outputs": [],
   "source": [
    "method_name = \"Inter-Quartile Range (IQR)\"\n",
    "\n",
    "# form a dataframe for single company with timestamp and tweet mention count\n",
    "\n",
    "# create a column which tells whether the values are normal or anomaly\n",
    "\n",
    "\n",
    "# graphical representation\n"
   ]
  },
  {
   "cell_type": "markdown",
   "id": "ea4c3cc3",
   "metadata": {},
   "source": [
    "# Author:\n",
    "Name: Shounak Deshpande<br>\n",
    "Email: shounak.python@gmail.com"
   ]
  }
 ],
 "metadata": {
  "kernelspec": {
   "display_name": "Python 3 (ipykernel)",
   "language": "python",
   "name": "python3"
  },
  "language_info": {
   "codemirror_mode": {
    "name": "ipython",
    "version": 3
   },
   "file_extension": ".py",
   "mimetype": "text/x-python",
   "name": "python",
   "nbconvert_exporter": "python",
   "pygments_lexer": "ipython3",
   "version": "3.9.13"
  }
 },
 "nbformat": 4,
 "nbformat_minor": 5
}
