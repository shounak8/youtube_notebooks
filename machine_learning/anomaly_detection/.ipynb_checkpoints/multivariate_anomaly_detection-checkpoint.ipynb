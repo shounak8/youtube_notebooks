{
 "cells": [
  {
   "cell_type": "markdown",
   "id": "f3de747d",
   "metadata": {},
   "source": [
    "Kaggle Dataset Link: https://www.kaggle.com/datasets/zhonglifr/thyroid-disease-unsupervised-anomaly-detection"
   ]
  },
  {
   "cell_type": "code",
   "execution_count": 52,
   "id": "d539ea2b",
   "metadata": {},
   "outputs": [],
   "source": [
    "import pandas as pd\n",
    "\n",
    "from sklearn.preprocessing import StandardScaler\n",
    "\n",
    "from sklearn.ensemble import IsolationForest\n",
    "from sklearn.svm import OneClassSVM\n",
    "from sklearn.neighbors import KernelDensity\n",
    "\n",
    "from numpy import quantile\n",
    "\n",
    "from sklearn.metrics import classification_report"
   ]
  },
  {
   "cell_type": "code",
   "execution_count": 36,
   "id": "63091e41",
   "metadata": {},
   "outputs": [],
   "source": [
    "raw_df = pd.read_csv(\"../../../dataset/annthyroid_unsupervised_anomaly_detection.csv\", sep=\";\")"
   ]
  },
  {
   "cell_type": "code",
   "execution_count": 37,
   "id": "47668166",
   "metadata": {},
   "outputs": [],
   "source": [
    "# remove unnamed column which adds to noise\n",
    "raw_df.drop(['Unnamed: 22', 'Unnamed: 23'], axis=1, inplace=True)"
   ]
  },
  {
   "cell_type": "code",
   "execution_count": 38,
   "id": "8a2770f5",
   "metadata": {},
   "outputs": [],
   "source": [
    "# format column names\n",
    "column_names = raw_df.columns.tolist()\n",
    "column_names = [col_name.strip().lower() for col_name in column_names]\n",
    "raw_df.columns = column_names"
   ]
  },
  {
   "cell_type": "code",
   "execution_count": 39,
   "id": "01817ed3",
   "metadata": {},
   "outputs": [],
   "source": [
    "raw_df.drop_duplicates(inplace=True)"
   ]
  },
  {
   "cell_type": "code",
   "execution_count": 40,
   "id": "45af6b16",
   "metadata": {},
   "outputs": [],
   "source": [
    "target_name = \"outlier_label\"\n",
    "target = raw_df[\"outlier_label\"]\n",
    "features = raw_df.drop(target_name, axis=1)"
   ]
  },
  {
   "cell_type": "code",
   "execution_count": 53,
   "id": "d9651e03",
   "metadata": {},
   "outputs": [
    {
     "data": {
      "text/plain": [
       "n    6595\n",
       "o     250\n",
       "Name: outlier_label, dtype: int64"
      ]
     },
     "execution_count": 53,
     "metadata": {},
     "output_type": "execute_result"
    }
   ],
   "source": [
    "target.value_counts()"
   ]
  },
  {
   "cell_type": "code",
   "execution_count": 54,
   "id": "41836b08",
   "metadata": {},
   "outputs": [
    {
     "data": {
      "text/plain": [
       "0.03790750568612585"
      ]
     },
     "execution_count": 54,
     "metadata": {},
     "output_type": "execute_result"
    }
   ],
   "source": [
    "250 / 6595"
   ]
  },
  {
   "cell_type": "code",
   "execution_count": 41,
   "id": "df61c399",
   "metadata": {},
   "outputs": [],
   "source": [
    "# categorical cols\n",
    "cat_col = []\n",
    "for col in features.columns:\n",
    "    val_count = features[col].value_counts()\n",
    "    if len(val_count) < 10:\n",
    "        cat_col.append(col)"
   ]
  },
  {
   "cell_type": "code",
   "execution_count": 42,
   "id": "ba4e9d53",
   "metadata": {},
   "outputs": [],
   "source": [
    "# numerical cols\n",
    "num_col = [col for col in features.columns.tolist() if col not in cat_col]"
   ]
  },
  {
   "cell_type": "code",
   "execution_count": 43,
   "id": "5169a8d6",
   "metadata": {},
   "outputs": [
    {
     "data": {
      "text/plain": [
       "age                          0\n",
       "sex                          0\n",
       "on_thyroxine                 0\n",
       "query_on_thyroxine           0\n",
       "on_antithyroid_medication    0\n",
       "sick                         0\n",
       "pregnant                     0\n",
       "thyroid_surgery              0\n",
       "i131_treatment               0\n",
       "query_hypothyroid            0\n",
       "query_hyperthyroid           0\n",
       "lithium                      0\n",
       "goitre                       0\n",
       "tumor                        0\n",
       "hypopituitary                0\n",
       "psych                        0\n",
       "tsh                          0\n",
       "t3_measured                  0\n",
       "tt4_measured                 0\n",
       "t4u_measured                 0\n",
       "fti_measured                 0\n",
       "dtype: int64"
      ]
     },
     "execution_count": 43,
     "metadata": {},
     "output_type": "execute_result"
    }
   ],
   "source": [
    "# check for missing values\n",
    "features.isna().sum()"
   ]
  },
  {
   "cell_type": "code",
   "execution_count": 46,
   "id": "b883b7a4",
   "metadata": {},
   "outputs": [
    {
     "name": "stdout",
     "output_type": "stream",
     "text": [
      "<class 'pandas.core.frame.DataFrame'>\n",
      "Int64Index: 6845 entries, 0 to 6915\n",
      "Data columns (total 21 columns):\n",
      " #   Column                     Non-Null Count  Dtype  \n",
      "---  ------                     --------------  -----  \n",
      " 0   age                        6845 non-null   float64\n",
      " 1   sex                        6845 non-null   float64\n",
      " 2   on_thyroxine               6845 non-null   float64\n",
      " 3   query_on_thyroxine         6845 non-null   float64\n",
      " 4   on_antithyroid_medication  6845 non-null   float64\n",
      " 5   sick                       6845 non-null   float64\n",
      " 6   pregnant                   6845 non-null   float64\n",
      " 7   thyroid_surgery            6845 non-null   float64\n",
      " 8   i131_treatment             6845 non-null   float64\n",
      " 9   query_hypothyroid          6845 non-null   float64\n",
      " 10  query_hyperthyroid         6845 non-null   float64\n",
      " 11  lithium                    6845 non-null   float64\n",
      " 12  goitre                     6845 non-null   float64\n",
      " 13  tumor                      6845 non-null   float64\n",
      " 14  hypopituitary              6845 non-null   float64\n",
      " 15  psych                      6845 non-null   float64\n",
      " 16  tsh                        6845 non-null   float64\n",
      " 17  t3_measured                6845 non-null   float64\n",
      " 18  tt4_measured               6845 non-null   float64\n",
      " 19  t4u_measured               6845 non-null   float64\n",
      " 20  fti_measured               6845 non-null   float64\n",
      "dtypes: float64(21)\n",
      "memory usage: 1.1 MB\n"
     ]
    }
   ],
   "source": [
    "# check data type\n",
    "features.info()"
   ]
  },
  {
   "cell_type": "code",
   "execution_count": 47,
   "id": "cb309093",
   "metadata": {},
   "outputs": [],
   "source": [
    "# scale the numeric cols\n",
    "scaler = StandardScaler()\n",
    "features[num_col] = scaler.fit_transform(features[num_col])"
   ]
  },
  {
   "cell_type": "code",
   "execution_count": 59,
   "id": "38489233",
   "metadata": {},
   "outputs": [
    {
     "name": "stderr",
     "output_type": "stream",
     "text": [
      "C:\\Users\\shoun\\AppData\\Roaming\\Python\\Python39\\site-packages\\sklearn\\base.py:450: UserWarning: X does not have valid feature names, but IsolationForest was fitted with feature names\n",
      "  warnings.warn(\n"
     ]
    }
   ],
   "source": [
    "# Isolation Forest\n",
    "IF = IsolationForest(n_estimators=200, contamination=0.04)\n",
    "IF.fit(features)\n",
    "pred_IF = IF.predict(features)\n",
    "pred_IF = [1 if value == -1 else 0 for value in pred_IF]\n",
    "\n",
    "\n",
    "# OneClassSVM Forest\n",
    "OC = OneClassSVM(nu=0.04)\n",
    "OC.fit(features)\n",
    "pred_OC = OC.predict(features)\n",
    "pred_OC = [1 if value == -1 else 0 for value in pred_OC]\n",
    "\n",
    "\n",
    "# Kernel Density\n",
    "KD = KernelDensity()\n",
    "KD.fit(features)\n",
    "scores = KD.score_samples(features)\n",
    "threshold = quantile(scores, 0.05)\n",
    "pred_KD = [1 if score < threshold else 0 for score in scores]"
   ]
  },
  {
   "cell_type": "code",
   "execution_count": 60,
   "id": "fa99ccb0",
   "metadata": {},
   "outputs": [],
   "source": [
    "target = target.map(lambda val: 1 if val == 'o' else 0)"
   ]
  },
  {
   "cell_type": "code",
   "execution_count": 61,
   "id": "aa129395",
   "metadata": {},
   "outputs": [
    {
     "name": "stdout",
     "output_type": "stream",
     "text": [
      "For Isolation Forest:\n",
      "              precision    recall  f1-score   support\n",
      "\n",
      "           0       0.96      0.97      0.96      6571\n",
      "           1       0.08      0.08      0.08       274\n",
      "\n",
      "    accuracy                           0.93      6845\n",
      "   macro avg       0.52      0.52      0.52      6845\n",
      "weighted avg       0.93      0.93      0.93      6845\n",
      "\n",
      "\n",
      "\n",
      "For OneClassSVM Forest:\n",
      "              precision    recall  f1-score   support\n",
      "\n",
      "           0       0.96      0.97      0.97      6570\n",
      "           1       0.18      0.16      0.17       275\n",
      "\n",
      "    accuracy                           0.94      6845\n",
      "   macro avg       0.57      0.56      0.57      6845\n",
      "weighted avg       0.93      0.94      0.93      6845\n",
      "\n",
      "\n",
      "\n",
      "For Kernel Density:\n",
      "              precision    recall  f1-score   support\n",
      "\n",
      "           0       0.96      0.97      0.96      6502\n",
      "           1       0.23      0.17      0.20       343\n",
      "\n",
      "    accuracy                           0.93      6845\n",
      "   macro avg       0.59      0.57      0.58      6845\n",
      "weighted avg       0.92      0.93      0.93      6845\n",
      "\n",
      "\n",
      "\n"
     ]
    }
   ],
   "source": [
    "print(f\"For Isolation Forest:\\n{classification_report(pred_IF, target)}\\n\\n\")\n",
    "print(f\"For OneClassSVM Forest:\\n{classification_report(pred_OC, target)}\\n\\n\")\n",
    "print(f\"For Kernel Density:\\n{classification_report(pred_KD, target)}\\n\\n\")"
   ]
  },
  {
   "cell_type": "markdown",
   "id": "371b64e6",
   "metadata": {},
   "source": [
    "Kernel Density gives the best outlier estimates"
   ]
  }
 ],
 "metadata": {
  "kernelspec": {
   "display_name": "Python 3 (ipykernel)",
   "language": "python",
   "name": "python3"
  },
  "language_info": {
   "codemirror_mode": {
    "name": "ipython",
    "version": 3
   },
   "file_extension": ".py",
   "mimetype": "text/x-python",
   "name": "python",
   "nbconvert_exporter": "python",
   "pygments_lexer": "ipython3",
   "version": "3.9.13"
  }
 },
 "nbformat": 4,
 "nbformat_minor": 5
}
