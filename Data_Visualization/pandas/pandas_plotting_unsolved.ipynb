{
 "cells": [
  {
   "cell_type": "markdown",
   "id": "ab9efed3",
   "metadata": {},
   "source": [
    "# Notebook Introduction:\n",
    "    This notebook contains plotting several graphs directly from a Pandas dataframe.\n",
    "    Pandas dataframe uses Matplotlib under the hood."
   ]
  },
  {
   "cell_type": "markdown",
   "id": "d7d4cbfa",
   "metadata": {},
   "source": [
    "## Graph Types Included in the Notebook:\n",
    "\n",
    "| 1. Histogram      | 2. Density Curve | 3. Bar Chart      | 4. Pie Chart |\n",
    "| :-----------: | :-----------: | :-----------: | :-----------: |\n",
    "| <img src=\"https://pandas.pydata.org/docs/_images/pandas-DataFrame-plot-hist-1.png\" />      | <img src=\"https://pandas.pydata.org/docs/_images/pandas-DataFrame-plot-density-6.png\" />       | <img src=\"https://pandas.pydata.org/docs/_images/pandas-DataFrame-plot-bar-2.png\" />      | <img src=\"https://pandas.pydata.org/docs/_images/pandas-DataFrame-plot-pie-1.png\" />       |\n",
    "\n",
    "| 5. Scatter Plot      | 6. Box Plot | 7. Area Plot      | 8. Line Plot |\n",
    "| :-----------: | :-----------: | :-----------: | :-----------: |\n",
    "| <img src=\"https://pandas.pydata.org/docs/_images/pandas-DataFrame-plot-scatter-1.png\" />      | <img src=\"https://pandas.pydata.org/docs/_images/pandas-DataFrame-boxplot-1.png\" />       | <img src=\"https://pandas.pydata.org/docs/_images/pandas-DataFrame-plot-area-1.png\" />      | <img src=\"https://pandas.pydata.org/docs/_images/pandas-DataFrame-plot-line-1.png\" />       |"
   ]
  },
  {
   "cell_type": "markdown",
   "id": "8721ca71",
   "metadata": {},
   "source": [
    "## Data Types:\n",
    "#### 1. Quantitative - Q\n",
    "#### 2. Ordinal - O\n",
    "#### 3. Nominal - N\n",
    "#### 4. Temporal - T\n",
    "#### 5. GeoJSON - G"
   ]
  },
  {
   "cell_type": "code",
   "execution_count": null,
   "id": "e6ca118b",
   "metadata": {},
   "outputs": [],
   "source": [
    "import pandas as pd\n",
    "from sklearn.datasets import load_iris"
   ]
  },
  {
   "cell_type": "code",
   "execution_count": null,
   "id": "ee1c596d",
   "metadata": {},
   "outputs": [],
   "source": [
    "raw_data = load_iris()\n",
    "df = pd.DataFrame(data=raw_data.data, columns=raw_data.feature_names)\n",
    "df[\"target\"] = raw_data.target\n",
    "df.columns = [\"sepal_length\", \"sepal_width\", \"petal_length\", \"petal_width\", \"target\"]"
   ]
  },
  {
   "cell_type": "code",
   "execution_count": null,
   "id": "08420b8a",
   "metadata": {},
   "outputs": [],
   "source": [
    "df.head()"
   ]
  },
  {
   "cell_type": "markdown",
   "id": "985af359",
   "metadata": {},
   "source": [
    "# 1. Histogram\n",
    "\n",
    "`df[feature_list].plot(kind=\"hist\", bins=XX, alpha=X.X)`\n",
    "\n",
    "Example: use feature list of sepal_length and petal_length"
   ]
  },
  {
   "cell_type": "code",
   "execution_count": null,
   "id": "11303df1",
   "metadata": {},
   "outputs": [],
   "source": [
    "# Code Block\n",
    "\n",
    "\n"
   ]
  },
  {
   "cell_type": "markdown",
   "id": "35aff8b7",
   "metadata": {},
   "source": [
    " # 2. Density Curve\n",
    " \n",
    " `df[feature_list].plot(kind=\"kde\", alpha=X.X)`\n",
    " \n",
    " Example: use feature list of sepal_length and petal_length"
   ]
  },
  {
   "cell_type": "code",
   "execution_count": null,
   "id": "cf6241d7",
   "metadata": {},
   "outputs": [],
   "source": [
    "# Code Block\n",
    "\n",
    "\n"
   ]
  },
  {
   "cell_type": "markdown",
   "id": "0b87fcff",
   "metadata": {},
   "source": [
    "# 3. Bar Chart\n",
    "`df.plot(kind=\"bar\", stacked=True)`"
   ]
  },
  {
   "cell_type": "code",
   "execution_count": null,
   "id": "53341acf",
   "metadata": {},
   "outputs": [],
   "source": [
    "avg_df = df.groupby(by='target', as_index=False).mean()\n",
    "bar_df = avg_df.drop('target',axis=1)"
   ]
  },
  {
   "cell_type": "code",
   "execution_count": null,
   "id": "97de2bfc",
   "metadata": {},
   "outputs": [],
   "source": [
    "# Code Block\n",
    "\n",
    "\n"
   ]
  },
  {
   "cell_type": "markdown",
   "id": "528c4386",
   "metadata": {},
   "source": [
    "# 4. Pie Chart\n",
    "`df[column_name].plot(kind=\"pie\")`"
   ]
  },
  {
   "cell_type": "code",
   "execution_count": null,
   "id": "e8872d04",
   "metadata": {},
   "outputs": [],
   "source": [
    "pie_df = df.target.value_counts()"
   ]
  },
  {
   "cell_type": "code",
   "execution_count": null,
   "id": "039f2ca0",
   "metadata": {},
   "outputs": [],
   "source": [
    "# Code Block\n",
    "\n",
    "\n"
   ]
  },
  {
   "cell_type": "markdown",
   "id": "644a6c07",
   "metadata": {},
   "source": [
    "# 5. Scatter Plot\n",
    "`df.plot(kind=\"scatter\",x=\"numerical_feature_1\",y=\"numerical_feature_2\", c=\"nominal_attribute\", colormap=\"colormap_type\")`\n",
    "Example: use num_cols=\"sepal_length\", \"sepal_width\"; use color c=\"target\" and colormap=\"Set1\" "
   ]
  },
  {
   "cell_type": "code",
   "execution_count": null,
   "id": "860fffa5",
   "metadata": {},
   "outputs": [],
   "source": [
    "# Code Block\n",
    "\n",
    "\n"
   ]
  },
  {
   "cell_type": "markdown",
   "id": "b558eea4",
   "metadata": {},
   "source": [
    "# 6. Box Plot\n",
    "`df.plot(kind=\"box\")`"
   ]
  },
  {
   "cell_type": "code",
   "execution_count": null,
   "id": "4d93a253",
   "metadata": {},
   "outputs": [],
   "source": [
    "box_df=df.drop(\"target\", axis=1)\n",
    "box_df.head(2)"
   ]
  },
  {
   "cell_type": "code",
   "execution_count": null,
   "id": "79b327a5",
   "metadata": {},
   "outputs": [],
   "source": [
    "# Code Block\n",
    "\n",
    "\n"
   ]
  },
  {
   "cell_type": "markdown",
   "id": "ed735d06",
   "metadata": {},
   "source": [
    "# 7. Area Plot\n",
    "`area_df.plot(kind=\"area\")`"
   ]
  },
  {
   "cell_type": "code",
   "execution_count": null,
   "id": "eac52ec9",
   "metadata": {},
   "outputs": [],
   "source": [
    "area_df=df.drop(\"target\", axis=1)\n",
    "area_df.head(2)"
   ]
  },
  {
   "cell_type": "code",
   "execution_count": null,
   "id": "79f46440",
   "metadata": {},
   "outputs": [],
   "source": [
    "# Code Block\n",
    "\n",
    "\n"
   ]
  },
  {
   "cell_type": "markdown",
   "id": "c569b281",
   "metadata": {},
   "source": [
    "# 8. Line Plot\n",
    "`df[col_name].plot(kind=\"line\")`\n",
    "\n",
    "Example: plot against any numeric column from \"sepal_length\", \"sepal_width\", \"petal_length\", \"petal_width\""
   ]
  },
  {
   "cell_type": "code",
   "execution_count": null,
   "id": "764263ae",
   "metadata": {},
   "outputs": [],
   "source": [
    "# Code Block\n",
    "\n",
    "\n"
   ]
  },
  {
   "cell_type": "markdown",
   "id": "81d79a50",
   "metadata": {},
   "source": [
    "END of the Notebook<br>\n",
    "Author: Shounak Deshpande (shounak.python@gmail.com)<br>\n",
    "Youtube: https://www.youtube.com/channel/UCpODmuqv_ljQ_vMYwO71a_g"
   ]
  }
 ],
 "metadata": {
  "kernelspec": {
   "display_name": "Python 3 (ipykernel)",
   "language": "python",
   "name": "python3"
  },
  "language_info": {
   "codemirror_mode": {
    "name": "ipython",
    "version": 3
   },
   "file_extension": ".py",
   "mimetype": "text/x-python",
   "name": "python",
   "nbconvert_exporter": "python",
   "pygments_lexer": "ipython3",
   "version": "3.9.12"
  }
 },
 "nbformat": 4,
 "nbformat_minor": 5
}
