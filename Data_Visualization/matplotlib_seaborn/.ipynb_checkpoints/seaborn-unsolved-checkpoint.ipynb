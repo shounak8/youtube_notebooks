{
 "cells": [
  {
   "cell_type": "markdown",
   "id": "4dfc8285",
   "metadata": {},
   "source": [
    "<img src=\"seaborn_logo.png\" width=\"400\" />\n",
    "\n",
    "### Seaborn is a Data Visualization library.<br>\n",
    "### Seaborn is build on top of Matplotlib for plotting aestheric graphs.<br>\n",
    "### Seaborn tutorials link: https://seaborn.pydata.org/tutorial.html"
   ]
  },
  {
   "cell_type": "markdown",
   "id": "53c5a683",
   "metadata": {},
   "source": [
    "# Visualizations included in this notebook:\n",
    "\n",
    "|  |  |  |  |\n",
    "| :---: | :---: | :---: | :---: |\n",
    "| 1. Pair-plot | 2. Line-plot | 3. Dist-plot | 4. Joint-plot |\n",
    "| <img src=\"img/seaborn/pairplot.png\" width=\"500px\" /> | <img src=\"img/seaborn/lineplot.png\" /> | <img src=\"img/seaborn/distplot.png\" /> | <img src=\"img/seaborn/jointplot.png\" /> |\n",
    "\n",
    "---\n",
    "\n",
    "---\n",
    "\n",
    "\n",
    "|  |  |  |  |\n",
    "| :---: | :---: | :---: | :---: |\n",
    "| 5. KDE-plot | 6. Scatter-chart | 7. Bar-plot | 8. Clustermap |\n",
    "| <img src=\"img/seaborn/kdeplot.png\" width=\"500px\"/> | <img src=\"img/seaborn/scatterplot.png\" width=\"500px\"/> | <img src=\"img/seaborn/barplot.png\" width=\"500px\"/> | <img src=\"img/seaborn/clustermap.png\" width=\"500px\"/> |\n",
    "\n",
    "\n",
    "---\n",
    "\n",
    "---\n",
    "\n",
    "|  |  |  |  |\n",
    "| :---: | :---: | :---: | :---: |\n",
    "| 9. Box-plot | 10. Violin-plot | 11. Regression-plot | 12. Heatmap |\n",
    "| <img src=\"img/seaborn/boxplot.png\" /> | <img src=\"img/seaborn/violinplot.png\" /> | <img src=\"img/seaborn/regplot.png\" /> | <img src=\"img/seaborn/heatmap.png\" /> |"
   ]
  },
  {
   "cell_type": "code",
   "execution_count": 2,
   "id": "a67852d4",
   "metadata": {},
   "outputs": [],
   "source": [
    "# import libraries\n",
    "import warnings\n",
    "warnings.filterwarnings('ignore')\n",
    "\n",
    "import pandas as pd\n",
    "import matplotlib.pyplot as plt\n",
    "import seaborn as sns\n",
    "import numpy as np"
   ]
  },
  {
   "cell_type": "code",
   "execution_count": 5,
   "id": "1bd84f4a",
   "metadata": {},
   "outputs": [],
   "source": [
    "# Form a dataset\n",
    "fifa22 = pd.read_csv(\"../players_22.csv\")\n",
    "mufc_df = fifa22[fifa22.club_name==\"Manchester United\"]"
   ]
  },
  {
   "cell_type": "code",
   "execution_count": 9,
   "id": "69c4dfd4",
   "metadata": {
    "collapsed": true
   },
   "outputs": [
    {
     "data": {
      "text/plain": [
       "['sofifa_id',\n",
       " 'player_url',\n",
       " 'short_name',\n",
       " 'long_name',\n",
       " 'player_positions',\n",
       " 'overall',\n",
       " 'potential',\n",
       " 'value_eur',\n",
       " 'wage_eur',\n",
       " 'age',\n",
       " 'dob',\n",
       " 'height_cm',\n",
       " 'weight_kg',\n",
       " 'club_team_id',\n",
       " 'club_name',\n",
       " 'league_name',\n",
       " 'league_level',\n",
       " 'club_position',\n",
       " 'club_jersey_number',\n",
       " 'club_loaned_from',\n",
       " 'club_joined',\n",
       " 'club_contract_valid_until',\n",
       " 'nationality_id',\n",
       " 'nationality_name',\n",
       " 'nation_team_id',\n",
       " 'nation_position',\n",
       " 'nation_jersey_number',\n",
       " 'preferred_foot',\n",
       " 'weak_foot',\n",
       " 'skill_moves',\n",
       " 'international_reputation',\n",
       " 'work_rate',\n",
       " 'body_type',\n",
       " 'real_face',\n",
       " 'release_clause_eur',\n",
       " 'player_tags',\n",
       " 'player_traits',\n",
       " 'pace',\n",
       " 'shooting',\n",
       " 'passing',\n",
       " 'dribbling',\n",
       " 'defending',\n",
       " 'physic',\n",
       " 'attacking_crossing',\n",
       " 'attacking_finishing',\n",
       " 'attacking_heading_accuracy',\n",
       " 'attacking_short_passing',\n",
       " 'attacking_volleys',\n",
       " 'skill_dribbling',\n",
       " 'skill_curve',\n",
       " 'skill_fk_accuracy',\n",
       " 'skill_long_passing',\n",
       " 'skill_ball_control',\n",
       " 'movement_acceleration',\n",
       " 'movement_sprint_speed',\n",
       " 'movement_agility',\n",
       " 'movement_reactions',\n",
       " 'movement_balance',\n",
       " 'power_shot_power',\n",
       " 'power_jumping',\n",
       " 'power_stamina',\n",
       " 'power_strength',\n",
       " 'power_long_shots',\n",
       " 'mentality_aggression',\n",
       " 'mentality_interceptions',\n",
       " 'mentality_positioning',\n",
       " 'mentality_vision',\n",
       " 'mentality_penalties',\n",
       " 'mentality_composure',\n",
       " 'defending_marking_awareness',\n",
       " 'defending_standing_tackle',\n",
       " 'defending_sliding_tackle',\n",
       " 'goalkeeping_diving',\n",
       " 'goalkeeping_handling',\n",
       " 'goalkeeping_kicking',\n",
       " 'goalkeeping_positioning',\n",
       " 'goalkeeping_reflexes',\n",
       " 'goalkeeping_speed',\n",
       " 'ls',\n",
       " 'st',\n",
       " 'rs',\n",
       " 'lw',\n",
       " 'lf',\n",
       " 'cf',\n",
       " 'rf',\n",
       " 'rw',\n",
       " 'lam',\n",
       " 'cam',\n",
       " 'ram',\n",
       " 'lm',\n",
       " 'lcm',\n",
       " 'cm',\n",
       " 'rcm',\n",
       " 'rm',\n",
       " 'lwb',\n",
       " 'ldm',\n",
       " 'cdm',\n",
       " 'rdm',\n",
       " 'rwb',\n",
       " 'lb',\n",
       " 'lcb',\n",
       " 'cb',\n",
       " 'rcb',\n",
       " 'rb',\n",
       " 'gk',\n",
       " 'player_face_url',\n",
       " 'club_logo_url',\n",
       " 'club_flag_url',\n",
       " 'nation_logo_url',\n",
       " 'nation_flag_url']"
      ]
     },
     "execution_count": 9,
     "metadata": {},
     "output_type": "execute_result"
    }
   ],
   "source": [
    "list(mufc_df.columns)"
   ]
  },
  {
   "cell_type": "markdown",
   "id": "d9cd865b",
   "metadata": {},
   "source": [
    "# 1.  Pair-plot\n"
   ]
  },
  {
   "cell_type": "markdown",
   "id": "3d875f86",
   "metadata": {},
   "source": [
    "`plt.figure(figsize=(WIDTH, HEIGHT))`<BR>\n",
    "`sns.pairplot(DATA[PAIRPLOT_LIST],kind=\"kde\", diag_kind=\"kde\", hue=NOMINAL_COL)`<BR>\n",
    "`plt.title(\"TITLE\")`<BR>\n",
    "`plt.xlabel(\"XAXIS\")`<BR>\n",
    "`plt.ylabel(\"YAXIS\")`<BR>\n",
    "`plt.xticks(rotation=60)`<BR>\n",
    "`plt.legend()`<BR>\n",
    "`plt.show()`\n",
    "    "
   ]
  },
  {
   "cell_type": "code",
   "execution_count": 26,
   "id": "7aa8ecc5",
   "metadata": {},
   "outputs": [],
   "source": [
    "# let us consider the below cols for the demo\n",
    "pairplot_list = ['overall', 'potential', 'value_eur', 'wage_eur', 'age', 'preferred_foot']"
   ]
  },
  {
   "cell_type": "code",
   "execution_count": null,
   "id": "c870622b",
   "metadata": {},
   "outputs": [],
   "source": [
    "# CODE BLOCK\n",
    "\n",
    "\n",
    "\n"
   ]
  },
  {
   "cell_type": "markdown",
   "id": "ef0b9da2",
   "metadata": {},
   "source": [
    "---"
   ]
  },
  {
   "cell_type": "markdown",
   "id": "11e6a87f",
   "metadata": {},
   "source": [
    "# 2.  Line-plot\n"
   ]
  },
  {
   "cell_type": "markdown",
   "id": "eb64c4b8",
   "metadata": {},
   "source": [
    "`plt.figure(figsize=(WIDTH, HEIGHT))`<BR>\n",
    "`sns.lineplot(data=DATA, x=\"NUM_COL1\", y=\"NUM_COL2\", hue=\"NOM_COL\")`<BR>\n",
    "`plt.title(\"TITLE\")`<BR>\n",
    "`plt.xlabel(\"XAXIS\")`<BR>\n",
    "`plt.ylabel(\"YAXIS\")`<BR>\n",
    "`plt.xticks(rotation=60)`<BR>\n",
    "`plt.legend()`<BR>\n",
    "`plt.show()`<BR><BR>\n",
    "\n",
    "#### Example: NOM_COL = 'preferred_foot', NUM_COLs = 'age', 'overall'"
   ]
  },
  {
   "cell_type": "code",
   "execution_count": null,
   "id": "493918b8",
   "metadata": {},
   "outputs": [],
   "source": []
  },
  {
   "cell_type": "code",
   "execution_count": null,
   "id": "d466c22f",
   "metadata": {},
   "outputs": [],
   "source": [
    "# CODE BLOCK\n",
    "\n",
    "\n",
    "\n"
   ]
  },
  {
   "cell_type": "markdown",
   "id": "09587f35",
   "metadata": {},
   "source": [
    "---"
   ]
  },
  {
   "cell_type": "markdown",
   "id": "ff2a185c",
   "metadata": {},
   "source": [
    "# 3.  Dist-plot(Histogram)\n"
   ]
  },
  {
   "cell_type": "markdown",
   "id": "0e25884f",
   "metadata": {},
   "source": [
    "`plt.figure(figsize=(WIDTH, HEIGHT))`<BR>\n",
    "`sns.distplot(ARRAY_1D, bins=INT_NUM)`<BR>\n",
    "`plt.title(\"TITLE\")`<BR>\n",
    "`plt.xlabel(\"XAXIS\")`<BR>\n",
    "`plt.ylabel(\"YAXIS\")`<BR>\n",
    "`plt.xticks(rotation=60)`<BR>\n",
    "`plt.legend()`<BR>\n",
    "`plt.show()`"
   ]
  },
  {
   "cell_type": "code",
   "execution_count": null,
   "id": "95095550",
   "metadata": {},
   "outputs": [],
   "source": []
  },
  {
   "cell_type": "code",
   "execution_count": null,
   "id": "393f586d",
   "metadata": {},
   "outputs": [],
   "source": [
    "# CODE BLOCK\n",
    "\n",
    "\n",
    "\n"
   ]
  },
  {
   "cell_type": "markdown",
   "id": "47f7c593",
   "metadata": {},
   "source": [
    "---"
   ]
  },
  {
   "cell_type": "markdown",
   "id": "4b47b3fa",
   "metadata": {},
   "source": [
    "# 4.  Joint-plot\n"
   ]
  },
  {
   "cell_type": "markdown",
   "id": "a34d385d",
   "metadata": {},
   "source": [
    "`plt.figure(figsize=(WIDTH, HEIGHT))`<BR>\n",
    "`sns.jointplot(data=DATA, x='NUM_COL1', y='NUM_COL2', hue='NOMINAL_COL')`<BR>\n",
    "`plt.title(\"TITLE\")`<BR>\n",
    "`plt.xlabel(\"XAXIS\")`<BR>\n",
    "`plt.ylabel(\"YAXIS\")`<BR>\n",
    "`plt.xticks(rotation=60)`<BR>\n",
    "`plt.legend()`<BR>\n",
    "`plt.show()`<br><br>\n",
    "\n",
    "#### Example: \n",
    "We will plot \"age\" vs \"overall\", <BR>NOMINAL_COL = \"preferred_foot\"    "
   ]
  },
  {
   "cell_type": "code",
   "execution_count": null,
   "id": "780eb3d0",
   "metadata": {},
   "outputs": [],
   "source": []
  },
  {
   "cell_type": "code",
   "execution_count": null,
   "id": "0bccc207",
   "metadata": {},
   "outputs": [],
   "source": [
    "# CODE BLOCK\n",
    "\n",
    "\n",
    "\n"
   ]
  },
  {
   "cell_type": "markdown",
   "id": "516758c4",
   "metadata": {},
   "source": [
    "---"
   ]
  },
  {
   "cell_type": "markdown",
   "id": "41274456",
   "metadata": {},
   "source": [
    "# 5.  KDE-plot"
   ]
  },
  {
   "cell_type": "markdown",
   "id": "4fbb2be4",
   "metadata": {},
   "source": [
    "`plt.figure(figsize=(WIDTH, HEIGHT))`<BR>\n",
    "`sns.kdeplot(ARRAY_1D)`<BR>\n",
    "`sns.kdeplot(data=DATA,x='NUMERIC_COL', hue='NOMINAL_COL', multiple='fill/stack', alpha=0.3)`<BR>\n",
    "`plt.title(\"TITLE\")`<BR>\n",
    "`plt.xlabel(\"XAXIS\")`<BR>\n",
    "`plt.ylabel(\"YAXIS\")`<BR>\n",
    "`plt.xticks(rotation=60)`<BR>\n",
    "`plt.legend()`<BR>\n",
    "`plt.show()`\n",
    "<BR><BR>\n",
    "#### Example:\n",
    "<BR>NUMERIC_COL = 'overall', <BR>NOMINAL_COL = 'preferred_foot', <BR>multiple = 'stack' or 'fill'"
   ]
  },
  {
   "cell_type": "code",
   "execution_count": null,
   "id": "48b30f20",
   "metadata": {},
   "outputs": [],
   "source": []
  },
  {
   "cell_type": "code",
   "execution_count": null,
   "id": "535874ab",
   "metadata": {},
   "outputs": [],
   "source": [
    "# CODE BLOCK\n",
    "\n",
    "\n",
    "\n"
   ]
  },
  {
   "cell_type": "markdown",
   "id": "3615098d",
   "metadata": {},
   "source": [
    "---"
   ]
  },
  {
   "cell_type": "markdown",
   "id": "1f8ba185",
   "metadata": {},
   "source": [
    "# 6.  Scatter-plot\n"
   ]
  },
  {
   "cell_type": "markdown",
   "id": "ec4e85af",
   "metadata": {},
   "source": [
    "`plt.figure(figsize=(WIDTH, HEIGHT))`<BR>\n",
    "`sns.scatterplot(data=mufc_df, x='NUMERIC_COL1', y='NUMERIC_COL2', hue='NOMINAL_COL', size='NUMERIC_COL3', )`<BR>\n",
    "`plt.title(\"TITLE\")`<BR>\n",
    "`plt.xlabel(\"XAXIS\")`<BR>\n",
    "`plt.ylabel(\"YAXIS\")`<BR>\n",
    "`plt.xticks(rotation=60)`<BR>\n",
    "`plt.legend()`<BR>\n",
    "`plt.show()`\n",
    "    \n",
    "#### Example:\n",
    "<BR>NUMERIC_COLs='age', 'overall', 'wage_eur';<BR> NOMINAL_COL='preferred_foot'"
   ]
  },
  {
   "cell_type": "code",
   "execution_count": null,
   "id": "51c919bb",
   "metadata": {},
   "outputs": [],
   "source": []
  },
  {
   "cell_type": "code",
   "execution_count": null,
   "id": "0095238f",
   "metadata": {},
   "outputs": [],
   "source": [
    "# CODE BLOCK\n",
    "\n",
    "\n",
    "\n"
   ]
  },
  {
   "cell_type": "markdown",
   "id": "b74cd83b",
   "metadata": {},
   "source": [
    "---"
   ]
  },
  {
   "cell_type": "markdown",
   "id": "977ffdf7",
   "metadata": {},
   "source": [
    "# 7.  Bar-plot\n"
   ]
  },
  {
   "cell_type": "markdown",
   "id": "e500133f",
   "metadata": {},
   "source": [
    "`plt.figure(figsize=(WIDTH, HEIGHT))`<BR>\n",
    "`sns.barplot(data=mufc_df, x=\"NOMINAL_COL1\", y=\"NUMERIC_COL\", hue=\"NOMINAL_COL2\")`<BR>\n",
    "`plt.title(\"TITLE\")`<BR>\n",
    "`plt.xlabel(\"XAXIS\")`<BR>\n",
    "`plt.ylabel(\"YAXIS\")`<BR>\n",
    "`plt.xticks(rotation=60)`<BR>\n",
    "`plt.legend()`<BR>\n",
    "`plt.show()`<BR><BR>\n",
    "    \n",
    "#### Example:\n",
    "NOMINAL_COLS = nationality_name, preferred_foot<BR>\n",
    "NUMERIC_COL = overall"
   ]
  },
  {
   "cell_type": "code",
   "execution_count": null,
   "id": "a702a695",
   "metadata": {},
   "outputs": [],
   "source": []
  },
  {
   "cell_type": "code",
   "execution_count": null,
   "id": "e255d792",
   "metadata": {},
   "outputs": [],
   "source": [
    "# CODE BLOCK\n",
    "\n",
    "\n",
    "\n"
   ]
  },
  {
   "cell_type": "markdown",
   "id": "307c3962",
   "metadata": {},
   "source": [
    "---"
   ]
  },
  {
   "cell_type": "markdown",
   "id": "ed2c3302",
   "metadata": {},
   "source": [
    "# 8.  Clustermap\n"
   ]
  },
  {
   "cell_type": "markdown",
   "id": "1325be22",
   "metadata": {},
   "source": [
    "`plt.figure(figsize=(WIDTH, HEIGHT))`<BR>\n",
    "`sns.clustermap(DATA)`<BR>\n",
    "`plt.title(\"TITLE\")`<BR>\n",
    "`plt.xlabel(\"XAXIS\")`<BR>\n",
    "`plt.ylabel(\"YAXIS\")`<BR>\n",
    "`plt.xticks(rotation=60)`<BR>\n",
    "`plt.legend()`<BR>\n",
    "`plt.show()`"
   ]
  },
  {
   "cell_type": "code",
   "execution_count": null,
   "id": "54b4f841",
   "metadata": {},
   "outputs": [],
   "source": [
    "# dataset\n",
    "clustermap_list = ['overall', 'potential', 'value_eur', 'wage_eur', 'age']\n",
    "clustermap_df = mufc_df[clustermap_list]"
   ]
  },
  {
   "cell_type": "code",
   "execution_count": null,
   "id": "48783d08",
   "metadata": {},
   "outputs": [],
   "source": [
    "# CODE BLOCK\n",
    "\n",
    "\n",
    "\n"
   ]
  },
  {
   "cell_type": "markdown",
   "id": "80a8b3e2",
   "metadata": {},
   "source": [
    "---"
   ]
  },
  {
   "cell_type": "markdown",
   "id": "d73fcc18",
   "metadata": {},
   "source": [
    "# 9.  Box-plot\n"
   ]
  },
  {
   "cell_type": "markdown",
   "id": "d4c13116",
   "metadata": {},
   "source": [
    "`plt.figure(figsize=(WIDTH, HEIGHT))`<BR>\n",
    "`sns.boxplot(data=DATAFRAME, y=\"NUM_COL\", x=\"NOMINAL_COL\")`<BR>\n",
    "`plt.title(\"TITLE\")`<BR>\n",
    "`plt.xlabel(\"XAXIS\")`<BR>\n",
    "`plt.ylabel(\"YAXIS\")`<BR>\n",
    "`plt.xticks(rotation=60)`<BR>\n",
    "`plt.legend()`<BR>\n",
    "`plt.show()`<BR><BR>\n",
    "    \n",
    "    \n",
    "#### Example:\n",
    "NUM_COL = \"overall\"<BR>\n",
    "NOMINAL_COL = \"preferred_foot\""
   ]
  },
  {
   "cell_type": "code",
   "execution_count": null,
   "id": "6931291c",
   "metadata": {},
   "outputs": [],
   "source": []
  },
  {
   "cell_type": "code",
   "execution_count": null,
   "id": "19536c7c",
   "metadata": {},
   "outputs": [],
   "source": [
    "# CODE BLOCK\n",
    "\n",
    "\n",
    "\n"
   ]
  },
  {
   "cell_type": "markdown",
   "id": "1b51ff94",
   "metadata": {},
   "source": [
    "---"
   ]
  },
  {
   "cell_type": "markdown",
   "id": "72b8c37a",
   "metadata": {},
   "source": [
    "# 10. Violin-plot\n"
   ]
  },
  {
   "cell_type": "markdown",
   "id": "42da56fd",
   "metadata": {},
   "source": [
    "`plt.figure(figsize=(WIDTH, HEIGHT))`<BR>\n",
    "`sns.violinplot(data=DATAFRAME, y=\"NUM_COL\", x=\"NOMINAL_COL\")`<BR>\n",
    "`plt.title(\"TITLE\")`<BR>\n",
    "`plt.xlabel(\"XAXIS\")`<BR>\n",
    "`plt.ylabel(\"YAXIS\")`<BR>\n",
    "`plt.xticks(rotation=60)`<BR>\n",
    "`plt.legend()`<BR>\n",
    "`plt.show()`<BR><BR>\n",
    "    \n",
    "#### Example:\n",
    "NUM_COL = \"overall\"<BR>\n",
    "NOMINAL_COL = \"preferred_foot\""
   ]
  },
  {
   "cell_type": "code",
   "execution_count": null,
   "id": "7395e0f7",
   "metadata": {},
   "outputs": [],
   "source": []
  },
  {
   "cell_type": "code",
   "execution_count": null,
   "id": "217be4b6",
   "metadata": {},
   "outputs": [],
   "source": [
    "# CODE BLOCK\n",
    "\n",
    "\n",
    "\n"
   ]
  },
  {
   "cell_type": "markdown",
   "id": "cf8f605a",
   "metadata": {},
   "source": [
    "---"
   ]
  },
  {
   "cell_type": "markdown",
   "id": "8e29f068",
   "metadata": {},
   "source": [
    "# 11. Regression-plot\n"
   ]
  },
  {
   "cell_type": "markdown",
   "id": "02ea4e7f",
   "metadata": {},
   "source": [
    "`plt.figure(figsize=(WIDTH, HEIGHT))`<BR>\n",
    "`sns.regplot(data=DATA, x='NUM_COL1', y='NUM_COL2')`<BR>\n",
    "`plt.title(\"TITLE\")`<BR>\n",
    "`plt.xlabel(\"XAXIS\")`<BR>\n",
    "`plt.ylabel(\"YAXIS\")`<BR>\n",
    "`plt.xticks(rotation=60)`<BR>\n",
    "`plt.legend()`<BR>\n",
    "`plt.show()`"
   ]
  },
  {
   "cell_type": "code",
   "execution_count": null,
   "id": "d53edd36",
   "metadata": {},
   "outputs": [],
   "source": [
    "# dataset to be used\n",
    "mufc_overall_sorted=mufc_df.sort_values(by='overall')"
   ]
  },
  {
   "cell_type": "code",
   "execution_count": null,
   "id": "4c69e619",
   "metadata": {},
   "outputs": [],
   "source": [
    "# CODE BLOCK\n",
    "# num cols we will use are 'age' vs 'overall'\n",
    "\n",
    "\n"
   ]
  },
  {
   "cell_type": "code",
   "execution_count": null,
   "id": "dacc4b1b",
   "metadata": {},
   "outputs": [],
   "source": []
  },
  {
   "cell_type": "markdown",
   "id": "53ba48ef",
   "metadata": {},
   "source": [
    "---"
   ]
  },
  {
   "cell_type": "markdown",
   "id": "713a39d6",
   "metadata": {},
   "source": [
    "# 12. Heatmap"
   ]
  },
  {
   "cell_type": "markdown",
   "id": "f89f0b6d",
   "metadata": {},
   "source": [
    "`plt.figure(figsize=(WIDTH, HEIGHT))`<BR>\n",
    "`sns.heatmap(DATA)`<BR>\n",
    "`plt.title(\"TITLE\")`<BR>\n",
    "`plt.xlabel(\"XAXIS\")`<BR>\n",
    "`plt.ylabel(\"YAXIS\")`<BR>\n",
    "`plt.xticks(rotation=60)`<BR>\n",
    "`plt.legend()`<BR>\n",
    "`plt.show()`"
   ]
  },
  {
   "cell_type": "code",
   "execution_count": 12,
   "id": "f8fb1d15",
   "metadata": {},
   "outputs": [],
   "source": [
    "# dataframe to be used\n",
    "heatmap_list = ['overall', 'potential', 'value_eur', 'wage_eur', 'age']\n",
    "heatmap_df = mufc_df[heatmap_list]"
   ]
  },
  {
   "cell_type": "code",
   "execution_count": null,
   "id": "e1069665",
   "metadata": {},
   "outputs": [],
   "source": [
    "# CODE BLOCK\n",
    "\n",
    "\n",
    "\n"
   ]
  },
  {
   "cell_type": "markdown",
   "id": "2011addb",
   "metadata": {},
   "source": [
    "END of the Notebook<br>\n",
    "Author: Shounak Deshpande (shounak.python@gmail.com)<br>\n",
    "Youtube: https://www.youtube.com/channel/UCpODmuqv_ljQ_vMYwO71a_g"
   ]
  }
 ],
 "metadata": {
  "kernelspec": {
   "display_name": "Python 3 (ipykernel)",
   "language": "python",
   "name": "python3"
  },
  "language_info": {
   "codemirror_mode": {
    "name": "ipython",
    "version": 3
   },
   "file_extension": ".py",
   "mimetype": "text/x-python",
   "name": "python",
   "nbconvert_exporter": "python",
   "pygments_lexer": "ipython3",
   "version": "3.9.12"
  }
 },
 "nbformat": 4,
 "nbformat_minor": 5
}
