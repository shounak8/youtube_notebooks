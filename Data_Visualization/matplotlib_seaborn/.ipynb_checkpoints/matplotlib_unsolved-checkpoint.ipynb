{
 "cells": [
  {
   "cell_type": "markdown",
   "id": "36759313",
   "metadata": {},
   "source": [
    "<img src=\"matplotlib-index.webp\" width=\"600\" />\n",
    "\n",
    "### Matplotlib is a Data Visualization library.\n",
    "### Matplotlib tutorials link: https://matplotlib.org/stable/gallery/index.html"
   ]
  },
  {
   "cell_type": "markdown",
   "id": "775db87d",
   "metadata": {},
   "source": [
    "# Visualizations included in this notebook:\n",
    "\n",
    "|  |  |  |  |\n",
    "| :---: | :---: | :---: | :---: |\n",
    "| 1. Bar-plot | 2. Histogram | 3. Scatter-plot | 4. Bar Chart on Polar Axis |\n",
    "| <img src=\"img/matplotlib/bar.webp\" /> | <img src=\"img/matplotlib/histogram.webp\" /> | <img src=\"img/matplotlib/scatter.webp\" /> | <img src=\"img/matplotlib/bar_polar.webp\" /> |\n",
    "\n",
    "---\n",
    "\n",
    "|  |  |  |  |\n",
    "| :---: | :---: | :---: | :---: |\n",
    "| 5. Line-plot | 6. Pie-chart | 7. Stacked-plot | 8. Box-plot |\n",
    "| <img src=\"img/matplotlib/line.webp\" /> | <img src=\"img/matplotlib/pie.webp\" /> | <img src=\"img/matplotlib/stacked.webp\" /> | <img src=\"img/matplotlib/boxplot.webp\" /> |"
   ]
  },
  {
   "cell_type": "code",
   "execution_count": 33,
   "id": "661a9596",
   "metadata": {},
   "outputs": [],
   "source": [
    "import warnings\n",
    "warnings.filterwarnings(\"ignore\")"
   ]
  },
  {
   "cell_type": "code",
   "execution_count": 24,
   "id": "23500e54",
   "metadata": {},
   "outputs": [],
   "source": [
    "# import libraries\n",
    "import matplotlib.pyplot as plt\n",
    "from matplotlib.pyplot import cm\n",
    "from sklearn.datasets import load_iris\n",
    "import numpy as np\n",
    "import pandas as pd"
   ]
  },
  {
   "cell_type": "code",
   "execution_count": 35,
   "id": "62d55586",
   "metadata": {},
   "outputs": [],
   "source": [
    "# Read dataset\n",
    "fifa22 = pd.read_csv(\"../players_22.csv\")\n",
    "\n",
    "# Form subset\n",
    "mufc_df = fifa22[fifa22.club_name==\"Manchester United\"]"
   ]
  },
  {
   "cell_type": "code",
   "execution_count": 7,
   "id": "6ec0ea21",
   "metadata": {
    "collapsed": true
   },
   "outputs": [
    {
     "data": {
      "text/plain": [
       "['sofifa_id',\n",
       " 'player_url',\n",
       " 'short_name',\n",
       " 'long_name',\n",
       " 'player_positions',\n",
       " 'overall',\n",
       " 'potential',\n",
       " 'value_eur',\n",
       " 'wage_eur',\n",
       " 'age',\n",
       " 'dob',\n",
       " 'height_cm',\n",
       " 'weight_kg',\n",
       " 'club_team_id',\n",
       " 'club_name',\n",
       " 'league_name',\n",
       " 'league_level',\n",
       " 'club_position',\n",
       " 'club_jersey_number',\n",
       " 'club_loaned_from',\n",
       " 'club_joined',\n",
       " 'club_contract_valid_until',\n",
       " 'nationality_id',\n",
       " 'nationality_name',\n",
       " 'nation_team_id',\n",
       " 'nation_position',\n",
       " 'nation_jersey_number',\n",
       " 'preferred_foot',\n",
       " 'weak_foot',\n",
       " 'skill_moves',\n",
       " 'international_reputation',\n",
       " 'work_rate',\n",
       " 'body_type',\n",
       " 'real_face',\n",
       " 'release_clause_eur',\n",
       " 'player_tags',\n",
       " 'player_traits',\n",
       " 'pace',\n",
       " 'shooting',\n",
       " 'passing',\n",
       " 'dribbling',\n",
       " 'defending',\n",
       " 'physic',\n",
       " 'attacking_crossing',\n",
       " 'attacking_finishing',\n",
       " 'attacking_heading_accuracy',\n",
       " 'attacking_short_passing',\n",
       " 'attacking_volleys',\n",
       " 'skill_dribbling',\n",
       " 'skill_curve',\n",
       " 'skill_fk_accuracy',\n",
       " 'skill_long_passing',\n",
       " 'skill_ball_control',\n",
       " 'movement_acceleration',\n",
       " 'movement_sprint_speed',\n",
       " 'movement_agility',\n",
       " 'movement_reactions',\n",
       " 'movement_balance',\n",
       " 'power_shot_power',\n",
       " 'power_jumping',\n",
       " 'power_stamina',\n",
       " 'power_strength',\n",
       " 'power_long_shots',\n",
       " 'mentality_aggression',\n",
       " 'mentality_interceptions',\n",
       " 'mentality_positioning',\n",
       " 'mentality_vision',\n",
       " 'mentality_penalties',\n",
       " 'mentality_composure',\n",
       " 'defending_marking_awareness',\n",
       " 'defending_standing_tackle',\n",
       " 'defending_sliding_tackle',\n",
       " 'goalkeeping_diving',\n",
       " 'goalkeeping_handling',\n",
       " 'goalkeeping_kicking',\n",
       " 'goalkeeping_positioning',\n",
       " 'goalkeeping_reflexes',\n",
       " 'goalkeeping_speed',\n",
       " 'ls',\n",
       " 'st',\n",
       " 'rs',\n",
       " 'lw',\n",
       " 'lf',\n",
       " 'cf',\n",
       " 'rf',\n",
       " 'rw',\n",
       " 'lam',\n",
       " 'cam',\n",
       " 'ram',\n",
       " 'lm',\n",
       " 'lcm',\n",
       " 'cm',\n",
       " 'rcm',\n",
       " 'rm',\n",
       " 'lwb',\n",
       " 'ldm',\n",
       " 'cdm',\n",
       " 'rdm',\n",
       " 'rwb',\n",
       " 'lb',\n",
       " 'lcb',\n",
       " 'cb',\n",
       " 'rcb',\n",
       " 'rb',\n",
       " 'gk',\n",
       " 'player_face_url',\n",
       " 'club_logo_url',\n",
       " 'club_flag_url',\n",
       " 'nation_logo_url',\n",
       " 'nation_flag_url']"
      ]
     },
     "execution_count": 7,
     "metadata": {},
     "output_type": "execute_result"
    }
   ],
   "source": [
    "list(mufc_df.columns)"
   ]
  },
  {
   "cell_type": "code",
   "execution_count": 30,
   "id": "2cb4c9e0",
   "metadata": {},
   "outputs": [],
   "source": [
    "# HELPER FUNCTION TO GET ARRAY OF COLORS IN RAINBOW COLOR SPECTRUM\n",
    "\n",
    "def get_color_list(number:int):\n",
    "    return cm.rainbow(np.linspace(0, 1, number))"
   ]
  },
  {
   "cell_type": "markdown",
   "id": "4413edf0",
   "metadata": {},
   "source": [
    "# 1. Bar-plot"
   ]
  },
  {
   "cell_type": "markdown",
   "id": "4cc87936",
   "metadata": {},
   "source": [
    "`plt.figure(figsize=(WIDTH,HEIGHT))`<BR>\n",
    "`plt.bar(x=DATA.NOMINAL_COL, height=DATA.NUMERIC_COL, color=get_color_list(len(country_count)))`<BR>\n",
    "`plt.title(\"<TITLE>\")`<BR>\n",
    "`plt.xlabel(\"X_AXIS\")`<BR>\n",
    "`plt.xticks(rotation=60)`<BR>\n",
    "`plt.ylabel(\"Y_AXIS\")`<BR>\n",
    "`plt.legend()`<BR>\n",
    "`plt.show()`<BR>"
   ]
  },
  {
   "cell_type": "code",
   "execution_count": 36,
   "id": "38421d23",
   "metadata": {},
   "outputs": [
    {
     "data": {
      "text/plain": [
       "{'England': 13,\n",
       " 'Portugal': 3,\n",
       " 'France': 3,\n",
       " 'Spain': 2,\n",
       " 'Brazil': 2,\n",
       " 'Netherlands': 2,\n",
       " 'Sweden': 2,\n",
       " \"Côte d'Ivoire\": 2,\n",
       " 'Uruguay': 1,\n",
       " 'Scotland': 1,\n",
       " 'Serbia': 1,\n",
       " 'Tunisia': 1}"
      ]
     },
     "execution_count": 36,
     "metadata": {},
     "output_type": "execute_result"
    }
   ],
   "source": [
    "# Let us group the squad as per nationality\n",
    "country_count = dict(mufc_df.nationality_name.value_counts())\n",
    "country_count"
   ]
  },
  {
   "cell_type": "code",
   "execution_count": null,
   "id": "bf39a56c",
   "metadata": {},
   "outputs": [],
   "source": []
  },
  {
   "cell_type": "code",
   "execution_count": null,
   "id": "9a00d40c",
   "metadata": {},
   "outputs": [],
   "source": []
  },
  {
   "cell_type": "markdown",
   "id": "e9b3e214",
   "metadata": {},
   "source": [
    "---"
   ]
  },
  {
   "cell_type": "markdown",
   "id": "9d358768",
   "metadata": {},
   "source": [
    "# 2. Histogram"
   ]
  },
  {
   "cell_type": "markdown",
   "id": "b8512178",
   "metadata": {},
   "source": [
    "`plt.figure(figsize=(WIDTH,HEIGHT))`<BR>\n",
    "`plt.hist(x=mufc_df.overall, bins=33)`<BR>\n",
    "`plt.title(\"TITLE\")`<BR>\n",
    "`plt.xlabel(\"X_AXIS\")`<BR>\n",
    "`plt.ylabel(\"Y_AXIS\")`<BR>\n",
    "`plt.legend()`<BR>\n",
    "`plt.show()`<BR>"
   ]
  },
  {
   "cell_type": "code",
   "execution_count": null,
   "id": "b65cf1d1",
   "metadata": {},
   "outputs": [],
   "source": []
  },
  {
   "cell_type": "code",
   "execution_count": null,
   "id": "2a2e080b",
   "metadata": {},
   "outputs": [],
   "source": []
  },
  {
   "cell_type": "markdown",
   "id": "60c1409f",
   "metadata": {},
   "source": [
    "---"
   ]
  },
  {
   "cell_type": "markdown",
   "id": "83ce3cb2",
   "metadata": {},
   "source": [
    "# 3. Scatter-plot"
   ]
  },
  {
   "cell_type": "markdown",
   "id": "4717cd3d",
   "metadata": {},
   "source": [
    "`plt.figure(figsize=(WIDTH,HEIGHT))`<BR>\n",
    "`plt.scatter(x=DATA.NUM_COL1, y=DATA.NUM_COL1, c=get_color_list(len(mufc_df)), s=INT<RECOMMENDATION=100>)`<BR>\n",
    "`plt.title(\"TITLE\")`<BR>\n",
    "`plt.xlabel(\"X_AXIS\")`<BR>\n",
    "`plt.ylabel(\"Y_AXIS\")`<BR>\n",
    "`plt.legend()`<BR>\n",
    "`plt.show()`<BR>"
   ]
  },
  {
   "cell_type": "code",
   "execution_count": null,
   "id": "8173fe4e",
   "metadata": {},
   "outputs": [],
   "source": []
  },
  {
   "cell_type": "code",
   "execution_count": null,
   "id": "6c894e10",
   "metadata": {},
   "outputs": [],
   "source": []
  },
  {
   "cell_type": "markdown",
   "id": "8a6af6bd",
   "metadata": {},
   "source": [
    "---"
   ]
  },
  {
   "cell_type": "markdown",
   "id": "6b6d02ab",
   "metadata": {},
   "source": [
    "# 4. Bar Chart on Polar Axis"
   ]
  },
  {
   "cell_type": "markdown",
   "id": "4d2d6897",
   "metadata": {},
   "source": [
    "### Example\n",
    "\n",
    "#### Preprocessing (in example, I have used the mufc_df with 'overall' and 'age' as parameters):\n",
    "`plt.figure(figsize=(WIDTH,HEIGHT))`<BR>\n",
    "`angle = np.linspace(0, 2*np.pi, len(mufc_df), endpoint=False)`<br>\n",
    "`height = np.array(mufc_df.overall.tolist()) * 10`<br>\n",
    "`width = np.array(mufc_df.age.tolist()) / 300`<br>\n",
    "`colors = get_color_list(len(mufc_df))`<br><br>\n",
    "`ax = plt.subplot(projection=\"polar\")`<br>\n",
    "`ax.bar(x=angle, height=height, width=width, bottom=0.0, color=colors, alpha=0.5)`<br>"
   ]
  },
  {
   "cell_type": "code",
   "execution_count": null,
   "id": "9f16a84c",
   "metadata": {},
   "outputs": [],
   "source": []
  },
  {
   "cell_type": "code",
   "execution_count": null,
   "id": "7bf618da",
   "metadata": {},
   "outputs": [],
   "source": []
  },
  {
   "cell_type": "markdown",
   "id": "2b53e532",
   "metadata": {},
   "source": [
    "---"
   ]
  },
  {
   "cell_type": "markdown",
   "id": "2f8c6d5f",
   "metadata": {},
   "source": [
    "# 5. Line-plot"
   ]
  },
  {
   "cell_type": "markdown",
   "id": "3cef252b",
   "metadata": {},
   "source": [
    "`plt.figure(figsize=(WIDTH,HEIGHT))`<BR>\n",
    "`plt.plot(ORDINAL_NUM_COL1, NUM_COL2)`<BR>\n",
    "`plt.title(\"TITLE\")`<BR>\n",
    "`plt.xlabel(\"X_AXIS\")`<BR>\n",
    "`plt.ylabel(\"Y_AXIS\")`<BR>\n",
    "`plt.legend()`<BR>\n",
    "`plt.show()`<BR>"
   ]
  },
  {
   "cell_type": "code",
   "execution_count": null,
   "id": "a0c10be9",
   "metadata": {},
   "outputs": [],
   "source": [
    "# dataset for demo\n",
    "line_df = mufc_df.sort_values(\"age\")"
   ]
  },
  {
   "cell_type": "code",
   "execution_count": null,
   "id": "1d516fbf",
   "metadata": {},
   "outputs": [],
   "source": []
  },
  {
   "cell_type": "code",
   "execution_count": null,
   "id": "b3399496",
   "metadata": {},
   "outputs": [],
   "source": []
  },
  {
   "cell_type": "markdown",
   "id": "7fe43acb",
   "metadata": {},
   "source": [
    "---"
   ]
  },
  {
   "cell_type": "markdown",
   "id": "a70a7316",
   "metadata": {},
   "source": [
    "# 6. Pie-chart"
   ]
  },
  {
   "cell_type": "markdown",
   "id": "ac3e2f5a",
   "metadata": {},
   "source": [
    "`plt.figure(figsize=(WIDTH,HEIGHT))`<BR>\n",
    "`plt.pie(x=NUM_COL, labels=CAT_COL, autopct='%.2f')`<BR>\n",
    "`plt.title(\"TITLE\")`<BR>\n",
    "`plt.xlabel(\"X_AXIS\")`<BR>\n",
    "`plt.ylabel(\"Y_AXIS\")`<BR>\n",
    "`plt.legend(loc=2)`<BR>\n",
    "`plt.show()`<BR>"
   ]
  },
  {
   "cell_type": "code",
   "execution_count": 64,
   "id": "b297469a",
   "metadata": {},
   "outputs": [],
   "source": [
    "# form a dataframe\n",
    "above_80 = mufc_df[mufc_df.overall > 80]\n",
    "pie_df = above_80.nationality_name.value_counts().to_dict()"
   ]
  },
  {
   "cell_type": "code",
   "execution_count": 141,
   "id": "a7bb4126",
   "metadata": {},
   "outputs": [],
   "source": []
  },
  {
   "cell_type": "code",
   "execution_count": null,
   "id": "b274d790",
   "metadata": {},
   "outputs": [],
   "source": []
  },
  {
   "cell_type": "markdown",
   "id": "1b95d085",
   "metadata": {},
   "source": [
    "---"
   ]
  },
  {
   "cell_type": "markdown",
   "id": "ca0f86b8",
   "metadata": {},
   "source": [
    "# 7. Stacked-plot (Area-plot)"
   ]
  },
  {
   "cell_type": "markdown",
   "id": "c3cf93ee",
   "metadata": {},
   "source": [
    "`plt.figure(figsize=(WIDTH,HEIGHT))`<BR>\n",
    "`plt.stackplot(ORDINAL_COL, NOMINAL_COL_VALUE1, labels=NOMINAL_COL)`<BR>\n",
    "`plt.title(\"TITLE\")`<BR>\n",
    "`plt.xlabel(\"X_AXIS\")`<BR>\n",
    "`plt.ylabel(\"Y_AXIS\")`<BR>\n",
    "`plt.legend()`<BR>\n",
    "`plt.show()`<BR>"
   ]
  },
  {
   "cell_type": "code",
   "execution_count": 138,
   "id": "a1383977",
   "metadata": {},
   "outputs": [],
   "source": [
    "def top_ten(country_name:str):\n",
    "    country_df = fifa22[fifa22.nationality_name==country_name]\n",
    "    over_list=country_df.overall.tolist()\n",
    "    over_list.sort()\n",
    "    bottom_ten = over_list[:30]\n",
    "    top_ten = over_list[-30:]\n",
    "    agg_list = bottom_ten + top_ten\n",
    "    return agg_list\n",
    "\n",
    "country_list = [\"England\", \"Poland\", \"India\"]\n",
    "player_ovr = dict()\n",
    "for country in country_list:\n",
    "    player_ovr[country] = top_ten(country)"
   ]
  },
  {
   "cell_type": "code",
   "execution_count": null,
   "id": "29ae5299",
   "metadata": {},
   "outputs": [],
   "source": []
  },
  {
   "cell_type": "code",
   "execution_count": null,
   "id": "f9d22e34",
   "metadata": {},
   "outputs": [],
   "source": []
  },
  {
   "cell_type": "markdown",
   "id": "2131f4c2",
   "metadata": {},
   "source": [
    "---"
   ]
  },
  {
   "cell_type": "markdown",
   "id": "e0c0997e",
   "metadata": {},
   "source": [
    "# 8. Box-plot"
   ]
  },
  {
   "cell_type": "markdown",
   "id": "e57d5690",
   "metadata": {},
   "source": [
    "`plt.figure(figsize=(WIDTH,HEIGHT))`<BR>\n",
    "`plt.boxplot(x=[DATA.NUM_COL1, DATA.NUM_COL2, DATA.NUM_COL3], notch=True, vert=True)`<BR>\n",
    "`plt.title(\"TITLE\")`<BR>\n",
    "`plt.xlabel(\"X_AXIS\")`<BR>\n",
    "`plt.ylabel(\"Y_AXIS\")`<BR>\n",
    "`plt.legend()`<BR>\n",
    "`plt.show()`<BR>"
   ]
  },
  {
   "cell_type": "code",
   "execution_count": null,
   "id": "d087b9c1",
   "metadata": {},
   "outputs": [],
   "source": []
  },
  {
   "cell_type": "code",
   "execution_count": null,
   "id": "2b6e81fc",
   "metadata": {},
   "outputs": [],
   "source": []
  },
  {
   "cell_type": "code",
   "execution_count": null,
   "id": "96ec5355",
   "metadata": {},
   "outputs": [],
   "source": []
  },
  {
   "cell_type": "markdown",
   "id": "14a06534",
   "metadata": {},
   "source": [
    "END of the Notebook<br>\n",
    "Author: Shounak Deshpande (shounak.python@gmail.com)<br>\n",
    "Youtube: https://www.youtube.com/channel/UCpODmuqv_ljQ_vMYwO71a_g"
   ]
  }
 ],
 "metadata": {
  "kernelspec": {
   "display_name": "Python 3 (ipykernel)",
   "language": "python",
   "name": "python3"
  },
  "language_info": {
   "codemirror_mode": {
    "name": "ipython",
    "version": 3
   },
   "file_extension": ".py",
   "mimetype": "text/x-python",
   "name": "python",
   "nbconvert_exporter": "python",
   "pygments_lexer": "ipython3",
   "version": "3.9.12"
  }
 },
 "nbformat": 4,
 "nbformat_minor": 5
}
