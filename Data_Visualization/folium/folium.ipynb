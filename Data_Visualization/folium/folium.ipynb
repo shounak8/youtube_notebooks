{
 "cells": [
  {
   "cell_type": "markdown",
   "id": "b2f06d35",
   "metadata": {},
   "source": [
    "<img src=\"folium_logo.png\" width=\"200px\" />\n",
    "\n",
    "# <p style=\"text-align: center;\"> Folium is a data visualization tool which specializes in creating Leaflet Maps </p>"
   ]
  },
  {
   "cell_type": "markdown",
   "id": "96c8d552",
   "metadata": {},
   "source": [
    "# Items discussed in this Notebook\n",
    "\n",
    "### 1. Create World Map\n",
    "### 2. Create a Specific Map\n",
    "### 3. Stamen Maps:\n",
    "       a. Toner\n",
    "       b. Terrain\n",
    "### 4. Ading Markers to Map\n",
    "### 5. Choropleth"
   ]
  },
  {
   "cell_type": "markdown",
   "id": "c26f6964",
   "metadata": {},
   "source": [
    "---"
   ]
  },
  {
   "cell_type": "code",
   "execution_count": 21,
   "id": "42791c1b",
   "metadata": {},
   "outputs": [],
   "source": [
    "# Dataset\n",
    "import pandas as pd\n",
    "\n",
    "df = pd.read_csv(\"world_country_and_usa_states_latitude_and_longitude_values.csv\")\n",
    "world_df = df[[\"latitude\", \"longitude\", \"country\"]].copy()\n",
    "world_df.dropna(inplace=True)"
   ]
  },
  {
   "cell_type": "code",
   "execution_count": 22,
   "id": "43c46033",
   "metadata": {},
   "outputs": [
    {
     "data": {
      "text/html": [
       "<div>\n",
       "<style scoped>\n",
       "    .dataframe tbody tr th:only-of-type {\n",
       "        vertical-align: middle;\n",
       "    }\n",
       "\n",
       "    .dataframe tbody tr th {\n",
       "        vertical-align: top;\n",
       "    }\n",
       "\n",
       "    .dataframe thead th {\n",
       "        text-align: right;\n",
       "    }\n",
       "</style>\n",
       "<table border=\"1\" class=\"dataframe\">\n",
       "  <thead>\n",
       "    <tr style=\"text-align: right;\">\n",
       "      <th></th>\n",
       "      <th>latitude</th>\n",
       "      <th>longitude</th>\n",
       "      <th>country</th>\n",
       "    </tr>\n",
       "  </thead>\n",
       "  <tbody>\n",
       "    <tr>\n",
       "      <th>0</th>\n",
       "      <td>42.546245</td>\n",
       "      <td>1.601554</td>\n",
       "      <td>Andorra</td>\n",
       "    </tr>\n",
       "    <tr>\n",
       "      <th>1</th>\n",
       "      <td>23.424076</td>\n",
       "      <td>53.847818</td>\n",
       "      <td>United Arab Emirates</td>\n",
       "    </tr>\n",
       "  </tbody>\n",
       "</table>\n",
       "</div>"
      ],
      "text/plain": [
       "    latitude  longitude               country\n",
       "0  42.546245   1.601554               Andorra\n",
       "1  23.424076  53.847818  United Arab Emirates"
      ]
     },
     "execution_count": 22,
     "metadata": {},
     "output_type": "execute_result"
    }
   ],
   "source": [
    "world_df.head(2)"
   ]
  },
  {
   "cell_type": "code",
   "execution_count": 28,
   "id": "6c7b156f",
   "metadata": {},
   "outputs": [],
   "source": [
    "usa_df = df[['usa_state_latitude', 'usa_state_longitude', 'usa_state']].copy()\n",
    "usa_df.dropna(inplace=True)"
   ]
  },
  {
   "cell_type": "code",
   "execution_count": 30,
   "id": "d1c7a76e",
   "metadata": {},
   "outputs": [
    {
     "data": {
      "text/html": [
       "<div>\n",
       "<style scoped>\n",
       "    .dataframe tbody tr th:only-of-type {\n",
       "        vertical-align: middle;\n",
       "    }\n",
       "\n",
       "    .dataframe tbody tr th {\n",
       "        vertical-align: top;\n",
       "    }\n",
       "\n",
       "    .dataframe thead th {\n",
       "        text-align: right;\n",
       "    }\n",
       "</style>\n",
       "<table border=\"1\" class=\"dataframe\">\n",
       "  <thead>\n",
       "    <tr style=\"text-align: right;\">\n",
       "      <th></th>\n",
       "      <th>usa_state_latitude</th>\n",
       "      <th>usa_state_longitude</th>\n",
       "      <th>usa_state</th>\n",
       "    </tr>\n",
       "  </thead>\n",
       "  <tbody>\n",
       "    <tr>\n",
       "      <th>0</th>\n",
       "      <td>63.588753</td>\n",
       "      <td>-154.493062</td>\n",
       "      <td>Alaska</td>\n",
       "    </tr>\n",
       "    <tr>\n",
       "      <th>1</th>\n",
       "      <td>32.318231</td>\n",
       "      <td>-86.902298</td>\n",
       "      <td>Alabama</td>\n",
       "    </tr>\n",
       "  </tbody>\n",
       "</table>\n",
       "</div>"
      ],
      "text/plain": [
       "   usa_state_latitude  usa_state_longitude usa_state\n",
       "0           63.588753          -154.493062    Alaska\n",
       "1           32.318231           -86.902298   Alabama"
      ]
     },
     "execution_count": 30,
     "metadata": {},
     "output_type": "execute_result"
    }
   ],
   "source": [
    "usa_df.head(2)"
   ]
  },
  {
   "cell_type": "code",
   "execution_count": 1,
   "id": "d76dc289",
   "metadata": {},
   "outputs": [],
   "source": [
    "import folium"
   ]
  },
  {
   "cell_type": "markdown",
   "id": "f5ab5240",
   "metadata": {},
   "source": [
    "## 1. Create World Map\n",
    "\n",
    "`world_map = folium.Map()`"
   ]
  },
  {
   "cell_type": "code",
   "execution_count": 9,
   "id": "0bebdfea",
   "metadata": {},
   "outputs": [],
   "source": [
    "# CODE BLOCK\n",
    "\n",
    "\n",
    "\n",
    "\n"
   ]
  },
  {
   "cell_type": "code",
   "execution_count": null,
   "id": "b7f27d9d",
   "metadata": {},
   "outputs": [],
   "source": []
  },
  {
   "cell_type": "markdown",
   "id": "03ea8ac5",
   "metadata": {},
   "source": [
    "## 2. Create a Specific Map\n",
    "\n",
    "#### Example:\n",
    "To view England, use latitude= 55, longitude= -2\n",
    "\n",
    "`england_map = folium.Map(location=[55, -2], zoom_start=5)`"
   ]
  },
  {
   "cell_type": "code",
   "execution_count": null,
   "id": "2b2b221c",
   "metadata": {},
   "outputs": [],
   "source": [
    "# CODE BLOCK\n",
    "\n",
    "\n",
    "\n",
    "\n"
   ]
  },
  {
   "cell_type": "code",
   "execution_count": null,
   "id": "06e6e2b2",
   "metadata": {},
   "outputs": [],
   "source": []
  },
  {
   "cell_type": "markdown",
   "id": "609a27b9",
   "metadata": {},
   "source": [
    "## 3.a. Stamen Toner Map\n",
    "\n",
    "#### Example:\n",
    "`england_toner = folium.Map(location=[55, -2], zoom_start=5, tiles='Stamen Toner')`"
   ]
  },
  {
   "cell_type": "code",
   "execution_count": null,
   "id": "0d69ca1a",
   "metadata": {},
   "outputs": [],
   "source": [
    "# CODE BLOCK\n",
    "\n",
    "\n",
    "\n",
    "\n"
   ]
  },
  {
   "cell_type": "code",
   "execution_count": null,
   "id": "ccc185b8",
   "metadata": {},
   "outputs": [],
   "source": []
  },
  {
   "cell_type": "markdown",
   "id": "062b90f2",
   "metadata": {},
   "source": [
    "## 3.b. Stamen Terrain Map\n",
    "\n",
    "#### Example:\n",
    "`england_terrain = folium.Map(location=[55, -2], zoom_start=5, tiles='Stamen Terrain')`"
   ]
  },
  {
   "cell_type": "code",
   "execution_count": null,
   "id": "ad4001d2",
   "metadata": {},
   "outputs": [],
   "source": [
    "# CODE BLOCK\n",
    "\n",
    "\n",
    "\n",
    "\n"
   ]
  },
  {
   "cell_type": "code",
   "execution_count": null,
   "id": "c87dfd96",
   "metadata": {},
   "outputs": [],
   "source": []
  },
  {
   "cell_type": "markdown",
   "id": "1c0f2aa2",
   "metadata": {},
   "source": [
    "## 4. Ading Markers to Map\n",
    "\n",
    "Step 1: Define map<br>\n",
    "eg. `parent_map = folium.Map(location=[parentlatitude, parentlongitude],zoom_start=10)`\n",
    "<br><br>\n",
    "Setp 2: Add markers and labels<br>\n",
    "eg. `folium.Marker([latitude, longitude], popup=popup_text).add_to(parent_map)`"
   ]
  },
  {
   "cell_type": "code",
   "execution_count": null,
   "id": "a4126bf7",
   "metadata": {},
   "outputs": [],
   "source": [
    "# CODE BLOCK\n",
    "\n",
    "\n",
    "\n",
    "\n"
   ]
  },
  {
   "cell_type": "code",
   "execution_count": null,
   "id": "26cc5d7b",
   "metadata": {},
   "outputs": [],
   "source": []
  },
  {
   "cell_type": "markdown",
   "id": "9ff0384c",
   "metadata": {},
   "source": [
    "## 5. Choropleth"
   ]
  },
  {
   "cell_type": "markdown",
   "id": "2435c58d",
   "metadata": {},
   "source": [
    "Step 1: Load GeoJSON file\n",
    "\n",
    "Step 2: Define Map<BR>\n",
    "`world_map = folium.Map(location=[LAT, LON],zoom_start=2)`\n",
    "<BR>\n",
    "    \n",
    "Step 3: Add Choropleth<BR>\n",
    "`world_map.choropleth(\n",
    "    geo_data=GEOJSON_FILE,\n",
    "    data=DATAFRAME,\n",
    "    columns=[NOMINAL_COL, NUMERIC_COL],\n",
    "    key_on=\"feature.properties.name\",\n",
    "    legend_name=LEGEND_NAME\n",
    "    )`"
   ]
  },
  {
   "cell_type": "code",
   "execution_count": 48,
   "id": "f0ba86f3",
   "metadata": {},
   "outputs": [],
   "source": [
    "# load geojson file\n",
    "import json\n",
    "with open(\"countries.json\") as f:\n",
    "    world_geo = json.load(f)\n",
    "    \n",
    "# world population dataset\n",
    "population_raw = pd.read_csv(\"population_by_country_2020.csv\")\n",
    "population=population_raw[['Country (or dependency)', 'Population (2020)']].copy()\n",
    "population.columns = ['country', 'population']"
   ]
  },
  {
   "cell_type": "code",
   "execution_count": null,
   "id": "0ee1c33d",
   "metadata": {},
   "outputs": [],
   "source": [
    "# CODE BLOCK\n",
    "\n",
    "\n",
    "\n"
   ]
  },
  {
   "cell_type": "markdown",
   "id": "a3c562ee",
   "metadata": {},
   "source": [
    "---"
   ]
  },
  {
   "cell_type": "markdown",
   "id": "7da4b833",
   "metadata": {},
   "source": [
    "END of the Notebook<br>\n",
    "Author: Shounak Deshpande (shounak.python@gmail.com)<br>\n",
    "Youtube: https://www.youtube.com/channel/UCpODmuqv_ljQ_vMYwO71a_g"
   ]
  }
 ],
 "metadata": {
  "kernelspec": {
   "display_name": "Python 3 (ipykernel)",
   "language": "python",
   "name": "python3"
  },
  "language_info": {
   "codemirror_mode": {
    "name": "ipython",
    "version": 3
   },
   "file_extension": ".py",
   "mimetype": "text/x-python",
   "name": "python",
   "nbconvert_exporter": "python",
   "pygments_lexer": "ipython3",
   "version": "3.9.12"
  }
 },
 "nbformat": 4,
 "nbformat_minor": 5
}
