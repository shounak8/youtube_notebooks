{
 "cells": [
  {
   "cell_type": "markdown",
   "id": "b2f06d35",
   "metadata": {},
   "source": [
    "<img src=\"folium_logo.png\" width=\"200px\" />\n",
    "\n",
    "# <p style=\"text-align: center;\"> Folium is a data visualization tool which specializes in creating Leaflet Maps </p>"
   ]
  },
  {
   "cell_type": "markdown",
   "id": "96c8d552",
   "metadata": {},
   "source": [
    "# Items discussed in this Notebook\n",
    "\n",
    "### 1. Create World Map\n",
    "### 2. Create a Specific Map\n",
    "### 3. Stamen Maps:\n",
    "       a. Toner\n",
    "       b. Terrain\n",
    "### 4. Adding Markers to Map\n",
    "### 5. Choropleth"
   ]
  },
  {
   "cell_type": "markdown",
   "id": "c26f6964",
   "metadata": {},
   "source": [
    "---"
   ]
  },
  {
   "cell_type": "code",
   "execution_count": null,
   "id": "d76dc289",
   "metadata": {},
   "outputs": [],
   "source": [
    "# !pip install folium\n",
    "import folium"
   ]
  },
  {
   "cell_type": "markdown",
   "id": "f5ab5240",
   "metadata": {},
   "source": [
    "## 1. Create World Map\n",
    "\n",
    "`world_map = folium.Map()`"
   ]
  },
  {
   "cell_type": "code",
   "execution_count": null,
   "id": "0bebdfea",
   "metadata": {},
   "outputs": [],
   "source": [
    "# CODE BLOCK\n",
    "\n"
   ]
  },
  {
   "cell_type": "markdown",
   "id": "95d43423",
   "metadata": {},
   "source": [
    "---"
   ]
  },
  {
   "cell_type": "markdown",
   "id": "03ea8ac5",
   "metadata": {},
   "source": [
    "## 2. Create a Specific Map\n",
    "\n",
    "#### Example:\n",
    "To view England, use latitude= 55, longitude= -2\n",
    "\n",
    "`england_map = folium.Map(location=[55, -2], zoom_start=5)`"
   ]
  },
  {
   "cell_type": "code",
   "execution_count": null,
   "id": "2b2b221c",
   "metadata": {},
   "outputs": [],
   "source": [
    "# CODE BLOCK\n",
    "\n",
    "\n"
   ]
  },
  {
   "cell_type": "markdown",
   "id": "969ddc07",
   "metadata": {},
   "source": [
    "---"
   ]
  },
  {
   "cell_type": "markdown",
   "id": "609a27b9",
   "metadata": {},
   "source": [
    "## 3.a. Stamen Toner Map\n",
    "\n",
    "#### Example:\n",
    "`england_toner = folium.Map(location=[55, -2], zoom_start=5, tiles='Stamen Toner')`"
   ]
  },
  {
   "cell_type": "code",
   "execution_count": null,
   "id": "0d69ca1a",
   "metadata": {},
   "outputs": [],
   "source": [
    "# CODE BLOCK\n",
    "\n",
    "\n"
   ]
  },
  {
   "cell_type": "markdown",
   "id": "062b90f2",
   "metadata": {},
   "source": [
    "## 3.b. Stamen Terrain Map\n",
    "\n",
    "#### Example:\n",
    "`england_terrain = folium.Map(location=[55, -2], zoom_start=5, tiles='Stamen Terrain')`"
   ]
  },
  {
   "cell_type": "code",
   "execution_count": null,
   "id": "ad4001d2",
   "metadata": {
    "scrolled": false
   },
   "outputs": [],
   "source": [
    "# CODE BLOCK\n",
    "\n",
    "\n"
   ]
  },
  {
   "cell_type": "markdown",
   "id": "946f7539",
   "metadata": {},
   "source": [
    "---"
   ]
  },
  {
   "cell_type": "markdown",
   "id": "0d04ac88",
   "metadata": {},
   "source": [
    "# Dataset"
   ]
  },
  {
   "cell_type": "code",
   "execution_count": null,
   "id": "1351695e",
   "metadata": {},
   "outputs": [],
   "source": [
    "# Dataset\n",
    "import pandas as pd\n",
    "\n",
    "df = pd.read_csv(\"world_country_and_usa_states_latitude_and_longitude_values.csv\")\n",
    "\n",
    "# World Map Coordinates\n",
    "world_df = df[[\"latitude\", \"longitude\", \"country\"]].copy()\n",
    "world_df.dropna(inplace=True)\n",
    "\n",
    "# USA Coordinates\n",
    "usa_df = df[['usa_state_latitude', 'usa_state_longitude', 'usa_state']].copy()\n",
    "usa_df.dropna(inplace=True)"
   ]
  },
  {
   "cell_type": "markdown",
   "id": "df8f9403",
   "metadata": {},
   "source": [
    "---"
   ]
  },
  {
   "cell_type": "markdown",
   "id": "1c0f2aa2",
   "metadata": {},
   "source": [
    "## 4. Ading Markers to Map\n",
    "\n",
    "Step 1: Define map<br>\n",
    "`parent_map = folium.Map(location=[parentlatitude, parentlongitude],zoom_start=10)`\n",
    "<br><br>\n",
    "Setp 2: Add markers and labels<br>\n",
    "`folium.Marker([latitude, longitude], popup=popup_text).add_to(parent_map)`\n",
    "\n",
    "<br>Example: Plot markers for countries as per latitude and longitude.\n",
    "<br>HINT: Add markers one at a time. You will have to loop over for every country."
   ]
  },
  {
   "cell_type": "code",
   "execution_count": null,
   "id": "ded7502a",
   "metadata": {},
   "outputs": [],
   "source": [
    "world_df.head(2)"
   ]
  },
  {
   "cell_type": "code",
   "execution_count": null,
   "id": "6264cee6",
   "metadata": {},
   "outputs": [],
   "source": [
    "# CODE BLOCK 1\n",
    "# Plot Countries on World Map\n",
    "\n",
    "\n"
   ]
  },
  {
   "cell_type": "code",
   "execution_count": null,
   "id": "76b98472",
   "metadata": {},
   "outputs": [],
   "source": [
    "usa_df.head(2)"
   ]
  },
  {
   "cell_type": "code",
   "execution_count": null,
   "id": "a4126bf7",
   "metadata": {},
   "outputs": [],
   "source": [
    "# CODE BLOCK 2\n",
    "# Plot USA states on map of USA. Coordinates for USA are 37.0902, -95.7129\n",
    "\n",
    "\n"
   ]
  },
  {
   "cell_type": "markdown",
   "id": "13187614",
   "metadata": {},
   "source": [
    "---"
   ]
  },
  {
   "cell_type": "markdown",
   "id": "9ff0384c",
   "metadata": {},
   "source": [
    "## 5. Choropleth"
   ]
  },
  {
   "cell_type": "markdown",
   "id": "2435c58d",
   "metadata": {},
   "source": [
    "Step 1: Load GeoJSON file\n",
    "\n",
    "Step 2: Define Map<BR>\n",
    "`world_map = folium.Map()`\n",
    "<BR>\n",
    "    \n",
    "Step 3: Add Choropleth<BR>\n",
    "`world_map.choropleth(\n",
    "    geo_data=GEOJSON_FILE,\n",
    "    data=DATAFRAME,\n",
    "    columns=[NOMINAL_COL, NUMERIC_COL],\n",
    "    key_on=\"feature.properties.name\",\n",
    "    fill_color = << use any'RdYlBu/Paired'>>,\n",
    "    legend_name=LEGEND_NAME_GIVEN_TO_COLOR_BAR\n",
    "    )`\n",
    "    \n",
    "`fill_color` options can be viewed at https://www.datanovia.com/en/blog/the-a-z-of-rcolorbrewer-palette/#:~:text=The%20palettes%20names%20are%20%3A%20Blues,YlGn%2C%20YlGnBu%20YlOrBr%2C%20YlOrRd."
   ]
  },
  {
   "cell_type": "code",
   "execution_count": null,
   "id": "f0ba86f3",
   "metadata": {},
   "outputs": [],
   "source": [
    "# load geojson file\n",
    "import json\n",
    "with open(\"countries.json\") as f:\n",
    "    geo_data = json.load(f)\n",
    "    \n",
    "# World median age dataset\n",
    "population_raw = pd.read_csv(\"population_by_country_2020.csv\")\n",
    "med_age=population_raw[['Country (or dependency)', 'Med. Age']].copy()\n",
    "med_age.columns = ['country', 'med_age']\n",
    "\n",
    "# Cleaning the data\n",
    "med_age.med_age=med_age.med_age.replace(\"N.A.\", 0)\n",
    "med_age[\"med_age\"]=med_age[\"med_age\"].astype(\"int\")\n",
    "med_age = med_age[med_age[\"med_age\"] != 0]"
   ]
  },
  {
   "cell_type": "code",
   "execution_count": null,
   "id": "0ee1c33d",
   "metadata": {},
   "outputs": [],
   "source": [
    "# CODE BLOCK\n",
    "\n",
    "\n",
    "\n"
   ]
  },
  {
   "cell_type": "markdown",
   "id": "a3c562ee",
   "metadata": {},
   "source": [
    "---"
   ]
  },
  {
   "cell_type": "markdown",
   "id": "7da4b833",
   "metadata": {},
   "source": [
    "END of the Notebook<br>\n",
    "Author: Shounak Deshpande (shounak.python@gmail.com)<br>\n",
    "Youtube: https://www.youtube.com/channel/UCpODmuqv_ljQ_vMYwO71a_g"
   ]
  }
 ],
 "metadata": {
  "kernelspec": {
   "display_name": "Python 3 (ipykernel)",
   "language": "python",
   "name": "python3"
  },
  "language_info": {
   "codemirror_mode": {
    "name": "ipython",
    "version": 3
   },
   "file_extension": ".py",
   "mimetype": "text/x-python",
   "name": "python",
   "nbconvert_exporter": "python",
   "pygments_lexer": "ipython3",
   "version": "3.9.12"
  }
 },
 "nbformat": 4,
 "nbformat_minor": 5
}
