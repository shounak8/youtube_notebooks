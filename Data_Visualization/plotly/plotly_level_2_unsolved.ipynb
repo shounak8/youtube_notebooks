{
 "cells": [
  {
   "cell_type": "markdown",
   "id": "38e9c043",
   "metadata": {},
   "source": [
    "# Plots/Charts Discussed in the Notebook\n",
    "\n",
    "|  |  |  |\n",
    "| :---: | :---: | :---: |\n",
    "| 1. Timeline | 2. Funnel | 3. Sunburst |\n",
    "| <img src=\"advanced/timeline.png\" />  | <img src=\"advanced/funnel.png\" />  | <img src=\"advanced/sunburst.png\" />  |\n",
    "\n",
    "---\n",
    "\n",
    "|  |  |  |\n",
    "| :---: | :---: | :---: |\n",
    "| 5. Treemap | 6. Heatmap | 7. Coropleth |\n",
    "| <img src=\"advanced/treemap.png\" />  | <img src=\"advanced/heatmap.png\" />  | <img src=\"advanced/coropleth.png\" />  |"
   ]
  },
  {
   "cell_type": "code",
   "execution_count": 1,
   "id": "8b839517",
   "metadata": {},
   "outputs": [],
   "source": [
    "import warnings\n",
    "warnings.filterwarnings('ignore')"
   ]
  },
  {
   "cell_type": "code",
   "execution_count": 2,
   "id": "b316acca",
   "metadata": {},
   "outputs": [],
   "source": [
    "import pandas as pd\n",
    "import plotly.express as px\n",
    "import pandas as pd\n",
    "raw_df = pd.read_csv(\"players_22.csv\")"
   ]
  },
  {
   "cell_type": "code",
   "execution_count": 4,
   "id": "e7a7ce49",
   "metadata": {},
   "outputs": [],
   "source": [
    "necessary_cols = ['short_name','overall','player_positions','value_eur','league_name','club_name', 'nationality_name','club_joined','club_contract_valid_until']\n",
    "df = raw_df[necessary_cols]\n",
    "df_mufc = df[df[\"club_name\"]==\"Manchester United\"]"
   ]
  },
  {
   "cell_type": "code",
   "execution_count": 5,
   "id": "c28d54d8",
   "metadata": {},
   "outputs": [],
   "source": [
    "# Convert dates to datetime\n",
    "df_mufc.club_joined=pd.to_datetime(df_mufc.club_joined.apply(lambda x: x.replace(\"-\",\"/\")))\n",
    "df_mufc.club_contract_valid_until=df_mufc.club_contract_valid_until.apply(lambda x: f\"{str(int(x))}/6/30\")\n",
    "df_mufc.club_contract_valid_until=pd.to_datetime(df_mufc.club_contract_valid_until)"
   ]
  },
  {
   "cell_type": "markdown",
   "id": "eae7108d",
   "metadata": {},
   "source": [
    "# 1. Timeline (Gantt Charts)"
   ]
  },
  {
   "cell_type": "markdown",
   "id": "28d0cfdf",
   "metadata": {},
   "source": [
    "`fig = px.timeline(data_frame=DATAFRAME, x_start=START_DATE, x_end=END_DATE,y=COL2, color=PARAM)`<br><br>\n",
    "`fig.layout(title_text=TITLE)`<br><br>\n",
    "`fig.show()`"
   ]
  },
  {
   "cell_type": "code",
   "execution_count": null,
   "id": "2283fdd7",
   "metadata": {},
   "outputs": [],
   "source": [
    "# Dataframe of players at the club who are from England\n",
    "timeline_df=df_mufc[df_mufc.nationality_name==\"England\"]"
   ]
  },
  {
   "cell_type": "code",
   "execution_count": null,
   "id": "217576a9",
   "metadata": {},
   "outputs": [],
   "source": [
    "# Code Block\n",
    "\n",
    "\n"
   ]
  },
  {
   "cell_type": "markdown",
   "id": "6dfce9ae",
   "metadata": {},
   "source": [
    "# 2. Funnel"
   ]
  },
  {
   "cell_type": "markdown",
   "id": "0c2882f5",
   "metadata": {},
   "source": [
    "`fig = px.funnel(data_frame=DATAFRAME, x=COL1, y=COL2)`<br><br>\n",
    "`fig.update_layout(title_text=TITLE, width=500, height=500)`<br><br>\n",
    "`fig.show()`"
   ]
  },
  {
   "cell_type": "code",
   "execution_count": null,
   "id": "a7481448",
   "metadata": {},
   "outputs": [],
   "source": [
    "# Let us apply funnel to players from England and check their overall\n",
    "funnel_df = df_mufc[df_mufc.nationality_name==\"England\"]"
   ]
  },
  {
   "cell_type": "code",
   "execution_count": null,
   "id": "0fb48a65",
   "metadata": {},
   "outputs": [],
   "source": [
    "# Code Block\n",
    "\n",
    "\n"
   ]
  },
  {
   "cell_type": "markdown",
   "id": "25f99da9",
   "metadata": {},
   "source": [
    "# 3. Sunburst"
   ]
  },
  {
   "cell_type": "markdown",
   "id": "a43e92f2",
   "metadata": {},
   "source": [
    "`fig = px.sunburst(data_frame=DATAFRAME, path=[PARENT, CHILD, GRANDCHILD, ...])`<br><br>\n",
    "`fig.update_layout(title_text=TITLE, width=500, height=500)`<br><br>\n",
    "`fig.show()`"
   ]
  },
  {
   "cell_type": "code",
   "execution_count": null,
   "id": "c03bd47a",
   "metadata": {},
   "outputs": [],
   "source": [
    "# Code Block\n",
    "\n",
    "\n"
   ]
  },
  {
   "cell_type": "markdown",
   "id": "d5ad294f",
   "metadata": {},
   "source": [
    "# 4. Treemap"
   ]
  },
  {
   "cell_type": "markdown",
   "id": "0bcf3101",
   "metadata": {},
   "source": [
    "`fig = px.treemap(data_frame=treemap_df, path=[PARENT, CHILD, GRANDCHILD, ...])`<br><br>\n",
    "`fig.update_layout(title_text=TITLE, width=1000, height=400)`<br><br>\n",
    "`fig.show()`"
   ]
  },
  {
   "cell_type": "code",
   "execution_count": 32,
   "id": "44e4d83d",
   "metadata": {},
   "outputs": [],
   "source": [
    "# dataset of players whose overall is above 80 \n",
    "treemap_df = df_mufc[df_mufc.overall > 80]"
   ]
  },
  {
   "cell_type": "code",
   "execution_count": 31,
   "id": "a7294ed4",
   "metadata": {},
   "outputs": [],
   "source": [
    "# Code Block\n",
    "\n",
    "\n"
   ]
  },
  {
   "cell_type": "markdown",
   "id": "aab63a09",
   "metadata": {},
   "source": [
    "# 5. Heatmap"
   ]
  },
  {
   "cell_type": "markdown",
   "id": "a2d99cd3",
   "metadata": {},
   "source": [
    "`fig = px.density_heatmap(data_frame=DATAFRAME, x=COL1, y=COL2)`<br><br>\n",
    "`fig.update_layout(title_text=TITLE, height=400, width=600)`<br><br>\n",
    "`fig.show()`"
   ]
  },
  {
   "cell_type": "code",
   "execution_count": null,
   "id": "3e1e75a3",
   "metadata": {},
   "outputs": [],
   "source": [
    "# Code Block\n",
    "\n",
    "\n"
   ]
  },
  {
   "cell_type": "markdown",
   "id": "57b26a18",
   "metadata": {},
   "source": [
    "# 6. Choropleth"
   ]
  },
  {
   "cell_type": "markdown",
   "id": "db6f9497",
   "metadata": {},
   "source": [
    "`fig = px.choropleth(data_frame=DATAFRAME, locations=ISO_COL, color=NUM_COL, color_continuous_scale=COLOR_SCHEME)`<br><br>\n",
    "`fig.update_layout(title_text=TITLE_TEXT)`<br><br>\n",
    "`fig.show()`\n",
    "<br><br>\n",
    "List of color schemes can be found in `px.colors.sequential.<<colors>>`"
   ]
  },
  {
   "cell_type": "code",
   "execution_count": 12,
   "id": "26780667",
   "metadata": {},
   "outputs": [
    {
     "data": {
      "text/html": [
       "<div>\n",
       "<style scoped>\n",
       "    .dataframe tbody tr th:only-of-type {\n",
       "        vertical-align: middle;\n",
       "    }\n",
       "\n",
       "    .dataframe tbody tr th {\n",
       "        vertical-align: top;\n",
       "    }\n",
       "\n",
       "    .dataframe thead th {\n",
       "        text-align: right;\n",
       "    }\n",
       "</style>\n",
       "<table border=\"1\" class=\"dataframe\">\n",
       "  <thead>\n",
       "    <tr style=\"text-align: right;\">\n",
       "      <th></th>\n",
       "      <th>name</th>\n",
       "      <th>count</th>\n",
       "    </tr>\n",
       "  </thead>\n",
       "  <tbody>\n",
       "    <tr>\n",
       "      <th>0</th>\n",
       "      <td>Spain</td>\n",
       "      <td>60</td>\n",
       "    </tr>\n",
       "    <tr>\n",
       "      <th>1</th>\n",
       "      <td>Brazil</td>\n",
       "      <td>41</td>\n",
       "    </tr>\n",
       "  </tbody>\n",
       "</table>\n",
       "</div>"
      ],
      "text/plain": [
       "     name  count\n",
       "0   Spain     60\n",
       "1  Brazil     41"
      ]
     },
     "execution_count": 12,
     "metadata": {},
     "output_type": "execute_result"
    }
   ],
   "source": [
    "import pycountry\n",
    "\n",
    "# Let us form a dataset of the players whose overall is above 80\n",
    "above_80 = raw_df[raw_df.overall > 80]\n",
    "choro_df = pd.DataFrame(above_80.nationality_name.value_counts()).reset_index()\n",
    "choro_df.columns = [\"name\",\"count\"]\n",
    "\n",
    "def country_iso(country:str):\n",
    "    for item in pycountry.countries:\n",
    "        if item.name == country:\n",
    "            return item.alpha_3\n",
    "        \n",
    "choro_df.insert(1, \"iso\", choro_df.loc[:,'name'].apply(lambda x: country_iso(x)))\n",
    "choro_df.head(3)"
   ]
  },
  {
   "cell_type": "code",
   "execution_count": null,
   "id": "2f511cc1",
   "metadata": {},
   "outputs": [],
   "source": [
    "# Code Block\n",
    "\n",
    "\n"
   ]
  },
  {
   "cell_type": "markdown",
   "id": "1bde7a55",
   "metadata": {},
   "source": [
    "END of the Notebook<br>\n",
    "Author: Shounak Deshpande (shounak.python@gmail.com)<br>\n",
    "Youtube: https://www.youtube.com/channel/UCpODmuqv_ljQ_vMYwO71a_g"
   ]
  }
 ],
 "metadata": {
  "kernelspec": {
   "display_name": "Python 3 (ipykernel)",
   "language": "python",
   "name": "python3"
  },
  "language_info": {
   "codemirror_mode": {
    "name": "ipython",
    "version": 3
   },
   "file_extension": ".py",
   "mimetype": "text/x-python",
   "name": "python",
   "nbconvert_exporter": "python",
   "pygments_lexer": "ipython3",
   "version": "3.9.12"
  }
 },
 "nbformat": 4,
 "nbformat_minor": 5
}
