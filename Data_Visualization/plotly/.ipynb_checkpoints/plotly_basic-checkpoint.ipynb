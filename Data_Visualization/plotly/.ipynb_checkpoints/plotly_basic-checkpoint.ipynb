{
 "cells": [
  {
   "cell_type": "markdown",
   "id": "3ffaf7c1",
   "metadata": {},
   "source": [
    "# Introduction to Plotly\n",
    "Plotly is a Data Visualization tool. <br> Plotly supports Python, R, Julia, Matplotlib and Javascript.\n",
    "Plotly supports a wide range of graphs.\n",
    "\n",
    "<img src=\"https://encrypted-tbn0.gstatic.com/images?q=tbn:ANd9GcQCAxdcJaYusIlbPMYKR9sFzo6GiL5H6xvHHCTEsg56VDIJgAnfENB5nz_7uNwzLjMOIA&usqp=CAU\" />"
   ]
  },
  {
   "cell_type": "markdown",
   "id": "483adf9c",
   "metadata": {},
   "source": [
    "# Plots/Charts Discussed in the Notebook\n",
    "\n",
    "|  |  |  |  |\n",
    "| :---: | :---: | :---: | :---: |\n",
    "| 1. Histogram | 2. Scatter Plot | 3. Bar Chart | 4. Pie Chart |\n",
    "| <img src=\"basic/hist.png\" />  | <img src=\"basic/scatter.png\" />  | <img src=\"basic/bar.png\" />  | <img src=\"basic/pie.png\" />  |\n",
    "\n",
    "---\n",
    "\n",
    "|  |  |  |  |\n",
    "| :---: | :---: | :---: | :---: |\n",
    "| 5. Violin Plot | 6. Box Plot | 7. Area Plot | 8. Line Plot |                                \n",
    "| <img src=\"basic/violin.png\" />  | <img src=\"basic/box.png\" />  | <img src=\"basic/area.png\" />  | <img src=\"basic/line.png\" />  |"
   ]
  },
  {
   "cell_type": "code",
   "execution_count": 1,
   "id": "abf76ad4",
   "metadata": {},
   "outputs": [],
   "source": [
    "# install plotly (in case plotly is not installed on your system)\n",
    "# !pip install plotly"
   ]
  },
  {
   "cell_type": "code",
   "execution_count": 2,
   "id": "8b839517",
   "metadata": {},
   "outputs": [],
   "source": [
    "# import libraries\n",
    "import warnings\n",
    "warnings.filterwarnings('ignore')\n",
    "from sklearn.datasets import load_iris\n",
    "import pandas as pd\n",
    "import plotly.express as px"
   ]
  },
  {
   "cell_type": "code",
   "execution_count": 4,
   "id": "f2077776",
   "metadata": {},
   "outputs": [
    {
     "data": {
      "text/html": [
       "<div>\n",
       "<style scoped>\n",
       "    .dataframe tbody tr th:only-of-type {\n",
       "        vertical-align: middle;\n",
       "    }\n",
       "\n",
       "    .dataframe tbody tr th {\n",
       "        vertical-align: top;\n",
       "    }\n",
       "\n",
       "    .dataframe thead th {\n",
       "        text-align: right;\n",
       "    }\n",
       "</style>\n",
       "<table border=\"1\" class=\"dataframe\">\n",
       "  <thead>\n",
       "    <tr style=\"text-align: right;\">\n",
       "      <th></th>\n",
       "      <th>sepal_length</th>\n",
       "      <th>sepal_width</th>\n",
       "      <th>petal_length</th>\n",
       "      <th>petal_width</th>\n",
       "      <th>target</th>\n",
       "    </tr>\n",
       "  </thead>\n",
       "  <tbody>\n",
       "    <tr>\n",
       "      <th>0</th>\n",
       "      <td>5.1</td>\n",
       "      <td>3.5</td>\n",
       "      <td>1.4</td>\n",
       "      <td>0.2</td>\n",
       "      <td>setosa</td>\n",
       "    </tr>\n",
       "    <tr>\n",
       "      <th>1</th>\n",
       "      <td>4.9</td>\n",
       "      <td>3.0</td>\n",
       "      <td>1.4</td>\n",
       "      <td>0.2</td>\n",
       "      <td>setosa</td>\n",
       "    </tr>\n",
       "  </tbody>\n",
       "</table>\n",
       "</div>"
      ],
      "text/plain": [
       "   sepal_length  sepal_width  petal_length  petal_width  target\n",
       "0           5.1          3.5           1.4          0.2  setosa\n",
       "1           4.9          3.0           1.4          0.2  setosa"
      ]
     },
     "execution_count": 4,
     "metadata": {},
     "output_type": "execute_result"
    }
   ],
   "source": [
    "# Data for Visualizaiton\n",
    "iris_data = load_iris()\n",
    "df = pd.DataFrame(data=iris_data.data, columns=iris_data.feature_names)\n",
    "df['target'] = iris_data.target\n",
    "df.columns = ['sepal_length', 'sepal_width', 'petal_length', 'petal_width', 'target']\n",
    "df.target.replace({0:'setosa', 1:'versicolor', 2:'virginica'}, inplace=True)\n",
    "df.head(2)"
   ]
  },
  {
   "cell_type": "markdown",
   "id": "2fcf6bfd",
   "metadata": {},
   "source": [
    "# 1. Histogram"
   ]
  },
  {
   "cell_type": "markdown",
   "id": "21757577",
   "metadata": {},
   "source": [
    "`fig = px.histogram(data_frame=DATAFRAME, x=[NUM_COL1, NUM_COL2, ...], barmode=\"overlay\")`<br><br>\n",
    "`fig.update_layout(title_text=TITLE, xaxis_title=X_TITLE, height=400, width=600)`<br><br>\n",
    "`fig.show()`"
   ]
  },
  {
   "cell_type": "code",
   "execution_count": null,
   "id": "97d552c3",
   "metadata": {},
   "outputs": [],
   "source": [
    "# Code Block\n",
    "\n",
    "\n",
    "\n"
   ]
  },
  {
   "cell_type": "markdown",
   "id": "0e385fe5",
   "metadata": {},
   "source": [
    "# 2. Scatter-plot"
   ]
  },
  {
   "cell_type": "markdown",
   "id": "b6f80960",
   "metadata": {},
   "source": [
    "`fig = px.scatter(data_frame=DATAFRAME, x=NUM_COL1, y=NUM_COL2, color=LABEL_COL)`<br><br>\n",
    "`fig.update_layout(title_text=TITLE, xaxis_title=X_TITLE, height=400, width=600)`<br><br>\n",
    "`fig.show()`"
   ]
  },
  {
   "cell_type": "code",
   "execution_count": null,
   "id": "d182c0fe",
   "metadata": {},
   "outputs": [],
   "source": [
    "# Code Block\n",
    "\n",
    "\n",
    "\n"
   ]
  },
  {
   "cell_type": "markdown",
   "id": "f08d89e6",
   "metadata": {},
   "source": [
    "# 3. Bar-chart"
   ]
  },
  {
   "cell_type": "markdown",
   "id": "7c4e53a5",
   "metadata": {},
   "source": [
    "`fig = px.bar(data_frame=DATAFRAME, x=DATAFRAME.index, y=DATAFRAME.columns)`<br><br>\n",
    "`fig.update_layout(title_text=TITLE, xaxis_title=X_TITLE, yaxis_title=Y_TITLE, height=400, width=600)`<br><br>\n",
    "`fig.show()`"
   ]
  },
  {
   "cell_type": "code",
   "execution_count": 7,
   "id": "44225396",
   "metadata": {},
   "outputs": [
    {
     "data": {
      "text/html": [
       "<div>\n",
       "<style scoped>\n",
       "    .dataframe tbody tr th:only-of-type {\n",
       "        vertical-align: middle;\n",
       "    }\n",
       "\n",
       "    .dataframe tbody tr th {\n",
       "        vertical-align: top;\n",
       "    }\n",
       "\n",
       "    .dataframe thead th {\n",
       "        text-align: right;\n",
       "    }\n",
       "</style>\n",
       "<table border=\"1\" class=\"dataframe\">\n",
       "  <thead>\n",
       "    <tr style=\"text-align: right;\">\n",
       "      <th></th>\n",
       "      <th>sepal_length</th>\n",
       "      <th>sepal_width</th>\n",
       "      <th>petal_length</th>\n",
       "      <th>petal_width</th>\n",
       "    </tr>\n",
       "    <tr>\n",
       "      <th>target</th>\n",
       "      <th></th>\n",
       "      <th></th>\n",
       "      <th></th>\n",
       "      <th></th>\n",
       "    </tr>\n",
       "  </thead>\n",
       "  <tbody>\n",
       "    <tr>\n",
       "      <th>setosa</th>\n",
       "      <td>5.8</td>\n",
       "      <td>4.4</td>\n",
       "      <td>1.9</td>\n",
       "      <td>0.6</td>\n",
       "    </tr>\n",
       "    <tr>\n",
       "      <th>versicolor</th>\n",
       "      <td>7.0</td>\n",
       "      <td>3.4</td>\n",
       "      <td>5.1</td>\n",
       "      <td>1.8</td>\n",
       "    </tr>\n",
       "    <tr>\n",
       "      <th>virginica</th>\n",
       "      <td>7.9</td>\n",
       "      <td>3.8</td>\n",
       "      <td>6.9</td>\n",
       "      <td>2.5</td>\n",
       "    </tr>\n",
       "  </tbody>\n",
       "</table>\n",
       "</div>"
      ],
      "text/plain": [
       "            sepal_length  sepal_width  petal_length  petal_width\n",
       "target                                                          \n",
       "setosa               5.8          4.4           1.9          0.6\n",
       "versicolor           7.0          3.4           5.1          1.8\n",
       "virginica            7.9          3.8           6.9          2.5"
      ]
     },
     "execution_count": 7,
     "metadata": {},
     "output_type": "execute_result"
    }
   ],
   "source": [
    "df_bar_max = df.groupby(by='target').max()\n",
    "df_bar_max"
   ]
  },
  {
   "cell_type": "code",
   "execution_count": null,
   "id": "9501e615",
   "metadata": {},
   "outputs": [],
   "source": [
    "# Code Block\n",
    "\n",
    "\n",
    "\n"
   ]
  },
  {
   "cell_type": "markdown",
   "id": "17c78226",
   "metadata": {},
   "source": [
    "# 4. Pie-chart"
   ]
  },
  {
   "cell_type": "markdown",
   "id": "52a9197c",
   "metadata": {},
   "source": [
    "`fig = px.pie(data_frame=DATAFRAME, names=CLASS_COL, values=NUM_COL)`<br><br>\n",
    "`fig.update_layout(title_text=TITLE, height=400, width=400)`<br><br>\n",
    "`fig.show()`"
   ]
  },
  {
   "cell_type": "code",
   "execution_count": 9,
   "id": "8a63577c",
   "metadata": {},
   "outputs": [
    {
     "data": {
      "text/html": [
       "<div>\n",
       "<style scoped>\n",
       "    .dataframe tbody tr th:only-of-type {\n",
       "        vertical-align: middle;\n",
       "    }\n",
       "\n",
       "    .dataframe tbody tr th {\n",
       "        vertical-align: top;\n",
       "    }\n",
       "\n",
       "    .dataframe thead th {\n",
       "        text-align: right;\n",
       "    }\n",
       "</style>\n",
       "<table border=\"1\" class=\"dataframe\">\n",
       "  <thead>\n",
       "    <tr style=\"text-align: right;\">\n",
       "      <th></th>\n",
       "      <th>target</th>\n",
       "      <th>petal_length</th>\n",
       "    </tr>\n",
       "  </thead>\n",
       "  <tbody>\n",
       "    <tr>\n",
       "      <th>0</th>\n",
       "      <td>setosa</td>\n",
       "      <td>1.462</td>\n",
       "    </tr>\n",
       "    <tr>\n",
       "      <th>1</th>\n",
       "      <td>versicolor</td>\n",
       "      <td>4.260</td>\n",
       "    </tr>\n",
       "    <tr>\n",
       "      <th>2</th>\n",
       "      <td>virginica</td>\n",
       "      <td>5.552</td>\n",
       "    </tr>\n",
       "  </tbody>\n",
       "</table>\n",
       "</div>"
      ],
      "text/plain": [
       "       target  petal_length\n",
       "0      setosa         1.462\n",
       "1  versicolor         4.260\n",
       "2   virginica         5.552"
      ]
     },
     "execution_count": 9,
     "metadata": {},
     "output_type": "execute_result"
    }
   ],
   "source": [
    "df_pie = df.groupby(by=\"target\", as_index=False).mean()[['target','petal_length']]\n",
    "df_pie"
   ]
  },
  {
   "cell_type": "code",
   "execution_count": null,
   "id": "1acfc5e8",
   "metadata": {},
   "outputs": [],
   "source": [
    "# Code Block\n",
    "\n",
    "\n",
    "\n"
   ]
  },
  {
   "cell_type": "markdown",
   "id": "5fd8c5b7",
   "metadata": {},
   "source": [
    "# 5. Violin-plot"
   ]
  },
  {
   "cell_type": "markdown",
   "id": "2f24a1fd",
   "metadata": {},
   "source": [
    "`fig = px.violin(data_frame=DATAFRAME, y=[NUM_COL1, NUM_COL2, ...], color=LABEL_COL, box=True)`<BR><BR>\n",
    "`fig.update_layout(title_text=TITLE, xaxis_title=X_TITLE, yaxis_title=Y_TITLE, height=400, width=600)`<BR><BR>\n",
    "`fig.show()`"
   ]
  },
  {
   "cell_type": "code",
   "execution_count": null,
   "id": "16750ad0",
   "metadata": {},
   "outputs": [],
   "source": [
    "# Code Block\n",
    "\n",
    "\n",
    "\n"
   ]
  },
  {
   "cell_type": "markdown",
   "id": "7078a17c",
   "metadata": {},
   "source": [
    "# 6. Box-plot"
   ]
  },
  {
   "cell_type": "markdown",
   "id": "b5a2595e",
   "metadata": {},
   "source": [
    "`fig = px.box(data_frame=DATAFRAME, y=[NUM_COL1, NUM_COL2, ...], color=LABEL_COL)`<BR><BR>\n",
    "`fig.update_layout(title_text=TITLE, xaxis_title=X_TITLE, yaxis_title=Y_TITLE, height=400, width=600)`<BR><BR>\n",
    "`fig.show()`"
   ]
  },
  {
   "cell_type": "code",
   "execution_count": null,
   "id": "63f05f1e",
   "metadata": {},
   "outputs": [],
   "source": [
    "# Code Block\n",
    "\n",
    "\n",
    "\n"
   ]
  },
  {
   "cell_type": "markdown",
   "id": "685a1c80",
   "metadata": {},
   "source": [
    "# 7. Area-plot"
   ]
  },
  {
   "cell_type": "markdown",
   "id": "4b727053",
   "metadata": {},
   "source": [
    "`fig = px.area(data_frame=DATAFRAME, y=[NUM_COL1, NUM_COL2])`<BR><BR>\n",
    "`fig.update_layout(title_text=TITLE, xaxis_title=X_TITLE, width=600, height=400)`<BR><BR>\n",
    "`fig.show()`"
   ]
  },
  {
   "cell_type": "code",
   "execution_count": null,
   "id": "bf7939c5",
   "metadata": {},
   "outputs": [],
   "source": [
    "# Code Block\n",
    "\n",
    "\n",
    "\n"
   ]
  },
  {
   "cell_type": "markdown",
   "id": "04e7f419",
   "metadata": {},
   "source": [
    "# 8. Line-plot"
   ]
  },
  {
   "cell_type": "markdown",
   "id": "7a769c9e",
   "metadata": {},
   "source": [
    "`fig = px.line(data_frame=DATAFRAME, y=NUM_COL)`<BR><BR>\n",
    "`fig.update_layout(title_text=TITLE, xaxis_title=X_TITLE, width=600, height=400)`<BR><BR>\n",
    "`fig.show()`"
   ]
  },
  {
   "cell_type": "code",
   "execution_count": null,
   "id": "06af0c89",
   "metadata": {},
   "outputs": [],
   "source": [
    "# Code Block\n",
    "\n",
    "\n",
    "\n"
   ]
  },
  {
   "cell_type": "markdown",
   "id": "00eb0acd",
   "metadata": {},
   "source": [
    "END of the Notebook<br>\n",
    "Author: Shounak Deshpande (shounak.python@gmail.com)<br>\n",
    "Youtube: https://www.youtube.com/channel/UCpODmuqv_ljQ_vMYwO71a_g"
   ]
  }
 ],
 "metadata": {
  "kernelspec": {
   "display_name": "Python 3 (ipykernel)",
   "language": "python",
   "name": "python3"
  },
  "language_info": {
   "codemirror_mode": {
    "name": "ipython",
    "version": 3
   },
   "file_extension": ".py",
   "mimetype": "text/x-python",
   "name": "python",
   "nbconvert_exporter": "python",
   "pygments_lexer": "ipython3",
   "version": "3.9.12"
  }
 },
 "nbformat": 4,
 "nbformat_minor": 5
}
