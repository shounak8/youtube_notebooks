{
 "cells": [
  {
   "cell_type": "markdown",
   "id": "4acffa6b",
   "metadata": {},
   "source": [
    "<div style=\"text-align:center\"><img src=\"altair_img.png\" /></div>\n",
    "<h1 style=\"text-align: center;\"> Altair </h1>"
   ]
  },
  {
   "cell_type": "markdown",
   "id": "7b789616",
   "metadata": {},
   "source": [
    "## Helpful Links:\n",
    "\n",
    "#### Parent Documentation - https://altair-viz.github.io/\n",
    "#### Simple Charts- https://altair-viz.github.io/gallery/index.html#simple-charts"
   ]
  },
  {
   "cell_type": "markdown",
   "id": "b7b860af",
   "metadata": {},
   "source": [
    "---"
   ]
  },
  {
   "cell_type": "markdown",
   "id": "8e1409ae",
   "metadata": {},
   "source": [
    "# Plots Discussed in this Notebook"
   ]
  },
  {
   "cell_type": "markdown",
   "id": "55120e52",
   "metadata": {},
   "source": [
    "|Scatter Plot | Area Plot | Bar Chart |\n",
    "|:---:|:---:|:---:|\n",
    "|<img src=\"img/scatter.png\" >|<img src=\"img/area_plot.png\" >|<img src=\"img/bar_chart.png\" width=300 height=300>|\n",
    "\n",
    "| Heatmap | Histogram | Image Chart |\n",
    "|:---:|:---:|:---:|\n",
    "|<img src=\"img/heatmap.png\" >|<img src=\"img/histogram.png\" >|<img src=\"img/image_chart.png\" >|\n",
    "\n",
    "| Line Plot | Pie Chart | Pair Plot |\n",
    "|:---:|:---:|:---:|\n",
    "|<img src=\"img/line_chart.png\" >|<img src=\"img/pie.png\" >|<img src=\"img/pair.png\" >|"
   ]
  },
  {
   "cell_type": "markdown",
   "id": "144d4d1f",
   "metadata": {},
   "source": [
    "---"
   ]
  },
  {
   "cell_type": "markdown",
   "id": "ce133174",
   "metadata": {},
   "source": [
    "# Import Libraries"
   ]
  },
  {
   "cell_type": "code",
   "execution_count": null,
   "id": "2e2c981f",
   "metadata": {},
   "outputs": [],
   "source": [
    "# !pip install altair vega_datasets\n",
    "import altair as alt\n",
    "from vega_datasets import data\n",
    "import numpy as np\n",
    "import pandas as pd"
   ]
  },
  {
   "cell_type": "markdown",
   "id": "cd8bc626",
   "metadata": {},
   "source": [
    "# Prepare Demo Datasets\n",
    "Every dataset will be discussed during individual demo"
   ]
  },
  {
   "cell_type": "code",
   "execution_count": null,
   "id": "56e48aa6",
   "metadata": {},
   "outputs": [],
   "source": [
    "source = data.cars()\n",
    "source[\"Unit\"] = 1\n",
    "scatter_df = source.copy()     # Scatter plot dataframe\n",
    "pair_df = source.copy()        # Pair plot dataframe\n",
    "hist_df = source.copy()        # Histogram dataframe\n",
    "\n",
    "# Area chart dataframe\n",
    "area_df = source.groupby(by=[\"Year\",\"Origin\"], as_index=False).agg({\"Unit\":pd.Series.count}).copy()\n",
    "\n",
    "# Bar chart dataframe\n",
    "bar_df = source.groupby(by=[\"Year\",\"Origin\"], as_index=False).agg({\"Unit\":pd.Series.count}).copy()\n",
    "\n",
    "# Line plot dataframe\n",
    "line_df = source.groupby(by=\"Year\", as_index=False).agg({\"Miles_per_Gallon\": pd.Series.sum}).copy()\n",
    "\n",
    "# Pie chart dataframe\n",
    "pie_df = pd.DataFrame(data = source.Origin.value_counts().reset_index())\n",
    "pie_df.columns = [\"Origin\", \"Count\"]\n",
    "\n",
    "# Heatmap dataframe\n",
    "x = np.random.randint(1, 11, size=(1000))\n",
    "y= np.random.randint(1, 11, size=(1000))\n",
    "z = np.random.randint(1, 11, size=(1000))\n",
    "heat_df = pd.DataFrame({\"x\":x, \"y\":y, \"z\":z})\n",
    "\n",
    "# Image Plot dataframe\n",
    "fifa_df = pd.read_csv(\"players_22.csv\", usecols=[\"short_name\", \"overall\", \"age\", \"club_name\", \"nationality_name\"])\n",
    "image_df = fifa_df[(fifa_df.club_name == \"Manchester United\")].copy()\n",
    "image_df = image_df[image_df.nationality_name==\"Portugal\"].copy()\n",
    "image_df[\"player_url\"] = [\"https://futhead.cursecdn.com/static/img/20/players/20801.png\",\n",
    "\"https://futhead.cursecdn.com/static/img/21/players/212198.png\",\n",
    "\"https://futhead.cursecdn.com/static/img/21/players/234574.png\",]"
   ]
  },
  {
   "cell_type": "markdown",
   "id": "a6092357",
   "metadata": {},
   "source": [
    "---"
   ]
  },
  {
   "cell_type": "markdown",
   "id": "55f28fd7",
   "metadata": {},
   "source": [
    "# Data Types\n",
    "<br>Ordinal **(O)** : Values following an ascending/descending order (eg. rank, year, etc.)\n",
    "<br>Quantitative **(Q)** : Continuous numeric values (eg. marks obtained by students in class, stock prices, etc.)\n",
    "<br>Nominal **(N)** : Labels/Names/Class (eg. country names, colors, etc.)\n",
    "<br>Temporal **(T)** : Date-Time values (eg. dates, hours)"
   ]
  },
  {
   "cell_type": "markdown",
   "id": "48756eca",
   "metadata": {},
   "source": [
    "---"
   ]
  },
  {
   "cell_type": "markdown",
   "id": "3370ee5f",
   "metadata": {},
   "source": [
    "# 1. Scatter Plot\n",
    "\n",
    "Format:<br>\n",
    "`alt.Chart(source).mark_point().encode(\n",
    "    x=alt.X(\"quant_val_1:Q\", axis=alt.Axis(title=\"HP\")),\n",
    "    y=alt.Y(\"quant_val_2:Q\", axis=alt.Axis(title=\"Mpg\")),\n",
    "    color=\"nominal_val_1:N\",\n",
    "    tooltip=[\"nominal_val_2:N\"],\n",
    ").properties(title=\"<Enter Title>\",)`\n",
    "\n",
    "Example Usage:\n",
    "<br>dataframe = scatter_df\n",
    "<br>quant_val_1(Q) = Horsepower\n",
    "<br>quant_val_2(Q) = Miles_per_Gallon\n",
    "<br>nominal_val_1(N) = Origin\n",
    "<br>nominal_val_2(N) = Name\n"
   ]
  },
  {
   "cell_type": "code",
   "execution_count": null,
   "id": "03a777d1",
   "metadata": {},
   "outputs": [],
   "source": [
    "scatter_df.head(3)"
   ]
  },
  {
   "cell_type": "code",
   "execution_count": null,
   "id": "1bad0d45",
   "metadata": {},
   "outputs": [],
   "source": [
    "# Scatter Plot\n"
   ]
  },
  {
   "cell_type": "markdown",
   "id": "d237ff4a",
   "metadata": {},
   "source": [
    "---"
   ]
  },
  {
   "cell_type": "markdown",
   "id": "69949a09",
   "metadata": {},
   "source": [
    "# 2. Area Plot\n",
    "\n",
    "Format:<br>\n",
    "`alt.Chart(area_df).mark_area().encode(\n",
    "    x=\"temporal_val:T\", y=\"quant_val:Q\", color=\"nominal_val:N\"\n",
    ").properties(title=\"<Enter Title>\", height=300, width=500)`\n",
    "\n",
    "Example Usage:<br>dataframe = area_df\n",
    "<br>temporal_val(T) = Year\n",
    "<br>quant_val(Q) = Unit\n",
    "<br>nominal_val(N) = Origin"
   ]
  },
  {
   "cell_type": "code",
   "execution_count": null,
   "id": "91101d12",
   "metadata": {},
   "outputs": [],
   "source": [
    "area_df.head(3)"
   ]
  },
  {
   "cell_type": "code",
   "execution_count": null,
   "id": "43b5ae90",
   "metadata": {},
   "outputs": [],
   "source": [
    "# Area Plot\n"
   ]
  },
  {
   "cell_type": "markdown",
   "id": "fef21d43",
   "metadata": {},
   "source": [
    "---"
   ]
  },
  {
   "cell_type": "markdown",
   "id": "8b0beac7",
   "metadata": {},
   "source": [
    "# 3. Bar Chart\n",
    "\n",
    "A. Stacked Bar Chart Format\n",
    "\n",
    "`alt.Chart(dataframe).mark_bar(size=<int>).encode(\n",
    "    x=\"temporal_val:T\", y=\"quantitative_val:Q\", color=\"nominal_val:N\"\n",
    ").properties(title=\"<Enter Title>\")`\n",
    "\n",
    "Example Usage:<br>dataframe = bar_df <br> nominal_val(N) = Origin, <br>quantitative_val(Q) = Unit, <br>temporal_val(T) = \"Year\n",
    "<br><br><br>\n",
    "B. UnStacked Bar Chart Format\n",
    "\n",
    "`alt.Chart(dataframe).mark_bar(size=<int>).encode(\n",
    "    x=\"nominal_val:N\", y=\"quantitative_val:Q\", color=\"nominal_val:N\", column=\"temporal_val:T\",\n",
    ").properties(title=\"<Enter Title>\")`\n",
    "\n",
    "Example Usage:<br>dataframe = bar_df <br>nominal_val(N) = Origin, <br>quantitative_val(Q) = Unit, <br>temporal_val(T) = \"Year"
   ]
  },
  {
   "cell_type": "code",
   "execution_count": null,
   "id": "09bb696e",
   "metadata": {},
   "outputs": [],
   "source": [
    "bar_df.head(3)"
   ]
  },
  {
   "cell_type": "code",
   "execution_count": null,
   "id": "7456eb25",
   "metadata": {},
   "outputs": [],
   "source": [
    "# Stacked\n"
   ]
  },
  {
   "cell_type": "code",
   "execution_count": null,
   "id": "879bca6a",
   "metadata": {},
   "outputs": [],
   "source": [
    "# Unstacked\n"
   ]
  },
  {
   "cell_type": "markdown",
   "id": "a9ed2512",
   "metadata": {},
   "source": [
    "---"
   ]
  },
  {
   "cell_type": "markdown",
   "id": "d391a177",
   "metadata": {},
   "source": [
    "# 4. Heatmap\n",
    "\n",
    "Format:<br>\n",
    "`alt.Chart(heat_df).mark_rect().encode(\n",
    "    x='ordinal_val_1:O',\n",
    "    y='ordinal_val_2:O',\n",
    "    color='quan_val:Q'\n",
    ").properties(title=\"<Enter Title>\", height=300, width=300)`\n",
    "\n",
    "Example Usage: <br>ordinal_val_1(O) = x, <br>ordinal_val_2(O) = y, <br>quan_val(Q) = z"
   ]
  },
  {
   "cell_type": "code",
   "execution_count": null,
   "id": "28b5c6ac",
   "metadata": {},
   "outputs": [],
   "source": [
    "heat_df.head(3)"
   ]
  },
  {
   "cell_type": "code",
   "execution_count": null,
   "id": "1a2ceb12",
   "metadata": {},
   "outputs": [],
   "source": [
    "# Heatmap\n"
   ]
  },
  {
   "cell_type": "markdown",
   "id": "343c0e30",
   "metadata": {},
   "source": [
    "---"
   ]
  },
  {
   "cell_type": "markdown",
   "id": "17432e7c",
   "metadata": {},
   "source": [
    "# 5. Histogram\n",
    "\n",
    "Format:\n",
    "`alt.Chart(dataframe).mark_bar(size=10).encode(x=\"quant_val:Q\", y=\"count()\").properties(title=\"<Enter Title>\")`\n",
    "\n",
    "Example Usage:<br>dataframe = hist_df <br> quant_val(Q) = Weight_in_lbs"
   ]
  },
  {
   "cell_type": "code",
   "execution_count": null,
   "id": "0c839d68",
   "metadata": {},
   "outputs": [],
   "source": [
    "# Histogram"
   ]
  },
  {
   "cell_type": "markdown",
   "id": "ec4585d0",
   "metadata": {},
   "source": [
    "---"
   ]
  },
  {
   "cell_type": "markdown",
   "id": "9c05fa16",
   "metadata": {},
   "source": [
    "# 6. Image Chart\n",
    "\n",
    "Format:<br>\n",
    "`alt.Chart(dataframe).mark_image(width=50, height=50).encode(\n",
    "    x=\"quant1\", y=\"quant2\", url=\"<image_url>\", tooltip=[<list of attributes associated with image>]\n",
    ")`\n",
    "\n",
    "Example Usage:<br>\n",
    "quant1(Q) = age<br>\n",
    "quant2(Q) = overall<br>\n",
    "tooltip can include name, overall, age etc."
   ]
  },
  {
   "cell_type": "code",
   "execution_count": null,
   "id": "f796a59c",
   "metadata": {},
   "outputs": [],
   "source": [
    "image_df"
   ]
  },
  {
   "cell_type": "code",
   "execution_count": null,
   "id": "0fac7599",
   "metadata": {},
   "outputs": [],
   "source": [
    "# Image Chart\n"
   ]
  },
  {
   "cell_type": "markdown",
   "id": "124c4c43",
   "metadata": {},
   "source": [
    "---"
   ]
  },
  {
   "cell_type": "markdown",
   "id": "56dd00e3",
   "metadata": {},
   "source": [
    "# 7. Line Plot\n",
    "\n",
    "Format:<br>\n",
    "`alt.Chart(dataframe).mark_line().encode(\n",
    "    x=alt.X(\"temporal_val:T\", axis=alt.Axis(title=\"<X-axis-label>\")),\n",
    "    y=alt.Y(\"quant_val:Q\", axis=alt.Axis(title=\"<Y-axis-label>\")),\n",
    "    tooltip=[\"nominal_val:N\"],\n",
    ").properties(title=\"<Plot Title>\")`\n",
    "\n",
    "Example Usage:\n",
    "<br>dataframe = line_df\n",
    "<br>temporal_val(T) = Year\n",
    "<br>quant_val(Q) = Miles_per_Gallon\n",
    "<br>nominal_val(N) = Name"
   ]
  },
  {
   "cell_type": "code",
   "execution_count": null,
   "id": "b8444bdc",
   "metadata": {},
   "outputs": [],
   "source": [
    "line_df.head(3)"
   ]
  },
  {
   "cell_type": "code",
   "execution_count": null,
   "id": "ccf8da72",
   "metadata": {},
   "outputs": [],
   "source": [
    "# Line Plot\n"
   ]
  },
  {
   "cell_type": "markdown",
   "id": "bc000927",
   "metadata": {},
   "source": [
    "---"
   ]
  },
  {
   "cell_type": "markdown",
   "id": "ca4a15b6",
   "metadata": {},
   "source": [
    "# 8. Pie Chart\n",
    "\n",
    "Pie Chart Format:<br>\n",
    "`alt.Chart(dataframe).mark_arc().encode(\n",
    "    theta=\"quant_val:Q\", color=\"nominal_val:N\", tooltip=[\"quant_val:Q\", \"nominal_val:N\"]\n",
    ")`\n",
    "\n",
    "Donut Chart Format:<br>\n",
    "`alt.Chart(dataframe).mark_arc(innerRadius=<int>).encode(\n",
    "    theta=\"quant_val:Q\", color=\"nominal_val:N\", tooltip=[\"quant_val:Q\", \"nominal_val:N\"]\n",
    ")`\n",
    "\n",
    "\n",
    "Example Usage:<br>\n",
    "quant_val = Count:Q<br>\n",
    "nominal_val = Origin:N"
   ]
  },
  {
   "cell_type": "code",
   "execution_count": null,
   "id": "759c558f",
   "metadata": {},
   "outputs": [],
   "source": [
    "pie_df.head(3)"
   ]
  },
  {
   "cell_type": "code",
   "execution_count": null,
   "id": "0fc400b4",
   "metadata": {},
   "outputs": [],
   "source": [
    "# Pie Chart\n"
   ]
  },
  {
   "cell_type": "markdown",
   "id": "b75c10a8",
   "metadata": {},
   "source": [
    "---"
   ]
  },
  {
   "cell_type": "markdown",
   "id": "603455ed",
   "metadata": {},
   "source": [
    "# 9. Pair Plot\n",
    "\n",
    "Format:<br>\n",
    "`alt.Chart(dataframe).mark_point().encode(\n",
    "    x=alt.X(alt.repeat(\"column\"), type=\"quantitative\"),\n",
    "    y=alt.Y(alt.repeat(\"row\"), type=\"quantitative\"),\n",
    "    color=\"nominal_val_1:N\",\n",
    "    tooltip=[\"nominal_val_2:N\"],\n",
    ").properties(title=\"Pair Plot\", height=200, width=200).repeat(\n",
    "    row=[quant_list],\n",
    "    column=[quant_list],\n",
    ")`    \n",
    "\n",
    "Example Usage:\n",
    "<br>dataframe = pair_df\n",
    "<br>quant_list = [\"Horsepower\", \"Acceleration\", \"Miles_per_Gallon\"]\n",
    "<br>nominal_val_1(N) = Origin\n",
    "<br>nominal_val_2(N) = Name"
   ]
  },
  {
   "cell_type": "code",
   "execution_count": null,
   "id": "3e648cb4",
   "metadata": {},
   "outputs": [],
   "source": [
    "pair_df.head(3)"
   ]
  },
  {
   "cell_type": "code",
   "execution_count": null,
   "id": "ce03d6d4",
   "metadata": {},
   "outputs": [],
   "source": [
    "# Pair Plot\n",
    "\n"
   ]
  },
  {
   "cell_type": "markdown",
   "id": "25a992b2",
   "metadata": {},
   "source": [
    "---"
   ]
  },
  {
   "cell_type": "markdown",
   "id": "4a64c4a1",
   "metadata": {},
   "source": [
    "END of the Notebook<br>\n",
    "Author: Shounak Deshpande (shounak.python@gmail.com)<br>\n",
    "Youtube: https://www.youtube.com/channel/UCpODmuqv_ljQ_vMYwO71a_g"
   ]
  }
 ],
 "metadata": {
  "kernelspec": {
   "display_name": "Python 3 (ipykernel)",
   "language": "python",
   "name": "python3"
  },
  "language_info": {
   "codemirror_mode": {
    "name": "ipython",
    "version": 3
   },
   "file_extension": ".py",
   "mimetype": "text/x-python",
   "name": "python",
   "nbconvert_exporter": "python",
   "pygments_lexer": "ipython3",
   "version": "3.9.12"
  }
 },
 "nbformat": 4,
 "nbformat_minor": 5
}
