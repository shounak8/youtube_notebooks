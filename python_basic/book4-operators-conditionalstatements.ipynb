{
 "cells": [
  {
   "cell_type": "markdown",
   "id": "e83235bb",
   "metadata": {},
   "source": [
    "# Contents:\n",
    "\n",
    "## A. Operators (link: https://www.geeksforgeeks.org/python-operators/)\n",
    "\n",
    "1. Arithmetic Operators: +, -, *, /, //, %\n",
    "2. Comparison Operators: <, >, ==, !=, <=, >=\n",
    "3. Logical Operators: and, or, not\n",
    "4. Bitwise Operators: &, |, ~\n",
    "5. Membership Operators: in, not in\n",
    "\n",
    "## B. Conditional Statements\n",
    "if, elif, else"
   ]
  },
  {
   "cell_type": "markdown",
   "id": "fd162e56",
   "metadata": {},
   "source": [
    "# A. Operators\n",
    "\n",
    "### 1. Arithmetic Operators"
   ]
  },
  {
   "cell_type": "code",
   "execution_count": 1,
   "id": "82e99692",
   "metadata": {},
   "outputs": [
    {
     "data": {
      "text/plain": [
       "30.67"
      ]
     },
     "execution_count": 1,
     "metadata": {},
     "output_type": "execute_result"
    }
   ],
   "source": [
    "# Addition +\n",
    "\n",
    "10 + 20.67"
   ]
  },
  {
   "cell_type": "code",
   "execution_count": 2,
   "id": "e587a475",
   "metadata": {},
   "outputs": [
    {
     "data": {
      "text/plain": [
       "'abcghj'"
      ]
     },
     "execution_count": 2,
     "metadata": {},
     "output_type": "execute_result"
    }
   ],
   "source": [
    "\"abc\"+\"ghj\""
   ]
  },
  {
   "cell_type": "code",
   "execution_count": 3,
   "id": "794ba7b2",
   "metadata": {},
   "outputs": [
    {
     "data": {
      "text/plain": [
       "44.33"
      ]
     },
     "execution_count": 3,
     "metadata": {},
     "output_type": "execute_result"
    }
   ],
   "source": [
    "# Subtraction -\n",
    "\n",
    "100 - 55.67"
   ]
  },
  {
   "cell_type": "code",
   "execution_count": 4,
   "id": "fd50fa53",
   "metadata": {},
   "outputs": [
    {
     "ename": "TypeError",
     "evalue": "unsupported operand type(s) for -: 'str' and 'str'",
     "output_type": "error",
     "traceback": [
      "\u001b[1;31m---------------------------------------------------------------------------\u001b[0m",
      "\u001b[1;31mTypeError\u001b[0m                                 Traceback (most recent call last)",
      "\u001b[1;32m~\\AppData\\Local\\Temp\\ipykernel_20236\\3685021672.py\u001b[0m in \u001b[0;36m<module>\u001b[1;34m\u001b[0m\n\u001b[1;32m----> 1\u001b[1;33m \u001b[1;34m\"asdfgh\"\u001b[0m \u001b[1;33m-\u001b[0m \u001b[1;34m\"asd\"\u001b[0m\u001b[1;33m\u001b[0m\u001b[1;33m\u001b[0m\u001b[0m\n\u001b[0m",
      "\u001b[1;31mTypeError\u001b[0m: unsupported operand type(s) for -: 'str' and 'str'"
     ]
    }
   ],
   "source": [
    "\"asdfgh\" - \"asd\""
   ]
  },
  {
   "cell_type": "code",
   "execution_count": 5,
   "id": "7f6d0b53",
   "metadata": {},
   "outputs": [
    {
     "data": {
      "text/plain": [
       "18"
      ]
     },
     "execution_count": 5,
     "metadata": {},
     "output_type": "execute_result"
    }
   ],
   "source": [
    "# Multiplication *\n",
    "\n",
    "3*6"
   ]
  },
  {
   "cell_type": "code",
   "execution_count": 7,
   "id": "b1fa29ed",
   "metadata": {},
   "outputs": [
    {
     "data": {
      "text/plain": [
       "'abcabcabcabcabcabc'"
      ]
     },
     "execution_count": 7,
     "metadata": {},
     "output_type": "execute_result"
    }
   ],
   "source": [
    "\"abc\"*6"
   ]
  },
  {
   "cell_type": "code",
   "execution_count": 8,
   "id": "bf6ad233",
   "metadata": {},
   "outputs": [
    {
     "data": {
      "text/plain": [
       "8"
      ]
     },
     "execution_count": 8,
     "metadata": {},
     "output_type": "execute_result"
    }
   ],
   "source": [
    "# Raised power **\n",
    "\n",
    "2**3"
   ]
  },
  {
   "cell_type": "code",
   "execution_count": 9,
   "id": "d29a5972",
   "metadata": {},
   "outputs": [
    {
     "data": {
      "text/plain": [
       "49"
      ]
     },
     "execution_count": 9,
     "metadata": {},
     "output_type": "execute_result"
    }
   ],
   "source": [
    "7**2"
   ]
  },
  {
   "cell_type": "code",
   "execution_count": 10,
   "id": "9bb1b58a",
   "metadata": {},
   "outputs": [
    {
     "data": {
      "text/plain": [
       "2.0"
      ]
     },
     "execution_count": 10,
     "metadata": {},
     "output_type": "execute_result"
    }
   ],
   "source": [
    "# Division (float) /\n",
    "\n",
    "6/3"
   ]
  },
  {
   "cell_type": "code",
   "execution_count": 11,
   "id": "b630b33f",
   "metadata": {},
   "outputs": [
    {
     "data": {
      "text/plain": [
       "14"
      ]
     },
     "execution_count": 11,
     "metadata": {},
     "output_type": "execute_result"
    }
   ],
   "source": [
    "# Division (floor) //\n",
    "\n",
    "100//7"
   ]
  },
  {
   "cell_type": "code",
   "execution_count": 12,
   "id": "1298d060",
   "metadata": {},
   "outputs": [
    {
     "data": {
      "text/plain": [
       "2"
      ]
     },
     "execution_count": 12,
     "metadata": {},
     "output_type": "execute_result"
    }
   ],
   "source": [
    "# Modulus %\n",
    "\n",
    "100%7"
   ]
  },
  {
   "cell_type": "markdown",
   "id": "3a5415cf",
   "metadata": {},
   "source": [
    "### 2. Comaprison Operators"
   ]
  },
  {
   "cell_type": "code",
   "execution_count": 13,
   "id": "6d0d6f60",
   "metadata": {},
   "outputs": [
    {
     "data": {
      "text/plain": [
       "True"
      ]
     },
     "execution_count": 13,
     "metadata": {},
     "output_type": "execute_result"
    }
   ],
   "source": [
    "# Less than <\n",
    "7 < 10"
   ]
  },
  {
   "cell_type": "code",
   "execution_count": 14,
   "id": "d7c05ea6",
   "metadata": {},
   "outputs": [
    {
     "data": {
      "text/plain": [
       "False"
      ]
     },
     "execution_count": 14,
     "metadata": {},
     "output_type": "execute_result"
    }
   ],
   "source": [
    "# Greater than >\n",
    "7 > 10"
   ]
  },
  {
   "cell_type": "code",
   "execution_count": 16,
   "id": "7fce8bc9",
   "metadata": {},
   "outputs": [
    {
     "data": {
      "text/plain": [
       "False"
      ]
     },
     "execution_count": 16,
     "metadata": {},
     "output_type": "execute_result"
    }
   ],
   "source": [
    "# Is equal to ==\n",
    "a = 10\n",
    "b = 10\n",
    "c = 5\n",
    "\n",
    "a == c"
   ]
  },
  {
   "cell_type": "code",
   "execution_count": 18,
   "id": "005d4594",
   "metadata": {},
   "outputs": [
    {
     "data": {
      "text/plain": [
       "False"
      ]
     },
     "execution_count": 18,
     "metadata": {},
     "output_type": "execute_result"
    }
   ],
   "source": [
    "# Not equal to !=\n",
    "\n",
    "a = 10\n",
    "b = 10\n",
    "c = 5\n",
    "\n",
    "a != b"
   ]
  },
  {
   "cell_type": "code",
   "execution_count": 20,
   "id": "1ce84961",
   "metadata": {},
   "outputs": [
    {
     "data": {
      "text/plain": [
       "True"
      ]
     },
     "execution_count": 20,
     "metadata": {},
     "output_type": "execute_result"
    }
   ],
   "source": [
    "# Less than or equal to <=\n",
    "\n",
    "a = 10\n",
    "b = 10\n",
    "c = 5\n",
    "\n",
    "a <= b"
   ]
  },
  {
   "cell_type": "code",
   "execution_count": 22,
   "id": "f3e8d92a",
   "metadata": {},
   "outputs": [
    {
     "data": {
      "text/plain": [
       "False"
      ]
     },
     "execution_count": 22,
     "metadata": {},
     "output_type": "execute_result"
    }
   ],
   "source": [
    "# Greater than or equal to >=\n",
    "\n",
    "a = 10\n",
    "b = 10\n",
    "c = 15\n",
    "\n",
    "a >= c"
   ]
  },
  {
   "cell_type": "markdown",
   "id": "281453e3",
   "metadata": {},
   "source": [
    "---"
   ]
  },
  {
   "cell_type": "markdown",
   "id": "0aff8338",
   "metadata": {},
   "source": [
    "### 3. Logical Operators"
   ]
  },
  {
   "cell_type": "code",
   "execution_count": 23,
   "id": "2ba8e0ca",
   "metadata": {},
   "outputs": [
    {
     "name": "stdout",
     "output_type": "stream",
     "text": [
      "3\n",
      "4\n"
     ]
    }
   ],
   "source": [
    "# and\n",
    "el_1 = [1, 2, 3, 4]\n",
    "el_2 = [3, 4, 5, 6]\n",
    "\n",
    "for number in range(10):\n",
    "    if number in el_1 and number in el_2:\n",
    "        print(number)"
   ]
  },
  {
   "cell_type": "code",
   "execution_count": 24,
   "id": "2e70d2ea",
   "metadata": {},
   "outputs": [
    {
     "name": "stdout",
     "output_type": "stream",
     "text": [
      "1\n",
      "2\n",
      "3\n",
      "4\n",
      "5\n",
      "6\n"
     ]
    }
   ],
   "source": [
    "# or\n",
    "el_1 = [1, 2, 3, 4]\n",
    "el_2 = [3, 4, 5, 6]\n",
    "\n",
    "for number in range(10):\n",
    "    if number in el_1 or number in el_2:\n",
    "        print(number)"
   ]
  },
  {
   "cell_type": "code",
   "execution_count": 25,
   "id": "07e97b93",
   "metadata": {},
   "outputs": [
    {
     "name": "stdout",
     "output_type": "stream",
     "text": [
      "0\n",
      "7\n",
      "8\n",
      "9\n"
     ]
    }
   ],
   "source": [
    "# not\n",
    "el_1 = [1, 2, 3, 4]\n",
    "el_2 = [3, 4, 5, 6]\n",
    "\n",
    "for number in range(10):\n",
    "    if number not in el_1 and number not in el_2:\n",
    "        print(number)"
   ]
  },
  {
   "cell_type": "markdown",
   "id": "fd6159d5",
   "metadata": {},
   "source": [
    "---"
   ]
  },
  {
   "cell_type": "markdown",
   "id": "71263969",
   "metadata": {},
   "source": [
    "### 4. Bitwise Operators"
   ]
  },
  {
   "cell_type": "code",
   "execution_count": 26,
   "id": "e766d929",
   "metadata": {},
   "outputs": [
    {
     "name": "stdout",
     "output_type": "stream",
     "text": [
      "3\n",
      "4\n"
     ]
    }
   ],
   "source": [
    "# &\n",
    "el_1 = [1, 2, 3, 4]\n",
    "el_2 = [3, 4, 5, 6]\n",
    "\n",
    "for number in range(10):\n",
    "    if (number in el_1) & (number in el_2):\n",
    "        print(number)"
   ]
  },
  {
   "cell_type": "code",
   "execution_count": 28,
   "id": "0affced7",
   "metadata": {},
   "outputs": [
    {
     "name": "stdout",
     "output_type": "stream",
     "text": [
      "1\n",
      "2\n",
      "3\n",
      "4\n",
      "5\n",
      "6\n"
     ]
    }
   ],
   "source": [
    "# | pipe\n",
    "el_1 = [1, 2, 3, 4]\n",
    "el_2 = [3, 4, 5, 6]\n",
    "\n",
    "for number in range(10):\n",
    "    if (number in el_1) | (number in el_2):\n",
    "        print(number)"
   ]
  },
  {
   "cell_type": "code",
   "execution_count": 45,
   "id": "3eb2a012",
   "metadata": {},
   "outputs": [
    {
     "data": {
      "text/plain": [
       "-2"
      ]
     },
     "execution_count": 45,
     "metadata": {},
     "output_type": "execute_result"
    }
   ],
   "source": [
    "# ~\n",
    "a = 1\n",
    "~a"
   ]
  },
  {
   "cell_type": "markdown",
   "id": "22cbb4d0",
   "metadata": {},
   "source": [
    "---"
   ]
  },
  {
   "cell_type": "markdown",
   "id": "22f36edf",
   "metadata": {},
   "source": [
    "### 5. Membership Operators"
   ]
  },
  {
   "cell_type": "code",
   "execution_count": 47,
   "id": "37d8beb7",
   "metadata": {},
   "outputs": [
    {
     "data": {
      "text/plain": [
       "False"
      ]
     },
     "execution_count": 47,
     "metadata": {},
     "output_type": "execute_result"
    }
   ],
   "source": [
    "# in\n",
    "el_1 = [1, 2, 3, 4]\n",
    "\n",
    "11 in el_1"
   ]
  },
  {
   "cell_type": "code",
   "execution_count": 50,
   "id": "23d4b84a",
   "metadata": {},
   "outputs": [
    {
     "data": {
      "text/plain": [
       "True"
      ]
     },
     "execution_count": 50,
     "metadata": {},
     "output_type": "execute_result"
    }
   ],
   "source": [
    "# not in\n",
    "el_1 = [1, 2, 3, 4]\n",
    "\n",
    "11 not in el_1"
   ]
  },
  {
   "cell_type": "markdown",
   "id": "ca6ed233",
   "metadata": {},
   "source": [
    "---\n",
    "---"
   ]
  },
  {
   "cell_type": "markdown",
   "id": "36dab478",
   "metadata": {},
   "source": [
    "# B. Conditional Statements"
   ]
  },
  {
   "cell_type": "code",
   "execution_count": 52,
   "id": "8d8900c2",
   "metadata": {},
   "outputs": [],
   "source": [
    "# if\n",
    "el_1 = [1, 2, 3, 4]\n",
    "\n",
    "if 22 in el_1:\n",
    "    print('present')"
   ]
  },
  {
   "cell_type": "code",
   "execution_count": 53,
   "id": "198036b2",
   "metadata": {},
   "outputs": [
    {
     "name": "stdout",
     "output_type": "stream",
     "text": [
      "absent\n"
     ]
    }
   ],
   "source": [
    "# else\n",
    "if 22 in el_1:\n",
    "    print('present')\n",
    "else:\n",
    "    print('absent')"
   ]
  },
  {
   "cell_type": "code",
   "execution_count": 60,
   "id": "2b7f88af",
   "metadata": {},
   "outputs": [
    {
     "name": "stdout",
     "output_type": "stream",
     "text": [
      "number not divisble by 2, 3, 7\n"
     ]
    }
   ],
   "source": [
    "# elif\n",
    "\n",
    "NUMBER = 25\n",
    "\n",
    "if NUMBER%2 == 0:\n",
    "    print('divisible by 2')\n",
    "elif NUMBER%3 == 0:\n",
    "    print('divisible by 3')\n",
    "elif NUMBER%7 == 0:\n",
    "    print('divisible by 7')\n",
    "else: \n",
    "    print('number not divisble by 2, 3, 7')"
   ]
  },
  {
   "cell_type": "markdown",
   "id": "bb9761c1",
   "metadata": {},
   "source": [
    "END of the Notebook<br>\n",
    "Author: Shounak Deshpande (shounak.python@gmail.com)<br>\n",
    "Youtube: https://www.youtube.com/channel/UCpODmuqv_ljQ_vMYwO71a_g"
   ]
  }
 ],
 "metadata": {
  "kernelspec": {
   "display_name": "Python 3 (ipykernel)",
   "language": "python",
   "name": "python3"
  },
  "language_info": {
   "codemirror_mode": {
    "name": "ipython",
    "version": 3
   },
   "file_extension": ".py",
   "mimetype": "text/x-python",
   "name": "python",
   "nbconvert_exporter": "python",
   "pygments_lexer": "ipython3",
   "version": "3.9.13"
  }
 },
 "nbformat": 4,
 "nbformat_minor": 5
}
