{
 "cells": [
  {
   "cell_type": "markdown",
   "id": "7c2af863",
   "metadata": {},
   "source": [
    "# Python Intro\n",
    "\n",
    "1. What is Python?\n",
    "* Python is an interpreted, object-oriented, high-level programming language with dynamic semantics\n",
    "* Python is simple, easy to learn syntax emphasizes readability and therefore reduces the cost of program maintenance.\n",
    "* Python supports modules and packages, which encourages program modularity and code reuse.\n",
    "<br><br>\n",
    "2. Usage\n",
    "* Graphics (eg. turtle graphics)\n",
    "* UIX Software (eg. tkinter)\n",
    "* REST APIs (eg. FastAPI, FlaskRESTful)\n",
    "* Web Development (eg. Flask, Django)\n",
    "* Database Management (eg. SQLAlchemy)\n",
    "* Scientific Calculations (eg. numpy, scipy)\n",
    "* Data Engineering, Data Analysis, Data Science (eg. pandas, matplotlib)\n",
    "* AIML (eg. sklearn, tensorflow, pytorch)"
   ]
  },
  {
   "cell_type": "markdown",
   "id": "959b7a93",
   "metadata": {},
   "source": [
    "# Course Content (Basic Level)\n",
    "1. Installation\n",
    "2. Data Types, Variables & Constants\n",
    "3. Data Type Methods\n",
    "4. Operators and Conditional Statements\n",
    "5. Loops\n",
    "6. Functions\n",
    "7. Reading Files\n",
    "8. Object Oriented Programming"
   ]
  },
  {
   "cell_type": "markdown",
   "id": "83889712",
   "metadata": {},
   "source": [
    "# Video Content:\n",
    "1. Installation\n",
    "    * Link for Anaconda-Jupyter Installation: https://www.anaconda.com/products/distribution\n",
    "    * Link for Python Installation: https://www.python.org/downloads/\n",
    "    * Link for PyCharm Installation: https://www.jetbrains.com/help/pycharm/installation-guide.html\n",
    "    * Link for VS Code Installation: https://code.visualstudio.com/download\n",
    "<br><br>\n",
    "2. Adding Python and Pip path to environment variables\n",
    "3. Creating Virtual Environment"
   ]
  },
  {
   "cell_type": "markdown",
   "id": "52e92fb3",
   "metadata": {},
   "source": [
    "---"
   ]
  },
  {
   "cell_type": "markdown",
   "id": "db247aa1",
   "metadata": {},
   "source": [
    "END of the Notebook<br>\n",
    "Author: Shounak Deshpande (shounak.python@gmail.com)<br>\n",
    "Youtube: https://www.youtube.com/channel/UCpODmuqv_ljQ_vMYwO71a_g"
   ]
  }
 ],
 "metadata": {
  "kernelspec": {
   "display_name": "Python 3 (ipykernel)",
   "language": "python",
   "name": "python3"
  },
  "language_info": {
   "codemirror_mode": {
    "name": "ipython",
    "version": 3
   },
   "file_extension": ".py",
   "mimetype": "text/x-python",
   "name": "python",
   "nbconvert_exporter": "python",
   "pygments_lexer": "ipython3",
   "version": "3.9.12"
  }
 },
 "nbformat": 4,
 "nbformat_minor": 5
}
