{
 "cells": [
  {
   "cell_type": "markdown",
   "id": "49b8b1de",
   "metadata": {},
   "source": [
    "# Contents:\n",
    "    \n",
    "## A. 'for' loop\n",
    "## B. 'while' loop\n",
    "## C. 'list' and 'dictionary' comprehension"
   ]
  },
  {
   "cell_type": "markdown",
   "id": "3e5cd7df",
   "metadata": {},
   "source": [
    "---"
   ]
  },
  {
   "cell_type": "markdown",
   "id": "60a48d6a",
   "metadata": {},
   "source": [
    "# A. 'for' loop\n",
    "\n",
    "\n",
    "#### Format:\n",
    "<pre>\n",
    "for item in iterative_object(iterative object can be list/dictionary/tuple/string):\n",
    "    {{insert your_logic_code}} </pre>\n",
    "    \n",
    "'for' loop iterates over an iterable object    "
   ]
  },
  {
   "cell_type": "code",
   "execution_count": 1,
   "id": "794ba7b2",
   "metadata": {},
   "outputs": [
    {
     "name": "stdout",
     "output_type": "stream",
     "text": [
      "e\n",
      "a\n",
      "a\n",
      "a\n",
      "e\n",
      "u\n",
      "e\n"
     ]
    }
   ],
   "source": [
    "# Example 1: string\n",
    "str_var = \"Red pandas are cute\"\n",
    "for item in str_var:\n",
    "    if item in [\"a\", \"e\", \"i\", \"o\", \"u\"]:\n",
    "        print(item)"
   ]
  },
  {
   "cell_type": "code",
   "execution_count": 2,
   "id": "7f6d0b53",
   "metadata": {},
   "outputs": [
    {
     "name": "stdout",
     "output_type": "stream",
     "text": [
      "1\n",
      "4\n",
      "9\n",
      "16\n",
      "25\n"
     ]
    }
   ],
   "source": [
    "# Example 2: list\n",
    "list_var = [1, 2, 3, 4, 5]\n",
    "\n",
    "for item in list_var:\n",
    "    print( item * item)"
   ]
  },
  {
   "cell_type": "code",
   "execution_count": 3,
   "id": "06e08c59",
   "metadata": {},
   "outputs": [
    {
     "name": "stdout",
     "output_type": "stream",
     "text": [
      "10\n",
      "20\n",
      "30\n",
      "40\n",
      "50\n"
     ]
    }
   ],
   "source": [
    "# Example 3: tuple\n",
    "tuple_var = (1, 2, 3, 4, 5)\n",
    "for item in tuple_var:\n",
    "    print(item * 10)"
   ]
  },
  {
   "cell_type": "code",
   "execution_count": 4,
   "id": "761e2b86",
   "metadata": {},
   "outputs": [
    {
     "name": "stdout",
     "output_type": "stream",
     "text": [
      "1\n",
      "4\n",
      "9\n",
      "16\n",
      "25\n"
     ]
    }
   ],
   "source": [
    "# Example 4: set\n",
    "set_var = {1, 2, 3, 4, 5}\n",
    "\n",
    "for item in set_var:\n",
    "    print(item * item)"
   ]
  },
  {
   "cell_type": "code",
   "execution_count": 5,
   "id": "d888adb1",
   "metadata": {},
   "outputs": [
    {
     "name": "stdout",
     "output_type": "stream",
     "text": [
      "1\n",
      "4\n",
      "9\n",
      "16\n",
      "25\n",
      "36\n",
      "49\n"
     ]
    }
   ],
   "source": [
    "# Example 5: dictionary\n",
    "dict_var = {1:\"sunday\", 2:\"monday\", 3:\"tuesday\", 4:\"wednesday\", 5:\"thursday\", 6:\"friday\", 7:\"saturday\"}\n",
    "\n",
    "for item in dict_var:\n",
    "    print(item * item)"
   ]
  },
  {
   "cell_type": "code",
   "execution_count": 6,
   "id": "9cbb347f",
   "metadata": {},
   "outputs": [
    {
     "name": "stdout",
     "output_type": "stream",
     "text": [
      "1\n",
      "sunday\n",
      "===========================\n",
      "2\n",
      "monday\n",
      "===========================\n",
      "3\n",
      "tuesday\n",
      "===========================\n",
      "4\n",
      "wednesday\n",
      "===========================\n",
      "5\n",
      "thursday\n",
      "===========================\n",
      "6\n",
      "friday\n",
      "===========================\n",
      "7\n",
      "saturday\n",
      "===========================\n"
     ]
    }
   ],
   "source": [
    "for key, value in dict_var.items():\n",
    "    print(key)\n",
    "    print(value)\n",
    "    print(\"===========================\")"
   ]
  },
  {
   "cell_type": "code",
   "execution_count": 7,
   "id": "d34f70e7",
   "metadata": {},
   "outputs": [
    {
     "name": "stdout",
     "output_type": "stream",
     "text": [
      "list1_item: 1 and list2_item: 5\n",
      "list1_item: 1 and list2_item: 6\n",
      "list1_item: 1 and list2_item: 7\n",
      "list1_item: 1 and list2_item: 8\n",
      "==============================\n",
      "list1_item: 2 and list2_item: 5\n",
      "list1_item: 2 and list2_item: 6\n",
      "list1_item: 2 and list2_item: 7\n",
      "list1_item: 2 and list2_item: 8\n",
      "==============================\n",
      "list1_item: 3 and list2_item: 5\n",
      "list1_item: 3 and list2_item: 6\n",
      "list1_item: 3 and list2_item: 7\n",
      "list1_item: 3 and list2_item: 8\n",
      "==============================\n",
      "list1_item: 4 and list2_item: 5\n",
      "list1_item: 4 and list2_item: 6\n",
      "list1_item: 4 and list2_item: 7\n",
      "list1_item: 4 and list2_item: 8\n",
      "==============================\n"
     ]
    }
   ],
   "source": [
    "# Nested 'for' loops\n",
    "\n",
    "list1 = [1, 2, 3, 4]\n",
    "list2 = [5, 6, 7, 8]\n",
    "\n",
    "for item1 in list1:\n",
    "    for item2 in list2:\n",
    "        print(f\"list1_item: {item1} and list2_item: {item2}\")\n",
    "    print(\"==============================\")"
   ]
  },
  {
   "cell_type": "code",
   "execution_count": 14,
   "id": "f364efdf",
   "metadata": {},
   "outputs": [
    {
     "name": "stdout",
     "output_type": "stream",
     "text": [
      "1\n",
      "2\n"
     ]
    }
   ],
   "source": [
    "list_break = [1, 2, 3, 4]\n",
    "count = 0\n",
    "for item in list_break:\n",
    "    print(item)\n",
    "    count = count + 1\n",
    "    if count > 1:\n",
    "        break"
   ]
  },
  {
   "cell_type": "code",
   "execution_count": 15,
   "id": "64666403",
   "metadata": {},
   "outputs": [
    {
     "name": "stdout",
     "output_type": "stream",
     "text": [
      "1\n"
     ]
    }
   ],
   "source": [
    "for item in list_break:\n",
    "    print(item)\n",
    "    break"
   ]
  },
  {
   "cell_type": "markdown",
   "id": "94351752",
   "metadata": {},
   "source": [
    "---"
   ]
  },
  {
   "cell_type": "markdown",
   "id": "c7d8162a",
   "metadata": {},
   "source": [
    "# B. 'while' loop\n",
    "\n",
    "#### Format:\n",
    "<pre>\n",
    "while {{insert_condition}}:\n",
    "    {{your_logic_code}}\n",
    "    {{loop_breaker}}\n",
    "</pre>    \n",
    "'while' loop keeps on running as long as the condition is met.<br>\n",
    "If the code which does not break the condition is not entered, the while loop goes into a perpetual loop which is undesired."
   ]
  },
  {
   "cell_type": "code",
   "execution_count": 8,
   "id": "9bb1b58a",
   "metadata": {},
   "outputs": [
    {
     "name": "stdout",
     "output_type": "stream",
     "text": [
      "1\n",
      "2\n",
      "3\n",
      "4\n",
      "5\n",
      "6\n",
      "7\n",
      "8\n",
      "9\n",
      "10\n"
     ]
    }
   ],
   "source": [
    "# Example 1:\n",
    "\n",
    "num_var = 0\n",
    "\n",
    "while num_var < 10:\n",
    "    num_var = num_var + 1\n",
    "    print(num_var)"
   ]
  },
  {
   "cell_type": "code",
   "execution_count": 11,
   "id": "b630b33f",
   "metadata": {},
   "outputs": [
    {
     "name": "stdout",
     "output_type": "stream",
     "text": [
      "Success a\n",
      "Success e\n",
      "Success i\n",
      "Success o\n"
     ]
    }
   ],
   "source": [
    "# Example 2:\n",
    "\n",
    "list_while = [\"a\", \"e\", \"i\", \"o\", \"u\"]\n",
    "\n",
    "test_str = \"aeiolmua\"\n",
    "index = 0\n",
    "while test_str[index] in list_while:\n",
    "    print(\"Success \" + test_str[index])\n",
    "    index = index + 1"
   ]
  },
  {
   "cell_type": "code",
   "execution_count": 12,
   "id": "f74f21e8",
   "metadata": {},
   "outputs": [
    {
     "name": "stdout",
     "output_type": "stream",
     "text": [
      "1\n",
      "2\n",
      "3\n",
      "4\n",
      "5\n",
      "6\n",
      "7\n",
      "8\n",
      "9\n",
      "10\n"
     ]
    }
   ],
   "source": [
    "number = 1\n",
    "\n",
    "while True:\n",
    "    print(number)\n",
    "    number = number + 1\n",
    "    if number > 10:\n",
    "        break"
   ]
  },
  {
   "cell_type": "markdown",
   "id": "ca6ed233",
   "metadata": {},
   "source": [
    "---"
   ]
  },
  {
   "cell_type": "markdown",
   "id": "97d17a95",
   "metadata": {},
   "source": [
    "# C. 'list' and 'dictionary' comprehension"
   ]
  },
  {
   "cell_type": "markdown",
   "id": "857ca75b",
   "metadata": {},
   "source": [
    "### 1. *list* comprehension"
   ]
  },
  {
   "cell_type": "code",
   "execution_count": 17,
   "id": "4f855735",
   "metadata": {},
   "outputs": [
    {
     "data": {
      "text/plain": [
       "[4, 16, 36]"
      ]
     },
     "execution_count": 17,
     "metadata": {},
     "output_type": "execute_result"
    }
   ],
   "source": [
    "list_var = [1, 2, 3, 4, 5, 6]\n",
    "list_comp = [item*item for item in list_var if item%2 == 0]\n",
    "\n",
    "list_comp"
   ]
  },
  {
   "cell_type": "code",
   "execution_count": null,
   "id": "6a5b3b6e",
   "metadata": {},
   "outputs": [],
   "source": []
  },
  {
   "cell_type": "markdown",
   "id": "8f2a57b0",
   "metadata": {},
   "source": [
    "### 2. *dictionary* comprehension"
   ]
  },
  {
   "cell_type": "code",
   "execution_count": 21,
   "id": "3d47f5af",
   "metadata": {},
   "outputs": [
    {
     "data": {
      "text/plain": [
       "{1: 'sundaysunday',\n",
       " 4: 'mondaymonday',\n",
       " 9: 'tuesdaytuesday',\n",
       " 16: 'wednesdaywednesday',\n",
       " 25: 'thursdaythursday',\n",
       " 36: 'fridayfriday',\n",
       " 49: 'saturdaysaturday'}"
      ]
     },
     "execution_count": 21,
     "metadata": {},
     "output_type": "execute_result"
    }
   ],
   "source": [
    "dict_var = {1:\"sunday\", 2:\"monday\", 3:\"tuesday\", 4:\"wednesday\", 5:\"thursday\", 6:\"friday\", 7:\"saturday\"}\n",
    "dict_comp = {key*key:value*2 for key, value in dict_var.items()}\n",
    "dict_comp"
   ]
  },
  {
   "cell_type": "code",
   "execution_count": 22,
   "id": "94a68d63",
   "metadata": {},
   "outputs": [
    {
     "data": {
      "text/plain": [
       "['sunday', 'monday', 'tuesday', 'wednesday', 'thursday', 'friday', 'saturday']"
      ]
     },
     "execution_count": 22,
     "metadata": {},
     "output_type": "execute_result"
    }
   ],
   "source": [
    "dict_comp2 = [value for key, value in dict_var.items()]\n",
    "dict_comp2"
   ]
  },
  {
   "cell_type": "markdown",
   "id": "5a14dc67",
   "metadata": {},
   "source": [
    "---"
   ]
  },
  {
   "cell_type": "markdown",
   "id": "bb9761c1",
   "metadata": {},
   "source": [
    "END of the Notebook<br>\n",
    "Author: Shounak Deshpande (shounak.python@gmail.com)<br>\n",
    "Youtube: https://www.youtube.com/channel/UCpODmuqv_ljQ_vMYwO71a_g"
   ]
  }
 ],
 "metadata": {
  "kernelspec": {
   "display_name": "Python 3 (ipykernel)",
   "language": "python",
   "name": "python3"
  },
  "language_info": {
   "codemirror_mode": {
    "name": "ipython",
    "version": 3
   },
   "file_extension": ".py",
   "mimetype": "text/x-python",
   "name": "python",
   "nbconvert_exporter": "python",
   "pygments_lexer": "ipython3",
   "version": "3.9.13"
  }
 },
 "nbformat": 4,
 "nbformat_minor": 5
}
