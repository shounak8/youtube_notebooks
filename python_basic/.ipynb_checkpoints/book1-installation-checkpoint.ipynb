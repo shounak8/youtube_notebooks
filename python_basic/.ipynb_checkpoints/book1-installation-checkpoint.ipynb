{
 "cells": [
  {
   "cell_type": "markdown",
   "id": "83889712",
   "metadata": {},
   "source": [
    "# Video Content:\n",
    "1. Installation\n",
    "    * Link for Anaconda-Jupyter Installation: https://www.anaconda.com/products/distribution\n",
    "    * Link for Python Installation: https://www.python.org/downloads/\n",
    "    * Link for PyCharm Installation: https://www.jetbrains.com/help/pycharm/installation-guide.html\n",
    "    * Link for VS Code Installation: https://code.visualstudio.com/download\n",
    "<br><br>\n",
    "2. Adding Python and Pip path to environment variables\n",
    "3. Creating Virtual Environment"
   ]
  },
  {
   "cell_type": "markdown",
   "id": "52e92fb3",
   "metadata": {},
   "source": [
    "---"
   ]
  },
  {
   "cell_type": "markdown",
   "id": "db247aa1",
   "metadata": {},
   "source": [
    "END of the Notebook<br>\n",
    "Author: Shounak Deshpande (shounak.python@gmail.com)<br>\n",
    "Youtube: https://www.youtube.com/channel/UCpODmuqv_ljQ_vMYwO71a_g"
   ]
  }
 ],
 "metadata": {
  "kernelspec": {
   "display_name": "Python 3 (ipykernel)",
   "language": "python",
   "name": "python3"
  },
  "language_info": {
   "codemirror_mode": {
    "name": "ipython",
    "version": 3
   },
   "file_extension": ".py",
   "mimetype": "text/x-python",
   "name": "python",
   "nbconvert_exporter": "python",
   "pygments_lexer": "ipython3",
   "version": "3.9.13"
  }
 },
 "nbformat": 4,
 "nbformat_minor": 5
}
