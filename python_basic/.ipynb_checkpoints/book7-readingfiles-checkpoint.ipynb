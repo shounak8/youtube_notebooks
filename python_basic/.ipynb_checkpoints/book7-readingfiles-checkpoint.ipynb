{
 "cells": [
  {
   "cell_type": "markdown",
   "id": "1370b363",
   "metadata": {},
   "source": [
    "# Reading & Writing files using:\n",
    "1. Python I/O\n",
    "2. Pandas\n",
    "3. JSON\n",
    "4. Pickle"
   ]
  },
  {
   "cell_type": "markdown",
   "id": "f48b07ec",
   "metadata": {},
   "source": [
    "# 1. Python I/O\n",
    "Basic python utility used to read text/binary files"
   ]
  },
  {
   "cell_type": "markdown",
   "id": "0d100c54",
   "metadata": {},
   "source": [
    "### 1.a Using 'with' (Preferred)\n",
    "\n",
    "#### Format:\n",
    "\n",
    "A. For Read, we use 'r' to read.\n",
    "<pre>\n",
    "with open('file_name','r') as file_variable:\n",
    "    print(file_variable.readlines())\n",
    "    print(file_variable.readline())\n",
    "    </pre>\n",
    "    \n",
    "   --- \n",
    "B. For Writing, we use 'w' to write and 'a' to append.\n",
    "\n",
    "'w' will replace the existing contents of the file with the new content that you pass.\n",
    "<pre>\n",
    "with open('file_name','w') as file_variable:\n",
    "  file_variable.write(text_content)\n",
    "    </pre>\n",
    "    \n",
    "'a' will append the existing contents of the file with the new content that you pass.\n",
    "<pre>\n",
    "with open('file_name','a') as file_variable:\n",
    "  file_variable.write(text_content)\n",
    "    </pre>\n",
    "    \n",
    "---\n",
    "\n",
    "#### Reading & writing binary files\n",
    "The process remains same as above, you just have to add 'b' to the existing 'r', 'w' or 'a'.\n",
    "Formats:\n",
    "\n",
    "*Read*\n",
    "<pre>\n",
    "with open('file_name','rb') as file_variable:\n",
    "    print(file_variable.readlines())\n",
    "    print(file_variable.readline())\n",
    "    </pre>\n",
    "    \n",
    "*Write*\n",
    "<pre>\n",
    "with open('file_name','wb') as file_variable:\n",
    "  file_variable.write(text_content)\n",
    "    </pre>\n",
    "    \n",
    "*Append*\n",
    "<pre>\n",
    "with open('file_name','ab') as file_variable:\n",
    "  file_variable.write(text_content)\n",
    "    </pre>"
   ]
  },
  {
   "cell_type": "code",
   "execution_count": null,
   "id": "2021abe2",
   "metadata": {},
   "outputs": [],
   "source": [
    "# Read Example\n",
    "\n",
    "# Read single line\n"
   ]
  },
  {
   "cell_type": "code",
   "execution_count": null,
   "id": "884681b8",
   "metadata": {},
   "outputs": [],
   "source": [
    "# Read all the lines\n"
   ]
  },
  {
   "cell_type": "code",
   "execution_count": null,
   "id": "2345eda2",
   "metadata": {},
   "outputs": [],
   "source": [
    "# Write Example\n"
   ]
  },
  {
   "cell_type": "code",
   "execution_count": null,
   "id": "e55351ac",
   "metadata": {},
   "outputs": [],
   "source": [
    "# Append Example\n"
   ]
  },
  {
   "cell_type": "markdown",
   "id": "a0d11061",
   "metadata": {},
   "source": [
    "### 1.b Creating file object (NOT preferred)\n",
    "\n",
    "#### Format:\n",
    "*Read*\n",
    "<pre>\n",
    "file_obj = open('file_name', 'r')\n",
    "print(file_obj.readlines())\n",
    "file_obj.close()\n",
    "</pre>\n",
    "    \n",
    "*Write*\n",
    "<pre>\n",
    "file_obj = open('file_name', 'w')\n",
    "file_obj.write(text_content)\n",
    "file_obj.close()\n",
    "</pre>\n",
    "\n",
    "*Append*\n",
    "<pre>\n",
    "file_obj = open('file_name', 'a')\n",
    "file_obj.write(text_content)\n",
    "file_obj.close()\n",
    "</pre>"
   ]
  },
  {
   "cell_type": "code",
   "execution_count": 50,
   "id": "2022dd6f",
   "metadata": {},
   "outputs": [
    {
     "name": "stdout",
     "output_type": "stream",
     "text": [
      "['My name is Shounak.\\n', \"This channel's name is Indomiatble Tech.\\n\", 'I enjoy playing Starcraft.']\n"
     ]
    }
   ],
   "source": [
    "# Read Example\n",
    "\n",
    "# Raad single line\n"
   ]
  },
  {
   "cell_type": "code",
   "execution_count": null,
   "id": "975d2812",
   "metadata": {},
   "outputs": [],
   "source": [
    "# Read all the lines\n"
   ]
  },
  {
   "cell_type": "code",
   "execution_count": null,
   "id": "98974e0e",
   "metadata": {},
   "outputs": [],
   "source": [
    "# Write Example\n"
   ]
  },
  {
   "cell_type": "code",
   "execution_count": null,
   "id": "22c69821",
   "metadata": {},
   "outputs": [],
   "source": [
    "# Append Example\n"
   ]
  },
  {
   "cell_type": "markdown",
   "id": "2a0d44a2",
   "metadata": {},
   "source": [
    "# 2. Pandas \n",
    "Popularly used to work with spreadsheets and tabular data (csv/excel as well as other data like JSON)"
   ]
  },
  {
   "cell_type": "markdown",
   "id": "951f407c",
   "metadata": {},
   "source": [
    "### Read data"
   ]
  },
  {
   "cell_type": "code",
   "execution_count": 51,
   "id": "7f6d0b53",
   "metadata": {},
   "outputs": [],
   "source": [
    "import pandas as pd"
   ]
  },
  {
   "cell_type": "code",
   "execution_count": null,
   "id": "a5bf81ea",
   "metadata": {},
   "outputs": [],
   "source": [
    "# Read csv\n"
   ]
  },
  {
   "cell_type": "code",
   "execution_count": null,
   "id": "d79fb03e",
   "metadata": {},
   "outputs": [],
   "source": [
    "# Read excel\n"
   ]
  },
  {
   "cell_type": "markdown",
   "id": "6f5f4229",
   "metadata": {},
   "source": [
    "### Write data"
   ]
  },
  {
   "cell_type": "code",
   "execution_count": 53,
   "id": "2eb803b8",
   "metadata": {},
   "outputs": [],
   "source": [
    "demo_dataframe = pd.DataFrame({\n",
    "    \"col1\":range(5),\n",
    "    \"col2\":range(5,10),\n",
    "    \"col3\":range(10,15),\n",
    "})"
   ]
  },
  {
   "cell_type": "code",
   "execution_count": 56,
   "id": "96a0e6d7",
   "metadata": {},
   "outputs": [],
   "source": [
    "demo_dataframe.to_csv('temp.json')"
   ]
  },
  {
   "cell_type": "code",
   "execution_count": null,
   "id": "434a02f1",
   "metadata": {},
   "outputs": [],
   "source": []
  },
  {
   "cell_type": "markdown",
   "id": "f43591d5",
   "metadata": {},
   "source": [
    "# 3. JSON\n",
    "Used to read and write JSON files"
   ]
  },
  {
   "cell_type": "code",
   "execution_count": null,
   "id": "9bb1b58a",
   "metadata": {},
   "outputs": [],
   "source": []
  },
  {
   "cell_type": "markdown",
   "id": "0c0534ff",
   "metadata": {},
   "source": [
    "# 4. Pickle\n",
    "Used to save data objects in pickle format"
   ]
  },
  {
   "cell_type": "code",
   "execution_count": null,
   "id": "5e6a1cbf",
   "metadata": {},
   "outputs": [],
   "source": []
  },
  {
   "cell_type": "markdown",
   "id": "ca6ed233",
   "metadata": {},
   "source": [
    "---"
   ]
  },
  {
   "cell_type": "markdown",
   "id": "bb9761c1",
   "metadata": {},
   "source": [
    "END of the Notebook<br>\n",
    "Author: Shounak Deshpande (shounak.python@gmail.com)<br>\n",
    "Youtube: https://www.youtube.com/channel/UCpODmuqv_ljQ_vMYwO71a_g"
   ]
  }
 ],
 "metadata": {
  "kernelspec": {
   "display_name": "Python 3 (ipykernel)",
   "language": "python",
   "name": "python3"
  },
  "language_info": {
   "codemirror_mode": {
    "name": "ipython",
    "version": 3
   },
   "file_extension": ".py",
   "mimetype": "text/x-python",
   "name": "python",
   "nbconvert_exporter": "python",
   "pygments_lexer": "ipython3",
   "version": "3.9.13"
  }
 },
 "nbformat": 4,
 "nbformat_minor": 5
}
