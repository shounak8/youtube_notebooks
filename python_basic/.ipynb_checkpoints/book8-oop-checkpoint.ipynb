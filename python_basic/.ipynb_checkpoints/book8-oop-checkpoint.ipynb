{
 "cells": [
  {
   "cell_type": "markdown",
   "id": "db429496",
   "metadata": {},
   "source": [
    "# Object Oriented Programming\n",
    "OOP is coding based on creating object and then designing methods based around that object\n",
    "\n",
    "**Usage:**<br>\n",
    "    * When you are dealing with a variety of functions relating to each other <br>\n",
    "    * When you want to execute a series of same functions but on list of different objects <br>\n",
    "    * Used in AIML, API creation, etc."
   ]
  },
  {
   "cell_type": "markdown",
   "id": "0615e01c",
   "metadata": {},
   "source": [
    "# 1. Without constructing object"
   ]
  },
  {
   "cell_type": "code",
   "execution_count": 1,
   "id": "82e99692",
   "metadata": {},
   "outputs": [],
   "source": [
    "# create class simple class\n",
    "class SimpleClass:\n",
    "    def add(a, b):\n",
    "        return a+b\n",
    "    def subtract(a, b):\n",
    "        return a-b\n",
    "    def multiple(a, b):\n",
    "        return a*b"
   ]
  },
  {
   "cell_type": "code",
   "execution_count": 2,
   "id": "04fbccf7",
   "metadata": {},
   "outputs": [
    {
     "name": "stdout",
     "output_type": "stream",
     "text": [
      "6\n"
     ]
    }
   ],
   "source": [
    "maths_simple = SimpleClass\n",
    "\n",
    "print(maths_simple.add(a=2, b = 4))"
   ]
  },
  {
   "cell_type": "code",
   "execution_count": 3,
   "id": "7222178a",
   "metadata": {},
   "outputs": [
    {
     "data": {
      "text/plain": [
       "2"
      ]
     },
     "execution_count": 3,
     "metadata": {},
     "output_type": "execute_result"
    }
   ],
   "source": [
    "maths_simple.subtract(a = 5, b = 3)"
   ]
  },
  {
   "cell_type": "code",
   "execution_count": 4,
   "id": "a6223b7f",
   "metadata": {},
   "outputs": [
    {
     "data": {
      "text/plain": [
       "2"
      ]
     },
     "execution_count": 4,
     "metadata": {},
     "output_type": "execute_result"
    }
   ],
   "source": [
    "maths_simple.multiple(a=1, b=2)"
   ]
  },
  {
   "cell_type": "markdown",
   "id": "50c62c74",
   "metadata": {},
   "source": [
    "# 2. With Constructing Object"
   ]
  },
  {
   "cell_type": "code",
   "execution_count": 19,
   "id": "9bb1b58a",
   "metadata": {},
   "outputs": [],
   "source": [
    "# create class with initiator and consstruct the object\n",
    "class WithObject:\n",
    "    def __init__(self, a, b):\n",
    "        self.a = a\n",
    "        self.b = b\n",
    "        \n",
    "    def add(self):\n",
    "        return self.a + self.b\n",
    "    def subtract(self):\n",
    "        return self.a - self.b\n",
    "    def multiple(self):\n",
    "        return self.a * self.b\n",
    "    \n",
    "    def __str__(self):\n",
    "        return f\"a = {self.a}, b = {self.b}\""
   ]
  },
  {
   "cell_type": "code",
   "execution_count": 20,
   "id": "f4a3d941",
   "metadata": {},
   "outputs": [],
   "source": [
    "simple_object = WithObject(a = 5, b = 3)"
   ]
  },
  {
   "cell_type": "code",
   "execution_count": 11,
   "id": "b2885ec2",
   "metadata": {},
   "outputs": [
    {
     "data": {
      "text/plain": [
       "15"
      ]
     },
     "execution_count": 11,
     "metadata": {},
     "output_type": "execute_result"
    }
   ],
   "source": [
    "simple_object.multiple()"
   ]
  },
  {
   "cell_type": "code",
   "execution_count": 21,
   "id": "01325ab5",
   "metadata": {},
   "outputs": [
    {
     "name": "stdout",
     "output_type": "stream",
     "text": [
      "a = 5, b = 3\n"
     ]
    }
   ],
   "source": [
    "print(simple_object)"
   ]
  },
  {
   "cell_type": "code",
   "execution_count": 22,
   "id": "69c23b76",
   "metadata": {},
   "outputs": [],
   "source": [
    "second_object = WithObject(a = 10, b = 1)"
   ]
  },
  {
   "cell_type": "code",
   "execution_count": 23,
   "id": "37c82320",
   "metadata": {},
   "outputs": [
    {
     "name": "stdout",
     "output_type": "stream",
     "text": [
      "a = 10, b = 1\n"
     ]
    }
   ],
   "source": [
    "print(second_object)"
   ]
  },
  {
   "cell_type": "code",
   "execution_count": 26,
   "id": "066cd491",
   "metadata": {},
   "outputs": [
    {
     "data": {
      "text/plain": [
       "9"
      ]
     },
     "execution_count": 26,
     "metadata": {},
     "output_type": "execute_result"
    }
   ],
   "source": [
    "second_object.subtract()"
   ]
  },
  {
   "cell_type": "markdown",
   "id": "df4bd71d",
   "metadata": {},
   "source": [
    "# 3. Class Inheritance"
   ]
  },
  {
   "cell_type": "code",
   "execution_count": 27,
   "id": "c04595b0",
   "metadata": {},
   "outputs": [],
   "source": [
    "# Inherit the above class\n",
    "class ChildClass(WithObject):\n",
    "    def __init__(self, a, b):\n",
    "        self.a = a\n",
    "        self.b = b\n",
    "        \n",
    "    def divide(self):\n",
    "        return self.a / self.b"
   ]
  },
  {
   "cell_type": "code",
   "execution_count": 28,
   "id": "7494f17f",
   "metadata": {},
   "outputs": [],
   "source": [
    "child_obj = ChildClass(a = 7, b = 3)"
   ]
  },
  {
   "cell_type": "code",
   "execution_count": 30,
   "id": "ebf77aab",
   "metadata": {},
   "outputs": [
    {
     "data": {
      "text/plain": [
       "3"
      ]
     },
     "execution_count": 30,
     "metadata": {},
     "output_type": "execute_result"
    }
   ],
   "source": [
    "child_obj.b"
   ]
  },
  {
   "cell_type": "code",
   "execution_count": 33,
   "id": "37d06cb5",
   "metadata": {},
   "outputs": [
    {
     "data": {
      "text/plain": [
       "2.3333333333333335"
      ]
     },
     "execution_count": 33,
     "metadata": {},
     "output_type": "execute_result"
    }
   ],
   "source": [
    "child_obj.divide()"
   ]
  },
  {
   "cell_type": "markdown",
   "id": "ca6ed233",
   "metadata": {},
   "source": [
    "---"
   ]
  },
  {
   "cell_type": "markdown",
   "id": "bb9761c1",
   "metadata": {},
   "source": [
    "END of the Notebook<br>\n",
    "Author: Shounak Deshpande (shounak.python@gmail.com)<br>\n",
    "Youtube: https://www.youtube.com/channel/UCpODmuqv_ljQ_vMYwO71a_g"
   ]
  }
 ],
 "metadata": {
  "kernelspec": {
   "display_name": "Python 3 (ipykernel)",
   "language": "python",
   "name": "python3"
  },
  "language_info": {
   "codemirror_mode": {
    "name": "ipython",
    "version": 3
   },
   "file_extension": ".py",
   "mimetype": "text/x-python",
   "name": "python",
   "nbconvert_exporter": "python",
   "pygments_lexer": "ipython3",
   "version": "3.9.13"
  }
 },
 "nbformat": 4,
 "nbformat_minor": 5
}
