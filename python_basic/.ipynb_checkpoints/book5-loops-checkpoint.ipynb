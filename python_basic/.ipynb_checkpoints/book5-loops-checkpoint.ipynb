{
 "cells": [
  {
   "cell_type": "markdown",
   "id": "49b8b1de",
   "metadata": {},
   "source": [
    "# Contents:\n",
    "    \n",
    "## A. 'for' loop\n",
    "## B. 'while' loop\n",
    "## C. 'list' and 'dictionary' comprehension"
   ]
  },
  {
   "cell_type": "markdown",
   "id": "3e5cd7df",
   "metadata": {},
   "source": [
    "---"
   ]
  },
  {
   "cell_type": "markdown",
   "id": "60a48d6a",
   "metadata": {},
   "source": [
    "# A. 'for' loop\n",
    "\n",
    "\n",
    "#### Format:\n",
    "`for individual_item in iterative_object(iterative object can be list/dictionary/tuple/string):\n",
    "    <<insert code actions on individual_item>>`\n",
    "    \n",
    "'for' loop iterates over an iterable object    "
   ]
  },
  {
   "cell_type": "code",
   "execution_count": 1,
   "id": "794ba7b2",
   "metadata": {},
   "outputs": [
    {
     "name": "stdout",
     "output_type": "stream",
     "text": [
      "H\n",
      "i\n",
      "p\n",
      "p\n",
      "o\n",
      "p\n",
      "o\n",
      "t\n",
      "a\n",
      "m\n",
      "u\n",
      "s\n"
     ]
    }
   ],
   "source": [
    "# Example 1: string\n",
    "str_var = \"Red pandas are cute\"\n"
   ]
  },
  {
   "cell_type": "code",
   "execution_count": 2,
   "id": "7f6d0b53",
   "metadata": {},
   "outputs": [
    {
     "name": "stdout",
     "output_type": "stream",
     "text": [
      "1\n",
      "4\n",
      "6\n",
      "8\n",
      "12\n",
      "17\n",
      "99\n"
     ]
    }
   ],
   "source": [
    "# Example 2: list\n",
    "list_var = [1, 2, 3, 4, 5]\n"
   ]
  },
  {
   "cell_type": "code",
   "execution_count": 3,
   "id": "06e08c59",
   "metadata": {},
   "outputs": [
    {
     "name": "stdout",
     "output_type": "stream",
     "text": [
      "1\n",
      "4\n",
      "6\n",
      "8\n",
      "12\n",
      "17\n",
      "99\n"
     ]
    }
   ],
   "source": [
    "# Example 3: tuple\n",
    "tuple_var = (1, 2, 3, 4, 5)\n"
   ]
  },
  {
   "cell_type": "code",
   "execution_count": 4,
   "id": "761e2b86",
   "metadata": {},
   "outputs": [
    {
     "name": "stdout",
     "output_type": "stream",
     "text": [
      "1\n",
      "99\n",
      "4\n",
      "6\n",
      "8\n",
      "12\n",
      "17\n"
     ]
    }
   ],
   "source": [
    "# Example 4: set\n",
    "set_var = {1, 2, 3, 4, 5}\n"
   ]
  },
  {
   "cell_type": "code",
   "execution_count": 7,
   "id": "d888adb1",
   "metadata": {},
   "outputs": [
    {
     "name": "stdout",
     "output_type": "stream",
     "text": [
      "1\n",
      "2\n",
      "3\n"
     ]
    }
   ],
   "source": [
    "# Example 5: dictionary\n",
    "dict_var = {1:\"sunday\", 2:\"monday\", 3:\"tuesday\", 4:\"wednesday\", 5:\"thursday\", 6:\"friday\", 7:\"saturday\"}\n"
   ]
  },
  {
   "cell_type": "markdown",
   "id": "94351752",
   "metadata": {},
   "source": [
    "---"
   ]
  },
  {
   "cell_type": "markdown",
   "id": "c7d8162a",
   "metadata": {},
   "source": [
    "# B. 'while' loop\n",
    "\n",
    "#### Format:\n",
    "`while <<insert condition>>:\n",
    "    <<insert code>>\n",
    "    <<insert code which will break the condition>>`\n",
    "    \n",
    "'while' loop keeps on running as long as the condition is met.\n",
    "If the code which does not break the condition is not entered, the while loop goes into a perpetual loop which is undesired."
   ]
  },
  {
   "cell_type": "code",
   "execution_count": 11,
   "id": "9bb1b58a",
   "metadata": {},
   "outputs": [],
   "source": [
    "# Example 1:\n",
    "\n"
   ]
  },
  {
   "cell_type": "code",
   "execution_count": 12,
   "id": "b630b33f",
   "metadata": {},
   "outputs": [],
   "source": [
    "# Example 2:\n",
    "\n"
   ]
  },
  {
   "cell_type": "markdown",
   "id": "ca6ed233",
   "metadata": {},
   "source": [
    "---"
   ]
  },
  {
   "cell_type": "markdown",
   "id": "97d17a95",
   "metadata": {},
   "source": [
    "# C. 'list' and 'dictionary' comprehension"
   ]
  },
  {
   "cell_type": "markdown",
   "id": "857ca75b",
   "metadata": {},
   "source": [
    "### 1. *list* comprehension"
   ]
  },
  {
   "cell_type": "code",
   "execution_count": 17,
   "id": "4f855735",
   "metadata": {},
   "outputs": [],
   "source": [
    "list_var = [1, 2, 3, 4, 5, 6]\n"
   ]
  },
  {
   "cell_type": "code",
   "execution_count": null,
   "id": "6a5b3b6e",
   "metadata": {},
   "outputs": [],
   "source": []
  },
  {
   "cell_type": "markdown",
   "id": "8f2a57b0",
   "metadata": {},
   "source": [
    "### 2. *dictionary* comprehension"
   ]
  },
  {
   "cell_type": "code",
   "execution_count": 14,
   "id": "3d47f5af",
   "metadata": {},
   "outputs": [],
   "source": [
    "dict_var = {1:\"sunday\", 2:\"monday\", 3:\"tuesday\", 4:\"wednesday\", 5:\"thursday\", 6:\"friday\", 7:\"saturday\"}\n"
   ]
  },
  {
   "cell_type": "code",
   "execution_count": null,
   "id": "94a68d63",
   "metadata": {},
   "outputs": [],
   "source": []
  },
  {
   "cell_type": "markdown",
   "id": "5a14dc67",
   "metadata": {},
   "source": [
    "---"
   ]
  },
  {
   "cell_type": "markdown",
   "id": "bb9761c1",
   "metadata": {},
   "source": [
    "END of the Notebook<br>\n",
    "Author: Shounak Deshpande (shounak.python@gmail.com)<br>\n",
    "Youtube: https://www.youtube.com/channel/UCpODmuqv_ljQ_vMYwO71a_g"
   ]
  }
 ],
 "metadata": {
  "kernelspec": {
   "display_name": "Python 3 (ipykernel)",
   "language": "python",
   "name": "python3"
  },
  "language_info": {
   "codemirror_mode": {
    "name": "ipython",
    "version": 3
   },
   "file_extension": ".py",
   "mimetype": "text/x-python",
   "name": "python",
   "nbconvert_exporter": "python",
   "pygments_lexer": "ipython3",
   "version": "3.9.12"
  }
 },
 "nbformat": 4,
 "nbformat_minor": 5
}
