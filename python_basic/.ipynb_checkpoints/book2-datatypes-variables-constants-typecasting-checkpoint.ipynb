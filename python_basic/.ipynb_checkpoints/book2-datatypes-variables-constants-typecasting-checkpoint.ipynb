{
 "cells": [
  {
   "cell_type": "markdown",
   "id": "21517241",
   "metadata": {},
   "source": [
    "# Notebook Contents:\n",
    "###    1. Data Types\n",
    "###    2. Variables\n",
    "###    3. Constants\n",
    "###    4. Type Casting"
   ]
  },
  {
   "cell_type": "markdown",
   "id": "40c3f46e",
   "metadata": {},
   "source": [
    "---"
   ]
  },
  {
   "cell_type": "markdown",
   "id": "3d3b0779",
   "metadata": {},
   "source": [
    "# 1. Data Types\n",
    "<h3><strong> a. String: </strong></h3>\n",
    "<p>Any words/symbol/numbers which are inserted between SINGLE(' sample_text ') OR DOUBLE(\" sample_text \") INVERTED COMMA</p>Example:<br> \n",
    "\n",
    "`\"India is in Asia\"`, \n",
    "<br>`'It is dark at Night'`<br>\n",
    "\n",
    "<h3><strong> b. Integer: </strong></h3>\n",
    "<p>Any integer numbers (+ve, -ve and 0)</p>\n",
    "<p>Example: 1, 2, -3, 4, -9, 0 </p>\n",
    "<br>\n",
    "\n",
    "\n",
    "<h3><strong> c. Float: </strong></h3>\n",
    "<p>Numbers with decimals (numbers with decimal point/fraction in format XX.XXXX)</p>\n",
    "<p>Example: 1., 2.34, 4.56874, -3.231232, -99.1 </p>\n",
    "<br>\n",
    "\n",
    "\n",
    "<h3><strong> d. Boolean: </strong></h3>\n",
    "<p>Binary value either True or False. Usually <strong>True</strong> is considered as <strong>1</strong> and <strong>False</strong> is considered as <strong>0</strong></p>\n",
    "Example:<br>\n",
    "\n",
    "`True`, <br>\n",
    "`False`\n",
    "<br>\n",
    "\n",
    "\n",
    "<h3><strong> e. List: </strong></h3>\n",
    "<p>A mutable array or collection of elements. <br>This collection is enclosed between square brackets \"[...]\". <br>It can be a list of same data types or different.</p>\n",
    "Example: <br>\n",
    "\n",
    "`[1, 2, 3, 4]`,<br>\n",
    "`['a','b','c','d']`, <br>\n",
    "`[\"abc\", \"xyz\", 1, 3.5, True]`\n",
    "<br>\n",
    "\n",
    "<h3><strong> f. Tuple: </strong></h3>\n",
    "<p>An immutable collection of elements. <br>This collection is enclosed between round brackets \"(...)\". <br>It can be a tuple of same data types or different.</p>\n",
    "Example: Example:<br>\n",
    "    \n",
    "`(1, 2, 3, 4)`,<br> \n",
    "`('a','b','c','d')`,<br> \n",
    "`(\"abc\", \"xyz\", 1, 3.5, True)`\n",
    "<br>\n",
    "\n",
    "## Note: What is the difference between lists and tuples?\n",
    "Lists are mutable i.e. the sequence in the list can be changed, elements in the list can be changed/reassigned a new value. These things are not possible in Tuples.\n",
    "\n",
    "<h3><strong> g. Set: </strong></h3>\n",
    "<p>It is an unordered collection of unique elements enclosed in curly brackets \"{...}\"</p>\n",
    "Example:<br> \n",
    "\n",
    "`{1, 2, 3}`,<br> \n",
    "`{1, 3.5, \"element\", False}`\n",
    "<br>\n",
    "\n",
    "\n",
    "<h3><strong> h. Dictionary: </strong></h3><p>These consists of a list of <strong>KEY-VALUE</strong> pairs bound within <strong>CURLY BRACKETS ({})</strong>. <br>The KEYS need to be immutable. So LISTs and SETs can NOT be used as KEYs </p>\n",
    "Example: <br>\n",
    "\n",
    "`{1: [1,2,3], 2: [4,5,6], 3:[7,8,9]}`, <br>\n",
    "`{(\"a\",\"b\"):\"Hello\", \"c\":1234, (1,2,3):[1,2,True]}` </p>\n"
   ]
  },
  {
   "cell_type": "code",
   "execution_count": null,
   "id": "96ca3763",
   "metadata": {},
   "outputs": [],
   "source": []
  },
  {
   "cell_type": "markdown",
   "id": "c52d1d99",
   "metadata": {},
   "source": [
    "### Data Types Demo"
   ]
  },
  {
   "cell_type": "code",
   "execution_count": 3,
   "id": "a74271d8",
   "metadata": {},
   "outputs": [],
   "source": [
    "# String\n",
    "str_var = \"example of a string\""
   ]
  },
  {
   "cell_type": "code",
   "execution_count": 4,
   "id": "cab53cfd",
   "metadata": {},
   "outputs": [
    {
     "data": {
      "text/plain": [
       "str"
      ]
     },
     "execution_count": 4,
     "metadata": {},
     "output_type": "execute_result"
    }
   ],
   "source": [
    "type(str_var)"
   ]
  },
  {
   "cell_type": "code",
   "execution_count": 6,
   "id": "2a3c8904",
   "metadata": {},
   "outputs": [],
   "source": [
    "# Integer\n",
    "int_var = 22"
   ]
  },
  {
   "cell_type": "code",
   "execution_count": 7,
   "id": "17281454",
   "metadata": {},
   "outputs": [
    {
     "data": {
      "text/plain": [
       "int"
      ]
     },
     "execution_count": 7,
     "metadata": {},
     "output_type": "execute_result"
    }
   ],
   "source": [
    "type(int_var)"
   ]
  },
  {
   "cell_type": "code",
   "execution_count": 8,
   "id": "6c59538a",
   "metadata": {},
   "outputs": [],
   "source": [
    "# Float\n",
    "float_var = 33."
   ]
  },
  {
   "cell_type": "code",
   "execution_count": 9,
   "id": "2a00a65e",
   "metadata": {},
   "outputs": [
    {
     "data": {
      "text/plain": [
       "float"
      ]
     },
     "execution_count": 9,
     "metadata": {},
     "output_type": "execute_result"
    }
   ],
   "source": [
    "type(float_var)"
   ]
  },
  {
   "cell_type": "code",
   "execution_count": 10,
   "id": "bdb64ef5",
   "metadata": {},
   "outputs": [
    {
     "data": {
      "text/plain": [
       "bool"
      ]
     },
     "execution_count": 10,
     "metadata": {},
     "output_type": "execute_result"
    }
   ],
   "source": [
    "# Boolean\n",
    "bool_var = False\n",
    "\n",
    "type(bool_var)"
   ]
  },
  {
   "cell_type": "code",
   "execution_count": 11,
   "id": "8697f639",
   "metadata": {},
   "outputs": [
    {
     "data": {
      "text/plain": [
       "list"
      ]
     },
     "execution_count": 11,
     "metadata": {},
     "output_type": "execute_result"
    }
   ],
   "source": [
    "# List\n",
    "list_var = [1, 2, 3, 4]\n",
    "type(list_var)"
   ]
  },
  {
   "cell_type": "code",
   "execution_count": 12,
   "id": "36f5514e",
   "metadata": {},
   "outputs": [
    {
     "data": {
      "text/plain": [
       "tuple"
      ]
     },
     "execution_count": 12,
     "metadata": {},
     "output_type": "execute_result"
    }
   ],
   "source": [
    "# Tuple\n",
    "tup_var = (1,2,3,4)\n",
    "type(tup_var)"
   ]
  },
  {
   "cell_type": "code",
   "execution_count": 13,
   "id": "db1b4a7c",
   "metadata": {},
   "outputs": [
    {
     "data": {
      "text/plain": [
       "set"
      ]
     },
     "execution_count": 13,
     "metadata": {},
     "output_type": "execute_result"
    }
   ],
   "source": [
    "# Set\n",
    "set_var = {\"a\", 1, True}\n",
    "type(set_var)"
   ]
  },
  {
   "cell_type": "code",
   "execution_count": 73,
   "id": "f7eedda5",
   "metadata": {},
   "outputs": [
    {
     "data": {
      "text/plain": [
       "dict"
      ]
     },
     "execution_count": 73,
     "metadata": {},
     "output_type": "execute_result"
    }
   ],
   "source": [
    "# Dictionary\n",
    "dict_var = {\"a\":\"America\", \"b\":\"Ball\", \"c\":\"China\"}\n",
    "\n",
    "type(dict_var)"
   ]
  },
  {
   "cell_type": "code",
   "execution_count": 74,
   "id": "e2836819",
   "metadata": {},
   "outputs": [
    {
     "data": {
      "text/plain": [
       "'China'"
      ]
     },
     "execution_count": 74,
     "metadata": {},
     "output_type": "execute_result"
    }
   ],
   "source": [
    "dict_var[\"c\"]"
   ]
  },
  {
   "cell_type": "code",
   "execution_count": 75,
   "id": "10892869",
   "metadata": {},
   "outputs": [
    {
     "name": "stdout",
     "output_type": "stream",
     "text": [
      "China\n"
     ]
    }
   ],
   "source": [
    "print(dict_var.get(\"c\", \"Key not present\"))"
   ]
  },
  {
   "cell_type": "code",
   "execution_count": null,
   "id": "09eda6e1",
   "metadata": {},
   "outputs": [],
   "source": []
  },
  {
   "cell_type": "markdown",
   "id": "8e9d947b",
   "metadata": {},
   "source": [
    "---"
   ]
  },
  {
   "cell_type": "markdown",
   "id": "10dcf4c9",
   "metadata": {},
   "source": [
    "# 2. Variables\n",
    "\n",
    "1. A variable is a name which points towards a data/value stored.\n",
    "2. Examples:\n",
    "    * String: <br>\n",
    "    `str_var = \"What is up everyone?\"`<br><br>\n",
    "    `element1 = 'Summer is a season !'`\n",
    "    <br><br><br>\n",
    "    * Integer: <br>\n",
    "    `int_var = 765`<br><br>\n",
    "    `element2 = -50`\n",
    "    <br><br><br>\n",
    "    * Float: <br>\n",
    "    `flt_var = 765.`<br><br>\n",
    "    `element3 = -765.123`\n",
    "    <br><br><br>\n",
    "    * Boolean: <br>\n",
    "    `bool_var = True`<br><br>\n",
    "    `element4 = False`\n",
    "    <br><br><br>\n",
    "    * List: <br>\n",
    "    `list_var = [\"Sunday\", \"Monday\", \"Tuesday\", \"Wednesday\", \"Thursday\", \"Friday\", \"Saturday\"]`<br><br>\n",
    "    `element5 = [\"a\", \"c\", \"e\"]`<br><br><br>\n",
    "    * Tuple: <br>\n",
    "    `tuple_var = (\"Sunday\", \"Monday\", \"Tuesday\", \"Wednesday\", \"Thursday\", \"Friday\", \"Saturday\")`<br><br>\n",
    "    `element6 = (False,)`<br><br><br>\n",
    "    * Set: <br>\n",
    "    `set_var = {'Friday', 'Monday', 'Saturday', 'Sunday', 'Thursday', 'Tuesday', 'Wednesday'}`<br><br>\n",
    "    `element7 = {1, 2, 3, 4}`<br><br><br>\n",
    "    * Dictionary: <br>\n",
    "    `dict_var = {1:\"Sunday\", 2:\"Monday\", 3:\"Tuesday\", 4:\"Wednesday\", 5:\"Thursday\", 6:\"Friday\", 7:\"Saturday\"}`<br><br>\n",
    "    `element8 = {\"a\":[1,2,3], \"b\":[4, 5, 6]}`\n",
    "<br>"
   ]
  },
  {
   "cell_type": "markdown",
   "id": "07091e73",
   "metadata": {},
   "source": [
    "### Variables Demo"
   ]
  },
  {
   "cell_type": "code",
   "execution_count": 19,
   "id": "b630b33f",
   "metadata": {},
   "outputs": [
    {
     "name": "stdout",
     "output_type": "stream",
     "text": [
      "Hello World\n"
     ]
    }
   ],
   "source": [
    "# String Variables\n",
    "str_var = \"Hello\"\n",
    "\n",
    "# f-string\n",
    "fstring_example = f\"{str_var} World\"\n",
    "print(fstring_example)"
   ]
  },
  {
   "cell_type": "code",
   "execution_count": 21,
   "id": "f3e267ca",
   "metadata": {},
   "outputs": [
    {
     "name": "stdout",
     "output_type": "stream",
     "text": [
      "55\n"
     ]
    }
   ],
   "source": [
    "# Integer Variables\n",
    "ex_2 = 55\n",
    "\n",
    "print(ex_2)"
   ]
  },
  {
   "cell_type": "code",
   "execution_count": 22,
   "id": "0032204f",
   "metadata": {},
   "outputs": [
    {
     "name": "stdout",
     "output_type": "stream",
     "text": [
      "55.0\n"
     ]
    }
   ],
   "source": [
    "# Float Variables\n",
    "ex3 = 55.\n",
    "\n",
    "print(ex3)"
   ]
  },
  {
   "cell_type": "code",
   "execution_count": 23,
   "id": "e56abc75",
   "metadata": {},
   "outputs": [
    {
     "name": "stdout",
     "output_type": "stream",
     "text": [
      "False\n"
     ]
    }
   ],
   "source": [
    "# Boolean Variables\n",
    "ex4 = False\n",
    "\n",
    "print(ex4)"
   ]
  },
  {
   "cell_type": "code",
   "execution_count": 24,
   "id": "6e0cc8bf",
   "metadata": {},
   "outputs": [
    {
     "data": {
      "text/plain": [
       "bool"
      ]
     },
     "execution_count": 24,
     "metadata": {},
     "output_type": "execute_result"
    }
   ],
   "source": [
    "type(ex4)"
   ]
  },
  {
   "cell_type": "code",
   "execution_count": 25,
   "id": "9e5e051b",
   "metadata": {},
   "outputs": [
    {
     "name": "stdout",
     "output_type": "stream",
     "text": [
      "['a', 'b', 'c']\n"
     ]
    }
   ],
   "source": [
    "# List Variables\n",
    "ex5 = [\"a\", \"b\", \"c\"]\n",
    "\n",
    "print(ex5)"
   ]
  },
  {
   "cell_type": "code",
   "execution_count": 27,
   "id": "da705a1c",
   "metadata": {},
   "outputs": [
    {
     "name": "stdout",
     "output_type": "stream",
     "text": [
      "(1, 2, 3)\n"
     ]
    }
   ],
   "source": [
    "# Tuple Variables\n",
    "ex6 = (1,2,3)\n",
    "\n",
    "print(ex6)"
   ]
  },
  {
   "cell_type": "code",
   "execution_count": 33,
   "id": "9477622f",
   "metadata": {},
   "outputs": [
    {
     "name": "stdout",
     "output_type": "stream",
     "text": [
      "{1, 4, 7}\n"
     ]
    }
   ],
   "source": [
    "# Set Variables\n",
    "ex7 = {1, 4, 7}\n",
    "\n",
    "print(ex7)"
   ]
  },
  {
   "cell_type": "code",
   "execution_count": 34,
   "id": "2d11dadd",
   "metadata": {},
   "outputs": [
    {
     "name": "stdout",
     "output_type": "stream",
     "text": [
      "{1: [123, 124], 2: [345, 346]}\n"
     ]
    }
   ],
   "source": [
    "# Dictionary Variables\n",
    "ex8 = {1:[123,124], 2:[345, 346]}\n",
    "print(ex8)"
   ]
  },
  {
   "cell_type": "markdown",
   "id": "ce011188",
   "metadata": {},
   "source": [
    "---"
   ]
  },
  {
   "cell_type": "markdown",
   "id": "ee2dbe0a",
   "metadata": {},
   "source": [
    "# 3. Constants\n",
    "\n",
    "Basically any value which remains CONSTANT and does NOT change.\n",
    "Usually variables which point towards a CONSTANT value are denoted in UPPERCASE.\n",
    "<br><br>\n",
    "Example:<br>\n",
    "<strong>String:</strong><br>\n",
    "`STR_CONSTANT = \"The sun rises to the east\"`\n",
    "\n",
    "<strong>Integer:</strong><br>\n",
    "`INT_CONSTANT = 42`\n",
    "\n",
    "<strong>Float:</strong><br>\n",
    "`FLT_CONSTANT = 42.67`\n",
    "\n",
    "<strong>Boolean:</strong><br>\n",
    "`BOOL_CONSTANT = True`\n",
    "\n",
    "<strong>List:</strong><br>\n",
    "`LST_CONSTANT = [1, 2, 3]`\n",
    "\n",
    "<strong>Tuple:</strong><br>\n",
    "`TUP_CONSTANT = (1, 2, 3)`\n",
    "\n",
    "<strong>Set:</strong><br>\n",
    "`SET_CONSTANT = {2, 1, 3}`\n",
    "\n",
    "<strong>Dictionary:</strong><br>\n",
    "`DICT_CONSTANT = {1: \"Monday\", 2: \"Tuesday\", 3: \"Wednesday\"}`\n"
   ]
  },
  {
   "cell_type": "markdown",
   "id": "d9304b99",
   "metadata": {},
   "source": [
    "### Constants Demo"
   ]
  },
  {
   "cell_type": "code",
   "execution_count": 35,
   "id": "a973bd7d",
   "metadata": {},
   "outputs": [],
   "source": [
    "# String Constant\n",
    "EX1 = \"Hello\""
   ]
  },
  {
   "cell_type": "code",
   "execution_count": 45,
   "id": "495baee3",
   "metadata": {},
   "outputs": [
    {
     "data": {
      "text/plain": [
       "'HELLO'"
      ]
     },
     "execution_count": 45,
     "metadata": {},
     "output_type": "execute_result"
    }
   ],
   "source": [
    "EX1.upper()"
   ]
  },
  {
   "cell_type": "code",
   "execution_count": 36,
   "id": "fcbc7d3d",
   "metadata": {},
   "outputs": [],
   "source": [
    "# Integer Constant\n",
    "EX2 = 1"
   ]
  },
  {
   "cell_type": "code",
   "execution_count": 37,
   "id": "32f09489",
   "metadata": {},
   "outputs": [],
   "source": [
    "# Float Constant\n",
    "EX3 = 1.1"
   ]
  },
  {
   "cell_type": "code",
   "execution_count": 38,
   "id": "976183a1",
   "metadata": {},
   "outputs": [],
   "source": [
    "# Boolean Constant\n",
    "EX4 = True"
   ]
  },
  {
   "cell_type": "code",
   "execution_count": 39,
   "id": "14ab9c34",
   "metadata": {},
   "outputs": [],
   "source": [
    "# List Constant\n",
    "EX5 = [1,]"
   ]
  },
  {
   "cell_type": "code",
   "execution_count": 41,
   "id": "3315983d",
   "metadata": {},
   "outputs": [],
   "source": [
    "# Tuple Constant\n",
    "EX6 = (1,)"
   ]
  },
  {
   "cell_type": "code",
   "execution_count": 42,
   "id": "8d998b90",
   "metadata": {},
   "outputs": [],
   "source": [
    "# Set Constant\n",
    "EX7 = {1,2,3}"
   ]
  },
  {
   "cell_type": "code",
   "execution_count": 43,
   "id": "5c75dd2c",
   "metadata": {},
   "outputs": [],
   "source": [
    "# Dictionary Constant\n",
    "EX8 = {1:234, 2:456}"
   ]
  },
  {
   "cell_type": "code",
   "execution_count": 44,
   "id": "feb51e0c",
   "metadata": {},
   "outputs": [
    {
     "name": "stdout",
     "output_type": "stream",
     "text": [
      "<class 'str'> <class 'int'> <class 'float'> <class 'bool'> <class 'list'> <class 'tuple'> <class 'set'> <class 'dict'>\n"
     ]
    }
   ],
   "source": [
    "print(type(EX1), type(EX2), type(EX3), type(EX4), type(EX5), type(EX6), type(EX7), type(EX8))"
   ]
  },
  {
   "cell_type": "markdown",
   "id": "78597e8e",
   "metadata": {},
   "source": [
    "---"
   ]
  },
  {
   "cell_type": "markdown",
   "id": "d806da1e",
   "metadata": {},
   "source": [
    "# 4. Type Casting\n",
    "\n",
    "Setting the data type of element or converting COMPATIBLE data from one type to another. \n",
    "\n",
    "<br><br><strong>String:</strong> use `str()`<br>\n",
    "Converts any datatype to string.<br>\n",
    "\n",
    "Example: convert boolean to string<br>\n",
    "`bool_var = True\n",
    "str_var = str(bool_var)`\n",
    "\n",
    "This gives output as string `'True'`\n",
    "<br>\n",
    "<br><br><strong>Integer:</strong> use `int()`<br>\n",
    "Converts string, float or boolean to integer. Only string values which are whole numbers can be converted directly from string to integer. Decimal values which are in string format need to be first converted to float-format and then to integer.<br>\n",
    "\n",
    "Example: convert boolean to integer<br>\n",
    "`bool_var = True\n",
    "int_var = int(bool_var)`\n",
    "\n",
    "This `int_var` gives value as `1`\n",
    "<br>\n",
    "<br><br><strong>Float:</strong> use `float()`<br>\n",
    "Converts string, integer or boolean to integer. Only numeric string values can be converted from string to float.<br>\n",
    "\n",
    "Example: convert boolean to float<br>\n",
    "`bool_var = True\n",
    "float_var = float(bool_var)`\n",
    "\n",
    "This `float_var` gives value as `1.0`\n",
    "<br>\n",
    "<br><br><strong>Boolean:</strong> use `bool()`<br>\n",
    "Converts all datatypes to boolean. <br>\n",
    "Empty list/ tuple/ set/ dictionary AND integer and float whose value is 0 (i.e. zero) gets converted to False.<br>\n",
    "Filled list/ tuple/ set/ dictionary AND integer and float whose value is NOT 0 (i.e. non-zero) gets converted to True.\n",
    "\n",
    "Example: convert integer to boolean<br>\n",
    "`int_var = 0\n",
    "bool_var = bool(int_var)`\n",
    "\n",
    "This `bool_var` gives value as `False`\n",
    "<br>\n",
    "<br><br><strong>List:</strong> use `list()`<br>\n",
    "Converts string, tuple, set and dictionary to list.<br>\n",
    "\n",
    "Example: convert string to list<br>\n",
    "`str_var = \"Python\"\n",
    "list_var = list(str_var)`\n",
    "\n",
    "This `list_var` gives value as `[\"P\",\"y\",\"t\",\"h\",\"o\",\"n\"]`\n",
    "<br>\n",
    "<br><br><strong>Tuple:</strong> use `tuple()`<br>\n",
    "Converts string, list, set and dictionary to tuple.<br>\n",
    "\n",
    "Example: convert string to tuple<br>\n",
    "`str_var = \"Python\"\n",
    "tuple_var = tuple(str_var)`\n",
    "\n",
    "This `tuple_var` gives value as `(\"P\",\"y\",\"t\",\"h\",\"o\",\"n\")`\n",
    "<br>\n",
    "<br><br><strong>Set:</strong> use `set()`<br>\n",
    "Converts string, list, tuple and dictionary to set.<br>\n",
    "\n",
    "Example: convert string to tuple<br>\n",
    "`str_var = \"Python\"\n",
    "set_var = set(str_var)`\n",
    "\n",
    "This `set_var` gives value as `{'P', 'h', 'n', 'o', 't', 'y'}`. Order of elements is not maintained in sets.\n",
    "<br>\n",
    "<br><br><strong>Dictionary:</strong> use `dict()`<br>\n",
    "Converts compatible datasets like pandas dataframe to dictionary."
   ]
  },
  {
   "cell_type": "markdown",
   "id": "95ecc9ec",
   "metadata": {},
   "source": [
    "### Type-casting Demo"
   ]
  },
  {
   "cell_type": "code",
   "execution_count": 46,
   "id": "5d61d247",
   "metadata": {},
   "outputs": [
    {
     "data": {
      "text/plain": [
       "bool"
      ]
     },
     "execution_count": 46,
     "metadata": {},
     "output_type": "execute_result"
    }
   ],
   "source": [
    "# String Casting\n",
    "bool_var = False\n",
    "\n",
    "type(bool_var)"
   ]
  },
  {
   "cell_type": "code",
   "execution_count": 47,
   "id": "7cd408df",
   "metadata": {},
   "outputs": [
    {
     "data": {
      "text/plain": [
       "False"
      ]
     },
     "execution_count": 47,
     "metadata": {},
     "output_type": "execute_result"
    }
   ],
   "source": [
    "bool_var"
   ]
  },
  {
   "cell_type": "code",
   "execution_count": 48,
   "id": "f1b78de7",
   "metadata": {},
   "outputs": [
    {
     "data": {
      "text/plain": [
       "'False'"
      ]
     },
     "execution_count": 48,
     "metadata": {},
     "output_type": "execute_result"
    }
   ],
   "source": [
    "str_bool_var = str(bool_var)\n",
    "str_bool_var"
   ]
  },
  {
   "cell_type": "code",
   "execution_count": 49,
   "id": "33a9ad8e",
   "metadata": {},
   "outputs": [
    {
     "data": {
      "text/plain": [
       "str"
      ]
     },
     "execution_count": 49,
     "metadata": {},
     "output_type": "execute_result"
    }
   ],
   "source": [
    "type(str_bool_var)"
   ]
  },
  {
   "cell_type": "code",
   "execution_count": 51,
   "id": "ad937679",
   "metadata": {},
   "outputs": [
    {
     "name": "stdout",
     "output_type": "stream",
     "text": [
      "1\n"
     ]
    }
   ],
   "source": [
    "# Integer Casting\n",
    "bool_var = True\n",
    "int_bool_var = int(bool_var)\n",
    "print(int_bool_var)"
   ]
  },
  {
   "cell_type": "code",
   "execution_count": 53,
   "id": "3c961d80",
   "metadata": {},
   "outputs": [
    {
     "name": "stdout",
     "output_type": "stream",
     "text": [
      "1.0\n"
     ]
    }
   ],
   "source": [
    "# Float Casting\n",
    "bool_var = True\n",
    "\n",
    "float_bool_var = float(bool_var)\n",
    "\n",
    "print(float_bool_var)"
   ]
  },
  {
   "cell_type": "code",
   "execution_count": 54,
   "id": "1f6bc292",
   "metadata": {},
   "outputs": [
    {
     "data": {
      "text/plain": [
       "float"
      ]
     },
     "execution_count": 54,
     "metadata": {},
     "output_type": "execute_result"
    }
   ],
   "source": [
    "type(float_bool_var)"
   ]
  },
  {
   "cell_type": "code",
   "execution_count": 55,
   "id": "97bd1d26",
   "metadata": {},
   "outputs": [
    {
     "name": "stdout",
     "output_type": "stream",
     "text": [
      "True\n"
     ]
    }
   ],
   "source": [
    "# Boolean Casting\n",
    "int_var = 1\n",
    "bool_int_var = bool(int_var)\n",
    "print(bool_int_var)"
   ]
  },
  {
   "cell_type": "code",
   "execution_count": 56,
   "id": "90ac30c0",
   "metadata": {},
   "outputs": [
    {
     "data": {
      "text/plain": [
       "bool"
      ]
     },
     "execution_count": 56,
     "metadata": {},
     "output_type": "execute_result"
    }
   ],
   "source": [
    "type(bool_int_var)"
   ]
  },
  {
   "cell_type": "code",
   "execution_count": 57,
   "id": "9dc53c13",
   "metadata": {},
   "outputs": [
    {
     "name": "stdout",
     "output_type": "stream",
     "text": [
      "True\n"
     ]
    }
   ],
   "source": [
    "str_var = 'False'\n",
    "bool_str_var = bool(str_var)\n",
    "print(bool_str_var)"
   ]
  },
  {
   "cell_type": "code",
   "execution_count": 58,
   "id": "509a0306",
   "metadata": {},
   "outputs": [
    {
     "data": {
      "text/plain": [
       "bool"
      ]
     },
     "execution_count": 58,
     "metadata": {},
     "output_type": "execute_result"
    }
   ],
   "source": [
    "type(bool_str_var)"
   ]
  },
  {
   "cell_type": "code",
   "execution_count": 59,
   "id": "6cfe312a",
   "metadata": {},
   "outputs": [
    {
     "name": "stdout",
     "output_type": "stream",
     "text": [
      "['M', 'e', 's', 's', 'i']\n"
     ]
    }
   ],
   "source": [
    "# List Casting\n",
    "str_var = \"Messi\"\n",
    "list_str_var = list(str_var)\n",
    "print(list_str_var)"
   ]
  },
  {
   "cell_type": "code",
   "execution_count": 60,
   "id": "f217eb31",
   "metadata": {},
   "outputs": [
    {
     "name": "stdout",
     "output_type": "stream",
     "text": [
      "('R', 'o', 'n', 'a', 'l', 'd', 'o')\n"
     ]
    }
   ],
   "source": [
    "# Tuple Casting\n",
    "str_var = \"Ronaldo\"\n",
    "tuple_str_var = tuple(str_var)\n",
    "\n",
    "print(tuple_str_var)"
   ]
  },
  {
   "cell_type": "code",
   "execution_count": 62,
   "id": "6ecc2936",
   "metadata": {},
   "outputs": [
    {
     "name": "stdout",
     "output_type": "stream",
     "text": [
      "{'e', 'M', 's', 'i'}\n"
     ]
    }
   ],
   "source": [
    "# Set Casting\n",
    "str_var = \"Messi\"\n",
    "set_str_var = set(str_var)\n",
    "print(set_str_var)"
   ]
  },
  {
   "cell_type": "code",
   "execution_count": 64,
   "id": "1ee485fe",
   "metadata": {},
   "outputs": [
    {
     "data": {
      "text/plain": [
       "{'M', 'e', 'i', 's'}"
      ]
     },
     "execution_count": 64,
     "metadata": {},
     "output_type": "execute_result"
    }
   ],
   "source": [
    "set(list_str_var)"
   ]
  },
  {
   "cell_type": "markdown",
   "id": "ca6ed233",
   "metadata": {},
   "source": [
    "---"
   ]
  },
  {
   "cell_type": "markdown",
   "id": "bb9761c1",
   "metadata": {},
   "source": [
    "END of the Notebook<br>\n",
    "Author: Shounak Deshpande (shounak.python@gmail.com)<br>\n",
    "Youtube: https://www.youtube.com/channel/UCpODmuqv_ljQ_vMYwO71a_g"
   ]
  }
 ],
 "metadata": {
  "kernelspec": {
   "display_name": "Python 3 (ipykernel)",
   "language": "python",
   "name": "python3"
  },
  "language_info": {
   "codemirror_mode": {
    "name": "ipython",
    "version": 3
   },
   "file_extension": ".py",
   "mimetype": "text/x-python",
   "name": "python",
   "nbconvert_exporter": "python",
   "pygments_lexer": "ipython3",
   "version": "3.9.13"
  }
 },
 "nbformat": 4,
 "nbformat_minor": 5
}
