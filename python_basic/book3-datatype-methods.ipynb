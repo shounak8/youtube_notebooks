{
 "cells": [
  {
   "cell_type": "markdown",
   "id": "d67601de",
   "metadata": {},
   "source": [
    "# Contents:\n",
    "\n",
    "Methods are called upon objects by using period/dot at the end of the object, followed by the name of the method and ending with round brackets \"( )\"\n",
    "\n",
    "1. String\n",
    "2. Integer\n",
    "3. Float\n",
    "4. Boolean\n",
    "5. List\n",
    "6. Tuple\n",
    "7. Set\n",
    "8. Dictionary"
   ]
  },
  {
   "cell_type": "markdown",
   "id": "3900b0a2",
   "metadata": {},
   "source": [
    "# 1. String\n",
    "\n",
    "Link: https://www.w3schools.com/python/python_ref_string.asp\n",
    "\n",
    "\n",
    "### Examples:"
   ]
  },
  {
   "cell_type": "code",
   "execution_count": 1,
   "id": "9617d20e",
   "metadata": {},
   "outputs": [],
   "source": [
    "str_var = \"i ate sandwich today.\""
   ]
  },
  {
   "cell_type": "code",
   "execution_count": 2,
   "id": "29034b99",
   "metadata": {},
   "outputs": [
    {
     "data": {
      "text/plain": [
       "'I ate sandwich today.'"
      ]
     },
     "execution_count": 2,
     "metadata": {},
     "output_type": "execute_result"
    }
   ],
   "source": [
    "# Make first element of the string upper case\n",
    "str_var.capitalize()"
   ]
  },
  {
   "cell_type": "code",
   "execution_count": 3,
   "id": "9e1ac5d6",
   "metadata": {},
   "outputs": [
    {
     "data": {
      "text/plain": [
       "'I ATE SANDWICH TODAY.'"
      ]
     },
     "execution_count": 3,
     "metadata": {},
     "output_type": "execute_result"
    }
   ],
   "source": [
    "# Make all elements of the string upper case\n",
    "str_var.upper()"
   ]
  },
  {
   "cell_type": "code",
   "execution_count": 4,
   "id": "1c908ef2",
   "metadata": {},
   "outputs": [
    {
     "data": {
      "text/plain": [
       "True"
      ]
     },
     "execution_count": 4,
     "metadata": {},
     "output_type": "execute_result"
    }
   ],
   "source": [
    "# check if all items of string are lower case. \n",
    "# True means all are in lower case and False means all are not in lower case\n",
    "str_var.islower()"
   ]
  },
  {
   "cell_type": "code",
   "execution_count": 64,
   "id": "624ff9cd",
   "metadata": {},
   "outputs": [
    {
     "data": {
      "text/plain": [
       "True"
      ]
     },
     "execution_count": 64,
     "metadata": {},
     "output_type": "execute_result"
    }
   ],
   "source": [
    "# Check if all items are in upper case\n",
    "str_var2 = \"THIS IS UPPER CASE EXAMPLE\"\n",
    "\n",
    "str_var2.isupper()"
   ]
  },
  {
   "cell_type": "markdown",
   "id": "c48e851c",
   "metadata": {},
   "source": [
    "---"
   ]
  },
  {
   "cell_type": "markdown",
   "id": "029b2cbf",
   "metadata": {},
   "source": [
    "# 2. Integer\n",
    "\n",
    "### Examples:"
   ]
  },
  {
   "cell_type": "code",
   "execution_count": 8,
   "id": "3d26ffa6",
   "metadata": {},
   "outputs": [],
   "source": [
    "int_var = 10"
   ]
  },
  {
   "cell_type": "code",
   "execution_count": 10,
   "id": "251ff95c",
   "metadata": {},
   "outputs": [
    {
     "data": {
      "text/plain": [
       "(10, 1)"
      ]
     },
     "execution_count": 10,
     "metadata": {},
     "output_type": "execute_result"
    }
   ],
   "source": [
    "# check the fraction that gives the integer\n",
    "int_var.as_integer_ratio()"
   ]
  },
  {
   "cell_type": "code",
   "execution_count": 12,
   "id": "ab74b950",
   "metadata": {},
   "outputs": [
    {
     "data": {
      "text/plain": [
       "10"
      ]
     },
     "execution_count": 12,
     "metadata": {},
     "output_type": "execute_result"
    }
   ],
   "source": [
    "# Find the numerator. Numerator is class attribute (class will be discussed in a subsequent video)\n",
    "int_var.numerator"
   ]
  },
  {
   "cell_type": "code",
   "execution_count": 13,
   "id": "b0fe0a6a",
   "metadata": {},
   "outputs": [
    {
     "data": {
      "text/plain": [
       "1"
      ]
     },
     "execution_count": 13,
     "metadata": {},
     "output_type": "execute_result"
    }
   ],
   "source": [
    "# Find the denominator. Numerator is class attribute (class will be discussed in a subsequent video)\n",
    "int_var.denominator"
   ]
  },
  {
   "cell_type": "markdown",
   "id": "846c5b17",
   "metadata": {},
   "source": [
    "---"
   ]
  },
  {
   "cell_type": "markdown",
   "id": "93733440",
   "metadata": {},
   "source": [
    "# 3. Float\n",
    "\n",
    "### Examples:"
   ]
  },
  {
   "cell_type": "code",
   "execution_count": 16,
   "id": "e9dedd66",
   "metadata": {},
   "outputs": [],
   "source": [
    "float_var = 12.34"
   ]
  },
  {
   "cell_type": "code",
   "execution_count": 17,
   "id": "c8154c67",
   "metadata": {},
   "outputs": [
    {
     "data": {
      "text/plain": [
       "(3473401212609495, 281474976710656)"
      ]
     },
     "execution_count": 17,
     "metadata": {},
     "output_type": "execute_result"
    }
   ],
   "source": [
    "# check the fraction that gives the float\n",
    "float_var.as_integer_ratio()"
   ]
  },
  {
   "cell_type": "code",
   "execution_count": 18,
   "id": "cd324218",
   "metadata": {},
   "outputs": [
    {
     "data": {
      "text/plain": [
       "12.34"
      ]
     },
     "execution_count": 18,
     "metadata": {},
     "output_type": "execute_result"
    }
   ],
   "source": [
    "3473401212609495 / 281474976710656"
   ]
  },
  {
   "cell_type": "code",
   "execution_count": 19,
   "id": "1ca69481",
   "metadata": {},
   "outputs": [
    {
     "data": {
      "text/plain": [
       "False"
      ]
     },
     "execution_count": 19,
     "metadata": {},
     "output_type": "execute_result"
    }
   ],
   "source": [
    "# check if the given float is an integer \n",
    "float_var.is_integer()"
   ]
  },
  {
   "cell_type": "code",
   "execution_count": 20,
   "id": "e771922e",
   "metadata": {},
   "outputs": [
    {
     "data": {
      "text/plain": [
       "True"
      ]
     },
     "execution_count": 20,
     "metadata": {},
     "output_type": "execute_result"
    }
   ],
   "source": [
    "# check if the given float is an integer \n",
    "flt_var2 = 12.0\n",
    "\n",
    "flt_var2.is_integer()"
   ]
  },
  {
   "cell_type": "markdown",
   "id": "96595ae6",
   "metadata": {},
   "source": [
    "# 4. Boolean (same methods as Integer)\n",
    "\n",
    "### Examples:"
   ]
  },
  {
   "cell_type": "code",
   "execution_count": 21,
   "id": "817b9f20",
   "metadata": {},
   "outputs": [],
   "source": [
    "bool_var = False"
   ]
  },
  {
   "cell_type": "code",
   "execution_count": 22,
   "id": "02c677ef",
   "metadata": {},
   "outputs": [
    {
     "data": {
      "text/plain": [
       "(0, 1)"
      ]
     },
     "execution_count": 22,
     "metadata": {},
     "output_type": "execute_result"
    }
   ],
   "source": [
    "# get the integer ration for the Boolean. Remember, True means 1 and False means 0\n",
    "bool_var.as_integer_ratio()"
   ]
  },
  {
   "cell_type": "code",
   "execution_count": 23,
   "id": "a78c87d2",
   "metadata": {},
   "outputs": [
    {
     "data": {
      "text/plain": [
       "(1, 1)"
      ]
     },
     "execution_count": 23,
     "metadata": {},
     "output_type": "execute_result"
    }
   ],
   "source": [
    "# get the integer ration for the Boolean. Remember, True means 1 and False means 0\n",
    "bool_var2 = True\n",
    "\n",
    "bool_var2.as_integer_ratio()"
   ]
  },
  {
   "cell_type": "markdown",
   "id": "8cfe5242",
   "metadata": {},
   "source": [
    "---"
   ]
  },
  {
   "cell_type": "markdown",
   "id": "863069c7",
   "metadata": {},
   "source": [
    "# 5. List\n",
    "\n",
    "Methods Link: https://www.w3schools.com/python/python_ref_list.asp\n",
    "    \n",
    "### Examples:"
   ]
  },
  {
   "cell_type": "code",
   "execution_count": 24,
   "id": "44232ff0",
   "metadata": {},
   "outputs": [],
   "source": [
    "list_var = [43, 12, 2, 23, 14, 7]"
   ]
  },
  {
   "cell_type": "code",
   "execution_count": 25,
   "id": "5004ec2f",
   "metadata": {},
   "outputs": [],
   "source": [
    "# Add item to the end of the list\n",
    "list_var.append(100)"
   ]
  },
  {
   "cell_type": "code",
   "execution_count": 26,
   "id": "fcb9f07f",
   "metadata": {},
   "outputs": [
    {
     "data": {
      "text/plain": [
       "[43, 12, 2, 23, 14, 7, 100]"
      ]
     },
     "execution_count": 26,
     "metadata": {},
     "output_type": "execute_result"
    }
   ],
   "source": [
    "list_var"
   ]
  },
  {
   "cell_type": "code",
   "execution_count": 29,
   "id": "dfa86a65",
   "metadata": {},
   "outputs": [],
   "source": [
    "# Add tuple to the end of the list. You can add only 1 item using append.\n",
    "list_var.append((101, 102))"
   ]
  },
  {
   "cell_type": "code",
   "execution_count": 30,
   "id": "94ad0550",
   "metadata": {},
   "outputs": [
    {
     "data": {
      "text/plain": [
       "[43, 12, 2, 23, 14, 7, 100, (101, 102)]"
      ]
     },
     "execution_count": 30,
     "metadata": {},
     "output_type": "execute_result"
    }
   ],
   "source": [
    "list_var"
   ]
  },
  {
   "cell_type": "code",
   "execution_count": 31,
   "id": "0910361b",
   "metadata": {},
   "outputs": [
    {
     "data": {
      "text/plain": [
       "(101, 102)"
      ]
     },
     "execution_count": 31,
     "metadata": {},
     "output_type": "execute_result"
    }
   ],
   "source": [
    "# Remove the last item from the list\n",
    "list_var.pop()"
   ]
  },
  {
   "cell_type": "code",
   "execution_count": 33,
   "id": "531a455f",
   "metadata": {},
   "outputs": [],
   "source": [
    "# Remove a particular item from the list\n",
    "list_var.remove(23)"
   ]
  },
  {
   "cell_type": "code",
   "execution_count": 34,
   "id": "796813e9",
   "metadata": {},
   "outputs": [
    {
     "data": {
      "text/plain": [
       "[43, 12, 2, 14, 7, 100]"
      ]
     },
     "execution_count": 34,
     "metadata": {},
     "output_type": "execute_result"
    }
   ],
   "source": [
    "list_var"
   ]
  },
  {
   "cell_type": "code",
   "execution_count": 36,
   "id": "0038f591",
   "metadata": {},
   "outputs": [
    {
     "data": {
      "text/plain": [
       "3"
      ]
     },
     "execution_count": 36,
     "metadata": {},
     "output_type": "execute_result"
    }
   ],
   "source": [
    "# Find the index position of the item in list\n",
    "list_var.index(14)"
   ]
  },
  {
   "cell_type": "code",
   "execution_count": 42,
   "id": "a6bb729c",
   "metadata": {},
   "outputs": [
    {
     "data": {
      "text/plain": [
       "100"
      ]
     },
     "execution_count": 42,
     "metadata": {},
     "output_type": "execute_result"
    }
   ],
   "source": [
    "# Find the item present at a particule index position in the list\n",
    "list_var[5]"
   ]
  },
  {
   "cell_type": "code",
   "execution_count": 43,
   "id": "52572575",
   "metadata": {},
   "outputs": [
    {
     "data": {
      "text/plain": [
       "100"
      ]
     },
     "execution_count": 43,
     "metadata": {},
     "output_type": "execute_result"
    }
   ],
   "source": [
    "list_var[-1]"
   ]
  },
  {
   "cell_type": "code",
   "execution_count": 44,
   "id": "4f982390",
   "metadata": {},
   "outputs": [
    {
     "data": {
      "text/plain": [
       "7"
      ]
     },
     "execution_count": 44,
     "metadata": {},
     "output_type": "execute_result"
    }
   ],
   "source": [
    "list_var[-2]"
   ]
  },
  {
   "cell_type": "code",
   "execution_count": 46,
   "id": "feb576f7",
   "metadata": {},
   "outputs": [
    {
     "ename": "IndexError",
     "evalue": "list index out of range",
     "output_type": "error",
     "traceback": [
      "\u001b[1;31m---------------------------------------------------------------------------\u001b[0m",
      "\u001b[1;31mIndexError\u001b[0m                                Traceback (most recent call last)",
      "\u001b[1;32m~\\AppData\\Local\\Temp\\ipykernel_15688\\3332506056.py\u001b[0m in \u001b[0;36m<module>\u001b[1;34m\u001b[0m\n\u001b[1;32m----> 1\u001b[1;33m \u001b[0mlist_var\u001b[0m\u001b[1;33m[\u001b[0m\u001b[1;33m-\u001b[0m\u001b[1;36m8\u001b[0m\u001b[1;33m]\u001b[0m\u001b[1;33m\u001b[0m\u001b[1;33m\u001b[0m\u001b[0m\n\u001b[0m",
      "\u001b[1;31mIndexError\u001b[0m: list index out of range"
     ]
    }
   ],
   "source": [
    "# Passing an index position which doesn't exist gives an Index error\n",
    "list_var[-8]"
   ]
  },
  {
   "cell_type": "markdown",
   "id": "777ca447",
   "metadata": {},
   "source": [
    "---"
   ]
  },
  {
   "cell_type": "markdown",
   "id": "078e93aa",
   "metadata": {},
   "source": [
    "# 6. Tuple\n",
    "\n",
    "Methods Link: https://www.w3schools.com/python/python_ref_tuple.asp\n",
    "    \n",
    "### Examples:"
   ]
  },
  {
   "cell_type": "code",
   "execution_count": 49,
   "id": "dd5fe8e0",
   "metadata": {},
   "outputs": [],
   "source": [
    "tuple_var = (\"g\", \"m\", \"e\", \"p\", \"l\", \"e\")"
   ]
  },
  {
   "cell_type": "code",
   "execution_count": 50,
   "id": "ee9064ec",
   "metadata": {},
   "outputs": [
    {
     "data": {
      "text/plain": [
       "2"
      ]
     },
     "execution_count": 50,
     "metadata": {},
     "output_type": "execute_result"
    }
   ],
   "source": [
    "# Count the number of times item appears in tuple\n",
    "tuple_var.count(\"e\")"
   ]
  },
  {
   "cell_type": "code",
   "execution_count": 53,
   "id": "851b411d",
   "metadata": {},
   "outputs": [
    {
     "data": {
      "text/plain": [
       "2"
      ]
     },
     "execution_count": 53,
     "metadata": {},
     "output_type": "execute_result"
    }
   ],
   "source": [
    "# Find the index number of the item in the tuple\n",
    "tuple_var.index(\"e\")"
   ]
  },
  {
   "cell_type": "markdown",
   "id": "f6761007",
   "metadata": {},
   "source": [
    "---"
   ]
  },
  {
   "cell_type": "markdown",
   "id": "81e92833",
   "metadata": {},
   "source": [
    "# 7. Set\n",
    "\n",
    "Methods Link: https://www.w3schools.com/python/python_ref_set.asp\n",
    "    \n",
    "### Examples:"
   ]
  },
  {
   "cell_type": "code",
   "execution_count": 54,
   "id": "bc2961d7",
   "metadata": {},
   "outputs": [],
   "source": [
    "set_var = {3, 8, 2, 9, 1}\n",
    "set_var2 = {3, 2, 9, 13, 15, 17}"
   ]
  },
  {
   "cell_type": "code",
   "execution_count": 55,
   "id": "ae8e77d8",
   "metadata": {},
   "outputs": [],
   "source": [
    "# Add item to the set\n",
    "set_var.add(11)"
   ]
  },
  {
   "cell_type": "code",
   "execution_count": 56,
   "id": "9e0db2fd",
   "metadata": {},
   "outputs": [
    {
     "data": {
      "text/plain": [
       "{1, 2, 3, 8, 9, 11}"
      ]
     },
     "execution_count": 56,
     "metadata": {},
     "output_type": "execute_result"
    }
   ],
   "source": [
    "set_var"
   ]
  },
  {
   "cell_type": "code",
   "execution_count": 58,
   "id": "cfff54e1",
   "metadata": {},
   "outputs": [
    {
     "data": {
      "text/plain": [
       "{2, 3, 9}"
      ]
     },
     "execution_count": 58,
     "metadata": {},
     "output_type": "execute_result"
    }
   ],
   "source": [
    "# Get intersection set\n",
    "set_var.intersection(set_var2)"
   ]
  },
  {
   "cell_type": "code",
   "execution_count": 59,
   "id": "e4a85bfe",
   "metadata": {},
   "outputs": [
    {
     "data": {
      "text/plain": [
       "{1, 2, 3, 8, 9, 11, 13, 15, 17}"
      ]
     },
     "execution_count": 59,
     "metadata": {},
     "output_type": "execute_result"
    }
   ],
   "source": [
    "# Get union set\n",
    "set_var.union(set_var2)"
   ]
  },
  {
   "cell_type": "markdown",
   "id": "0280b3e2",
   "metadata": {},
   "source": [
    "---"
   ]
  },
  {
   "cell_type": "markdown",
   "id": "f4b21ec2",
   "metadata": {},
   "source": [
    "# 8. Dictionary\n",
    "\n",
    "Methods Link: https://www.w3schools.com/python/python_ref_dictionary.asp\n",
    "    \n",
    "### Examples:"
   ]
  },
  {
   "cell_type": "code",
   "execution_count": 60,
   "id": "9854d8c1",
   "metadata": {},
   "outputs": [],
   "source": [
    "dict_var = {\n",
    "    1: \"Sunday\",\n",
    "    2: \"Monday\",\n",
    "    3: \"Tuesday\",\n",
    "    4: \"Wednesday\",\n",
    "    5: \"Thursday\",\n",
    "    6: \"Friday\",\n",
    "    7: \"Saturday\",\n",
    "}"
   ]
  },
  {
   "cell_type": "code",
   "execution_count": 61,
   "id": "676dc46b",
   "metadata": {},
   "outputs": [
    {
     "data": {
      "text/plain": [
       "dict_keys([1, 2, 3, 4, 5, 6, 7])"
      ]
     },
     "execution_count": 61,
     "metadata": {},
     "output_type": "execute_result"
    }
   ],
   "source": [
    "# Get all keys\n",
    "dict_var.keys()"
   ]
  },
  {
   "cell_type": "code",
   "execution_count": 62,
   "id": "ba44ab38",
   "metadata": {},
   "outputs": [
    {
     "data": {
      "text/plain": [
       "dict_values(['Sunday', 'Monday', 'Tuesday', 'Wednesday', 'Thursday', 'Friday', 'Saturday'])"
      ]
     },
     "execution_count": 62,
     "metadata": {},
     "output_type": "execute_result"
    }
   ],
   "source": [
    "# Get all values\n",
    "dict_var.values()"
   ]
  },
  {
   "cell_type": "code",
   "execution_count": 63,
   "id": "9f8f4d77",
   "metadata": {},
   "outputs": [
    {
     "data": {
      "text/plain": [
       "dict_items([(1, 'Sunday'), (2, 'Monday'), (3, 'Tuesday'), (4, 'Wednesday'), (5, 'Thursday'), (6, 'Friday'), (7, 'Saturday')])"
      ]
     },
     "execution_count": 63,
     "metadata": {},
     "output_type": "execute_result"
    }
   ],
   "source": [
    "# Get all key-values pairs\n",
    "dict_var.items()"
   ]
  },
  {
   "cell_type": "markdown",
   "id": "9918eb88",
   "metadata": {},
   "source": [
    "---"
   ]
  },
  {
   "cell_type": "markdown",
   "id": "359c91ad",
   "metadata": {},
   "source": [
    "END of the Notebook<br>\n",
    "Author: Shounak Deshpande (shounak.python@gmail.com)<br>\n",
    "Youtube: https://www.youtube.com/channel/UCpODmuqv_ljQ_vMYwO71a_g"
   ]
  }
 ],
 "metadata": {
  "kernelspec": {
   "display_name": "Python 3 (ipykernel)",
   "language": "python",
   "name": "python3"
  },
  "language_info": {
   "codemirror_mode": {
    "name": "ipython",
    "version": 3
   },
   "file_extension": ".py",
   "mimetype": "text/x-python",
   "name": "python",
   "nbconvert_exporter": "python",
   "pygments_lexer": "ipython3",
   "version": "3.9.13"
  }
 },
 "nbformat": 4,
 "nbformat_minor": 5
}
