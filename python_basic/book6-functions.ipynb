{
 "cells": [
  {
   "cell_type": "markdown",
   "id": "89c7156c",
   "metadata": {},
   "source": [
    "# What is a FUNCTION?\n",
    "\n",
    "#### * A function is sequence of code which gets executed whenever it is called.\n",
    "#### * A function may or may not contain arguments.\n",
    "#### * A function may or may not return value/objects."
   ]
  },
  {
   "cell_type": "markdown",
   "id": "9de68394",
   "metadata": {},
   "source": [
    "---"
   ]
  },
  {
   "cell_type": "markdown",
   "id": "6fd44e6a",
   "metadata": {},
   "source": [
    "### Format of Function\n",
    "\n",
    "A function consists of:\n",
    "1. def\n",
    "2. name_of_function\n",
    "3. round brackets\n",
    "4. arguments (optional)\n",
    "5. code-block with indentation\n",
    "6. return object (optional)\n",
    "\n",
    "<br><br>\n",
    "\n",
    "Format:\n",
    "<pre>\n",
    "def function_name_abc(arg_1, arg_2):\n",
    "    addition = arg_1 + arg_2\n",
    "    result = addition - 5\n",
    "    return result</pre>\n",
    "    \n",
    "Here, we start writing the function with `def` followed by the name of function, which is `function_name_abc`.\n",
    "\n"
   ]
  },
  {
   "cell_type": "code",
   "execution_count": 1,
   "id": "82e99692",
   "metadata": {},
   "outputs": [],
   "source": [
    "# Example 1: Function without arguments\n",
    "def sample_name():\n",
    "    return \"This is a sample function\""
   ]
  },
  {
   "cell_type": "code",
   "execution_count": 2,
   "id": "794ba7b2",
   "metadata": {},
   "outputs": [
    {
     "data": {
      "text/plain": [
       "'This is a sample function'"
      ]
     },
     "execution_count": 2,
     "metadata": {},
     "output_type": "execute_result"
    }
   ],
   "source": [
    "sample_name()"
   ]
  },
  {
   "cell_type": "code",
   "execution_count": 3,
   "id": "43cc3f69",
   "metadata": {},
   "outputs": [],
   "source": [
    "def return_list():\n",
    "    test_list = [1, 2, 3, 4, 5]\n",
    "    return test_list"
   ]
  },
  {
   "cell_type": "code",
   "execution_count": 5,
   "id": "d6aba3a1",
   "metadata": {},
   "outputs": [
    {
     "data": {
      "text/plain": [
       "[1, 2, 3, 4, 5]"
      ]
     },
     "execution_count": 5,
     "metadata": {},
     "output_type": "execute_result"
    }
   ],
   "source": [
    "return_list()"
   ]
  },
  {
   "cell_type": "code",
   "execution_count": 6,
   "id": "9941fe59",
   "metadata": {},
   "outputs": [],
   "source": [
    "def squared_two():\n",
    "    return 2 * 2"
   ]
  },
  {
   "cell_type": "code",
   "execution_count": 8,
   "id": "a7ba2ba6",
   "metadata": {},
   "outputs": [
    {
     "data": {
      "text/plain": [
       "4"
      ]
     },
     "execution_count": 8,
     "metadata": {},
     "output_type": "execute_result"
    }
   ],
   "source": [
    "squared_two()"
   ]
  },
  {
   "cell_type": "code",
   "execution_count": 9,
   "id": "e82697ea",
   "metadata": {},
   "outputs": [],
   "source": [
    "sample_dict = {1: 1}"
   ]
  },
  {
   "cell_type": "code",
   "execution_count": 10,
   "id": "e4ffaac3",
   "metadata": {},
   "outputs": [],
   "source": [
    "def add_keys():\n",
    "    sample_dict[len(sample_dict)+1] = 3*3"
   ]
  },
  {
   "cell_type": "code",
   "execution_count": 11,
   "id": "5ea41fd4",
   "metadata": {},
   "outputs": [
    {
     "data": {
      "text/plain": [
       "{1: 1}"
      ]
     },
     "execution_count": 11,
     "metadata": {},
     "output_type": "execute_result"
    }
   ],
   "source": [
    "sample_dict"
   ]
  },
  {
   "cell_type": "code",
   "execution_count": 12,
   "id": "ce6b00d7",
   "metadata": {},
   "outputs": [],
   "source": [
    "# first execution\n",
    "add_keys()"
   ]
  },
  {
   "cell_type": "code",
   "execution_count": 13,
   "id": "bf23e763",
   "metadata": {},
   "outputs": [
    {
     "data": {
      "text/plain": [
       "{1: 1, 2: 9}"
      ]
     },
     "execution_count": 13,
     "metadata": {},
     "output_type": "execute_result"
    }
   ],
   "source": [
    "sample_dict"
   ]
  },
  {
   "cell_type": "code",
   "execution_count": 14,
   "id": "c68758e1",
   "metadata": {},
   "outputs": [],
   "source": [
    "# second execution\n",
    "add_keys()"
   ]
  },
  {
   "cell_type": "code",
   "execution_count": 15,
   "id": "5abac5a0",
   "metadata": {},
   "outputs": [
    {
     "data": {
      "text/plain": [
       "{1: 1, 2: 9, 3: 9}"
      ]
     },
     "execution_count": 15,
     "metadata": {},
     "output_type": "execute_result"
    }
   ],
   "source": [
    "sample_dict"
   ]
  },
  {
   "cell_type": "code",
   "execution_count": null,
   "id": "7f6d0b53",
   "metadata": {},
   "outputs": [],
   "source": [
    "# Example 2: Function with arguments"
   ]
  },
  {
   "cell_type": "code",
   "execution_count": 16,
   "id": "bf6ad233",
   "metadata": {},
   "outputs": [],
   "source": [
    "# Simple addition function\n",
    "def add(arg1, arg2):\n",
    "    result = arg1 + arg2\n",
    "    return result"
   ]
  },
  {
   "cell_type": "code",
   "execution_count": 18,
   "id": "9bb1b58a",
   "metadata": {},
   "outputs": [
    {
     "data": {
      "text/plain": [
       "8"
      ]
     },
     "execution_count": 18,
     "metadata": {},
     "output_type": "execute_result"
    }
   ],
   "source": [
    "add(3, 5)"
   ]
  },
  {
   "cell_type": "code",
   "execution_count": 19,
   "id": "b630b33f",
   "metadata": {},
   "outputs": [
    {
     "data": {
      "text/plain": [
       "7"
      ]
     },
     "execution_count": 19,
     "metadata": {},
     "output_type": "execute_result"
    }
   ],
   "source": [
    "add(arg2=5, arg1=2)"
   ]
  },
  {
   "cell_type": "code",
   "execution_count": 20,
   "id": "4309c636",
   "metadata": {},
   "outputs": [],
   "source": [
    "dict2 = {\"A\": 1}"
   ]
  },
  {
   "cell_type": "code",
   "execution_count": 23,
   "id": "5ce5c4b9",
   "metadata": {},
   "outputs": [],
   "source": [
    "def add_alphabets(alphabet, position):\n",
    "    dict2[alphabet] = position"
   ]
  },
  {
   "cell_type": "code",
   "execution_count": 24,
   "id": "82cb9d65",
   "metadata": {},
   "outputs": [],
   "source": [
    "add_alphabets(\"C\", 3)"
   ]
  },
  {
   "cell_type": "code",
   "execution_count": 25,
   "id": "920abec3",
   "metadata": {},
   "outputs": [
    {
     "data": {
      "text/plain": [
       "{'A': 1, 'B': 2, 'C': 3}"
      ]
     },
     "execution_count": 25,
     "metadata": {},
     "output_type": "execute_result"
    }
   ],
   "source": [
    "dict2"
   ]
  },
  {
   "cell_type": "code",
   "execution_count": 26,
   "id": "0eb95a9a",
   "metadata": {},
   "outputs": [],
   "source": [
    "\"Tom is cat and he is 5 years old\"\n",
    "\"Jerry is mouse and he is 4 years old\"\n",
    "\"Olivia is dog and she is 8 years old\""
   ]
  },
  {
   "cell_type": "code",
   "execution_count": 29,
   "id": "3c0a3148",
   "metadata": {},
   "outputs": [],
   "source": [
    "def define_animal(name, species, pronoun, age):\n",
    "    text = f\"{name} is {species} and {pronous} is {age} years old\"\n",
    "    return text"
   ]
  },
  {
   "cell_type": "code",
   "execution_count": 28,
   "id": "fa6c9745",
   "metadata": {},
   "outputs": [
    {
     "data": {
      "text/plain": [
       "'Hammy is dog and he is 5 years old'"
      ]
     },
     "execution_count": 28,
     "metadata": {},
     "output_type": "execute_result"
    }
   ],
   "source": [
    "define_animal(\"Hammy\", \"dog\", \"he\", 5)"
   ]
  },
  {
   "cell_type": "code",
   "execution_count": 30,
   "id": "22ba7797",
   "metadata": {},
   "outputs": [],
   "source": [
    "def define_animal(name: str, species: str, pronoun: str, age: int) -> str:\n",
    "    \"\"\"\n",
    "    Returns a sample text string with the variables given through arguments.\n",
    "    Args:\n",
    "        name (str): Name of the animal\n",
    "        species (str): Species of the animal\n",
    "        pronoun (str): Pronous of the animal\n",
    "        age (int): Age of the animal\n",
    "    Returns:\n",
    "        str: the sample text with argument values\n",
    "    \"\"\"\n",
    "    text = f\"{name} is {species} and {pronous} is {age} years old\"\n",
    "    return text"
   ]
  },
  {
   "cell_type": "code",
   "execution_count": 35,
   "id": "9c31b14e",
   "metadata": {},
   "outputs": [],
   "source": [
    "# Giving default values to arguments in functions\n",
    "\n",
    "def normal_value(value:int = 50) -> str:\n",
    "    if 40 < value < 80:\n",
    "        return \"Normal\"\n",
    "    else:\n",
    "        return \"Abnormal\""
   ]
  },
  {
   "cell_type": "code",
   "execution_count": 36,
   "id": "5e110601",
   "metadata": {},
   "outputs": [
    {
     "data": {
      "text/plain": [
       "'Normal'"
      ]
     },
     "execution_count": 36,
     "metadata": {},
     "output_type": "execute_result"
    }
   ],
   "source": [
    "normal_value()"
   ]
  },
  {
   "cell_type": "code",
   "execution_count": 45,
   "id": "436364cc",
   "metadata": {},
   "outputs": [],
   "source": [
    "def do_math(number1: int , operation: str = \"add\", number2: int =6):\n",
    "    if operation == \"add\":\n",
    "        return number1 + number2\n",
    "    elif operation == \"sub\":\n",
    "        return number1 - number2\n",
    "    else:\n",
    "        return number1 * number2"
   ]
  },
  {
   "cell_type": "code",
   "execution_count": 46,
   "id": "47eb6479",
   "metadata": {},
   "outputs": [
    {
     "data": {
      "text/plain": [
       "7"
      ]
     },
     "execution_count": 46,
     "metadata": {},
     "output_type": "execute_result"
    }
   ],
   "source": [
    "do_math(1)"
   ]
  },
  {
   "cell_type": "code",
   "execution_count": 40,
   "id": "8df52887",
   "metadata": {},
   "outputs": [
    {
     "data": {
      "text/plain": [
       "8"
      ]
     },
     "execution_count": 40,
     "metadata": {},
     "output_type": "execute_result"
    }
   ],
   "source": [
    "do_math(2, 4, \"multiply\")"
   ]
  },
  {
   "cell_type": "code",
   "execution_count": 41,
   "id": "4db4c63e",
   "metadata": {},
   "outputs": [
    {
     "data": {
      "text/plain": [
       "6"
      ]
     },
     "execution_count": 41,
     "metadata": {},
     "output_type": "execute_result"
    }
   ],
   "source": [
    "do_math(2, 4)"
   ]
  },
  {
   "cell_type": "code",
   "execution_count": 44,
   "id": "4f5bf0bb",
   "metadata": {},
   "outputs": [
    {
     "data": {
      "text/plain": [
       "9"
      ]
     },
     "execution_count": 44,
     "metadata": {},
     "output_type": "execute_result"
    }
   ],
   "source": [
    "do_math()"
   ]
  },
  {
   "cell_type": "markdown",
   "id": "ca6ed233",
   "metadata": {},
   "source": [
    "---"
   ]
  },
  {
   "cell_type": "markdown",
   "id": "bb9761c1",
   "metadata": {},
   "source": [
    "END of the Notebook<br>\n",
    "Author: Shounak Deshpande (shounak.python@gmail.com)<br>\n",
    "Youtube: https://www.youtube.com/channel/UCpODmuqv_ljQ_vMYwO71a_g"
   ]
  }
 ],
 "metadata": {
  "kernelspec": {
   "display_name": "Python 3 (ipykernel)",
   "language": "python",
   "name": "python3"
  },
  "language_info": {
   "codemirror_mode": {
    "name": "ipython",
    "version": 3
   },
   "file_extension": ".py",
   "mimetype": "text/x-python",
   "name": "python",
   "nbconvert_exporter": "python",
   "pygments_lexer": "ipython3",
   "version": "3.9.13"
  }
 },
 "nbformat": 4,
 "nbformat_minor": 5
}
