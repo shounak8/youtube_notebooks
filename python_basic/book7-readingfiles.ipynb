{
 "cells": [
  {
   "cell_type": "markdown",
   "id": "1370b363",
   "metadata": {},
   "source": [
    "# Reading & Writing files using:\n",
    "1. Python I/O\n",
    "2. Pandas\n",
    "3. JSON\n",
    "4. Pickle"
   ]
  },
  {
   "cell_type": "markdown",
   "id": "f48b07ec",
   "metadata": {},
   "source": [
    "# 1. Python I/O\n",
    "Basic python utility used to read text/binary files"
   ]
  },
  {
   "cell_type": "markdown",
   "id": "0d100c54",
   "metadata": {},
   "source": [
    "### 1.a Using 'with' (Preferred)"
   ]
  },
  {
   "cell_type": "markdown",
   "id": "b8125dc7",
   "metadata": {},
   "source": [
    "A. For Writing, we use 'w' to write and 'a' to append.\n",
    "\n",
    "'w' will replace the existing contents of the file with the new content that you pass.\n",
    "<pre>\n",
    "with open('file_name','w') as file_variable:\n",
    "  file_variable.write(text_content)\n",
    "    </pre>\n",
    "    \n",
    "'a' will append the existing contents of the file with the new content that you pass.\n",
    "<pre>\n",
    "with open('file_name','a') as file_variable:\n",
    "  file_variable.write(text_content)\n",
    "    </pre>\n",
    "    "
   ]
  },
  {
   "cell_type": "code",
   "execution_count": 1,
   "id": "eac1afe5",
   "metadata": {},
   "outputs": [],
   "source": [
    "FILE_PATH = \"demo_files/text_file.txt\""
   ]
  },
  {
   "cell_type": "code",
   "execution_count": 8,
   "id": "17fed6a7",
   "metadata": {},
   "outputs": [],
   "source": [
    "text = \"First Line\\nSecond Line\\nThird Line\""
   ]
  },
  {
   "cell_type": "code",
   "execution_count": 10,
   "id": "691da198",
   "metadata": {},
   "outputs": [
    {
     "data": {
      "text/plain": [
       "'First Line\\nSecond Line\\nThird Line'"
      ]
     },
     "execution_count": 10,
     "metadata": {},
     "output_type": "execute_result"
    }
   ],
   "source": [
    "text"
   ]
  },
  {
   "cell_type": "code",
   "execution_count": 16,
   "id": "2345eda2",
   "metadata": {},
   "outputs": [],
   "source": [
    "# Write Example\n",
    "with open(FILE_PATH, \"w\") as file:\n",
    "    file.write(text)"
   ]
  },
  {
   "cell_type": "code",
   "execution_count": 14,
   "id": "e2c23bfc",
   "metadata": {},
   "outputs": [],
   "source": [
    "new_text_line = \"\\nFourth Line\""
   ]
  },
  {
   "cell_type": "code",
   "execution_count": 17,
   "id": "e55351ac",
   "metadata": {},
   "outputs": [],
   "source": [
    "# Append Example\n",
    "with open(FILE_PATH, \"a\") as file:\n",
    "    file.write(new_text_line)"
   ]
  },
  {
   "cell_type": "markdown",
   "id": "95e63607",
   "metadata": {},
   "source": [
    "B. For Read, we use 'r' to read.\n",
    "<pre>\n",
    "with open('file_name','r') as file_variable:\n",
    "    print(file_variable.read())\n",
    "    </pre>"
   ]
  },
  {
   "cell_type": "code",
   "execution_count": 18,
   "id": "2021abe2",
   "metadata": {},
   "outputs": [],
   "source": [
    "# Read Example\n",
    "with open(FILE_PATH, \"r\") as file:\n",
    "    read_text = file.read()"
   ]
  },
  {
   "cell_type": "code",
   "execution_count": 19,
   "id": "c7f9238d",
   "metadata": {},
   "outputs": [
    {
     "data": {
      "text/plain": [
       "'First Line\\nSecond Line\\nThird Line\\nFourth Line'"
      ]
     },
     "execution_count": 19,
     "metadata": {},
     "output_type": "execute_result"
    }
   ],
   "source": [
    "read_text"
   ]
  },
  {
   "cell_type": "code",
   "execution_count": 20,
   "id": "f5e14924",
   "metadata": {},
   "outputs": [],
   "source": [
    "# Read lines as list\n",
    "with open(FILE_PATH, \"r\") as file:\n",
    "    line_list = file.readlines()"
   ]
  },
  {
   "cell_type": "code",
   "execution_count": 21,
   "id": "46c31e6c",
   "metadata": {},
   "outputs": [
    {
     "data": {
      "text/plain": [
       "['First Line\\n', 'Second Line\\n', 'Third Line\\n', 'Fourth Line']"
      ]
     },
     "execution_count": 21,
     "metadata": {},
     "output_type": "execute_result"
    }
   ],
   "source": [
    "line_list"
   ]
  },
  {
   "cell_type": "markdown",
   "id": "cc05b597",
   "metadata": {},
   "source": [
    "\n",
    "#### Reading & writing binary files\n",
    "The process remains same as above, you just have to add 'b' to the existing 'r', 'w' or 'a'.\n",
    "Formats:\n",
    "\n",
    "*Read*\n",
    "<pre>\n",
    "with open('file_name','rb') as file_variable:\n",
    "    print(file_variable.readlines())\n",
    "    print(file_variable.readline())\n",
    "    </pre>\n",
    "    \n",
    "*Write*\n",
    "<pre>\n",
    "with open('file_name','wb') as file_variable:\n",
    "  file_variable.write(text_content)\n",
    "    </pre>\n",
    "    \n",
    "*Append*\n",
    "<pre>\n",
    "with open('file_name','ab') as file_variable:\n",
    "  file_variable.write(text_content)\n",
    "    </pre>\n",
    "    \n",
    "---\n",
    "---"
   ]
  },
  {
   "cell_type": "markdown",
   "id": "a0d11061",
   "metadata": {},
   "source": [
    "### 1.b Creating file object (NOT preferred)\n",
    "\n",
    "#### Format:\n",
    "*Read*\n",
    "<pre>\n",
    "file_obj = open('file_name', 'r')\n",
    "print(file_obj.read())\n",
    "file_obj.close()\n",
    "</pre>\n",
    "    \n",
    "*Write*\n",
    "<pre>\n",
    "file_obj = open('file_name', 'w')\n",
    "file_obj.write(text)\n",
    "file_obj.close()\n",
    "</pre>\n",
    "\n",
    "*Append*\n",
    "<pre>\n",
    "file_obj = open('file_name', 'a')\n",
    "file_obj.write(text)\n",
    "file_obj.close()\n",
    "</pre>"
   ]
  },
  {
   "cell_type": "code",
   "execution_count": 22,
   "id": "2022dd6f",
   "metadata": {},
   "outputs": [],
   "source": [
    "# Read Example\n",
    "\n",
    "# Raad line\n",
    "file = open(FILE_PATH, \"r\")\n",
    "text2 = file.read()\n",
    "file.close()"
   ]
  },
  {
   "cell_type": "code",
   "execution_count": 23,
   "id": "e7578891",
   "metadata": {},
   "outputs": [
    {
     "data": {
      "text/plain": [
       "'First Line\\nSecond Line\\nThird Line\\nFourth Line'"
      ]
     },
     "execution_count": 23,
     "metadata": {},
     "output_type": "execute_result"
    }
   ],
   "source": [
    "text2"
   ]
  },
  {
   "cell_type": "code",
   "execution_count": 24,
   "id": "975d2812",
   "metadata": {},
   "outputs": [],
   "source": [
    "# Read lines in list\n",
    "file = open(FILE_PATH, \"r\")\n",
    "text2 = file.readlines()\n",
    "file.close()"
   ]
  },
  {
   "cell_type": "code",
   "execution_count": 27,
   "id": "98974e0e",
   "metadata": {},
   "outputs": [],
   "source": [
    "# Write Example\n",
    "file = open(FILE_PATH, \"w\")\n",
    "file.write(text)\n",
    "file.close()"
   ]
  },
  {
   "cell_type": "code",
   "execution_count": 28,
   "id": "22c69821",
   "metadata": {},
   "outputs": [],
   "source": [
    "# Append Example\n",
    "file = open(FILE_PATH, \"a\")\n",
    "file.write(\"\\nFourth Line\")\n",
    "file.close()"
   ]
  },
  {
   "cell_type": "markdown",
   "id": "2a0d44a2",
   "metadata": {},
   "source": [
    "# 2. Pandas \n",
    "Popularly used to work with spreadsheets and tabular data (csv/excel as well as other data like JSON)"
   ]
  },
  {
   "cell_type": "markdown",
   "id": "6a93b303",
   "metadata": {},
   "source": [
    "### Read Data\n",
    "**Read CSV file to pandas dataframe**\n",
    "<pre>\n",
    "csv_dataframe = pd.read_csv(CSV_PATH, sep=\"<< 'the separator used in csv file' >>\")</pre>\n",
    "\n",
    "**Read Excel file to pandas dataframe**\n",
    "<pre>\n",
    "excel_dataframe = pd.read_excel(EXCEL_PATH, sheet_name=<< 'sheet name in excel' >>)</pre>"
   ]
  },
  {
   "cell_type": "code",
   "execution_count": 29,
   "id": "a5bf81ea",
   "metadata": {},
   "outputs": [],
   "source": [
    "# Read csv\n",
    "CSV_PATH = \"demo_files/csv_file.csv\"\n",
    "\n",
    "import pandas as pd\n",
    "\n",
    "csv_dataframe = pd.read_csv(CSV_PATH)"
   ]
  },
  {
   "cell_type": "code",
   "execution_count": 30,
   "id": "f605987f",
   "metadata": {},
   "outputs": [
    {
     "data": {
      "text/html": [
       "<div>\n",
       "<style scoped>\n",
       "    .dataframe tbody tr th:only-of-type {\n",
       "        vertical-align: middle;\n",
       "    }\n",
       "\n",
       "    .dataframe tbody tr th {\n",
       "        vertical-align: top;\n",
       "    }\n",
       "\n",
       "    .dataframe thead th {\n",
       "        text-align: right;\n",
       "    }\n",
       "</style>\n",
       "<table border=\"1\" class=\"dataframe\">\n",
       "  <thead>\n",
       "    <tr style=\"text-align: right;\">\n",
       "      <th></th>\n",
       "      <th>SrNo</th>\n",
       "      <th>Name</th>\n",
       "      <th>Total</th>\n",
       "    </tr>\n",
       "  </thead>\n",
       "  <tbody>\n",
       "    <tr>\n",
       "      <th>0</th>\n",
       "      <td>1</td>\n",
       "      <td>Mordor</td>\n",
       "      <td>45</td>\n",
       "    </tr>\n",
       "    <tr>\n",
       "      <th>1</th>\n",
       "      <td>2</td>\n",
       "      <td>Free Peoples of Middle Earth</td>\n",
       "      <td>34</td>\n",
       "    </tr>\n",
       "    <tr>\n",
       "      <th>2</th>\n",
       "      <td>3</td>\n",
       "      <td>Harrad</td>\n",
       "      <td>20</td>\n",
       "    </tr>\n",
       "    <tr>\n",
       "      <th>3</th>\n",
       "      <td>4</td>\n",
       "      <td>Numenor</td>\n",
       "      <td>1</td>\n",
       "    </tr>\n",
       "  </tbody>\n",
       "</table>\n",
       "</div>"
      ],
      "text/plain": [
       "   SrNo                          Name  Total\n",
       "0     1                        Mordor     45\n",
       "1     2  Free Peoples of Middle Earth     34\n",
       "2     3                        Harrad     20\n",
       "3     4                       Numenor      1"
      ]
     },
     "execution_count": 30,
     "metadata": {},
     "output_type": "execute_result"
    }
   ],
   "source": [
    "csv_dataframe"
   ]
  },
  {
   "cell_type": "code",
   "execution_count": 31,
   "id": "d79fb03e",
   "metadata": {},
   "outputs": [],
   "source": [
    "# Read excel\n",
    "EXCEL_PATH = \"demo_files/excel_file.xlsx\"\n",
    "\n",
    "sheet1_dataframe = pd.read_excel(EXCEL_PATH, sheet_name=\"Sheet1\")\n",
    "sheet2_dataframe = pd.read_excel(EXCEL_PATH, sheet_name=\"Sheet2\")"
   ]
  },
  {
   "cell_type": "code",
   "execution_count": 32,
   "id": "d7e9d9ad",
   "metadata": {},
   "outputs": [
    {
     "data": {
      "text/html": [
       "<div>\n",
       "<style scoped>\n",
       "    .dataframe tbody tr th:only-of-type {\n",
       "        vertical-align: middle;\n",
       "    }\n",
       "\n",
       "    .dataframe tbody tr th {\n",
       "        vertical-align: top;\n",
       "    }\n",
       "\n",
       "    .dataframe thead th {\n",
       "        text-align: right;\n",
       "    }\n",
       "</style>\n",
       "<table border=\"1\" class=\"dataframe\">\n",
       "  <thead>\n",
       "    <tr style=\"text-align: right;\">\n",
       "      <th></th>\n",
       "      <th>SrNo</th>\n",
       "      <th>Name</th>\n",
       "      <th>Total</th>\n",
       "    </tr>\n",
       "  </thead>\n",
       "  <tbody>\n",
       "    <tr>\n",
       "      <th>0</th>\n",
       "      <td>1</td>\n",
       "      <td>English</td>\n",
       "      <td>100</td>\n",
       "    </tr>\n",
       "    <tr>\n",
       "      <th>1</th>\n",
       "      <td>2</td>\n",
       "      <td>French</td>\n",
       "      <td>100</td>\n",
       "    </tr>\n",
       "    <tr>\n",
       "      <th>2</th>\n",
       "      <td>3</td>\n",
       "      <td>Science</td>\n",
       "      <td>150</td>\n",
       "    </tr>\n",
       "    <tr>\n",
       "      <th>3</th>\n",
       "      <td>4</td>\n",
       "      <td>Math</td>\n",
       "      <td>150</td>\n",
       "    </tr>\n",
       "  </tbody>\n",
       "</table>\n",
       "</div>"
      ],
      "text/plain": [
       "   SrNo     Name  Total\n",
       "0     1  English    100\n",
       "1     2   French    100\n",
       "2     3  Science    150\n",
       "3     4     Math    150"
      ]
     },
     "execution_count": 32,
     "metadata": {},
     "output_type": "execute_result"
    }
   ],
   "source": [
    "sheet1_dataframe"
   ]
  },
  {
   "cell_type": "code",
   "execution_count": 33,
   "id": "668c3b60",
   "metadata": {},
   "outputs": [
    {
     "data": {
      "text/html": [
       "<div>\n",
       "<style scoped>\n",
       "    .dataframe tbody tr th:only-of-type {\n",
       "        vertical-align: middle;\n",
       "    }\n",
       "\n",
       "    .dataframe tbody tr th {\n",
       "        vertical-align: top;\n",
       "    }\n",
       "\n",
       "    .dataframe thead th {\n",
       "        text-align: right;\n",
       "    }\n",
       "</style>\n",
       "<table border=\"1\" class=\"dataframe\">\n",
       "  <thead>\n",
       "    <tr style=\"text-align: right;\">\n",
       "      <th></th>\n",
       "      <th>SrNo</th>\n",
       "      <th>Name</th>\n",
       "      <th>Score</th>\n",
       "    </tr>\n",
       "  </thead>\n",
       "  <tbody>\n",
       "    <tr>\n",
       "      <th>0</th>\n",
       "      <td>1</td>\n",
       "      <td>Jim</td>\n",
       "      <td>68</td>\n",
       "    </tr>\n",
       "    <tr>\n",
       "      <th>1</th>\n",
       "      <td>2</td>\n",
       "      <td>Dwight</td>\n",
       "      <td>85</td>\n",
       "    </tr>\n",
       "    <tr>\n",
       "      <th>2</th>\n",
       "      <td>3</td>\n",
       "      <td>Griffith</td>\n",
       "      <td>97</td>\n",
       "    </tr>\n",
       "    <tr>\n",
       "      <th>3</th>\n",
       "      <td>4</td>\n",
       "      <td>Billy</td>\n",
       "      <td>45</td>\n",
       "    </tr>\n",
       "    <tr>\n",
       "      <th>4</th>\n",
       "      <td>5</td>\n",
       "      <td>Sean</td>\n",
       "      <td>70</td>\n",
       "    </tr>\n",
       "  </tbody>\n",
       "</table>\n",
       "</div>"
      ],
      "text/plain": [
       "   SrNo      Name  Score\n",
       "0     1       Jim     68\n",
       "1     2    Dwight     85\n",
       "2     3  Griffith     97\n",
       "3     4     Billy     45\n",
       "4     5      Sean     70"
      ]
     },
     "execution_count": 33,
     "metadata": {},
     "output_type": "execute_result"
    }
   ],
   "source": [
    "sheet2_dataframe"
   ]
  },
  {
   "cell_type": "markdown",
   "id": "6f5f4229",
   "metadata": {},
   "source": [
    "### Write data\n",
    "\n",
    "**Write dataframe to CSV file**\n",
    "<pre>\n",
    "dataframe.to_csv(\"csv_file_path.csv\", index=False)\n",
    "</pre>\n",
    "**Write dataframe to Excel file**\n",
    "<pre>\n",
    "dataframe.to_to_excel(\"excel_file_path.xlsx\", sheet_name=\"sheet_name\", index=False)\n",
    "</pre>"
   ]
  },
  {
   "cell_type": "code",
   "execution_count": 35,
   "id": "434a02f1",
   "metadata": {},
   "outputs": [],
   "source": [
    "# Write to CSV\n",
    "sheet1_dataframe.to_csv(\"demo_files/new_csv.csv\", index=False)"
   ]
  },
  {
   "cell_type": "code",
   "execution_count": 42,
   "id": "65c047e9",
   "metadata": {},
   "outputs": [],
   "source": [
    "# Write to Excel\n",
    "# sheet2_dataframe, csv_dataframe\n",
    "with pd.ExcelWriter(\"demo_files/new_excel_file.xlsx\") as writer:\n",
    "    sheet2_dataframe.to_excel(writer, sheet_name=\"first_sheet\", index=False)\n",
    "    csv_dataframe.to_excel(writer, sheet_name=\"second_sheet\", index=False)"
   ]
  },
  {
   "cell_type": "code",
   "execution_count": 43,
   "id": "56fe43d3",
   "metadata": {},
   "outputs": [],
   "source": [
    "# Wite to JSON format\n",
    "csv_dataframe.to_json(\"demo_files/c.json\")"
   ]
  },
  {
   "cell_type": "markdown",
   "id": "f43591d5",
   "metadata": {},
   "source": [
    "# 3. JSON\n",
    "Used to read and write JSON files"
   ]
  },
  {
   "cell_type": "markdown",
   "id": "e6d8be05",
   "metadata": {},
   "source": [
    "**Write dictionary as JSON file**\n",
    "<pre>\n",
    "with open(\"json_file_name.json\", \"w\") as file:\n",
    "    json.dump(json_dict, file)\n",
    "    </pre>"
   ]
  },
  {
   "cell_type": "code",
   "execution_count": 44,
   "id": "0f8b9d26",
   "metadata": {},
   "outputs": [],
   "source": [
    "demo_dict = {\"A\": 1, \"B\": 2, \"C\": 3}"
   ]
  },
  {
   "cell_type": "code",
   "execution_count": 45,
   "id": "7459e11f",
   "metadata": {},
   "outputs": [],
   "source": [
    "# Write\n",
    "import json\n",
    "\n",
    "with open(\"demo_files/test_json.json\", \"w\") as file:\n",
    "    json.dump(demo_dict, file)"
   ]
  },
  {
   "cell_type": "markdown",
   "id": "4b8e8774",
   "metadata": {},
   "source": [
    "**Read JSON file as dictionary**\n",
    "<pre>\n",
    "with open(\"json_file_name.json\", \"r\") as file:\n",
    "    json_dict = json.load(file)\n",
    "    </pre>"
   ]
  },
  {
   "cell_type": "code",
   "execution_count": 46,
   "id": "c4f0b28f",
   "metadata": {},
   "outputs": [],
   "source": [
    "# Read\n",
    "with open(\"demo_files/df_to_json.json\", \"r\") as file:\n",
    "    df_object = json.load(file)"
   ]
  },
  {
   "cell_type": "code",
   "execution_count": 47,
   "id": "a2b3f68a",
   "metadata": {},
   "outputs": [
    {
     "data": {
      "text/plain": [
       "{'SrNo': {'0': 1, '1': 2, '2': 3, '3': 4},\n",
       " 'Name': {'0': 'Mordor',\n",
       "  '1': 'Free Peoples of Middle Earth',\n",
       "  '2': 'Harrad',\n",
       "  '3': 'Numenor'},\n",
       " 'Total': {'0': 45, '1': 34, '2': 20, '3': 1}}"
      ]
     },
     "execution_count": 47,
     "metadata": {},
     "output_type": "execute_result"
    }
   ],
   "source": [
    "df_object"
   ]
  },
  {
   "cell_type": "markdown",
   "id": "0c0534ff",
   "metadata": {},
   "source": [
    "# 4. Pickle\n",
    "Used to save data objects in pickle format"
   ]
  },
  {
   "cell_type": "markdown",
   "id": "b620bcef",
   "metadata": {},
   "source": [
    "**Write dictionary to pickle file**\n",
    "<pre>\n",
    "with open(\"pickle_file_name.pickle\", \"wb\") as file:\n",
    "    pickle.dump(dictionary_object, file)\n",
    "    </pre>"
   ]
  },
  {
   "cell_type": "code",
   "execution_count": 48,
   "id": "b0611777",
   "metadata": {},
   "outputs": [],
   "source": [
    "demo_dict = {\"A\": 1, \"B\": 2, \"C\": 3}"
   ]
  },
  {
   "cell_type": "code",
   "execution_count": 49,
   "id": "1b751c26",
   "metadata": {},
   "outputs": [],
   "source": [
    "# Write\n",
    "import pickle\n",
    "\n",
    "with open(\"demo_files/pickle_file.pickle\", \"wb\") as file:\n",
    "    pickle.dump(demo_dict, file)"
   ]
  },
  {
   "cell_type": "markdown",
   "id": "ec574e4e",
   "metadata": {},
   "source": [
    "**Read pickle file as dictionary**\n",
    "<pre>\n",
    "with open(\"pickle_file_name.pickle\", \"rb\") as file:\n",
    "    dictionary_object = pickle.load(file)\n",
    "    </pre>"
   ]
  },
  {
   "cell_type": "code",
   "execution_count": 50,
   "id": "f6e5ed2d",
   "metadata": {},
   "outputs": [],
   "source": [
    "# Read\n",
    "with open(\"demo_files/pickle_file.pickle\", \"rb\") as file:\n",
    "    pickle_read_obj = pickle.load(file)"
   ]
  },
  {
   "cell_type": "code",
   "execution_count": 51,
   "id": "eaaefa60",
   "metadata": {},
   "outputs": [
    {
     "data": {
      "text/plain": [
       "{'A': 1, 'B': 2, 'C': 3}"
      ]
     },
     "execution_count": 51,
     "metadata": {},
     "output_type": "execute_result"
    }
   ],
   "source": [
    "pickle_read_obj"
   ]
  },
  {
   "cell_type": "markdown",
   "id": "ca6ed233",
   "metadata": {},
   "source": [
    "---"
   ]
  },
  {
   "cell_type": "markdown",
   "id": "bb9761c1",
   "metadata": {},
   "source": [
    "END of the Notebook<br>\n",
    "Author: Shounak Deshpande (shounak.python@gmail.com)<br>\n",
    "Youtube: https://www.youtube.com/channel/UCpODmuqv_ljQ_vMYwO71a_g"
   ]
  }
 ],
 "metadata": {
  "kernelspec": {
   "display_name": "Python 3 (ipykernel)",
   "language": "python",
   "name": "python3"
  },
  "language_info": {
   "codemirror_mode": {
    "name": "ipython",
    "version": 3
   },
   "file_extension": ".py",
   "mimetype": "text/x-python",
   "name": "python",
   "nbconvert_exporter": "python",
   "pygments_lexer": "ipython3",
   "version": "3.9.13"
  }
 },
 "nbformat": 4,
 "nbformat_minor": 5
}
